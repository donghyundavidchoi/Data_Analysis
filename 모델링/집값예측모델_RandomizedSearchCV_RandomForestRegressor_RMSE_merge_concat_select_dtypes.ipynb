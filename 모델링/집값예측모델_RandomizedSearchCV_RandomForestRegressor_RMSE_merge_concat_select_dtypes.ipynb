{
  "nbformat": 4,
  "nbformat_minor": 0,
  "metadata": {
    "colab": {
      "name": "집값예측모델_RandomizedSearchCV_RandomForestRegressor_RMSE_merge_concat_select_dtypes.ipynb",
      "provenance": [],
      "collapsed_sections": [],
      "authorship_tag": "ABX9TyNQ2WhDCiWNnffVhE5KNhbp",
      "include_colab_link": true
    },
    "kernelspec": {
      "name": "python3",
      "display_name": "Python 3"
    },
    "language_info": {
      "name": "python"
    }
  },
  "cells": [
    {
      "cell_type": "markdown",
      "metadata": {
        "id": "view-in-github",
        "colab_type": "text"
      },
      "source": [
        "<a href=\"https://colab.research.google.com/github/donghyundavidchoi/Data_Analysis/blob/main/%EB%AA%A8%EB%8D%B8%EB%A7%81/%EC%A7%91%EA%B0%92%EC%98%88%EC%B8%A1%EB%AA%A8%EB%8D%B8_RandomizedSearchCV_RandomForestRegressor_RMSE_merge_concat_select_dtypes.ipynb\" target=\"_parent\"><img src=\"https://colab.research.google.com/assets/colab-badge.svg\" alt=\"Open In Colab\"/></a>"
      ]
    },
    {
      "cell_type": "markdown",
      "source": [
        "# 집값 예측 모델"
      ],
      "metadata": {
        "id": "JmlfsuMTQUHI"
      }
    },
    {
      "cell_type": "code",
      "execution_count": 1,
      "metadata": {
        "colab": {
          "base_uri": "https://localhost:8080/"
        },
        "id": "xhISU5DoPzpQ",
        "outputId": "72d1088c-3b1a-4a70-a4cd-291b183eaf33"
      },
      "outputs": [
        {
          "output_type": "stream",
          "name": "stdout",
          "text": [
            "Downloading...\n",
            "From: https://drive.google.com/uc?id=1txRVXp-Eh222PzIeTQ-fuAoUYFR9f7q-\n",
            "To: /content/kaggle.json\n",
            "\r  0% 0.00/73.0 [00:00<?, ?B/s]\r100% 73.0/73.0 [00:00<00:00, 100kB/s]\n"
          ]
        }
      ],
      "source": [
        "!gdown --fuzzy https://drive.google.com/file/d/1txRVXp-Eh222PzIeTQ-fuAoUYFR9f7q-/view?usp=sharing\n",
        "!mkdir -p ~/.kaggle\n",
        "!cp /content/kaggle.json ~/.kaggle/\n",
        "!chmod 600 ~/.kaggle/kaggle.json"
      ]
    },
    {
      "cell_type": "code",
      "source": [
        "!kaggle competitions download -c house-prices-advanced-regression-techniques"
      ],
      "metadata": {
        "colab": {
          "base_uri": "https://localhost:8080/"
        },
        "id": "leCQjXqjP91Z",
        "outputId": "4fbae95f-d8c2-4e56-e6c6-744d85ad01ca"
      },
      "execution_count": 2,
      "outputs": [
        {
          "output_type": "stream",
          "name": "stdout",
          "text": [
            "house-prices-advanced-regression-techniques.zip: Skipping, found more recently modified local copy (use --force to force download)\n"
          ]
        }
      ]
    },
    {
      "cell_type": "code",
      "source": [
        "!unzip /content/house-prices-advanced-regression-techniques.zip"
      ],
      "metadata": {
        "colab": {
          "base_uri": "https://localhost:8080/"
        },
        "id": "uGtGwM_qP_bb",
        "outputId": "3f52e041-ad62-474c-85a6-5219b7032332"
      },
      "execution_count": 48,
      "outputs": [
        {
          "output_type": "stream",
          "name": "stdout",
          "text": [
            "Archive:  /content/house-prices-advanced-regression-techniques.zip\n",
            "replace data_description.txt? [y]es, [n]o, [A]ll, [N]one, [r]ename: A\n",
            "  inflating: data_description.txt    \n",
            "  inflating: sample_submission.csv   \n",
            "  inflating: test.csv                \n",
            "  inflating: train.csv               \n"
          ]
        }
      ]
    },
    {
      "cell_type": "code",
      "source": [
        "import pandas as pd\n",
        "import numpy as np\n",
        "from sklearn.model_selection import train_test_split\n",
        "\n",
        "def exam_data_load(df, target, id_name=\"\", null_name=\"\"):\n",
        "\n",
        "    if id_name == \"\":\n",
        "        df = df.reset_index().rename(columns={\"index\": \"id\"})\n",
        "        id_name = 'id'\n",
        "    else:\n",
        "        id_name = id_name\n",
        "    \n",
        "    if null_name != \"\":\n",
        "        df[df == null_name] = np.nan\n",
        "    \n",
        "    X_train, X_test = train_test_split(df, test_size=0.2, random_state=2022)\n",
        "    \n",
        "    y_train = X_train[[id_name, target]]\n",
        "    X_train = X_train.drop(columns=[target])\n",
        "\n",
        "    \n",
        "    y_test = X_test[[id_name, target]]\n",
        "    X_test = X_test.drop(columns=[target])\n",
        "    return X_train, X_test, y_train, y_test \n",
        "    \n",
        "df = pd.read_csv(\"/content/train.csv\")\n",
        "df = df.drop(columns=['Id'])\n",
        "X_train, X_test, y_train, y_test = exam_data_load(df, target='SalePrice')\n",
        "\n",
        "X_train.shape, X_test.shape, y_train.shape, y_test.shape"
      ],
      "metadata": {
        "colab": {
          "base_uri": "https://localhost:8080/"
        },
        "id": "_5f6zZLYQC-R",
        "outputId": "e34ae0c8-00a7-4c78-f1d2-1ea811f567ea"
      },
      "execution_count": 218,
      "outputs": [
        {
          "output_type": "execute_result",
          "data": {
            "text/plain": [
              "((1168, 80), (292, 80), (1168, 2), (292, 2))"
            ]
          },
          "metadata": {},
          "execution_count": 218
        }
      ]
    },
    {
      "cell_type": "markdown",
      "source": [
        "-------"
      ],
      "metadata": {
        "id": "uOzpZ8G1R6-Z"
      }
    },
    {
      "cell_type": "markdown",
      "source": [
        "# EDA"
      ],
      "metadata": {
        "id": "SgMmgtpdR7BK"
      }
    },
    {
      "cell_type": "code",
      "source": [
        "X_train"
      ],
      "metadata": {
        "colab": {
          "base_uri": "https://localhost:8080/",
          "height": 488
        },
        "id": "Rz4q9vYmQQig",
        "outputId": "92347a16-5e1d-465e-acfa-f893f584c92e"
      },
      "execution_count": 219,
      "outputs": [
        {
          "output_type": "execute_result",
          "data": {
            "text/plain": [
              "        id  MSSubClass MSZoning  LotFrontage  LotArea Street Alley LotShape  \\\n",
              "891    891          60       RL         70.0    11184   Pave   NaN      Reg   \n",
              "266    266          60       RL         70.0    11207   Pave   NaN      IR1   \n",
              "1368  1368         120       RM          NaN     4435   Pave   NaN      Reg   \n",
              "162    162          20       RL         95.0    12182   Pave   NaN      Reg   \n",
              "639    639         120       RL         53.0     3982   Pave   NaN      Reg   \n",
              "...    ...         ...      ...          ...      ...    ...   ...      ...   \n",
              "240    240          20       FV         75.0     9000   Pave   NaN      Reg   \n",
              "624    624          60       RL         80.0    10400   Pave   NaN      Reg   \n",
              "173    173          20       RL         80.0    10197   Pave   NaN      IR1   \n",
              "1244  1244          70       RL          NaN    11435   Pave   NaN      IR1   \n",
              "893    893          20       RL          NaN    13284   Pave   NaN      Reg   \n",
              "\n",
              "     LandContour Utilities  ... ScreenPorch PoolArea PoolQC  Fence  \\\n",
              "891          Lvl    AllPub  ...           0        0    NaN    NaN   \n",
              "266          HLS    AllPub  ...           0        0    NaN    NaN   \n",
              "1368         Lvl    AllPub  ...           0        0    NaN    NaN   \n",
              "162          Lvl    AllPub  ...           0        0    NaN    NaN   \n",
              "639          Lvl    AllPub  ...           0        0    NaN    NaN   \n",
              "...          ...       ...  ...         ...      ...    ...    ...   \n",
              "240          Lvl    AllPub  ...           0        0    NaN    NaN   \n",
              "624          Lvl    AllPub  ...         147        0    NaN    NaN   \n",
              "173          Lvl    AllPub  ...           0        0    NaN    NaN   \n",
              "1244         HLS    AllPub  ...           0        0    NaN    NaN   \n",
              "893          Lvl    AllPub  ...           0        0    NaN  GdPrv   \n",
              "\n",
              "     MiscFeature MiscVal MoSold  YrSold  SaleType  SaleCondition  \n",
              "891          NaN       0      7    2009        WD         Normal  \n",
              "266          NaN       0      6    2006        WD         Normal  \n",
              "1368         NaN       0      6    2009        WD         Normal  \n",
              "162          NaN       0      5    2010       New        Partial  \n",
              "639          NaN       0     10    2006       New        Partial  \n",
              "...          ...     ...    ...     ...       ...            ...  \n",
              "240          NaN       0      4    2010        WD         Normal  \n",
              "624          NaN       0     11    2006        WD         Normal  \n",
              "173          NaN       0      6    2008       COD         Normal  \n",
              "1244         NaN       0      6    2006        WD         Normal  \n",
              "893          NaN       0      6    2008        WD         Normal  \n",
              "\n",
              "[1168 rows x 80 columns]"
            ],
            "text/html": [
              "\n",
              "  <div id=\"df-35c24252-5f08-436f-90b2-02c363efea87\">\n",
              "    <div class=\"colab-df-container\">\n",
              "      <div>\n",
              "<style scoped>\n",
              "    .dataframe tbody tr th:only-of-type {\n",
              "        vertical-align: middle;\n",
              "    }\n",
              "\n",
              "    .dataframe tbody tr th {\n",
              "        vertical-align: top;\n",
              "    }\n",
              "\n",
              "    .dataframe thead th {\n",
              "        text-align: right;\n",
              "    }\n",
              "</style>\n",
              "<table border=\"1\" class=\"dataframe\">\n",
              "  <thead>\n",
              "    <tr style=\"text-align: right;\">\n",
              "      <th></th>\n",
              "      <th>id</th>\n",
              "      <th>MSSubClass</th>\n",
              "      <th>MSZoning</th>\n",
              "      <th>LotFrontage</th>\n",
              "      <th>LotArea</th>\n",
              "      <th>Street</th>\n",
              "      <th>Alley</th>\n",
              "      <th>LotShape</th>\n",
              "      <th>LandContour</th>\n",
              "      <th>Utilities</th>\n",
              "      <th>...</th>\n",
              "      <th>ScreenPorch</th>\n",
              "      <th>PoolArea</th>\n",
              "      <th>PoolQC</th>\n",
              "      <th>Fence</th>\n",
              "      <th>MiscFeature</th>\n",
              "      <th>MiscVal</th>\n",
              "      <th>MoSold</th>\n",
              "      <th>YrSold</th>\n",
              "      <th>SaleType</th>\n",
              "      <th>SaleCondition</th>\n",
              "    </tr>\n",
              "  </thead>\n",
              "  <tbody>\n",
              "    <tr>\n",
              "      <th>891</th>\n",
              "      <td>891</td>\n",
              "      <td>60</td>\n",
              "      <td>RL</td>\n",
              "      <td>70.0</td>\n",
              "      <td>11184</td>\n",
              "      <td>Pave</td>\n",
              "      <td>NaN</td>\n",
              "      <td>Reg</td>\n",
              "      <td>Lvl</td>\n",
              "      <td>AllPub</td>\n",
              "      <td>...</td>\n",
              "      <td>0</td>\n",
              "      <td>0</td>\n",
              "      <td>NaN</td>\n",
              "      <td>NaN</td>\n",
              "      <td>NaN</td>\n",
              "      <td>0</td>\n",
              "      <td>7</td>\n",
              "      <td>2009</td>\n",
              "      <td>WD</td>\n",
              "      <td>Normal</td>\n",
              "    </tr>\n",
              "    <tr>\n",
              "      <th>266</th>\n",
              "      <td>266</td>\n",
              "      <td>60</td>\n",
              "      <td>RL</td>\n",
              "      <td>70.0</td>\n",
              "      <td>11207</td>\n",
              "      <td>Pave</td>\n",
              "      <td>NaN</td>\n",
              "      <td>IR1</td>\n",
              "      <td>HLS</td>\n",
              "      <td>AllPub</td>\n",
              "      <td>...</td>\n",
              "      <td>0</td>\n",
              "      <td>0</td>\n",
              "      <td>NaN</td>\n",
              "      <td>NaN</td>\n",
              "      <td>NaN</td>\n",
              "      <td>0</td>\n",
              "      <td>6</td>\n",
              "      <td>2006</td>\n",
              "      <td>WD</td>\n",
              "      <td>Normal</td>\n",
              "    </tr>\n",
              "    <tr>\n",
              "      <th>1368</th>\n",
              "      <td>1368</td>\n",
              "      <td>120</td>\n",
              "      <td>RM</td>\n",
              "      <td>NaN</td>\n",
              "      <td>4435</td>\n",
              "      <td>Pave</td>\n",
              "      <td>NaN</td>\n",
              "      <td>Reg</td>\n",
              "      <td>Lvl</td>\n",
              "      <td>AllPub</td>\n",
              "      <td>...</td>\n",
              "      <td>0</td>\n",
              "      <td>0</td>\n",
              "      <td>NaN</td>\n",
              "      <td>NaN</td>\n",
              "      <td>NaN</td>\n",
              "      <td>0</td>\n",
              "      <td>6</td>\n",
              "      <td>2009</td>\n",
              "      <td>WD</td>\n",
              "      <td>Normal</td>\n",
              "    </tr>\n",
              "    <tr>\n",
              "      <th>162</th>\n",
              "      <td>162</td>\n",
              "      <td>20</td>\n",
              "      <td>RL</td>\n",
              "      <td>95.0</td>\n",
              "      <td>12182</td>\n",
              "      <td>Pave</td>\n",
              "      <td>NaN</td>\n",
              "      <td>Reg</td>\n",
              "      <td>Lvl</td>\n",
              "      <td>AllPub</td>\n",
              "      <td>...</td>\n",
              "      <td>0</td>\n",
              "      <td>0</td>\n",
              "      <td>NaN</td>\n",
              "      <td>NaN</td>\n",
              "      <td>NaN</td>\n",
              "      <td>0</td>\n",
              "      <td>5</td>\n",
              "      <td>2010</td>\n",
              "      <td>New</td>\n",
              "      <td>Partial</td>\n",
              "    </tr>\n",
              "    <tr>\n",
              "      <th>639</th>\n",
              "      <td>639</td>\n",
              "      <td>120</td>\n",
              "      <td>RL</td>\n",
              "      <td>53.0</td>\n",
              "      <td>3982</td>\n",
              "      <td>Pave</td>\n",
              "      <td>NaN</td>\n",
              "      <td>Reg</td>\n",
              "      <td>Lvl</td>\n",
              "      <td>AllPub</td>\n",
              "      <td>...</td>\n",
              "      <td>0</td>\n",
              "      <td>0</td>\n",
              "      <td>NaN</td>\n",
              "      <td>NaN</td>\n",
              "      <td>NaN</td>\n",
              "      <td>0</td>\n",
              "      <td>10</td>\n",
              "      <td>2006</td>\n",
              "      <td>New</td>\n",
              "      <td>Partial</td>\n",
              "    </tr>\n",
              "    <tr>\n",
              "      <th>...</th>\n",
              "      <td>...</td>\n",
              "      <td>...</td>\n",
              "      <td>...</td>\n",
              "      <td>...</td>\n",
              "      <td>...</td>\n",
              "      <td>...</td>\n",
              "      <td>...</td>\n",
              "      <td>...</td>\n",
              "      <td>...</td>\n",
              "      <td>...</td>\n",
              "      <td>...</td>\n",
              "      <td>...</td>\n",
              "      <td>...</td>\n",
              "      <td>...</td>\n",
              "      <td>...</td>\n",
              "      <td>...</td>\n",
              "      <td>...</td>\n",
              "      <td>...</td>\n",
              "      <td>...</td>\n",
              "      <td>...</td>\n",
              "      <td>...</td>\n",
              "    </tr>\n",
              "    <tr>\n",
              "      <th>240</th>\n",
              "      <td>240</td>\n",
              "      <td>20</td>\n",
              "      <td>FV</td>\n",
              "      <td>75.0</td>\n",
              "      <td>9000</td>\n",
              "      <td>Pave</td>\n",
              "      <td>NaN</td>\n",
              "      <td>Reg</td>\n",
              "      <td>Lvl</td>\n",
              "      <td>AllPub</td>\n",
              "      <td>...</td>\n",
              "      <td>0</td>\n",
              "      <td>0</td>\n",
              "      <td>NaN</td>\n",
              "      <td>NaN</td>\n",
              "      <td>NaN</td>\n",
              "      <td>0</td>\n",
              "      <td>4</td>\n",
              "      <td>2010</td>\n",
              "      <td>WD</td>\n",
              "      <td>Normal</td>\n",
              "    </tr>\n",
              "    <tr>\n",
              "      <th>624</th>\n",
              "      <td>624</td>\n",
              "      <td>60</td>\n",
              "      <td>RL</td>\n",
              "      <td>80.0</td>\n",
              "      <td>10400</td>\n",
              "      <td>Pave</td>\n",
              "      <td>NaN</td>\n",
              "      <td>Reg</td>\n",
              "      <td>Lvl</td>\n",
              "      <td>AllPub</td>\n",
              "      <td>...</td>\n",
              "      <td>147</td>\n",
              "      <td>0</td>\n",
              "      <td>NaN</td>\n",
              "      <td>NaN</td>\n",
              "      <td>NaN</td>\n",
              "      <td>0</td>\n",
              "      <td>11</td>\n",
              "      <td>2006</td>\n",
              "      <td>WD</td>\n",
              "      <td>Normal</td>\n",
              "    </tr>\n",
              "    <tr>\n",
              "      <th>173</th>\n",
              "      <td>173</td>\n",
              "      <td>20</td>\n",
              "      <td>RL</td>\n",
              "      <td>80.0</td>\n",
              "      <td>10197</td>\n",
              "      <td>Pave</td>\n",
              "      <td>NaN</td>\n",
              "      <td>IR1</td>\n",
              "      <td>Lvl</td>\n",
              "      <td>AllPub</td>\n",
              "      <td>...</td>\n",
              "      <td>0</td>\n",
              "      <td>0</td>\n",
              "      <td>NaN</td>\n",
              "      <td>NaN</td>\n",
              "      <td>NaN</td>\n",
              "      <td>0</td>\n",
              "      <td>6</td>\n",
              "      <td>2008</td>\n",
              "      <td>COD</td>\n",
              "      <td>Normal</td>\n",
              "    </tr>\n",
              "    <tr>\n",
              "      <th>1244</th>\n",
              "      <td>1244</td>\n",
              "      <td>70</td>\n",
              "      <td>RL</td>\n",
              "      <td>NaN</td>\n",
              "      <td>11435</td>\n",
              "      <td>Pave</td>\n",
              "      <td>NaN</td>\n",
              "      <td>IR1</td>\n",
              "      <td>HLS</td>\n",
              "      <td>AllPub</td>\n",
              "      <td>...</td>\n",
              "      <td>0</td>\n",
              "      <td>0</td>\n",
              "      <td>NaN</td>\n",
              "      <td>NaN</td>\n",
              "      <td>NaN</td>\n",
              "      <td>0</td>\n",
              "      <td>6</td>\n",
              "      <td>2006</td>\n",
              "      <td>WD</td>\n",
              "      <td>Normal</td>\n",
              "    </tr>\n",
              "    <tr>\n",
              "      <th>893</th>\n",
              "      <td>893</td>\n",
              "      <td>20</td>\n",
              "      <td>RL</td>\n",
              "      <td>NaN</td>\n",
              "      <td>13284</td>\n",
              "      <td>Pave</td>\n",
              "      <td>NaN</td>\n",
              "      <td>Reg</td>\n",
              "      <td>Lvl</td>\n",
              "      <td>AllPub</td>\n",
              "      <td>...</td>\n",
              "      <td>0</td>\n",
              "      <td>0</td>\n",
              "      <td>NaN</td>\n",
              "      <td>GdPrv</td>\n",
              "      <td>NaN</td>\n",
              "      <td>0</td>\n",
              "      <td>6</td>\n",
              "      <td>2008</td>\n",
              "      <td>WD</td>\n",
              "      <td>Normal</td>\n",
              "    </tr>\n",
              "  </tbody>\n",
              "</table>\n",
              "<p>1168 rows × 80 columns</p>\n",
              "</div>\n",
              "      <button class=\"colab-df-convert\" onclick=\"convertToInteractive('df-35c24252-5f08-436f-90b2-02c363efea87')\"\n",
              "              title=\"Convert this dataframe to an interactive table.\"\n",
              "              style=\"display:none;\">\n",
              "        \n",
              "  <svg xmlns=\"http://www.w3.org/2000/svg\" height=\"24px\"viewBox=\"0 0 24 24\"\n",
              "       width=\"24px\">\n",
              "    <path d=\"M0 0h24v24H0V0z\" fill=\"none\"/>\n",
              "    <path d=\"M18.56 5.44l.94 2.06.94-2.06 2.06-.94-2.06-.94-.94-2.06-.94 2.06-2.06.94zm-11 1L8.5 8.5l.94-2.06 2.06-.94-2.06-.94L8.5 2.5l-.94 2.06-2.06.94zm10 10l.94 2.06.94-2.06 2.06-.94-2.06-.94-.94-2.06-.94 2.06-2.06.94z\"/><path d=\"M17.41 7.96l-1.37-1.37c-.4-.4-.92-.59-1.43-.59-.52 0-1.04.2-1.43.59L10.3 9.45l-7.72 7.72c-.78.78-.78 2.05 0 2.83L4 21.41c.39.39.9.59 1.41.59.51 0 1.02-.2 1.41-.59l7.78-7.78 2.81-2.81c.8-.78.8-2.07 0-2.86zM5.41 20L4 18.59l7.72-7.72 1.47 1.35L5.41 20z\"/>\n",
              "  </svg>\n",
              "      </button>\n",
              "      \n",
              "  <style>\n",
              "    .colab-df-container {\n",
              "      display:flex;\n",
              "      flex-wrap:wrap;\n",
              "      gap: 12px;\n",
              "    }\n",
              "\n",
              "    .colab-df-convert {\n",
              "      background-color: #E8F0FE;\n",
              "      border: none;\n",
              "      border-radius: 50%;\n",
              "      cursor: pointer;\n",
              "      display: none;\n",
              "      fill: #1967D2;\n",
              "      height: 32px;\n",
              "      padding: 0 0 0 0;\n",
              "      width: 32px;\n",
              "    }\n",
              "\n",
              "    .colab-df-convert:hover {\n",
              "      background-color: #E2EBFA;\n",
              "      box-shadow: 0px 1px 2px rgba(60, 64, 67, 0.3), 0px 1px 3px 1px rgba(60, 64, 67, 0.15);\n",
              "      fill: #174EA6;\n",
              "    }\n",
              "\n",
              "    [theme=dark] .colab-df-convert {\n",
              "      background-color: #3B4455;\n",
              "      fill: #D2E3FC;\n",
              "    }\n",
              "\n",
              "    [theme=dark] .colab-df-convert:hover {\n",
              "      background-color: #434B5C;\n",
              "      box-shadow: 0px 1px 3px 1px rgba(0, 0, 0, 0.15);\n",
              "      filter: drop-shadow(0px 1px 2px rgba(0, 0, 0, 0.3));\n",
              "      fill: #FFFFFF;\n",
              "    }\n",
              "  </style>\n",
              "\n",
              "      <script>\n",
              "        const buttonEl =\n",
              "          document.querySelector('#df-35c24252-5f08-436f-90b2-02c363efea87 button.colab-df-convert');\n",
              "        buttonEl.style.display =\n",
              "          google.colab.kernel.accessAllowed ? 'block' : 'none';\n",
              "\n",
              "        async function convertToInteractive(key) {\n",
              "          const element = document.querySelector('#df-35c24252-5f08-436f-90b2-02c363efea87');\n",
              "          const dataTable =\n",
              "            await google.colab.kernel.invokeFunction('convertToInteractive',\n",
              "                                                     [key], {});\n",
              "          if (!dataTable) return;\n",
              "\n",
              "          const docLinkHtml = 'Like what you see? Visit the ' +\n",
              "            '<a target=\"_blank\" href=https://colab.research.google.com/notebooks/data_table.ipynb>data table notebook</a>'\n",
              "            + ' to learn more about interactive tables.';\n",
              "          element.innerHTML = '';\n",
              "          dataTable['output_type'] = 'display_data';\n",
              "          await google.colab.output.renderOutput(dataTable, element);\n",
              "          const docLink = document.createElement('div');\n",
              "          docLink.innerHTML = docLinkHtml;\n",
              "          element.appendChild(docLink);\n",
              "        }\n",
              "      </script>\n",
              "    </div>\n",
              "  </div>\n",
              "  "
            ]
          },
          "metadata": {},
          "execution_count": 219
        }
      ]
    },
    {
      "cell_type": "code",
      "source": [
        "X_train.info()"
      ],
      "metadata": {
        "colab": {
          "base_uri": "https://localhost:8080/"
        },
        "id": "ptUlXmr6UaIt",
        "outputId": "a41b3f68-778e-4dd2-fcf0-a6d6f390345d"
      },
      "execution_count": 220,
      "outputs": [
        {
          "output_type": "stream",
          "name": "stdout",
          "text": [
            "<class 'pandas.core.frame.DataFrame'>\n",
            "Int64Index: 1168 entries, 891 to 893\n",
            "Data columns (total 80 columns):\n",
            " #   Column         Non-Null Count  Dtype  \n",
            "---  ------         --------------  -----  \n",
            " 0   id             1168 non-null   int64  \n",
            " 1   MSSubClass     1168 non-null   int64  \n",
            " 2   MSZoning       1168 non-null   object \n",
            " 3   LotFrontage    959 non-null    float64\n",
            " 4   LotArea        1168 non-null   int64  \n",
            " 5   Street         1168 non-null   object \n",
            " 6   Alley          75 non-null     object \n",
            " 7   LotShape       1168 non-null   object \n",
            " 8   LandContour    1168 non-null   object \n",
            " 9   Utilities      1168 non-null   object \n",
            " 10  LotConfig      1168 non-null   object \n",
            " 11  LandSlope      1168 non-null   object \n",
            " 12  Neighborhood   1168 non-null   object \n",
            " 13  Condition1     1168 non-null   object \n",
            " 14  Condition2     1168 non-null   object \n",
            " 15  BldgType       1168 non-null   object \n",
            " 16  HouseStyle     1168 non-null   object \n",
            " 17  OverallQual    1168 non-null   int64  \n",
            " 18  OverallCond    1168 non-null   int64  \n",
            " 19  YearBuilt      1168 non-null   int64  \n",
            " 20  YearRemodAdd   1168 non-null   int64  \n",
            " 21  RoofStyle      1168 non-null   object \n",
            " 22  RoofMatl       1168 non-null   object \n",
            " 23  Exterior1st    1168 non-null   object \n",
            " 24  Exterior2nd    1168 non-null   object \n",
            " 25  MasVnrType     1161 non-null   object \n",
            " 26  MasVnrArea     1161 non-null   float64\n",
            " 27  ExterQual      1168 non-null   object \n",
            " 28  ExterCond      1168 non-null   object \n",
            " 29  Foundation     1168 non-null   object \n",
            " 30  BsmtQual       1137 non-null   object \n",
            " 31  BsmtCond       1137 non-null   object \n",
            " 32  BsmtExposure   1136 non-null   object \n",
            " 33  BsmtFinType1   1137 non-null   object \n",
            " 34  BsmtFinSF1     1168 non-null   int64  \n",
            " 35  BsmtFinType2   1136 non-null   object \n",
            " 36  BsmtFinSF2     1168 non-null   int64  \n",
            " 37  BsmtUnfSF      1168 non-null   int64  \n",
            " 38  TotalBsmtSF    1168 non-null   int64  \n",
            " 39  Heating        1168 non-null   object \n",
            " 40  HeatingQC      1168 non-null   object \n",
            " 41  CentralAir     1168 non-null   object \n",
            " 42  Electrical     1167 non-null   object \n",
            " 43  1stFlrSF       1168 non-null   int64  \n",
            " 44  2ndFlrSF       1168 non-null   int64  \n",
            " 45  LowQualFinSF   1168 non-null   int64  \n",
            " 46  GrLivArea      1168 non-null   int64  \n",
            " 47  BsmtFullBath   1168 non-null   int64  \n",
            " 48  BsmtHalfBath   1168 non-null   int64  \n",
            " 49  FullBath       1168 non-null   int64  \n",
            " 50  HalfBath       1168 non-null   int64  \n",
            " 51  BedroomAbvGr   1168 non-null   int64  \n",
            " 52  KitchenAbvGr   1168 non-null   int64  \n",
            " 53  KitchenQual    1168 non-null   object \n",
            " 54  TotRmsAbvGrd   1168 non-null   int64  \n",
            " 55  Functional     1168 non-null   object \n",
            " 56  Fireplaces     1168 non-null   int64  \n",
            " 57  FireplaceQu    604 non-null    object \n",
            " 58  GarageType     1104 non-null   object \n",
            " 59  GarageYrBlt    1104 non-null   float64\n",
            " 60  GarageFinish   1104 non-null   object \n",
            " 61  GarageCars     1168 non-null   int64  \n",
            " 62  GarageArea     1168 non-null   int64  \n",
            " 63  GarageQual     1104 non-null   object \n",
            " 64  GarageCond     1104 non-null   object \n",
            " 65  PavedDrive     1168 non-null   object \n",
            " 66  WoodDeckSF     1168 non-null   int64  \n",
            " 67  OpenPorchSF    1168 non-null   int64  \n",
            " 68  EnclosedPorch  1168 non-null   int64  \n",
            " 69  3SsnPorch      1168 non-null   int64  \n",
            " 70  ScreenPorch    1168 non-null   int64  \n",
            " 71  PoolArea       1168 non-null   int64  \n",
            " 72  PoolQC         4 non-null      object \n",
            " 73  Fence          222 non-null    object \n",
            " 74  MiscFeature    43 non-null     object \n",
            " 75  MiscVal        1168 non-null   int64  \n",
            " 76  MoSold         1168 non-null   int64  \n",
            " 77  YrSold         1168 non-null   int64  \n",
            " 78  SaleType       1168 non-null   object \n",
            " 79  SaleCondition  1168 non-null   object \n",
            "dtypes: float64(3), int64(34), object(43)\n",
            "memory usage: 739.1+ KB\n"
          ]
        }
      ]
    },
    {
      "cell_type": "code",
      "source": [
        "X_train.describe()"
      ],
      "metadata": {
        "colab": {
          "base_uri": "https://localhost:8080/",
          "height": 394
        },
        "id": "MpufHRw3UbfW",
        "outputId": "47315eb0-596b-4add-9650-9e447ce4ee3f"
      },
      "execution_count": 221,
      "outputs": [
        {
          "output_type": "execute_result",
          "data": {
            "text/plain": [
              "                id   MSSubClass  LotFrontage        LotArea  OverallQual  \\\n",
              "count  1168.000000  1168.000000   959.000000    1168.000000  1168.000000   \n",
              "mean    735.149829    56.185788    70.277372   10482.439212     6.080479   \n",
              "std     424.013242    41.506369    24.767651    9729.176951     1.391748   \n",
              "min       0.000000    20.000000    21.000000    1477.000000     1.000000   \n",
              "25%     374.750000    20.000000    59.500000    7585.250000     5.000000   \n",
              "50%     735.500000    50.000000    70.000000    9500.000000     6.000000   \n",
              "75%    1103.250000    70.000000    80.000000   11600.000000     7.000000   \n",
              "max    1459.000000   190.000000   313.000000  215245.000000    10.000000   \n",
              "\n",
              "       OverallCond    YearBuilt  YearRemodAdd   MasVnrArea   BsmtFinSF1  ...  \\\n",
              "count  1168.000000  1168.000000   1168.000000  1161.000000  1168.000000  ...   \n",
              "mean      5.579623  1971.089041   1984.604452   103.852713   451.387842  ...   \n",
              "std       1.118741    30.190295     20.726175   181.793075   459.024051  ...   \n",
              "min       1.000000  1872.000000   1950.000000     0.000000     0.000000  ...   \n",
              "25%       5.000000  1954.000000   1966.000000     0.000000     0.000000  ...   \n",
              "50%       5.000000  1972.000000   1993.000000     0.000000   395.000000  ...   \n",
              "75%       6.000000  2000.000000   2004.000000   168.000000   728.750000  ...   \n",
              "max       9.000000  2010.000000   2010.000000  1378.000000  5644.000000  ...   \n",
              "\n",
              "        GarageArea   WoodDeckSF  OpenPorchSF  EnclosedPorch    3SsnPorch  \\\n",
              "count  1168.000000  1168.000000  1168.000000    1168.000000  1168.000000   \n",
              "mean    473.804795    92.162671    46.104452      22.242295     3.761130   \n",
              "std     212.930995   125.228453    65.269721      59.992862    31.311799   \n",
              "min       0.000000     0.000000     0.000000       0.000000     0.000000   \n",
              "25%     336.000000     0.000000     0.000000       0.000000     0.000000   \n",
              "50%     480.000000     0.000000    26.000000       0.000000     0.000000   \n",
              "75%     576.000000   168.000000    66.000000       0.000000     0.000000   \n",
              "max    1418.000000   736.000000   547.000000     386.000000   508.000000   \n",
              "\n",
              "       ScreenPorch     PoolArea      MiscVal       MoSold       YrSold  \n",
              "count  1168.000000  1168.000000  1168.000000  1168.000000  1168.000000  \n",
              "mean     15.142123     1.903253    36.070205     6.306507  2007.791952  \n",
              "std      57.180410    32.691464   312.531832     2.691870     1.323586  \n",
              "min       0.000000     0.000000     0.000000     1.000000  2006.000000  \n",
              "25%       0.000000     0.000000     0.000000     5.000000  2007.000000  \n",
              "50%       0.000000     0.000000     0.000000     6.000000  2008.000000  \n",
              "75%       0.000000     0.000000     0.000000     8.000000  2009.000000  \n",
              "max     480.000000   648.000000  8300.000000    12.000000  2010.000000  \n",
              "\n",
              "[8 rows x 37 columns]"
            ],
            "text/html": [
              "\n",
              "  <div id=\"df-6cf7d719-fa2c-43e0-b683-9b4732d9bf73\">\n",
              "    <div class=\"colab-df-container\">\n",
              "      <div>\n",
              "<style scoped>\n",
              "    .dataframe tbody tr th:only-of-type {\n",
              "        vertical-align: middle;\n",
              "    }\n",
              "\n",
              "    .dataframe tbody tr th {\n",
              "        vertical-align: top;\n",
              "    }\n",
              "\n",
              "    .dataframe thead th {\n",
              "        text-align: right;\n",
              "    }\n",
              "</style>\n",
              "<table border=\"1\" class=\"dataframe\">\n",
              "  <thead>\n",
              "    <tr style=\"text-align: right;\">\n",
              "      <th></th>\n",
              "      <th>id</th>\n",
              "      <th>MSSubClass</th>\n",
              "      <th>LotFrontage</th>\n",
              "      <th>LotArea</th>\n",
              "      <th>OverallQual</th>\n",
              "      <th>OverallCond</th>\n",
              "      <th>YearBuilt</th>\n",
              "      <th>YearRemodAdd</th>\n",
              "      <th>MasVnrArea</th>\n",
              "      <th>BsmtFinSF1</th>\n",
              "      <th>...</th>\n",
              "      <th>GarageArea</th>\n",
              "      <th>WoodDeckSF</th>\n",
              "      <th>OpenPorchSF</th>\n",
              "      <th>EnclosedPorch</th>\n",
              "      <th>3SsnPorch</th>\n",
              "      <th>ScreenPorch</th>\n",
              "      <th>PoolArea</th>\n",
              "      <th>MiscVal</th>\n",
              "      <th>MoSold</th>\n",
              "      <th>YrSold</th>\n",
              "    </tr>\n",
              "  </thead>\n",
              "  <tbody>\n",
              "    <tr>\n",
              "      <th>count</th>\n",
              "      <td>1168.000000</td>\n",
              "      <td>1168.000000</td>\n",
              "      <td>959.000000</td>\n",
              "      <td>1168.000000</td>\n",
              "      <td>1168.000000</td>\n",
              "      <td>1168.000000</td>\n",
              "      <td>1168.000000</td>\n",
              "      <td>1168.000000</td>\n",
              "      <td>1161.000000</td>\n",
              "      <td>1168.000000</td>\n",
              "      <td>...</td>\n",
              "      <td>1168.000000</td>\n",
              "      <td>1168.000000</td>\n",
              "      <td>1168.000000</td>\n",
              "      <td>1168.000000</td>\n",
              "      <td>1168.000000</td>\n",
              "      <td>1168.000000</td>\n",
              "      <td>1168.000000</td>\n",
              "      <td>1168.000000</td>\n",
              "      <td>1168.000000</td>\n",
              "      <td>1168.000000</td>\n",
              "    </tr>\n",
              "    <tr>\n",
              "      <th>mean</th>\n",
              "      <td>735.149829</td>\n",
              "      <td>56.185788</td>\n",
              "      <td>70.277372</td>\n",
              "      <td>10482.439212</td>\n",
              "      <td>6.080479</td>\n",
              "      <td>5.579623</td>\n",
              "      <td>1971.089041</td>\n",
              "      <td>1984.604452</td>\n",
              "      <td>103.852713</td>\n",
              "      <td>451.387842</td>\n",
              "      <td>...</td>\n",
              "      <td>473.804795</td>\n",
              "      <td>92.162671</td>\n",
              "      <td>46.104452</td>\n",
              "      <td>22.242295</td>\n",
              "      <td>3.761130</td>\n",
              "      <td>15.142123</td>\n",
              "      <td>1.903253</td>\n",
              "      <td>36.070205</td>\n",
              "      <td>6.306507</td>\n",
              "      <td>2007.791952</td>\n",
              "    </tr>\n",
              "    <tr>\n",
              "      <th>std</th>\n",
              "      <td>424.013242</td>\n",
              "      <td>41.506369</td>\n",
              "      <td>24.767651</td>\n",
              "      <td>9729.176951</td>\n",
              "      <td>1.391748</td>\n",
              "      <td>1.118741</td>\n",
              "      <td>30.190295</td>\n",
              "      <td>20.726175</td>\n",
              "      <td>181.793075</td>\n",
              "      <td>459.024051</td>\n",
              "      <td>...</td>\n",
              "      <td>212.930995</td>\n",
              "      <td>125.228453</td>\n",
              "      <td>65.269721</td>\n",
              "      <td>59.992862</td>\n",
              "      <td>31.311799</td>\n",
              "      <td>57.180410</td>\n",
              "      <td>32.691464</td>\n",
              "      <td>312.531832</td>\n",
              "      <td>2.691870</td>\n",
              "      <td>1.323586</td>\n",
              "    </tr>\n",
              "    <tr>\n",
              "      <th>min</th>\n",
              "      <td>0.000000</td>\n",
              "      <td>20.000000</td>\n",
              "      <td>21.000000</td>\n",
              "      <td>1477.000000</td>\n",
              "      <td>1.000000</td>\n",
              "      <td>1.000000</td>\n",
              "      <td>1872.000000</td>\n",
              "      <td>1950.000000</td>\n",
              "      <td>0.000000</td>\n",
              "      <td>0.000000</td>\n",
              "      <td>...</td>\n",
              "      <td>0.000000</td>\n",
              "      <td>0.000000</td>\n",
              "      <td>0.000000</td>\n",
              "      <td>0.000000</td>\n",
              "      <td>0.000000</td>\n",
              "      <td>0.000000</td>\n",
              "      <td>0.000000</td>\n",
              "      <td>0.000000</td>\n",
              "      <td>1.000000</td>\n",
              "      <td>2006.000000</td>\n",
              "    </tr>\n",
              "    <tr>\n",
              "      <th>25%</th>\n",
              "      <td>374.750000</td>\n",
              "      <td>20.000000</td>\n",
              "      <td>59.500000</td>\n",
              "      <td>7585.250000</td>\n",
              "      <td>5.000000</td>\n",
              "      <td>5.000000</td>\n",
              "      <td>1954.000000</td>\n",
              "      <td>1966.000000</td>\n",
              "      <td>0.000000</td>\n",
              "      <td>0.000000</td>\n",
              "      <td>...</td>\n",
              "      <td>336.000000</td>\n",
              "      <td>0.000000</td>\n",
              "      <td>0.000000</td>\n",
              "      <td>0.000000</td>\n",
              "      <td>0.000000</td>\n",
              "      <td>0.000000</td>\n",
              "      <td>0.000000</td>\n",
              "      <td>0.000000</td>\n",
              "      <td>5.000000</td>\n",
              "      <td>2007.000000</td>\n",
              "    </tr>\n",
              "    <tr>\n",
              "      <th>50%</th>\n",
              "      <td>735.500000</td>\n",
              "      <td>50.000000</td>\n",
              "      <td>70.000000</td>\n",
              "      <td>9500.000000</td>\n",
              "      <td>6.000000</td>\n",
              "      <td>5.000000</td>\n",
              "      <td>1972.000000</td>\n",
              "      <td>1993.000000</td>\n",
              "      <td>0.000000</td>\n",
              "      <td>395.000000</td>\n",
              "      <td>...</td>\n",
              "      <td>480.000000</td>\n",
              "      <td>0.000000</td>\n",
              "      <td>26.000000</td>\n",
              "      <td>0.000000</td>\n",
              "      <td>0.000000</td>\n",
              "      <td>0.000000</td>\n",
              "      <td>0.000000</td>\n",
              "      <td>0.000000</td>\n",
              "      <td>6.000000</td>\n",
              "      <td>2008.000000</td>\n",
              "    </tr>\n",
              "    <tr>\n",
              "      <th>75%</th>\n",
              "      <td>1103.250000</td>\n",
              "      <td>70.000000</td>\n",
              "      <td>80.000000</td>\n",
              "      <td>11600.000000</td>\n",
              "      <td>7.000000</td>\n",
              "      <td>6.000000</td>\n",
              "      <td>2000.000000</td>\n",
              "      <td>2004.000000</td>\n",
              "      <td>168.000000</td>\n",
              "      <td>728.750000</td>\n",
              "      <td>...</td>\n",
              "      <td>576.000000</td>\n",
              "      <td>168.000000</td>\n",
              "      <td>66.000000</td>\n",
              "      <td>0.000000</td>\n",
              "      <td>0.000000</td>\n",
              "      <td>0.000000</td>\n",
              "      <td>0.000000</td>\n",
              "      <td>0.000000</td>\n",
              "      <td>8.000000</td>\n",
              "      <td>2009.000000</td>\n",
              "    </tr>\n",
              "    <tr>\n",
              "      <th>max</th>\n",
              "      <td>1459.000000</td>\n",
              "      <td>190.000000</td>\n",
              "      <td>313.000000</td>\n",
              "      <td>215245.000000</td>\n",
              "      <td>10.000000</td>\n",
              "      <td>9.000000</td>\n",
              "      <td>2010.000000</td>\n",
              "      <td>2010.000000</td>\n",
              "      <td>1378.000000</td>\n",
              "      <td>5644.000000</td>\n",
              "      <td>...</td>\n",
              "      <td>1418.000000</td>\n",
              "      <td>736.000000</td>\n",
              "      <td>547.000000</td>\n",
              "      <td>386.000000</td>\n",
              "      <td>508.000000</td>\n",
              "      <td>480.000000</td>\n",
              "      <td>648.000000</td>\n",
              "      <td>8300.000000</td>\n",
              "      <td>12.000000</td>\n",
              "      <td>2010.000000</td>\n",
              "    </tr>\n",
              "  </tbody>\n",
              "</table>\n",
              "<p>8 rows × 37 columns</p>\n",
              "</div>\n",
              "      <button class=\"colab-df-convert\" onclick=\"convertToInteractive('df-6cf7d719-fa2c-43e0-b683-9b4732d9bf73')\"\n",
              "              title=\"Convert this dataframe to an interactive table.\"\n",
              "              style=\"display:none;\">\n",
              "        \n",
              "  <svg xmlns=\"http://www.w3.org/2000/svg\" height=\"24px\"viewBox=\"0 0 24 24\"\n",
              "       width=\"24px\">\n",
              "    <path d=\"M0 0h24v24H0V0z\" fill=\"none\"/>\n",
              "    <path d=\"M18.56 5.44l.94 2.06.94-2.06 2.06-.94-2.06-.94-.94-2.06-.94 2.06-2.06.94zm-11 1L8.5 8.5l.94-2.06 2.06-.94-2.06-.94L8.5 2.5l-.94 2.06-2.06.94zm10 10l.94 2.06.94-2.06 2.06-.94-2.06-.94-.94-2.06-.94 2.06-2.06.94z\"/><path d=\"M17.41 7.96l-1.37-1.37c-.4-.4-.92-.59-1.43-.59-.52 0-1.04.2-1.43.59L10.3 9.45l-7.72 7.72c-.78.78-.78 2.05 0 2.83L4 21.41c.39.39.9.59 1.41.59.51 0 1.02-.2 1.41-.59l7.78-7.78 2.81-2.81c.8-.78.8-2.07 0-2.86zM5.41 20L4 18.59l7.72-7.72 1.47 1.35L5.41 20z\"/>\n",
              "  </svg>\n",
              "      </button>\n",
              "      \n",
              "  <style>\n",
              "    .colab-df-container {\n",
              "      display:flex;\n",
              "      flex-wrap:wrap;\n",
              "      gap: 12px;\n",
              "    }\n",
              "\n",
              "    .colab-df-convert {\n",
              "      background-color: #E8F0FE;\n",
              "      border: none;\n",
              "      border-radius: 50%;\n",
              "      cursor: pointer;\n",
              "      display: none;\n",
              "      fill: #1967D2;\n",
              "      height: 32px;\n",
              "      padding: 0 0 0 0;\n",
              "      width: 32px;\n",
              "    }\n",
              "\n",
              "    .colab-df-convert:hover {\n",
              "      background-color: #E2EBFA;\n",
              "      box-shadow: 0px 1px 2px rgba(60, 64, 67, 0.3), 0px 1px 3px 1px rgba(60, 64, 67, 0.15);\n",
              "      fill: #174EA6;\n",
              "    }\n",
              "\n",
              "    [theme=dark] .colab-df-convert {\n",
              "      background-color: #3B4455;\n",
              "      fill: #D2E3FC;\n",
              "    }\n",
              "\n",
              "    [theme=dark] .colab-df-convert:hover {\n",
              "      background-color: #434B5C;\n",
              "      box-shadow: 0px 1px 3px 1px rgba(0, 0, 0, 0.15);\n",
              "      filter: drop-shadow(0px 1px 2px rgba(0, 0, 0, 0.3));\n",
              "      fill: #FFFFFF;\n",
              "    }\n",
              "  </style>\n",
              "\n",
              "      <script>\n",
              "        const buttonEl =\n",
              "          document.querySelector('#df-6cf7d719-fa2c-43e0-b683-9b4732d9bf73 button.colab-df-convert');\n",
              "        buttonEl.style.display =\n",
              "          google.colab.kernel.accessAllowed ? 'block' : 'none';\n",
              "\n",
              "        async function convertToInteractive(key) {\n",
              "          const element = document.querySelector('#df-6cf7d719-fa2c-43e0-b683-9b4732d9bf73');\n",
              "          const dataTable =\n",
              "            await google.colab.kernel.invokeFunction('convertToInteractive',\n",
              "                                                     [key], {});\n",
              "          if (!dataTable) return;\n",
              "\n",
              "          const docLinkHtml = 'Like what you see? Visit the ' +\n",
              "            '<a target=\"_blank\" href=https://colab.research.google.com/notebooks/data_table.ipynb>data table notebook</a>'\n",
              "            + ' to learn more about interactive tables.';\n",
              "          element.innerHTML = '';\n",
              "          dataTable['output_type'] = 'display_data';\n",
              "          await google.colab.output.renderOutput(dataTable, element);\n",
              "          const docLink = document.createElement('div');\n",
              "          docLink.innerHTML = docLinkHtml;\n",
              "          element.appendChild(docLink);\n",
              "        }\n",
              "      </script>\n",
              "    </div>\n",
              "  </div>\n",
              "  "
            ]
          },
          "metadata": {},
          "execution_count": 221
        }
      ]
    },
    {
      "cell_type": "code",
      "source": [
        "for i in X_train.columns:\n",
        "    if X_train[i].isna().sum() != 0:\n",
        "        print('{} : {}'.format(i, X_train[i].isna().sum()))"
      ],
      "metadata": {
        "colab": {
          "base_uri": "https://localhost:8080/"
        },
        "id": "ahbzFkoCUcS4",
        "outputId": "e26a18be-5c6b-41fc-e282-d093ff826555"
      },
      "execution_count": 222,
      "outputs": [
        {
          "output_type": "stream",
          "name": "stdout",
          "text": [
            "LotFrontage : 209\n",
            "Alley : 1093\n",
            "MasVnrType : 7\n",
            "MasVnrArea : 7\n",
            "BsmtQual : 31\n",
            "BsmtCond : 31\n",
            "BsmtExposure : 32\n",
            "BsmtFinType1 : 31\n",
            "BsmtFinType2 : 32\n",
            "Electrical : 1\n",
            "FireplaceQu : 564\n",
            "GarageType : 64\n",
            "GarageYrBlt : 64\n",
            "GarageFinish : 64\n",
            "GarageQual : 64\n",
            "GarageCond : 64\n",
            "PoolQC : 1164\n",
            "Fence : 946\n",
            "MiscFeature : 1125\n"
          ]
        }
      ]
    },
    {
      "cell_type": "code",
      "source": [
        "for i in X_train.columns:\n",
        "    if X_train[i].isna().sum() != 0:\n",
        "        print('{} : {}'.format(i, X_train[i].nunique()))"
      ],
      "metadata": {
        "colab": {
          "base_uri": "https://localhost:8080/"
        },
        "id": "4LBvif2zWLNk",
        "outputId": "5cfa32e3-b5be-445e-946d-2688d443bca2"
      },
      "execution_count": 223,
      "outputs": [
        {
          "output_type": "stream",
          "name": "stdout",
          "text": [
            "LotFrontage : 106\n",
            "Alley : 2\n",
            "MasVnrType : 4\n",
            "MasVnrArea : 282\n",
            "BsmtQual : 4\n",
            "BsmtCond : 4\n",
            "BsmtExposure : 4\n",
            "BsmtFinType1 : 6\n",
            "BsmtFinType2 : 6\n",
            "Electrical : 5\n",
            "FireplaceQu : 5\n",
            "GarageType : 6\n",
            "GarageYrBlt : 96\n",
            "GarageFinish : 3\n",
            "GarageQual : 5\n",
            "GarageCond : 5\n",
            "PoolQC : 2\n",
            "Fence : 4\n",
            "MiscFeature : 4\n"
          ]
        }
      ]
    },
    {
      "cell_type": "markdown",
      "source": [
        "---------"
      ],
      "metadata": {
        "id": "QtnzMT0TSAPK"
      }
    },
    {
      "cell_type": "markdown",
      "source": [
        "# 결측치 처리 계획\n",
        "LotFrontage : LotArea에 영향을 받을 것. LotShape 별로 LotArea에 비례하여 결측치 처리.   \n",
        "실제로는 행 자체를 드롭하는 것이 현명하나 연습용인 만큼 결측치 처리 시도.   \n",
        "Alley : 결측치의 경우 뒷골목으로 향하는 길이 없다는 뜻. 별도 표기로 결측치 처리.   \n",
        "MasVnrType : 건물 외벽 유무. 결측치는 별도 외벽 장식이 없다는 뜻.   \n",
        "MasVnrArea : 건물 외벽 면적. 결측치의 경우 별도 외벽 장식이 없다는 뜻.   \n",
        "Bsmt 관련 열 : 숫자가 다 같지 않고 다른 행이 있음. 하나만 결측인 경우 해당 결측행 삭제.    \n",
        "Electrical : 전력시스템. 결측치가 하나만 있으므로 삭제.   \n",
        "FireplaceQu : 결측치는 Fireplace가 없다는 뜻.   \n",
        "Garage 관련 열 : 결측치는 Garage가 없다는 뜻.   \n",
        "지하실과 마찬가지로 모든 결측치가 같은 집인지 확인해보고 결측치 처리 진행.   \n",
        "PoolQC : 결측치는 수영장이 없다는 뜻.   \n",
        "Fence : 결측치는 울타리가 없다는 뜻.   \n",
        "MiscFeature : 별도 카테고리가 없는 특징. 결측치는 별도의 특징이 없다는 뜻.   "
      ],
      "metadata": {
        "id": "sbyC4v74bxoU"
      }
    },
    {
      "cell_type": "markdown",
      "source": [
        "-------"
      ],
      "metadata": {
        "id": "OuSX28kNSUh4"
      }
    },
    {
      "cell_type": "markdown",
      "source": [
        "# LotShape별 평균 LotFrontage와 LotArea의 비율을 구하고 이를 적용하여 LotFrontage의 결측치 채우기"
      ],
      "metadata": {
        "id": "vQfcPMErSUk6"
      }
    },
    {
      "cell_type": "code",
      "source": [
        "LotArea_LotFrontage_Ratio = X_train.groupby(['LotShape']).apply(lambda x : x['LotFrontage'].mean() / x['LotArea'].mean()).to_frame()\n",
        "LotArea_LotFrontage_Ratio.reset_index(level=['LotShape'], inplace = True)"
      ],
      "metadata": {
        "id": "FVlE76BXZ5Z3"
      },
      "execution_count": 224,
      "outputs": []
    },
    {
      "cell_type": "code",
      "source": [
        "LotArea_LotFrontage_Ratio = LotArea_LotFrontage_Ratio.rename(columns = {0 : 'Ratio'})"
      ],
      "metadata": {
        "id": "ehjf2qr9iylr"
      },
      "execution_count": 225,
      "outputs": []
    },
    {
      "cell_type": "code",
      "source": [
        "LotArea_LotFrontage_Ratio"
      ],
      "metadata": {
        "colab": {
          "base_uri": "https://localhost:8080/",
          "height": 175
        },
        "id": "jMDH8KCEybhp",
        "outputId": "f3906899-d69f-4629-bd58-d33ccb43e779"
      },
      "execution_count": 226,
      "outputs": [
        {
          "output_type": "execute_result",
          "data": {
            "text/plain": [
              "  LotShape     Ratio\n",
              "0      IR1  0.006693\n",
              "1      IR2  0.002982\n",
              "2      IR3  0.003265\n",
              "3      Reg  0.007570"
            ],
            "text/html": [
              "\n",
              "  <div id=\"df-06d37889-3a77-42e7-beb1-8be1c3c818d9\">\n",
              "    <div class=\"colab-df-container\">\n",
              "      <div>\n",
              "<style scoped>\n",
              "    .dataframe tbody tr th:only-of-type {\n",
              "        vertical-align: middle;\n",
              "    }\n",
              "\n",
              "    .dataframe tbody tr th {\n",
              "        vertical-align: top;\n",
              "    }\n",
              "\n",
              "    .dataframe thead th {\n",
              "        text-align: right;\n",
              "    }\n",
              "</style>\n",
              "<table border=\"1\" class=\"dataframe\">\n",
              "  <thead>\n",
              "    <tr style=\"text-align: right;\">\n",
              "      <th></th>\n",
              "      <th>LotShape</th>\n",
              "      <th>Ratio</th>\n",
              "    </tr>\n",
              "  </thead>\n",
              "  <tbody>\n",
              "    <tr>\n",
              "      <th>0</th>\n",
              "      <td>IR1</td>\n",
              "      <td>0.006693</td>\n",
              "    </tr>\n",
              "    <tr>\n",
              "      <th>1</th>\n",
              "      <td>IR2</td>\n",
              "      <td>0.002982</td>\n",
              "    </tr>\n",
              "    <tr>\n",
              "      <th>2</th>\n",
              "      <td>IR3</td>\n",
              "      <td>0.003265</td>\n",
              "    </tr>\n",
              "    <tr>\n",
              "      <th>3</th>\n",
              "      <td>Reg</td>\n",
              "      <td>0.007570</td>\n",
              "    </tr>\n",
              "  </tbody>\n",
              "</table>\n",
              "</div>\n",
              "      <button class=\"colab-df-convert\" onclick=\"convertToInteractive('df-06d37889-3a77-42e7-beb1-8be1c3c818d9')\"\n",
              "              title=\"Convert this dataframe to an interactive table.\"\n",
              "              style=\"display:none;\">\n",
              "        \n",
              "  <svg xmlns=\"http://www.w3.org/2000/svg\" height=\"24px\"viewBox=\"0 0 24 24\"\n",
              "       width=\"24px\">\n",
              "    <path d=\"M0 0h24v24H0V0z\" fill=\"none\"/>\n",
              "    <path d=\"M18.56 5.44l.94 2.06.94-2.06 2.06-.94-2.06-.94-.94-2.06-.94 2.06-2.06.94zm-11 1L8.5 8.5l.94-2.06 2.06-.94-2.06-.94L8.5 2.5l-.94 2.06-2.06.94zm10 10l.94 2.06.94-2.06 2.06-.94-2.06-.94-.94-2.06-.94 2.06-2.06.94z\"/><path d=\"M17.41 7.96l-1.37-1.37c-.4-.4-.92-.59-1.43-.59-.52 0-1.04.2-1.43.59L10.3 9.45l-7.72 7.72c-.78.78-.78 2.05 0 2.83L4 21.41c.39.39.9.59 1.41.59.51 0 1.02-.2 1.41-.59l7.78-7.78 2.81-2.81c.8-.78.8-2.07 0-2.86zM5.41 20L4 18.59l7.72-7.72 1.47 1.35L5.41 20z\"/>\n",
              "  </svg>\n",
              "      </button>\n",
              "      \n",
              "  <style>\n",
              "    .colab-df-container {\n",
              "      display:flex;\n",
              "      flex-wrap:wrap;\n",
              "      gap: 12px;\n",
              "    }\n",
              "\n",
              "    .colab-df-convert {\n",
              "      background-color: #E8F0FE;\n",
              "      border: none;\n",
              "      border-radius: 50%;\n",
              "      cursor: pointer;\n",
              "      display: none;\n",
              "      fill: #1967D2;\n",
              "      height: 32px;\n",
              "      padding: 0 0 0 0;\n",
              "      width: 32px;\n",
              "    }\n",
              "\n",
              "    .colab-df-convert:hover {\n",
              "      background-color: #E2EBFA;\n",
              "      box-shadow: 0px 1px 2px rgba(60, 64, 67, 0.3), 0px 1px 3px 1px rgba(60, 64, 67, 0.15);\n",
              "      fill: #174EA6;\n",
              "    }\n",
              "\n",
              "    [theme=dark] .colab-df-convert {\n",
              "      background-color: #3B4455;\n",
              "      fill: #D2E3FC;\n",
              "    }\n",
              "\n",
              "    [theme=dark] .colab-df-convert:hover {\n",
              "      background-color: #434B5C;\n",
              "      box-shadow: 0px 1px 3px 1px rgba(0, 0, 0, 0.15);\n",
              "      filter: drop-shadow(0px 1px 2px rgba(0, 0, 0, 0.3));\n",
              "      fill: #FFFFFF;\n",
              "    }\n",
              "  </style>\n",
              "\n",
              "      <script>\n",
              "        const buttonEl =\n",
              "          document.querySelector('#df-06d37889-3a77-42e7-beb1-8be1c3c818d9 button.colab-df-convert');\n",
              "        buttonEl.style.display =\n",
              "          google.colab.kernel.accessAllowed ? 'block' : 'none';\n",
              "\n",
              "        async function convertToInteractive(key) {\n",
              "          const element = document.querySelector('#df-06d37889-3a77-42e7-beb1-8be1c3c818d9');\n",
              "          const dataTable =\n",
              "            await google.colab.kernel.invokeFunction('convertToInteractive',\n",
              "                                                     [key], {});\n",
              "          if (!dataTable) return;\n",
              "\n",
              "          const docLinkHtml = 'Like what you see? Visit the ' +\n",
              "            '<a target=\"_blank\" href=https://colab.research.google.com/notebooks/data_table.ipynb>data table notebook</a>'\n",
              "            + ' to learn more about interactive tables.';\n",
              "          element.innerHTML = '';\n",
              "          dataTable['output_type'] = 'display_data';\n",
              "          await google.colab.output.renderOutput(dataTable, element);\n",
              "          const docLink = document.createElement('div');\n",
              "          docLink.innerHTML = docLinkHtml;\n",
              "          element.appendChild(docLink);\n",
              "        }\n",
              "      </script>\n",
              "    </div>\n",
              "  </div>\n",
              "  "
            ]
          },
          "metadata": {},
          "execution_count": 226
        }
      ]
    },
    {
      "cell_type": "code",
      "source": [
        "X_train = pd.merge(X_train, LotArea_LotFrontage_Ratio, how='left', on='LotShape')"
      ],
      "metadata": {
        "id": "gMWOMV19yeFK"
      },
      "execution_count": 227,
      "outputs": []
    },
    {
      "cell_type": "code",
      "source": [
        "X_train['Ratio']"
      ],
      "metadata": {
        "colab": {
          "base_uri": "https://localhost:8080/"
        },
        "id": "GELJD304yv8a",
        "outputId": "9626ed29-fd72-47e1-973d-3912f3eb5420"
      },
      "execution_count": 228,
      "outputs": [
        {
          "output_type": "execute_result",
          "data": {
            "text/plain": [
              "0       0.007570\n",
              "1       0.006693\n",
              "2       0.007570\n",
              "3       0.007570\n",
              "4       0.007570\n",
              "          ...   \n",
              "1163    0.007570\n",
              "1164    0.007570\n",
              "1165    0.006693\n",
              "1166    0.006693\n",
              "1167    0.007570\n",
              "Name: Ratio, Length: 1168, dtype: float64"
            ]
          },
          "metadata": {},
          "execution_count": 228
        }
      ]
    },
    {
      "cell_type": "code",
      "source": [
        "X_train['LotFrontage'] = X_train['LotFrontage'].fillna(X_train['LotArea'] * X_train['Ratio'])"
      ],
      "metadata": {
        "id": "oB335j45pMEm"
      },
      "execution_count": 229,
      "outputs": []
    },
    {
      "cell_type": "code",
      "source": [
        "X_train['LotFrontage'].isna().sum()"
      ],
      "metadata": {
        "colab": {
          "base_uri": "https://localhost:8080/"
        },
        "id": "vW6mBoxu1OwY",
        "outputId": "3cbf6973-9592-44d7-ccaa-99a272792298"
      },
      "execution_count": 230,
      "outputs": [
        {
          "output_type": "execute_result",
          "data": {
            "text/plain": [
              "0"
            ]
          },
          "metadata": {},
          "execution_count": 230
        }
      ]
    },
    {
      "cell_type": "markdown",
      "source": [
        "LotFrontage가 제대로 채워진 것을 확인"
      ],
      "metadata": {
        "id": "9ApJyEwMSezH"
      }
    },
    {
      "cell_type": "markdown",
      "source": [
        "---------"
      ],
      "metadata": {
        "id": "W-lFN2aHSe3i"
      }
    },
    {
      "cell_type": "markdown",
      "source": [
        "# 관련 데이터가 없는 경우 결측치로 처리되어 있음.   \n",
        "# 만약 같은 카테고리에 걸쳐 결측치로 기록되어 있지 않고 다른 이상치가 있다면 삭제하는 것이 바람직할 것.   \n",
        "# 같은 카테고리에 걸쳐 있지 않은 결측행을 검출하는 알고리즘 적용   "
      ],
      "metadata": {
        "id": "69LXdlkQSe9Y"
      }
    },
    {
      "cell_type": "code",
      "source": [
        "drop_index = []"
      ],
      "metadata": {
        "id": "2e9SqyH-AyNv"
      },
      "execution_count": 231,
      "outputs": []
    },
    {
      "cell_type": "code",
      "source": [
        "cols = ['MasVnrType', 'MasVnrArea']\n",
        "temp3 = []\n",
        "for i in range(len(cols)):\n",
        "    if i+1 == len(cols):\n",
        "        print(temp3)\n",
        "        break\n",
        "    temp1 = X_train[cols[i]][X_train[cols[i]].isna()].index\n",
        "    temp2 = X_train[cols[i+1]][X_train[cols[i+1]].isna()].index\n",
        "    for i in temp2:\n",
        "        if i not in temp1:\n",
        "            temp3.append(i)\n",
        "            drop_index.append(i)"
      ],
      "metadata": {
        "colab": {
          "base_uri": "https://localhost:8080/"
        },
        "id": "XvBqzbS__L_O",
        "outputId": "56d0bf4a-dea5-43c1-d889-edb210b2c444"
      },
      "execution_count": 232,
      "outputs": [
        {
          "output_type": "stream",
          "name": "stdout",
          "text": [
            "[]\n"
          ]
        }
      ]
    },
    {
      "cell_type": "code",
      "source": [
        "cols = ['BsmtQual', 'BsmtCond', 'BsmtExposure', 'BsmtFinType1', 'BsmtFinType2']\n",
        "temp3 = []\n",
        "for i in range(len(cols)):\n",
        "    if i+1 == len(cols):\n",
        "        print(temp3)\n",
        "        break\n",
        "    temp1 = X_train[cols[i]][X_train[cols[i]].isna()].index\n",
        "    temp2 = X_train[cols[i+1]][X_train[cols[i+1]].isna()].index\n",
        "    for i in temp2:\n",
        "        if i not in temp1:\n",
        "            temp3.append(i)\n",
        "            drop_index.append(i)"
      ],
      "metadata": {
        "colab": {
          "base_uri": "https://localhost:8080/"
        },
        "id": "NbC-Ekcdzhrk",
        "outputId": "2f1cd3f8-dd92-4441-b43d-7f286514bcca"
      },
      "execution_count": 233,
      "outputs": [
        {
          "output_type": "stream",
          "name": "stdout",
          "text": [
            "[656, 372]\n"
          ]
        }
      ]
    },
    {
      "cell_type": "code",
      "source": [
        "cols = ['GarageType', 'GarageYrBlt', 'GarageFinish', 'GarageQual', 'GarageCond']\n",
        "temp3 = []\n",
        "for i in range(len(cols)):\n",
        "    if i+1 == len(cols):\n",
        "        print(temp3)\n",
        "        break\n",
        "    temp1 = X_train[cols[i]][X_train[cols[i]].isna()].index\n",
        "    temp2 = X_train[cols[i+1]][X_train[cols[i+1]].isna()].index\n",
        "    for i in temp2:\n",
        "        if i not in temp1:\n",
        "            temp3.append(i)\n",
        "            drop_index.append(i)"
      ],
      "metadata": {
        "colab": {
          "base_uri": "https://localhost:8080/"
        },
        "id": "C0_UpXjT2QDC",
        "outputId": "b5a6fa87-5db9-4acc-e4c5-6c76d3051411"
      },
      "execution_count": 234,
      "outputs": [
        {
          "output_type": "stream",
          "name": "stdout",
          "text": [
            "[]\n"
          ]
        }
      ]
    },
    {
      "cell_type": "code",
      "source": [
        "drop_index"
      ],
      "metadata": {
        "colab": {
          "base_uri": "https://localhost:8080/"
        },
        "id": "GlRoieoiAo00",
        "outputId": "d20eebbe-7b6d-4617-e918-e5b4dded01f0"
      },
      "execution_count": 235,
      "outputs": [
        {
          "output_type": "execute_result",
          "data": {
            "text/plain": [
              "[656, 372]"
            ]
          },
          "metadata": {},
          "execution_count": 235
        }
      ]
    },
    {
      "cell_type": "markdown",
      "source": [
        "------------"
      ],
      "metadata": {
        "id": "OZSUIX2oS2_A"
      }
    },
    {
      "cell_type": "markdown",
      "source": [
        "# 결측치가 하나만 있는 Electrical의 경우 결측행 삭제 진행"
      ],
      "metadata": {
        "id": "97KG36hKS3O5"
      }
    },
    {
      "cell_type": "code",
      "source": [
        "drop_index = drop_index + X_train['Electrical'][X_train['Electrical'].isna()].index.tolist()"
      ],
      "metadata": {
        "id": "N-kLR16KBKEt"
      },
      "execution_count": 236,
      "outputs": []
    },
    {
      "cell_type": "code",
      "source": [
        "drop_index"
      ],
      "metadata": {
        "colab": {
          "base_uri": "https://localhost:8080/"
        },
        "id": "hb6ABdrMBlhU",
        "outputId": "80b569f2-3f96-44e3-e447-d625cef2d171"
      },
      "execution_count": 237,
      "outputs": [
        {
          "output_type": "execute_result",
          "data": {
            "text/plain": [
              "[656, 372, 924]"
            ]
          },
          "metadata": {},
          "execution_count": 237
        }
      ]
    },
    {
      "cell_type": "code",
      "source": [
        "X_train = X_train.drop(index=drop_index, axis=0)\n",
        "y_train = y_train.drop(index=drop_index, axis=0)"
      ],
      "metadata": {
        "id": "0X7rk5IdBmYT"
      },
      "execution_count": 238,
      "outputs": []
    },
    {
      "cell_type": "code",
      "source": [
        "X_train.shape, y_train.shape"
      ],
      "metadata": {
        "colab": {
          "base_uri": "https://localhost:8080/"
        },
        "id": "E5BBuk84228F",
        "outputId": "1d1c22ed-556f-4b1f-b104-dfa8e3f19879"
      },
      "execution_count": 239,
      "outputs": [
        {
          "output_type": "execute_result",
          "data": {
            "text/plain": [
              "((1165, 81), (1165, 2))"
            ]
          },
          "metadata": {},
          "execution_count": 239
        }
      ]
    },
    {
      "cell_type": "markdown",
      "source": [
        "결측치가 제대로 삭제됨을 확인"
      ],
      "metadata": {
        "id": "3Nb_OX2CS-8v"
      }
    },
    {
      "cell_type": "markdown",
      "source": [
        "--------"
      ],
      "metadata": {
        "id": "JtLpxjJ_S_DC"
      }
    },
    {
      "cell_type": "markdown",
      "source": [
        "# X_test에 대해서도 동일하게 진행"
      ],
      "metadata": {
        "id": "FS70U6lZS_KF"
      }
    },
    {
      "cell_type": "code",
      "source": [
        "for i in X_test.columns:\n",
        "    if X_test[i].isna().sum() != 0:\n",
        "        print('{} : {}'.format(i, X_test[i].isna().sum()))"
      ],
      "metadata": {
        "colab": {
          "base_uri": "https://localhost:8080/"
        },
        "id": "zf3VlRHqDGMM",
        "outputId": "1aa5c13c-b85e-419b-f637-8bdb53f0c62b"
      },
      "execution_count": 240,
      "outputs": [
        {
          "output_type": "stream",
          "name": "stdout",
          "text": [
            "LotFrontage : 50\n",
            "Alley : 276\n",
            "MasVnrType : 1\n",
            "MasVnrArea : 1\n",
            "BsmtQual : 6\n",
            "BsmtCond : 6\n",
            "BsmtExposure : 6\n",
            "BsmtFinType1 : 6\n",
            "BsmtFinType2 : 6\n",
            "FireplaceQu : 126\n",
            "GarageType : 17\n",
            "GarageYrBlt : 17\n",
            "GarageFinish : 17\n",
            "GarageQual : 17\n",
            "GarageCond : 17\n",
            "PoolQC : 289\n",
            "Fence : 233\n",
            "MiscFeature : 281\n"
          ]
        }
      ]
    },
    {
      "cell_type": "code",
      "source": [
        "X_test = pd.merge(X_test, LotArea_LotFrontage_Ratio, how='left', on='LotShape')"
      ],
      "metadata": {
        "id": "MtMSdTUtwz64"
      },
      "execution_count": 241,
      "outputs": []
    },
    {
      "cell_type": "code",
      "source": [
        "X_test['LotFrontage'] = X_test['LotFrontage'].fillna(X_test['LotArea'] * X_test['Ratio'])"
      ],
      "metadata": {
        "id": "ui_fc2rCwQts"
      },
      "execution_count": 242,
      "outputs": []
    },
    {
      "cell_type": "code",
      "source": [
        "drop_index = []"
      ],
      "metadata": {
        "id": "f4jij2REvwFz"
      },
      "execution_count": 243,
      "outputs": []
    },
    {
      "cell_type": "code",
      "source": [
        "cols = ['MasVnrType', 'MasVnrArea']\n",
        "temp3 = []\n",
        "for i in range(len(cols)):\n",
        "    if i+1 == len(cols):\n",
        "        print(temp3)\n",
        "        break\n",
        "    temp1 = X_test[cols[i]][X_test[cols[i]].isna()].index\n",
        "    temp2 = X_test[cols[i+1]][X_test[cols[i+1]].isna()].index\n",
        "    for i in temp2:\n",
        "        if i not in temp1:\n",
        "            temp3.append(i)\n",
        "            drop_index.append(i)"
      ],
      "metadata": {
        "colab": {
          "base_uri": "https://localhost:8080/"
        },
        "outputId": "78ceeb64-4b8a-40a4-9ec4-a2990e84323e",
        "id": "w7vEui8PwCG1"
      },
      "execution_count": 244,
      "outputs": [
        {
          "output_type": "stream",
          "name": "stdout",
          "text": [
            "[]\n"
          ]
        }
      ]
    },
    {
      "cell_type": "code",
      "source": [
        "cols = ['BsmtQual', 'BsmtCond', 'BsmtExposure', 'BsmtFinType1', 'BsmtFinType2']\n",
        "temp3 = []\n",
        "for i in range(len(cols)):\n",
        "    if i+1 == len(cols):\n",
        "        print(temp3)\n",
        "        break\n",
        "    temp1 = X_test[cols[i]][X_test[cols[i]].isna()].index\n",
        "    temp2 = X_test[cols[i+1]][X_test[cols[i+1]].isna()].index\n",
        "    for i in temp2:\n",
        "        if i not in temp1:\n",
        "            temp3.append(i)\n",
        "            drop_index.append(i)"
      ],
      "metadata": {
        "colab": {
          "base_uri": "https://localhost:8080/"
        },
        "outputId": "ae3736b9-d1fe-462b-e9dc-90a63305f567",
        "id": "7_opsJecwFB6"
      },
      "execution_count": 245,
      "outputs": [
        {
          "output_type": "stream",
          "name": "stdout",
          "text": [
            "[]\n"
          ]
        }
      ]
    },
    {
      "cell_type": "code",
      "source": [
        "cols = ['GarageType', 'GarageYrBlt', 'GarageFinish', 'GarageQual', 'GarageCond']\n",
        "temp3 = []\n",
        "for i in range(len(cols)):\n",
        "    if i+1 == len(cols):\n",
        "        print(temp3)\n",
        "        break\n",
        "    temp1 = X_test[cols[i]][X_test[cols[i]].isna()].index\n",
        "    temp2 = X_test[cols[i+1]][X_test[cols[i+1]].isna()].index\n",
        "    for i in temp2:\n",
        "        if i not in temp1:\n",
        "            temp3.append(i)\n",
        "            drop_index.append(i)"
      ],
      "metadata": {
        "colab": {
          "base_uri": "https://localhost:8080/"
        },
        "outputId": "887a3a04-4b06-4a35-8b6a-45c1288b601f",
        "id": "eFAA-KJpwF9K"
      },
      "execution_count": 246,
      "outputs": [
        {
          "output_type": "stream",
          "name": "stdout",
          "text": [
            "[]\n"
          ]
        }
      ]
    },
    {
      "cell_type": "code",
      "source": [
        "drop_index"
      ],
      "metadata": {
        "colab": {
          "base_uri": "https://localhost:8080/"
        },
        "id": "f8XcB-WSwHkg",
        "outputId": "7a75f20f-ef25-4ee1-edbb-838c90b0465d"
      },
      "execution_count": 247,
      "outputs": [
        {
          "output_type": "execute_result",
          "data": {
            "text/plain": [
              "[]"
            ]
          },
          "metadata": {},
          "execution_count": 247
        }
      ]
    },
    {
      "cell_type": "code",
      "source": [
        "X_test = X_test.drop(index=drop_index, axis=0)\n",
        "y_test = y_test.drop(index=drop_index, axis=0)"
      ],
      "metadata": {
        "id": "E8NTR3V_wIRX"
      },
      "execution_count": 248,
      "outputs": []
    },
    {
      "cell_type": "code",
      "source": [
        "X_test.shape, y_test.shape"
      ],
      "metadata": {
        "colab": {
          "base_uri": "https://localhost:8080/"
        },
        "id": "8bgmSzlI3MY-",
        "outputId": "c58397d3-fb8e-49c5-e202-ba7e775ce10d"
      },
      "execution_count": 249,
      "outputs": [
        {
          "output_type": "execute_result",
          "data": {
            "text/plain": [
              "((292, 81), (292, 2))"
            ]
          },
          "metadata": {},
          "execution_count": 249
        }
      ]
    },
    {
      "cell_type": "markdown",
      "source": [
        "--------"
      ],
      "metadata": {
        "id": "p9ByQRFbTGXJ"
      }
    },
    {
      "cell_type": "markdown",
      "source": [
        "# Label Encoding을 개별 데이터로 나눈 상태에서 진행하려 했으나 희소한 값 때문에 오류 발생.   \n",
        "# 이를 방지하고자 X_train과 X_test를 concat하여 Ratio열을 삭제하고 Label Encoding 진행"
      ],
      "metadata": {
        "id": "iu1UoJV7TGd-"
      }
    },
    {
      "cell_type": "code",
      "source": [
        "all_data = pd.concat([X_train, X_test])"
      ],
      "metadata": {
        "id": "lAzmLyhY6TjK"
      },
      "execution_count": 250,
      "outputs": []
    },
    {
      "cell_type": "code",
      "source": [
        "all_data = all_data.drop(columns='Ratio', axis=1)"
      ],
      "metadata": {
        "id": "eJ3pmAW165F8"
      },
      "execution_count": 251,
      "outputs": []
    },
    {
      "cell_type": "code",
      "source": [
        "col_int_float = all_data.select_dtypes(include=['int64', 'float64']).columns\n",
        "col_object = all_data.select_dtypes(include='object').columns\n",
        "\n",
        "for col in col_int_float:\n",
        "  all_data[col] = all_data[col].fillna(0)\n",
        "  all_data[col] = all_data[col].fillna(0)\n",
        "\n",
        "for col in col_object:\n",
        "  all_data[col] = all_data[col].fillna('Not_Included')\n",
        "  all_data[col] = all_data[col].fillna('Not_Included')"
      ],
      "metadata": {
        "id": "qJr14AFszvjq"
      },
      "execution_count": 252,
      "outputs": []
    },
    {
      "cell_type": "code",
      "source": [
        "from sklearn.preprocessing import LabelEncoder\n",
        "LE = LabelEncoder()\n",
        "for col in col_object:\n",
        "    all_data[col] = LE.fit_transform(all_data[col])"
      ],
      "metadata": {
        "id": "TQH3oMNbzbms"
      },
      "execution_count": 253,
      "outputs": []
    },
    {
      "cell_type": "code",
      "source": [
        "for i in all_data.columns:\n",
        "    if all_data[i].isna().sum() != 0:\n",
        "        print('{} : {}'.format(i, all_data[i].isna().sum()))"
      ],
      "metadata": {
        "id": "FbMQsyDG8LX5"
      },
      "execution_count": 254,
      "outputs": []
    },
    {
      "cell_type": "markdown",
      "source": [
        "-------"
      ],
      "metadata": {
        "id": "_K_M28_vTY_7"
      }
    },
    {
      "cell_type": "markdown",
      "source": [
        "# 다시 데이터를 X_train과 X_test로 분리하고 id열 삭제"
      ],
      "metadata": {
        "id": "ZKmVoN_ZTZMV"
      }
    },
    {
      "cell_type": "code",
      "source": [
        "X_train = all_data[:len(X_train)]\n",
        "X_test = all_data[len(X_train):]"
      ],
      "metadata": {
        "id": "uMW2UjOo1Nal"
      },
      "execution_count": 255,
      "outputs": []
    },
    {
      "cell_type": "code",
      "source": [
        "X_train_id = X_train['id']\n",
        "X_train = X_train.drop(columns='id', axis=1)\n",
        "X_test_id = X_test['id']\n",
        "X_test = X_test.drop(columns='id', axis=1)"
      ],
      "metadata": {
        "id": "lri7PfXT_EMf"
      },
      "execution_count": 256,
      "outputs": []
    },
    {
      "cell_type": "markdown",
      "source": [
        "-------"
      ],
      "metadata": {
        "id": "2d2n9SC_Td2O"
      }
    },
    {
      "cell_type": "markdown",
      "source": [
        "# 모델링\n",
        "# 라벨 인코팅이 진행된 열이 많은 만큼 RandomForestRegressor 사용   \n",
        "# RandomForestRegressor에 RandomizedSearchCV 적용"
      ],
      "metadata": {
        "id": "PLJjyGyoTd8F"
      }
    },
    {
      "cell_type": "code",
      "source": [
        "from sklearn.ensemble import RandomForestRegressor\n",
        "from scipy.stats import randint\n",
        "from sklearn.model_selection import RandomizedSearchCV\n",
        "\n",
        "param_distribs = {'n_estimators': randint(low=100, high=400), 'max_depth': randint(low=3, high=20), 'min_samples_split' : randint(low=2, high=30)}\n",
        "\n",
        "model = RandomForestRegressor(random_state=2022)\n",
        "\n",
        "rnd_search = RandomizedSearchCV(model, param_distributions=param_distribs, n_iter=10, scoring='neg_mean_squared_error', cv=5, random_state=2022)\n",
        "\n",
        "rnd_search.fit(X_train, y_train['SalePrice'])\n",
        "\n",
        "print(rnd_search.best_params_)\n",
        "print('train : ', rnd_search.score(X_train, y_train['SalePrice']))\n",
        "print('test : ', rnd_search.score(X_test, y_test['SalePrice']))\n",
        "\n",
        "prediction = rnd_search.predict(X_test)\n",
        "output = pd.DataFrame({'id' : X_test_id, 'SalePrice' : prediction})\n",
        "output.to_csv('20220606.csv', index=False)"
      ],
      "metadata": {
        "colab": {
          "base_uri": "https://localhost:8080/"
        },
        "id": "DbIJI6qe7k6X",
        "outputId": "15eb1d86-5ddc-4ce8-9cce-9627af38aa13"
      },
      "execution_count": 285,
      "outputs": [
        {
          "output_type": "stream",
          "name": "stdout",
          "text": [
            "{'max_depth': 4, 'min_samples_split': 29, 'n_estimators': 111}\n",
            "train :  -4867787777.590344\n",
            "test :  -2903926027.0870795\n"
          ]
        }
      ]
    },
    {
      "cell_type": "markdown",
      "source": [
        "--------"
      ],
      "metadata": {
        "id": "HleKWI0fTtd6"
      }
    },
    {
      "cell_type": "markdown",
      "source": [
        "# RMSE 확인"
      ],
      "metadata": {
        "id": "mlC30iycTti_"
      }
    },
    {
      "cell_type": "code",
      "source": [
        "from sklearn.metrics import mean_squared_error\n",
        "RMSE = mean_squared_error(y_test['SalePrice'], output['SalePrice'])**0.5\n",
        "print(RMSE)"
      ],
      "metadata": {
        "colab": {
          "base_uri": "https://localhost:8080/"
        },
        "id": "e0umTReY-LEL",
        "outputId": "4174a4de-aa95-42d0-cac9-577b3b181a42"
      },
      "execution_count": 286,
      "outputs": [
        {
          "output_type": "stream",
          "name": "stdout",
          "text": [
            "53888.08798878542\n"
          ]
        }
      ]
    },
    {
      "cell_type": "code",
      "source": [
        ""
      ],
      "metadata": {
        "id": "UCfq4nldAE4n"
      },
      "execution_count": null,
      "outputs": []
    }
  ]
}