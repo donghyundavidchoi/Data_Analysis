{
  "nbformat": 4,
  "nbformat_minor": 0,
  "metadata": {
    "colab": {
      "name": "데이터정제_추가연습문제.ipynb",
      "provenance": [],
      "collapsed_sections": [],
      "authorship_tag": "ABX9TyMrWCzT1SOCaldzLiRoiKC8",
      "include_colab_link": true
    },
    "kernelspec": {
      "name": "python3",
      "display_name": "Python 3"
    },
    "language_info": {
      "name": "python"
    }
  },
  "cells": [
    {
      "cell_type": "markdown",
      "metadata": {
        "id": "view-in-github",
        "colab_type": "text"
      },
      "source": [
        "<a href=\"https://colab.research.google.com/github/donghyundavidchoi/Data_Analysis/blob/main/%EB%8D%B0%EC%9D%B4%ED%84%B0%EC%A0%95%EC%A0%9C/%EB%8D%B0%EC%9D%B4%ED%84%B0%EC%A0%95%EC%A0%9C_%EC%B6%94%EA%B0%80%EC%97%B0%EC%8A%B5%EB%AC%B8%EC%A0%9C.ipynb\" target=\"_parent\"><img src=\"https://colab.research.google.com/assets/colab-badge.svg\" alt=\"Open In Colab\"/></a>"
      ]
    },
    {
      "cell_type": "code",
      "execution_count": 2,
      "metadata": {
        "colab": {
          "base_uri": "https://localhost:8080/"
        },
        "id": "bxH1QpJG-BQH",
        "outputId": "c89c96f4-5f35-4417-ea6c-99ffa081e355"
      },
      "outputs": [
        {
          "output_type": "stream",
          "name": "stdout",
          "text": [
            "Downloading...\n",
            "From: https://drive.google.com/uc?id=1txRVXp-Eh222PzIeTQ-fuAoUYFR9f7q-\n",
            "To: /content/kaggle.json\n",
            "\r  0% 0.00/73.0 [00:00<?, ?B/s]\r100% 73.0/73.0 [00:00<00:00, 90.1kB/s]\n"
          ]
        }
      ],
      "source": [
        "!gdown --fuzzy https://drive.google.com/file/d/1txRVXp-Eh222PzIeTQ-fuAoUYFR9f7q-/view?usp=sharing\n",
        "!mkdir -p ~/.kaggle\n",
        "!cp /content/kaggle.json ~/.kaggle/\n",
        "!chmod 600 ~/.kaggle/kaggle.json"
      ]
    },
    {
      "cell_type": "code",
      "source": [
        "!kaggle datasets download -d agileteam/bigdatacertificationkr"
      ],
      "metadata": {
        "colab": {
          "base_uri": "https://localhost:8080/"
        },
        "id": "-562zwPQ-IQj",
        "outputId": "71d8cd98-f26d-445f-c111-2b7a65d19540"
      },
      "execution_count": 3,
      "outputs": [
        {
          "output_type": "stream",
          "name": "stdout",
          "text": [
            "Downloading bigdatacertificationkr.zip to /content\n",
            "\r  0% 0.00/15.5k [00:00<?, ?B/s]\n",
            "\r100% 15.5k/15.5k [00:00<00:00, 6.82MB/s]\n"
          ]
        }
      ]
    },
    {
      "cell_type": "code",
      "source": [
        "!unzip /content/bigdatacertificationkr.zip"
      ],
      "metadata": {
        "colab": {
          "base_uri": "https://localhost:8080/"
        },
        "id": "Dg-MpIdK-KGj",
        "outputId": "3ba35dfd-5971-41d7-cb1c-c54a30f6266e"
      },
      "execution_count": 4,
      "outputs": [
        {
          "output_type": "stream",
          "name": "stdout",
          "text": [
            "Archive:  /content/bigdatacertificationkr.zip\n",
            "  inflating: basic1.csv              \n",
            "  inflating: basic1_json.json        \n",
            "  inflating: basic1_xml.xml          \n",
            "  inflating: basic2.csv              \n",
            "  inflating: basic3.csv              \n"
          ]
        }
      ]
    },
    {
      "cell_type": "code",
      "source": [
        "import pandas as pd"
      ],
      "metadata": {
        "id": "Dm5IIzAB-L_J"
      },
      "execution_count": 5,
      "outputs": []
    },
    {
      "cell_type": "code",
      "source": [
        "data1 = pd.read_csv('/content/basic1.csv')\n",
        "data2 = pd.read_csv('/content/basic2.csv')"
      ],
      "metadata": {
        "id": "5ywxEmVC-Sqt"
      },
      "execution_count": 6,
      "outputs": []
    },
    {
      "cell_type": "code",
      "source": [
        "data1"
      ],
      "metadata": {
        "colab": {
          "base_uri": "https://localhost:8080/",
          "height": 424
        },
        "id": "HuB3W3PQ-aSu",
        "outputId": "efe6f1fb-8741-4101-c08e-c13a4a98bdf0"
      },
      "execution_count": 7,
      "outputs": [
        {
          "output_type": "execute_result",
          "data": {
            "text/plain": [
              "       id    age city    f1  f2   f3    f4         f5\n",
              "0    id01    2.0   서울   NaN   0  NaN  ENFJ  91.297791\n",
              "1    id02    9.0   서울  70.0   1  NaN  ENFJ  60.339826\n",
              "2    id03   27.0   서울  61.0   1  NaN  ISTJ  17.252986\n",
              "3    id04   75.0   서울   NaN   2  NaN  INFP  52.667078\n",
              "4    id05   24.0   서울  85.0   2  NaN  ISFJ  29.269869\n",
              "..    ...    ...  ...   ...  ..  ...   ...        ...\n",
              "95   id96   92.0   경기  53.0   1  NaN  ENTJ  52.667078\n",
              "96   id97  100.0   경기   NaN   0  NaN  INFP  67.886373\n",
              "97   id98   39.0   경기  58.0   2  NaN  INFP  98.429899\n",
              "98   id99    1.0   경기  47.0   0  NaN  ESFJ  97.381034\n",
              "99  id100   47.0   경기  53.0   0  vip  ESFP  33.308999\n",
              "\n",
              "[100 rows x 8 columns]"
            ],
            "text/html": [
              "\n",
              "  <div id=\"df-cc142320-6c8c-4ac6-a2ca-27f20f99eea6\">\n",
              "    <div class=\"colab-df-container\">\n",
              "      <div>\n",
              "<style scoped>\n",
              "    .dataframe tbody tr th:only-of-type {\n",
              "        vertical-align: middle;\n",
              "    }\n",
              "\n",
              "    .dataframe tbody tr th {\n",
              "        vertical-align: top;\n",
              "    }\n",
              "\n",
              "    .dataframe thead th {\n",
              "        text-align: right;\n",
              "    }\n",
              "</style>\n",
              "<table border=\"1\" class=\"dataframe\">\n",
              "  <thead>\n",
              "    <tr style=\"text-align: right;\">\n",
              "      <th></th>\n",
              "      <th>id</th>\n",
              "      <th>age</th>\n",
              "      <th>city</th>\n",
              "      <th>f1</th>\n",
              "      <th>f2</th>\n",
              "      <th>f3</th>\n",
              "      <th>f4</th>\n",
              "      <th>f5</th>\n",
              "    </tr>\n",
              "  </thead>\n",
              "  <tbody>\n",
              "    <tr>\n",
              "      <th>0</th>\n",
              "      <td>id01</td>\n",
              "      <td>2.0</td>\n",
              "      <td>서울</td>\n",
              "      <td>NaN</td>\n",
              "      <td>0</td>\n",
              "      <td>NaN</td>\n",
              "      <td>ENFJ</td>\n",
              "      <td>91.297791</td>\n",
              "    </tr>\n",
              "    <tr>\n",
              "      <th>1</th>\n",
              "      <td>id02</td>\n",
              "      <td>9.0</td>\n",
              "      <td>서울</td>\n",
              "      <td>70.0</td>\n",
              "      <td>1</td>\n",
              "      <td>NaN</td>\n",
              "      <td>ENFJ</td>\n",
              "      <td>60.339826</td>\n",
              "    </tr>\n",
              "    <tr>\n",
              "      <th>2</th>\n",
              "      <td>id03</td>\n",
              "      <td>27.0</td>\n",
              "      <td>서울</td>\n",
              "      <td>61.0</td>\n",
              "      <td>1</td>\n",
              "      <td>NaN</td>\n",
              "      <td>ISTJ</td>\n",
              "      <td>17.252986</td>\n",
              "    </tr>\n",
              "    <tr>\n",
              "      <th>3</th>\n",
              "      <td>id04</td>\n",
              "      <td>75.0</td>\n",
              "      <td>서울</td>\n",
              "      <td>NaN</td>\n",
              "      <td>2</td>\n",
              "      <td>NaN</td>\n",
              "      <td>INFP</td>\n",
              "      <td>52.667078</td>\n",
              "    </tr>\n",
              "    <tr>\n",
              "      <th>4</th>\n",
              "      <td>id05</td>\n",
              "      <td>24.0</td>\n",
              "      <td>서울</td>\n",
              "      <td>85.0</td>\n",
              "      <td>2</td>\n",
              "      <td>NaN</td>\n",
              "      <td>ISFJ</td>\n",
              "      <td>29.269869</td>\n",
              "    </tr>\n",
              "    <tr>\n",
              "      <th>...</th>\n",
              "      <td>...</td>\n",
              "      <td>...</td>\n",
              "      <td>...</td>\n",
              "      <td>...</td>\n",
              "      <td>...</td>\n",
              "      <td>...</td>\n",
              "      <td>...</td>\n",
              "      <td>...</td>\n",
              "    </tr>\n",
              "    <tr>\n",
              "      <th>95</th>\n",
              "      <td>id96</td>\n",
              "      <td>92.0</td>\n",
              "      <td>경기</td>\n",
              "      <td>53.0</td>\n",
              "      <td>1</td>\n",
              "      <td>NaN</td>\n",
              "      <td>ENTJ</td>\n",
              "      <td>52.667078</td>\n",
              "    </tr>\n",
              "    <tr>\n",
              "      <th>96</th>\n",
              "      <td>id97</td>\n",
              "      <td>100.0</td>\n",
              "      <td>경기</td>\n",
              "      <td>NaN</td>\n",
              "      <td>0</td>\n",
              "      <td>NaN</td>\n",
              "      <td>INFP</td>\n",
              "      <td>67.886373</td>\n",
              "    </tr>\n",
              "    <tr>\n",
              "      <th>97</th>\n",
              "      <td>id98</td>\n",
              "      <td>39.0</td>\n",
              "      <td>경기</td>\n",
              "      <td>58.0</td>\n",
              "      <td>2</td>\n",
              "      <td>NaN</td>\n",
              "      <td>INFP</td>\n",
              "      <td>98.429899</td>\n",
              "    </tr>\n",
              "    <tr>\n",
              "      <th>98</th>\n",
              "      <td>id99</td>\n",
              "      <td>1.0</td>\n",
              "      <td>경기</td>\n",
              "      <td>47.0</td>\n",
              "      <td>0</td>\n",
              "      <td>NaN</td>\n",
              "      <td>ESFJ</td>\n",
              "      <td>97.381034</td>\n",
              "    </tr>\n",
              "    <tr>\n",
              "      <th>99</th>\n",
              "      <td>id100</td>\n",
              "      <td>47.0</td>\n",
              "      <td>경기</td>\n",
              "      <td>53.0</td>\n",
              "      <td>0</td>\n",
              "      <td>vip</td>\n",
              "      <td>ESFP</td>\n",
              "      <td>33.308999</td>\n",
              "    </tr>\n",
              "  </tbody>\n",
              "</table>\n",
              "<p>100 rows × 8 columns</p>\n",
              "</div>\n",
              "      <button class=\"colab-df-convert\" onclick=\"convertToInteractive('df-cc142320-6c8c-4ac6-a2ca-27f20f99eea6')\"\n",
              "              title=\"Convert this dataframe to an interactive table.\"\n",
              "              style=\"display:none;\">\n",
              "        \n",
              "  <svg xmlns=\"http://www.w3.org/2000/svg\" height=\"24px\"viewBox=\"0 0 24 24\"\n",
              "       width=\"24px\">\n",
              "    <path d=\"M0 0h24v24H0V0z\" fill=\"none\"/>\n",
              "    <path d=\"M18.56 5.44l.94 2.06.94-2.06 2.06-.94-2.06-.94-.94-2.06-.94 2.06-2.06.94zm-11 1L8.5 8.5l.94-2.06 2.06-.94-2.06-.94L8.5 2.5l-.94 2.06-2.06.94zm10 10l.94 2.06.94-2.06 2.06-.94-2.06-.94-.94-2.06-.94 2.06-2.06.94z\"/><path d=\"M17.41 7.96l-1.37-1.37c-.4-.4-.92-.59-1.43-.59-.52 0-1.04.2-1.43.59L10.3 9.45l-7.72 7.72c-.78.78-.78 2.05 0 2.83L4 21.41c.39.39.9.59 1.41.59.51 0 1.02-.2 1.41-.59l7.78-7.78 2.81-2.81c.8-.78.8-2.07 0-2.86zM5.41 20L4 18.59l7.72-7.72 1.47 1.35L5.41 20z\"/>\n",
              "  </svg>\n",
              "      </button>\n",
              "      \n",
              "  <style>\n",
              "    .colab-df-container {\n",
              "      display:flex;\n",
              "      flex-wrap:wrap;\n",
              "      gap: 12px;\n",
              "    }\n",
              "\n",
              "    .colab-df-convert {\n",
              "      background-color: #E8F0FE;\n",
              "      border: none;\n",
              "      border-radius: 50%;\n",
              "      cursor: pointer;\n",
              "      display: none;\n",
              "      fill: #1967D2;\n",
              "      height: 32px;\n",
              "      padding: 0 0 0 0;\n",
              "      width: 32px;\n",
              "    }\n",
              "\n",
              "    .colab-df-convert:hover {\n",
              "      background-color: #E2EBFA;\n",
              "      box-shadow: 0px 1px 2px rgba(60, 64, 67, 0.3), 0px 1px 3px 1px rgba(60, 64, 67, 0.15);\n",
              "      fill: #174EA6;\n",
              "    }\n",
              "\n",
              "    [theme=dark] .colab-df-convert {\n",
              "      background-color: #3B4455;\n",
              "      fill: #D2E3FC;\n",
              "    }\n",
              "\n",
              "    [theme=dark] .colab-df-convert:hover {\n",
              "      background-color: #434B5C;\n",
              "      box-shadow: 0px 1px 3px 1px rgba(0, 0, 0, 0.15);\n",
              "      filter: drop-shadow(0px 1px 2px rgba(0, 0, 0, 0.3));\n",
              "      fill: #FFFFFF;\n",
              "    }\n",
              "  </style>\n",
              "\n",
              "      <script>\n",
              "        const buttonEl =\n",
              "          document.querySelector('#df-cc142320-6c8c-4ac6-a2ca-27f20f99eea6 button.colab-df-convert');\n",
              "        buttonEl.style.display =\n",
              "          google.colab.kernel.accessAllowed ? 'block' : 'none';\n",
              "\n",
              "        async function convertToInteractive(key) {\n",
              "          const element = document.querySelector('#df-cc142320-6c8c-4ac6-a2ca-27f20f99eea6');\n",
              "          const dataTable =\n",
              "            await google.colab.kernel.invokeFunction('convertToInteractive',\n",
              "                                                     [key], {});\n",
              "          if (!dataTable) return;\n",
              "\n",
              "          const docLinkHtml = 'Like what you see? Visit the ' +\n",
              "            '<a target=\"_blank\" href=https://colab.research.google.com/notebooks/data_table.ipynb>data table notebook</a>'\n",
              "            + ' to learn more about interactive tables.';\n",
              "          element.innerHTML = '';\n",
              "          dataTable['output_type'] = 'display_data';\n",
              "          await google.colab.output.renderOutput(dataTable, element);\n",
              "          const docLink = document.createElement('div');\n",
              "          docLink.innerHTML = docLinkHtml;\n",
              "          element.appendChild(docLink);\n",
              "        }\n",
              "      </script>\n",
              "    </div>\n",
              "  </div>\n",
              "  "
            ]
          },
          "metadata": {},
          "execution_count": 7
        }
      ]
    },
    {
      "cell_type": "code",
      "source": [
        "data2"
      ],
      "metadata": {
        "colab": {
          "base_uri": "https://localhost:8080/",
          "height": 424
        },
        "id": "p517qjeX-azc",
        "outputId": "94b4ee05-3958-44d3-ec1e-4655c4ce020f"
      },
      "execution_count": 8,
      "outputs": [
        {
          "output_type": "execute_result",
          "data": {
            "text/plain": [
              "           Date     Sales      PV      UV  Events\n",
              "0    2022-01-01  22711525  397349  4421.0       1\n",
              "1    2022-01-02     36779    3969  2289.0       0\n",
              "2    2022-01-03  13943875  373890     NaN       1\n",
              "3    2022-01-04   8088593  142054  2157.0       0\n",
              "4    2022-01-05   2395374  190684     NaN       0\n",
              "..          ...       ...     ...     ...     ...\n",
              "725  2023-12-27  33846609  415067  7360.0       1\n",
              "726  2023-12-28   3659566  208601  2262.0       1\n",
              "727  2023-12-29   1164008   14309   193.0       0\n",
              "728  2023-12-30   3977696   60935     NaN       0\n",
              "729  2023-12-31   3719764   60963  1507.0       0\n",
              "\n",
              "[730 rows x 5 columns]"
            ],
            "text/html": [
              "\n",
              "  <div id=\"df-ee418e0a-d8ca-4bfb-a432-360373f8cabf\">\n",
              "    <div class=\"colab-df-container\">\n",
              "      <div>\n",
              "<style scoped>\n",
              "    .dataframe tbody tr th:only-of-type {\n",
              "        vertical-align: middle;\n",
              "    }\n",
              "\n",
              "    .dataframe tbody tr th {\n",
              "        vertical-align: top;\n",
              "    }\n",
              "\n",
              "    .dataframe thead th {\n",
              "        text-align: right;\n",
              "    }\n",
              "</style>\n",
              "<table border=\"1\" class=\"dataframe\">\n",
              "  <thead>\n",
              "    <tr style=\"text-align: right;\">\n",
              "      <th></th>\n",
              "      <th>Date</th>\n",
              "      <th>Sales</th>\n",
              "      <th>PV</th>\n",
              "      <th>UV</th>\n",
              "      <th>Events</th>\n",
              "    </tr>\n",
              "  </thead>\n",
              "  <tbody>\n",
              "    <tr>\n",
              "      <th>0</th>\n",
              "      <td>2022-01-01</td>\n",
              "      <td>22711525</td>\n",
              "      <td>397349</td>\n",
              "      <td>4421.0</td>\n",
              "      <td>1</td>\n",
              "    </tr>\n",
              "    <tr>\n",
              "      <th>1</th>\n",
              "      <td>2022-01-02</td>\n",
              "      <td>36779</td>\n",
              "      <td>3969</td>\n",
              "      <td>2289.0</td>\n",
              "      <td>0</td>\n",
              "    </tr>\n",
              "    <tr>\n",
              "      <th>2</th>\n",
              "      <td>2022-01-03</td>\n",
              "      <td>13943875</td>\n",
              "      <td>373890</td>\n",
              "      <td>NaN</td>\n",
              "      <td>1</td>\n",
              "    </tr>\n",
              "    <tr>\n",
              "      <th>3</th>\n",
              "      <td>2022-01-04</td>\n",
              "      <td>8088593</td>\n",
              "      <td>142054</td>\n",
              "      <td>2157.0</td>\n",
              "      <td>0</td>\n",
              "    </tr>\n",
              "    <tr>\n",
              "      <th>4</th>\n",
              "      <td>2022-01-05</td>\n",
              "      <td>2395374</td>\n",
              "      <td>190684</td>\n",
              "      <td>NaN</td>\n",
              "      <td>0</td>\n",
              "    </tr>\n",
              "    <tr>\n",
              "      <th>...</th>\n",
              "      <td>...</td>\n",
              "      <td>...</td>\n",
              "      <td>...</td>\n",
              "      <td>...</td>\n",
              "      <td>...</td>\n",
              "    </tr>\n",
              "    <tr>\n",
              "      <th>725</th>\n",
              "      <td>2023-12-27</td>\n",
              "      <td>33846609</td>\n",
              "      <td>415067</td>\n",
              "      <td>7360.0</td>\n",
              "      <td>1</td>\n",
              "    </tr>\n",
              "    <tr>\n",
              "      <th>726</th>\n",
              "      <td>2023-12-28</td>\n",
              "      <td>3659566</td>\n",
              "      <td>208601</td>\n",
              "      <td>2262.0</td>\n",
              "      <td>1</td>\n",
              "    </tr>\n",
              "    <tr>\n",
              "      <th>727</th>\n",
              "      <td>2023-12-29</td>\n",
              "      <td>1164008</td>\n",
              "      <td>14309</td>\n",
              "      <td>193.0</td>\n",
              "      <td>0</td>\n",
              "    </tr>\n",
              "    <tr>\n",
              "      <th>728</th>\n",
              "      <td>2023-12-30</td>\n",
              "      <td>3977696</td>\n",
              "      <td>60935</td>\n",
              "      <td>NaN</td>\n",
              "      <td>0</td>\n",
              "    </tr>\n",
              "    <tr>\n",
              "      <th>729</th>\n",
              "      <td>2023-12-31</td>\n",
              "      <td>3719764</td>\n",
              "      <td>60963</td>\n",
              "      <td>1507.0</td>\n",
              "      <td>0</td>\n",
              "    </tr>\n",
              "  </tbody>\n",
              "</table>\n",
              "<p>730 rows × 5 columns</p>\n",
              "</div>\n",
              "      <button class=\"colab-df-convert\" onclick=\"convertToInteractive('df-ee418e0a-d8ca-4bfb-a432-360373f8cabf')\"\n",
              "              title=\"Convert this dataframe to an interactive table.\"\n",
              "              style=\"display:none;\">\n",
              "        \n",
              "  <svg xmlns=\"http://www.w3.org/2000/svg\" height=\"24px\"viewBox=\"0 0 24 24\"\n",
              "       width=\"24px\">\n",
              "    <path d=\"M0 0h24v24H0V0z\" fill=\"none\"/>\n",
              "    <path d=\"M18.56 5.44l.94 2.06.94-2.06 2.06-.94-2.06-.94-.94-2.06-.94 2.06-2.06.94zm-11 1L8.5 8.5l.94-2.06 2.06-.94-2.06-.94L8.5 2.5l-.94 2.06-2.06.94zm10 10l.94 2.06.94-2.06 2.06-.94-2.06-.94-.94-2.06-.94 2.06-2.06.94z\"/><path d=\"M17.41 7.96l-1.37-1.37c-.4-.4-.92-.59-1.43-.59-.52 0-1.04.2-1.43.59L10.3 9.45l-7.72 7.72c-.78.78-.78 2.05 0 2.83L4 21.41c.39.39.9.59 1.41.59.51 0 1.02-.2 1.41-.59l7.78-7.78 2.81-2.81c.8-.78.8-2.07 0-2.86zM5.41 20L4 18.59l7.72-7.72 1.47 1.35L5.41 20z\"/>\n",
              "  </svg>\n",
              "      </button>\n",
              "      \n",
              "  <style>\n",
              "    .colab-df-container {\n",
              "      display:flex;\n",
              "      flex-wrap:wrap;\n",
              "      gap: 12px;\n",
              "    }\n",
              "\n",
              "    .colab-df-convert {\n",
              "      background-color: #E8F0FE;\n",
              "      border: none;\n",
              "      border-radius: 50%;\n",
              "      cursor: pointer;\n",
              "      display: none;\n",
              "      fill: #1967D2;\n",
              "      height: 32px;\n",
              "      padding: 0 0 0 0;\n",
              "      width: 32px;\n",
              "    }\n",
              "\n",
              "    .colab-df-convert:hover {\n",
              "      background-color: #E2EBFA;\n",
              "      box-shadow: 0px 1px 2px rgba(60, 64, 67, 0.3), 0px 1px 3px 1px rgba(60, 64, 67, 0.15);\n",
              "      fill: #174EA6;\n",
              "    }\n",
              "\n",
              "    [theme=dark] .colab-df-convert {\n",
              "      background-color: #3B4455;\n",
              "      fill: #D2E3FC;\n",
              "    }\n",
              "\n",
              "    [theme=dark] .colab-df-convert:hover {\n",
              "      background-color: #434B5C;\n",
              "      box-shadow: 0px 1px 3px 1px rgba(0, 0, 0, 0.15);\n",
              "      filter: drop-shadow(0px 1px 2px rgba(0, 0, 0, 0.3));\n",
              "      fill: #FFFFFF;\n",
              "    }\n",
              "  </style>\n",
              "\n",
              "      <script>\n",
              "        const buttonEl =\n",
              "          document.querySelector('#df-ee418e0a-d8ca-4bfb-a432-360373f8cabf button.colab-df-convert');\n",
              "        buttonEl.style.display =\n",
              "          google.colab.kernel.accessAllowed ? 'block' : 'none';\n",
              "\n",
              "        async function convertToInteractive(key) {\n",
              "          const element = document.querySelector('#df-ee418e0a-d8ca-4bfb-a432-360373f8cabf');\n",
              "          const dataTable =\n",
              "            await google.colab.kernel.invokeFunction('convertToInteractive',\n",
              "                                                     [key], {});\n",
              "          if (!dataTable) return;\n",
              "\n",
              "          const docLinkHtml = 'Like what you see? Visit the ' +\n",
              "            '<a target=\"_blank\" href=https://colab.research.google.com/notebooks/data_table.ipynb>data table notebook</a>'\n",
              "            + ' to learn more about interactive tables.';\n",
              "          element.innerHTML = '';\n",
              "          dataTable['output_type'] = 'display_data';\n",
              "          await google.colab.output.renderOutput(dataTable, element);\n",
              "          const docLink = document.createElement('div');\n",
              "          docLink.innerHTML = docLinkHtml;\n",
              "          element.appendChild(docLink);\n",
              "        }\n",
              "      </script>\n",
              "    </div>\n",
              "  </div>\n",
              "  "
            ]
          },
          "metadata": {},
          "execution_count": 8
        }
      ]
    },
    {
      "cell_type": "markdown",
      "source": [
        "-----------\n",
        "# basic1에서 데이터타입이 object인 컬럼을 추출하시오."
      ],
      "metadata": {
        "id": "G4oArcWR-l4_"
      }
    },
    {
      "cell_type": "code",
      "source": [
        "df1 = data1.copy()\n",
        "print(df1.head())\n",
        "print()\n",
        "df1_object_cols = df1.select_dtypes('object').columns\n",
        "print(df1_object_cols)"
      ],
      "metadata": {
        "colab": {
          "base_uri": "https://localhost:8080/"
        },
        "id": "AaVvoFsr-qHi",
        "outputId": "ce19e926-e740-4b10-8465-fa5d9a7cd02b"
      },
      "execution_count": 10,
      "outputs": [
        {
          "output_type": "stream",
          "name": "stdout",
          "text": [
            "     id   age city    f1  f2   f3    f4         f5\n",
            "0  id01   2.0   서울   NaN   0  NaN  ENFJ  91.297791\n",
            "1  id02   9.0   서울  70.0   1  NaN  ENFJ  60.339826\n",
            "2  id03  27.0   서울  61.0   1  NaN  ISTJ  17.252986\n",
            "3  id04  75.0   서울   NaN   2  NaN  INFP  52.667078\n",
            "4  id05  24.0   서울  85.0   2  NaN  ISFJ  29.269869\n",
            "\n",
            "Index(['id', 'city', 'f3', 'f4'], dtype='object')\n"
          ]
        }
      ]
    },
    {
      "cell_type": "markdown",
      "source": [
        "-----------\n",
        "# baisc2에서 22년 월 Sales합이 제일 높은 달의 Sales와 23년 월 Sales합이 제일 낮은 달의 Sales의 합을 구하시오.\n"
      ],
      "metadata": {
        "id": "WOeBaKjA-xPi"
      }
    },
    {
      "cell_type": "code",
      "source": [
        "df2 = data2.copy()\n",
        "print(df2.head())\n",
        "print()\n",
        "print(df2.info())\n",
        "print()\n",
        "df2['Date'] = pd.to_datetime(df2['Date'])\n",
        "print(df2.info())\n",
        "print()\n",
        "df2['Year'] = df2['Date'].dt.year\n",
        "df2['Month'] = df2['Date'].dt.month\n",
        "print(df2.head())\n",
        "print()\n",
        "df2_groupby = df2.groupby(['Year', 'Month']).sum()\n",
        "print(df2_groupby)\n",
        "print()\n",
        "max_sales_2022 = df2_groupby['Sales'].loc[2022].max()\n",
        "min_sales_2023 = df2_groupby['Sales'].loc[2023].min()\n",
        "print(\"max Sales in 2022 :\", max_sales_2022)\n",
        "print(\"min Sales in 2023 :\", min_sales_2023)\n",
        "print(\"Answer :\", max_sales_2022 + min_sales_2023)"
      ],
      "metadata": {
        "colab": {
          "base_uri": "https://localhost:8080/"
        },
        "id": "SHEAR0kS-x3M",
        "outputId": "99961923-b7d6-4454-c289-0d8a9bf6aa59"
      },
      "execution_count": 33,
      "outputs": [
        {
          "output_type": "stream",
          "name": "stdout",
          "text": [
            "         Date     Sales      PV      UV  Events\n",
            "0  2022-01-01  22711525  397349  4421.0       1\n",
            "1  2022-01-02     36779    3969  2289.0       0\n",
            "2  2022-01-03  13943875  373890     NaN       1\n",
            "3  2022-01-04   8088593  142054  2157.0       0\n",
            "4  2022-01-05   2395374  190684     NaN       0\n",
            "\n",
            "<class 'pandas.core.frame.DataFrame'>\n",
            "RangeIndex: 730 entries, 0 to 729\n",
            "Data columns (total 5 columns):\n",
            " #   Column  Non-Null Count  Dtype  \n",
            "---  ------  --------------  -----  \n",
            " 0   Date    730 non-null    object \n",
            " 1   Sales   730 non-null    int64  \n",
            " 2   PV      730 non-null    int64  \n",
            " 3   UV      684 non-null    float64\n",
            " 4   Events  730 non-null    int64  \n",
            "dtypes: float64(1), int64(3), object(1)\n",
            "memory usage: 28.6+ KB\n",
            "None\n",
            "\n",
            "<class 'pandas.core.frame.DataFrame'>\n",
            "RangeIndex: 730 entries, 0 to 729\n",
            "Data columns (total 5 columns):\n",
            " #   Column  Non-Null Count  Dtype         \n",
            "---  ------  --------------  -----         \n",
            " 0   Date    730 non-null    datetime64[ns]\n",
            " 1   Sales   730 non-null    int64         \n",
            " 2   PV      730 non-null    int64         \n",
            " 3   UV      684 non-null    float64       \n",
            " 4   Events  730 non-null    int64         \n",
            "dtypes: datetime64[ns](1), float64(1), int64(3)\n",
            "memory usage: 28.6 KB\n",
            "None\n",
            "\n",
            "        Date     Sales      PV      UV  Events  Year  Month\n",
            "0 2022-01-01  22711525  397349  4421.0       1  2022      1\n",
            "1 2022-01-02     36779    3969  2289.0       0  2022      1\n",
            "2 2022-01-03  13943875  373890     NaN       1  2022      1\n",
            "3 2022-01-04   8088593  142054  2157.0       0  2022      1\n",
            "4 2022-01-05   2395374  190684     NaN       0  2022      1\n",
            "\n",
            "                Sales       PV        UV  Events\n",
            "Year Month                                      \n",
            "2022 1      129342654  3079961   50366.0       5\n",
            "     2      180741394  3298119   68908.0       9\n",
            "     3      200161616  4726549   86131.0       9\n",
            "     4      126811278  3212413   57795.0       6\n",
            "     5      141285007  3523070   58316.0       7\n",
            "     6      183586082  3582375   70900.0       8\n",
            "     7      221417897  4152793   74925.0      10\n",
            "     8      123502487  2845228   64624.0       8\n",
            "     9      186583144  4172376   79254.0      10\n",
            "     10     213484807  4028003   73127.0      10\n",
            "     11      93177201  2174862   48903.0       2\n",
            "     12     222485234  4560909   70528.0      10\n",
            "2023 1      209399623  3218529   70881.0       8\n",
            "     2      183012964  3509886   64825.0       6\n",
            "     3      231040983  5452760  104144.0      13\n",
            "     4      127840344  3110817   68068.0      10\n",
            "     5      162722159  3801324   75261.0       8\n",
            "     6      149763613  4021823   60261.0       5\n",
            "     7      147604761  3800007   68875.0       7\n",
            "     8      146936241  3903836   82146.0       8\n",
            "     9      257490149  3868057   61729.0      10\n",
            "     10     168747678  3678288   60162.0       5\n",
            "     11     283181917  4838421   86791.0      11\n",
            "     12     160205422  3180960   68501.0       7\n",
            "\n",
            "max Sales in 2022 : 222485234\n",
            "min Sales in 2023 : 127840344\n",
            "Answer : 350325578\n"
          ]
        }
      ]
    },
    {
      "cell_type": "markdown",
      "source": [
        "----------\n",
        "# basic2에서 2022년 주말 매출 표준편차와 2023년 주말 매출 표준편차의 차이를 구하시오. (소수점 둘째자리까지)"
      ],
      "metadata": {
        "id": "hezEb3NJ_T8F"
      }
    },
    {
      "cell_type": "code",
      "source": [
        "df3 = data2.copy()\n",
        "print(df3.head())\n",
        "print()\n",
        "print(df3.info())\n",
        "print()\n",
        "df3['Date'] = pd.to_datetime(df3['Date'])\n",
        "print(df3.info())\n",
        "df3['Year'] = df3['Date'].dt.year\n",
        "df3['DayOfWeek'] = df3['Date'].dt.dayofweek\n",
        "print(df3.head())\n",
        "print()\n",
        "weekend_sales_std_2022 = df3['Sales'][(df3['Year'] == 2022) & (df3['DayOfWeek'] >= 5)].std()\n",
        "weekend_sales_std_2023 = df3['Sales'][(df3['Year'] == 2023) & (df3['DayOfWeek'] >= 5)].std()\n",
        "print(\"std of 2022 weekend sales :\", weekend_sales_std_2022)\n",
        "print(\"std of 2023 weekend sales :\", weekend_sales_std_2023)\n",
        "print(\"Difference :\", round(abs(weekend_sales_std_2022 - weekend_sales_std_2023), 2))"
      ],
      "metadata": {
        "colab": {
          "base_uri": "https://localhost:8080/"
        },
        "id": "9ybZ3wEs_kDh",
        "outputId": "cb009907-30d1-4866-a406-387606887aed"
      },
      "execution_count": 48,
      "outputs": [
        {
          "output_type": "stream",
          "name": "stdout",
          "text": [
            "         Date     Sales      PV      UV  Events\n",
            "0  2022-01-01  22711525  397349  4421.0       1\n",
            "1  2022-01-02     36779    3969  2289.0       0\n",
            "2  2022-01-03  13943875  373890     NaN       1\n",
            "3  2022-01-04   8088593  142054  2157.0       0\n",
            "4  2022-01-05   2395374  190684     NaN       0\n",
            "\n",
            "<class 'pandas.core.frame.DataFrame'>\n",
            "RangeIndex: 730 entries, 0 to 729\n",
            "Data columns (total 5 columns):\n",
            " #   Column  Non-Null Count  Dtype  \n",
            "---  ------  --------------  -----  \n",
            " 0   Date    730 non-null    object \n",
            " 1   Sales   730 non-null    int64  \n",
            " 2   PV      730 non-null    int64  \n",
            " 3   UV      684 non-null    float64\n",
            " 4   Events  730 non-null    int64  \n",
            "dtypes: float64(1), int64(3), object(1)\n",
            "memory usage: 28.6+ KB\n",
            "None\n",
            "\n",
            "<class 'pandas.core.frame.DataFrame'>\n",
            "RangeIndex: 730 entries, 0 to 729\n",
            "Data columns (total 5 columns):\n",
            " #   Column  Non-Null Count  Dtype         \n",
            "---  ------  --------------  -----         \n",
            " 0   Date    730 non-null    datetime64[ns]\n",
            " 1   Sales   730 non-null    int64         \n",
            " 2   PV      730 non-null    int64         \n",
            " 3   UV      684 non-null    float64       \n",
            " 4   Events  730 non-null    int64         \n",
            "dtypes: datetime64[ns](1), float64(1), int64(3)\n",
            "memory usage: 28.6 KB\n",
            "None\n",
            "        Date     Sales      PV      UV  Events  Year  DayOfWeek\n",
            "0 2022-01-01  22711525  397349  4421.0       1  2022          5\n",
            "1 2022-01-02     36779    3969  2289.0       0  2022          6\n",
            "2 2022-01-03  13943875  373890     NaN       1  2022          0\n",
            "3 2022-01-04   8088593  142054  2157.0       0  2022          1\n",
            "4 2022-01-05   2395374  190684     NaN       0  2022          2\n",
            "\n",
            "std of 2022 weekend sales : 9665017.828372424\n",
            "std of 2023 weekend sales : 7708071.419670158\n",
            "Difference : 1956946.41\n"
          ]
        }
      ]
    },
    {
      "cell_type": "markdown",
      "source": [
        "----------\n",
        "# basic2를 Sales 기준 내림차순으로 정렬하고, 위에서 85%에 해당하는 데이터를 슬라이싱하고, Sales의 중앙값을 구하시오."
      ],
      "metadata": {
        "id": "bCO_UyQw_klZ"
      }
    },
    {
      "cell_type": "code",
      "source": [
        "df4 = data2.copy()\n",
        "print(df4.head())\n",
        "print()\n",
        "df4 = df4.sort_values(by='Sales', ascending=False)\n",
        "print(df4.head())\n",
        "print()\n",
        "print(df4.shape)\n",
        "print()\n",
        "df4 = df4[:(round(len(df4)*0.85))]\n",
        "print(df4.shape)\n",
        "print()\n",
        "print(\"Answer :\", df4['Sales'].median())"
      ],
      "metadata": {
        "colab": {
          "base_uri": "https://localhost:8080/"
        },
        "id": "nrSwajg-AB7z",
        "outputId": "360cd9e4-c2d1-447b-8e02-bee0301da786"
      },
      "execution_count": 52,
      "outputs": [
        {
          "output_type": "stream",
          "name": "stdout",
          "text": [
            "         Date     Sales      PV      UV  Events\n",
            "0  2022-01-01  22711525  397349  4421.0       1\n",
            "1  2022-01-02     36779    3969  2289.0       0\n",
            "2  2022-01-03  13943875  373890     NaN       1\n",
            "3  2022-01-04   8088593  142054  2157.0       0\n",
            "4  2022-01-05   2395374  190684     NaN       0\n",
            "\n",
            "           Date     Sales      PV      UV  Events\n",
            "78   2022-03-20  53636725  654270  8786.0       1\n",
            "340  2022-12-07  50051677  535678  5371.0       1\n",
            "274  2022-10-02  45757271  544522  7782.0       1\n",
            "690  2023-11-22  44961192  706913  7148.0       1\n",
            "408  2023-02-13  44369343  467506     NaN       1\n",
            "\n",
            "(730, 5)\n",
            "\n",
            "(620, 5)\n",
            "\n",
            "Answer : 3523623.5\n"
          ]
        }
      ]
    },
    {
      "cell_type": "markdown",
      "source": [
        "-----------\n",
        "# basic1의 f1 결측치를 f4 변수 별 f1값의 평균값으로 채우고 처리 전 후의 f1 평균 값의 차이를 구하시오. (소수점 둘째 자리까지)"
      ],
      "metadata": {
        "id": "5GsYYOVhACWC"
      }
    },
    {
      "cell_type": "code",
      "source": [
        "df5 = data1.copy()\n",
        "print(df5.isna().sum())\n",
        "print()\n",
        "mean_f1_before = df5['f1'].mean()\n",
        "df5['f1'] = df5.groupby('f4')['f1'].apply(lambda x : x.fillna(x.mean()))\n",
        "print(df5.isna().sum())\n",
        "print()\n",
        "mean_f1_after = df5['f1'].mean()\n",
        "print(\"f1 mean before :\", mean_f1_before)\n",
        "print(\"f1 mean after :\", mean_f1_after)\n",
        "print(\"Difference :\", round(abs(mean_f1_before - mean_f1_after),2))"
      ],
      "metadata": {
        "colab": {
          "base_uri": "https://localhost:8080/"
        },
        "id": "zvLpM8UkAUMq",
        "outputId": "dbb2363b-a417-495b-d645-e012d4cd552a"
      },
      "execution_count": 54,
      "outputs": [
        {
          "output_type": "stream",
          "name": "stdout",
          "text": [
            "id       0\n",
            "age      0\n",
            "city     0\n",
            "f1      31\n",
            "f2       0\n",
            "f3      95\n",
            "f4       0\n",
            "f5       0\n",
            "dtype: int64\n",
            "\n",
            "id       0\n",
            "age      0\n",
            "city     0\n",
            "f1       0\n",
            "f2       0\n",
            "f3      95\n",
            "f4       0\n",
            "f5       0\n",
            "dtype: int64\n",
            "\n",
            "f1 mean before : 66.04347826086956\n",
            "f1 mean after : 66.49088888888889\n",
            "Difference : 0.45\n"
          ]
        }
      ]
    },
    {
      "cell_type": "markdown",
      "source": [
        "-----------\n",
        "# basic2의 Sales를 동일한 구간의 상중하로 나누고\n",
        "# basic2의 Sales를 동일한 데이터 수의 상중하로 나누고\n",
        "# 각 데이터의 중 라벨의 평균값의 차이를 계산하시오. (소수점 둘째 자리 까지)"
      ],
      "metadata": {
        "id": "cC4kIGOBAUxt"
      }
    },
    {
      "cell_type": "code",
      "source": [
        "df6 = data2.copy()\n",
        "df6['cut'] = pd.cut(df6['Sales'], 3, labels=['low', 'middle', 'high'])\n",
        "df6['qcut'] = pd.qcut(df6['Sales'], 3, labels=['low', 'middle', 'high'])\n",
        "print(df6['cut'].value_counts())\n",
        "print()\n",
        "print(df6['qcut'].value_counts())\n",
        "print()\n",
        "cut_middle_mean = df6['Sales'][df6['cut'] == 'middle'].mean()\n",
        "qcut_middle_mean = df6['Sales'][df6['qcut'] == 'middle'].mean()\n",
        "print(\"cut_middle_mean :\", cut_middle_mean)\n",
        "print(\"qcut_middle_mean :\", qcut_middle_mean)\n",
        "print(\"Difference : \", round(abs(cut_middle_mean - qcut_middle_mean), 2))"
      ],
      "metadata": {
        "colab": {
          "base_uri": "https://localhost:8080/"
        },
        "id": "2S54RmTmA1FU",
        "outputId": "992365d7-4b9e-4a19-c0ec-b4c6d9e3c2ae"
      },
      "execution_count": 63,
      "outputs": [
        {
          "output_type": "stream",
          "name": "stdout",
          "text": [
            "low       674\n",
            "middle     45\n",
            "high       11\n",
            "Name: cut, dtype: int64\n",
            "\n",
            "low       244\n",
            "middle    243\n",
            "high      243\n",
            "Name: qcut, dtype: int64\n",
            "\n",
            "cut_middle_mean : 23869489.955555554\n",
            "qcut_middle_mean : 2762072.716049383\n",
            "Difference :  21107417.24\n"
          ]
        }
      ]
    },
    {
      "cell_type": "markdown",
      "source": [
        "---------\n",
        "# basic2의 Sales를 기준으로 IQR 방식으로 이상치 구간을 구하고 이상치 구간에 포함되는 데이터의 수를 구하시오."
      ],
      "metadata": {
        "id": "XtFzB8G5BBHi"
      }
    },
    {
      "cell_type": "code",
      "source": [
        "df7 = data2.copy()\n",
        "Q3 = df7['Sales'].quantile(0.75)\n",
        "Q1 = df7['Sales'].quantile(0.25)\n",
        "IQR = Q3 - Q1\n",
        "print(len(df7['Sales'][(df7['Sales'] > (Q3 + 1.5*IQR)) | (df7['Sales'] < (Q1 - 1.5*IQR))]))"
      ],
      "metadata": {
        "colab": {
          "base_uri": "https://localhost:8080/"
        },
        "id": "zZfkXLE1BLR5",
        "outputId": "3c72e3bd-2e2b-4cdd-902f-1489e7258299"
      },
      "execution_count": 65,
      "outputs": [
        {
          "output_type": "stream",
          "name": "stdout",
          "text": [
            "54\n"
          ]
        }
      ]
    },
    {
      "cell_type": "markdown",
      "source": [
        "--------\n",
        "# basic1 age의 소수점 아래 값을 가진 데이터를 삭제하고 데이터형식을 int로 변경하시오."
      ],
      "metadata": {
        "id": "ug7zV-v7BM6J"
      }
    },
    {
      "cell_type": "code",
      "source": [
        "df8 = data1.copy()\n",
        "print(df8.shape)\n",
        "print()\n",
        "print(df8.head())\n",
        "print()\n",
        "print(df8.info())\n",
        "print()\n",
        "float_age_index = df8[(df8['age'] % 1) != 0].index\n",
        "df8 = df8.drop(index=float_age_index)\n",
        "print(df8.shape)\n",
        "print()\n",
        "print(df8.head())\n",
        "print()\n",
        "print(df8.info())\n",
        "print()\n",
        "df8['age'] = df8['age'].astype('int64')\n",
        "print(df8.info())"
      ],
      "metadata": {
        "colab": {
          "base_uri": "https://localhost:8080/"
        },
        "id": "cR5pOXOlBbvq",
        "outputId": "6f3bae5f-858e-4164-c0de-1a50f36d5437"
      },
      "execution_count": 78,
      "outputs": [
        {
          "output_type": "stream",
          "name": "stdout",
          "text": [
            "(100, 8)\n",
            "\n",
            "     id   age city    f1  f2   f3    f4         f5\n",
            "0  id01   2.0   서울   NaN   0  NaN  ENFJ  91.297791\n",
            "1  id02   9.0   서울  70.0   1  NaN  ENFJ  60.339826\n",
            "2  id03  27.0   서울  61.0   1  NaN  ISTJ  17.252986\n",
            "3  id04  75.0   서울   NaN   2  NaN  INFP  52.667078\n",
            "4  id05  24.0   서울  85.0   2  NaN  ISFJ  29.269869\n",
            "\n",
            "<class 'pandas.core.frame.DataFrame'>\n",
            "RangeIndex: 100 entries, 0 to 99\n",
            "Data columns (total 8 columns):\n",
            " #   Column  Non-Null Count  Dtype  \n",
            "---  ------  --------------  -----  \n",
            " 0   id      100 non-null    object \n",
            " 1   age     100 non-null    float64\n",
            " 2   city    100 non-null    object \n",
            " 3   f1      69 non-null     float64\n",
            " 4   f2      100 non-null    int64  \n",
            " 5   f3      5 non-null      object \n",
            " 6   f4      100 non-null    object \n",
            " 7   f5      100 non-null    float64\n",
            "dtypes: float64(3), int64(1), object(4)\n",
            "memory usage: 6.4+ KB\n",
            "None\n",
            "\n",
            "(92, 8)\n",
            "\n",
            "     id   age city    f1  f2   f3    f4         f5\n",
            "0  id01   2.0   서울   NaN   0  NaN  ENFJ  91.297791\n",
            "1  id02   9.0   서울  70.0   1  NaN  ENFJ  60.339826\n",
            "2  id03  27.0   서울  61.0   1  NaN  ISTJ  17.252986\n",
            "3  id04  75.0   서울   NaN   2  NaN  INFP  52.667078\n",
            "4  id05  24.0   서울  85.0   2  NaN  ISFJ  29.269869\n",
            "\n",
            "<class 'pandas.core.frame.DataFrame'>\n",
            "Int64Index: 92 entries, 0 to 99\n",
            "Data columns (total 8 columns):\n",
            " #   Column  Non-Null Count  Dtype  \n",
            "---  ------  --------------  -----  \n",
            " 0   id      92 non-null     object \n",
            " 1   age     92 non-null     float64\n",
            " 2   city    92 non-null     object \n",
            " 3   f1      62 non-null     float64\n",
            " 4   f2      92 non-null     int64  \n",
            " 5   f3      5 non-null      object \n",
            " 6   f4      92 non-null     object \n",
            " 7   f5      92 non-null     float64\n",
            "dtypes: float64(3), int64(1), object(4)\n",
            "memory usage: 6.5+ KB\n",
            "None\n",
            "\n",
            "<class 'pandas.core.frame.DataFrame'>\n",
            "Int64Index: 92 entries, 0 to 99\n",
            "Data columns (total 8 columns):\n",
            " #   Column  Non-Null Count  Dtype  \n",
            "---  ------  --------------  -----  \n",
            " 0   id      92 non-null     object \n",
            " 1   age     92 non-null     int64  \n",
            " 2   city    92 non-null     object \n",
            " 3   f1      62 non-null     float64\n",
            " 4   f2      92 non-null     int64  \n",
            " 5   f3      5 non-null      object \n",
            " 6   f4      92 non-null     object \n",
            " 7   f5      92 non-null     float64\n",
            "dtypes: float64(2), int64(2), object(4)\n",
            "memory usage: 6.5+ KB\n",
            "None\n"
          ]
        }
      ]
    },
    {
      "cell_type": "markdown",
      "source": [
        "--------\n",
        "# baisc1 f4의 ESTJ를 ESTP로 바꾸고, 바꾸기 전의 ESTP age 중앙값과, 바꾼 후의 ESTP age 중앙값의 차이를 구하시오. (소수점 둘쨰 자리 까지)"
      ],
      "metadata": {
        "id": "JdNDxw3qBcbH"
      }
    },
    {
      "cell_type": "code",
      "source": [
        "df9 = data1.copy()\n",
        "print(df9['f4'].value_counts())\n",
        "print()\n",
        "ESTP_age_median_before = df9['age'][df9['f4'] == 'ESTP'].median()\n",
        "df9['f4'] = df9['f4'].replace('ESTJ', 'ESTP')\n",
        "print(df9['f4'].value_counts())\n",
        "print()\n",
        "ESTP_age_median_after = df9['age'][df9['f4'] == 'ESTP'].median()\n",
        "print(\"ESTP_age_median_before :\", ESTP_age_median_before)\n",
        "print(\"ESTP_age_median_after :\", ESTP_age_median_after)\n",
        "print(\"Diffrence :\", round(abs(ESTP_age_median_before - ESTP_age_median_after), 2))"
      ],
      "metadata": {
        "colab": {
          "base_uri": "https://localhost:8080/"
        },
        "id": "uD519oZZCGOe",
        "outputId": "c0203fb7-c362-4e3e-d444-368d8ff4a9ec"
      },
      "execution_count": 84,
      "outputs": [
        {
          "output_type": "stream",
          "name": "stdout",
          "text": [
            "ESTP    11\n",
            "ISFJ    10\n",
            "ISFP    10\n",
            "ESTJ     9\n",
            "INTP     8\n",
            "ENFJ     6\n",
            "INFP     6\n",
            "ENFP     6\n",
            "ENTP     6\n",
            "ESFJ     5\n",
            "ENTJ     5\n",
            "INFJ     4\n",
            "ESFP     4\n",
            "ISTP     4\n",
            "INTJ     4\n",
            "ISTJ     2\n",
            "Name: f4, dtype: int64\n",
            "\n",
            "ESTP    20\n",
            "ISFJ    10\n",
            "ISFP    10\n",
            "INTP     8\n",
            "ENFJ     6\n",
            "INFP     6\n",
            "ENFP     6\n",
            "ENTP     6\n",
            "ESFJ     5\n",
            "ENTJ     5\n",
            "INFJ     4\n",
            "ESFP     4\n",
            "ISTP     4\n",
            "INTJ     4\n",
            "ISTJ     2\n",
            "Name: f4, dtype: int64\n",
            "\n",
            "ESTP_age_median_before : 45.0\n",
            "ESTP_age_median_after : 48.5\n",
            "Diffrence : 3.5\n"
          ]
        }
      ]
    },
    {
      "cell_type": "markdown",
      "source": [
        "------\n",
        "# baisc1에서 f1 결측치가 있는 데이터를 삭제하고, 가장 수가 많은 f4 값을 구하시오."
      ],
      "metadata": {
        "id": "SSqBZ5EeCTCf"
      }
    },
    {
      "cell_type": "code",
      "source": [
        "df10 = data1.copy()\n",
        "print(df10.shape)\n",
        "print()\n",
        "print(df10.isna().sum())\n",
        "print()\n",
        "df10 = df10.dropna(subset=['f1'], axis=0)\n",
        "print(df10.shape)\n",
        "print()\n",
        "print(df10.isna().sum())\n",
        "print()\n",
        "print(\"Answer :\", df10['f4'][df10['f4'].value_counts().max()])"
      ],
      "metadata": {
        "colab": {
          "base_uri": "https://localhost:8080/"
        },
        "id": "9PscnLa-CoF0",
        "outputId": "1d073eb6-8570-4684-ff58-8f119466556b"
      },
      "execution_count": 96,
      "outputs": [
        {
          "output_type": "stream",
          "name": "stdout",
          "text": [
            "(100, 8)\n",
            "\n",
            "id       0\n",
            "age      0\n",
            "city     0\n",
            "f1      31\n",
            "f2       0\n",
            "f3      95\n",
            "f4       0\n",
            "f5       0\n",
            "dtype: int64\n",
            "\n",
            "(69, 8)\n",
            "\n",
            "id       0\n",
            "age      0\n",
            "city     0\n",
            "f1       0\n",
            "f2       0\n",
            "f3      65\n",
            "f4       0\n",
            "f5       0\n",
            "dtype: int64\n",
            "\n",
            "Answer : ISFP\n"
          ]
        }
      ]
    },
    {
      "cell_type": "code",
      "source": [
        ""
      ],
      "metadata": {
        "id": "49g30L75ssdt"
      },
      "execution_count": null,
      "outputs": []
    }
  ]
}