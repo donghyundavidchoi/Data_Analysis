{
  "nbformat": 4,
  "nbformat_minor": 0,
  "metadata": {
    "colab": {
      "name": "누적합_cumsum_fillna_bfill.ipynb",
      "provenance": [],
      "collapsed_sections": [],
      "authorship_tag": "ABX9TyNJoZ6ky+WIA/estNsAgSXk",
      "include_colab_link": true
    },
    "kernelspec": {
      "name": "python3",
      "display_name": "Python 3"
    },
    "language_info": {
      "name": "python"
    }
  },
  "cells": [
    {
      "cell_type": "markdown",
      "metadata": {
        "id": "view-in-github",
        "colab_type": "text"
      },
      "source": [
        "<a href=\"https://colab.research.google.com/github/donghyundavidchoi/Data_Analysis/blob/main/%EB%8D%B0%EC%9D%B4%ED%84%B0%EC%A0%95%EC%A0%9C/%EB%88%84%EC%A0%81%ED%95%A9_cumsum_fillna_bfill.ipynb\" target=\"_parent\"><img src=\"https://colab.research.google.com/assets/colab-badge.svg\" alt=\"Open In Colab\"/></a>"
      ]
    },
    {
      "cell_type": "markdown",
      "source": [
        "# 'f2' 컬럼이 1인 조건에 해당하는 데이터의 'f1'컬럼 누적합을 계산한다. 이때 발생하는 누적합 결측치는 바로 뒤의 값을 채우고, 누적합의 평균값을 출력하시오. (단, 결측치 바로 뒤의 값이 없으면 다음에 나오는 값을 채워넣는다)"
      ],
      "metadata": {
        "id": "NvR-GclDL4Pa"
      }
    },
    {
      "cell_type": "code",
      "execution_count": 1,
      "metadata": {
        "colab": {
          "base_uri": "https://localhost:8080/"
        },
        "id": "t1ruwx2FL3SJ",
        "outputId": "92c9d9b2-68fd-47c9-c609-2ee7a4476eed"
      },
      "outputs": [
        {
          "output_type": "stream",
          "name": "stdout",
          "text": [
            "Downloading...\n",
            "From: https://drive.google.com/uc?id=1txRVXp-Eh222PzIeTQ-fuAoUYFR9f7q-\n",
            "To: /content/kaggle.json\n",
            "\r  0% 0.00/73.0 [00:00<?, ?B/s]\r100% 73.0/73.0 [00:00<00:00, 70.0kB/s]\n"
          ]
        }
      ],
      "source": [
        "!gdown --fuzzy https://drive.google.com/file/d/1txRVXp-Eh222PzIeTQ-fuAoUYFR9f7q-/view?usp=sharing\n",
        "!mkdir -p ~/.kaggle\n",
        "!cp /content/kaggle.json ~/.kaggle/\n",
        "!chmod 600 ~/.kaggle/kaggle.json"
      ]
    },
    {
      "cell_type": "code",
      "source": [
        "!kaggle datasets download -d agileteam/bigdatacertificationkr"
      ],
      "metadata": {
        "colab": {
          "base_uri": "https://localhost:8080/"
        },
        "id": "sVCSCq1kL5Nl",
        "outputId": "fea03276-7e5e-4ce8-b8ef-3ea93f7b8cfd"
      },
      "execution_count": 2,
      "outputs": [
        {
          "output_type": "stream",
          "name": "stdout",
          "text": [
            "Downloading bigdatacertificationkr.zip to /content\n",
            "\r  0% 0.00/15.5k [00:00<?, ?B/s]\n",
            "\r100% 15.5k/15.5k [00:00<00:00, 10.1MB/s]\n"
          ]
        }
      ]
    },
    {
      "cell_type": "code",
      "source": [
        "!unzip /content/bigdatacertificationkr.zip"
      ],
      "metadata": {
        "colab": {
          "base_uri": "https://localhost:8080/"
        },
        "id": "yYMa748ML6uF",
        "outputId": "9823b481-826e-47d2-be32-c4f9ea31525e"
      },
      "execution_count": 3,
      "outputs": [
        {
          "output_type": "stream",
          "name": "stdout",
          "text": [
            "Archive:  /content/bigdatacertificationkr.zip\n",
            "  inflating: basic1.csv              \n",
            "  inflating: basic1_json.json        \n",
            "  inflating: basic1_xml.xml          \n",
            "  inflating: basic2.csv              \n",
            "  inflating: basic3.csv              \n"
          ]
        }
      ]
    },
    {
      "cell_type": "code",
      "source": [
        "import pandas as pd\n",
        "import numpy as np"
      ],
      "metadata": {
        "id": "ksJDv8sZL8ou"
      },
      "execution_count": 5,
      "outputs": []
    },
    {
      "cell_type": "code",
      "source": [
        "data = pd.read_csv('/content/basic1.csv')"
      ],
      "metadata": {
        "id": "YPvGG8C7L-_8"
      },
      "execution_count": 67,
      "outputs": []
    },
    {
      "cell_type": "code",
      "source": [
        "data"
      ],
      "metadata": {
        "colab": {
          "base_uri": "https://localhost:8080/",
          "height": 424
        },
        "id": "t2I7uWzBMBwq",
        "outputId": "43f5f4f1-d783-498e-9811-716e5b86c317"
      },
      "execution_count": 68,
      "outputs": [
        {
          "output_type": "execute_result",
          "data": {
            "text/plain": [
              "       id    age city    f1  f2   f3    f4         f5\n",
              "0    id01    2.0   서울   NaN   0  NaN  ENFJ  91.297791\n",
              "1    id02    9.0   서울  70.0   1  NaN  ENFJ  60.339826\n",
              "2    id03   27.0   서울  61.0   1  NaN  ISTJ  17.252986\n",
              "3    id04   75.0   서울   NaN   2  NaN  INFP  52.667078\n",
              "4    id05   24.0   서울  85.0   2  NaN  ISFJ  29.269869\n",
              "..    ...    ...  ...   ...  ..  ...   ...        ...\n",
              "95   id96   92.0   경기  53.0   1  NaN  ENTJ  52.667078\n",
              "96   id97  100.0   경기   NaN   0  NaN  INFP  67.886373\n",
              "97   id98   39.0   경기  58.0   2  NaN  INFP  98.429899\n",
              "98   id99    1.0   경기  47.0   0  NaN  ESFJ  97.381034\n",
              "99  id100   47.0   경기  53.0   0  vip  ESFP  33.308999\n",
              "\n",
              "[100 rows x 8 columns]"
            ],
            "text/html": [
              "\n",
              "  <div id=\"df-fe37f918-7723-4331-8e6c-c58acbca9f31\">\n",
              "    <div class=\"colab-df-container\">\n",
              "      <div>\n",
              "<style scoped>\n",
              "    .dataframe tbody tr th:only-of-type {\n",
              "        vertical-align: middle;\n",
              "    }\n",
              "\n",
              "    .dataframe tbody tr th {\n",
              "        vertical-align: top;\n",
              "    }\n",
              "\n",
              "    .dataframe thead th {\n",
              "        text-align: right;\n",
              "    }\n",
              "</style>\n",
              "<table border=\"1\" class=\"dataframe\">\n",
              "  <thead>\n",
              "    <tr style=\"text-align: right;\">\n",
              "      <th></th>\n",
              "      <th>id</th>\n",
              "      <th>age</th>\n",
              "      <th>city</th>\n",
              "      <th>f1</th>\n",
              "      <th>f2</th>\n",
              "      <th>f3</th>\n",
              "      <th>f4</th>\n",
              "      <th>f5</th>\n",
              "    </tr>\n",
              "  </thead>\n",
              "  <tbody>\n",
              "    <tr>\n",
              "      <th>0</th>\n",
              "      <td>id01</td>\n",
              "      <td>2.0</td>\n",
              "      <td>서울</td>\n",
              "      <td>NaN</td>\n",
              "      <td>0</td>\n",
              "      <td>NaN</td>\n",
              "      <td>ENFJ</td>\n",
              "      <td>91.297791</td>\n",
              "    </tr>\n",
              "    <tr>\n",
              "      <th>1</th>\n",
              "      <td>id02</td>\n",
              "      <td>9.0</td>\n",
              "      <td>서울</td>\n",
              "      <td>70.0</td>\n",
              "      <td>1</td>\n",
              "      <td>NaN</td>\n",
              "      <td>ENFJ</td>\n",
              "      <td>60.339826</td>\n",
              "    </tr>\n",
              "    <tr>\n",
              "      <th>2</th>\n",
              "      <td>id03</td>\n",
              "      <td>27.0</td>\n",
              "      <td>서울</td>\n",
              "      <td>61.0</td>\n",
              "      <td>1</td>\n",
              "      <td>NaN</td>\n",
              "      <td>ISTJ</td>\n",
              "      <td>17.252986</td>\n",
              "    </tr>\n",
              "    <tr>\n",
              "      <th>3</th>\n",
              "      <td>id04</td>\n",
              "      <td>75.0</td>\n",
              "      <td>서울</td>\n",
              "      <td>NaN</td>\n",
              "      <td>2</td>\n",
              "      <td>NaN</td>\n",
              "      <td>INFP</td>\n",
              "      <td>52.667078</td>\n",
              "    </tr>\n",
              "    <tr>\n",
              "      <th>4</th>\n",
              "      <td>id05</td>\n",
              "      <td>24.0</td>\n",
              "      <td>서울</td>\n",
              "      <td>85.0</td>\n",
              "      <td>2</td>\n",
              "      <td>NaN</td>\n",
              "      <td>ISFJ</td>\n",
              "      <td>29.269869</td>\n",
              "    </tr>\n",
              "    <tr>\n",
              "      <th>...</th>\n",
              "      <td>...</td>\n",
              "      <td>...</td>\n",
              "      <td>...</td>\n",
              "      <td>...</td>\n",
              "      <td>...</td>\n",
              "      <td>...</td>\n",
              "      <td>...</td>\n",
              "      <td>...</td>\n",
              "    </tr>\n",
              "    <tr>\n",
              "      <th>95</th>\n",
              "      <td>id96</td>\n",
              "      <td>92.0</td>\n",
              "      <td>경기</td>\n",
              "      <td>53.0</td>\n",
              "      <td>1</td>\n",
              "      <td>NaN</td>\n",
              "      <td>ENTJ</td>\n",
              "      <td>52.667078</td>\n",
              "    </tr>\n",
              "    <tr>\n",
              "      <th>96</th>\n",
              "      <td>id97</td>\n",
              "      <td>100.0</td>\n",
              "      <td>경기</td>\n",
              "      <td>NaN</td>\n",
              "      <td>0</td>\n",
              "      <td>NaN</td>\n",
              "      <td>INFP</td>\n",
              "      <td>67.886373</td>\n",
              "    </tr>\n",
              "    <tr>\n",
              "      <th>97</th>\n",
              "      <td>id98</td>\n",
              "      <td>39.0</td>\n",
              "      <td>경기</td>\n",
              "      <td>58.0</td>\n",
              "      <td>2</td>\n",
              "      <td>NaN</td>\n",
              "      <td>INFP</td>\n",
              "      <td>98.429899</td>\n",
              "    </tr>\n",
              "    <tr>\n",
              "      <th>98</th>\n",
              "      <td>id99</td>\n",
              "      <td>1.0</td>\n",
              "      <td>경기</td>\n",
              "      <td>47.0</td>\n",
              "      <td>0</td>\n",
              "      <td>NaN</td>\n",
              "      <td>ESFJ</td>\n",
              "      <td>97.381034</td>\n",
              "    </tr>\n",
              "    <tr>\n",
              "      <th>99</th>\n",
              "      <td>id100</td>\n",
              "      <td>47.0</td>\n",
              "      <td>경기</td>\n",
              "      <td>53.0</td>\n",
              "      <td>0</td>\n",
              "      <td>vip</td>\n",
              "      <td>ESFP</td>\n",
              "      <td>33.308999</td>\n",
              "    </tr>\n",
              "  </tbody>\n",
              "</table>\n",
              "<p>100 rows × 8 columns</p>\n",
              "</div>\n",
              "      <button class=\"colab-df-convert\" onclick=\"convertToInteractive('df-fe37f918-7723-4331-8e6c-c58acbca9f31')\"\n",
              "              title=\"Convert this dataframe to an interactive table.\"\n",
              "              style=\"display:none;\">\n",
              "        \n",
              "  <svg xmlns=\"http://www.w3.org/2000/svg\" height=\"24px\"viewBox=\"0 0 24 24\"\n",
              "       width=\"24px\">\n",
              "    <path d=\"M0 0h24v24H0V0z\" fill=\"none\"/>\n",
              "    <path d=\"M18.56 5.44l.94 2.06.94-2.06 2.06-.94-2.06-.94-.94-2.06-.94 2.06-2.06.94zm-11 1L8.5 8.5l.94-2.06 2.06-.94-2.06-.94L8.5 2.5l-.94 2.06-2.06.94zm10 10l.94 2.06.94-2.06 2.06-.94-2.06-.94-.94-2.06-.94 2.06-2.06.94z\"/><path d=\"M17.41 7.96l-1.37-1.37c-.4-.4-.92-.59-1.43-.59-.52 0-1.04.2-1.43.59L10.3 9.45l-7.72 7.72c-.78.78-.78 2.05 0 2.83L4 21.41c.39.39.9.59 1.41.59.51 0 1.02-.2 1.41-.59l7.78-7.78 2.81-2.81c.8-.78.8-2.07 0-2.86zM5.41 20L4 18.59l7.72-7.72 1.47 1.35L5.41 20z\"/>\n",
              "  </svg>\n",
              "      </button>\n",
              "      \n",
              "  <style>\n",
              "    .colab-df-container {\n",
              "      display:flex;\n",
              "      flex-wrap:wrap;\n",
              "      gap: 12px;\n",
              "    }\n",
              "\n",
              "    .colab-df-convert {\n",
              "      background-color: #E8F0FE;\n",
              "      border: none;\n",
              "      border-radius: 50%;\n",
              "      cursor: pointer;\n",
              "      display: none;\n",
              "      fill: #1967D2;\n",
              "      height: 32px;\n",
              "      padding: 0 0 0 0;\n",
              "      width: 32px;\n",
              "    }\n",
              "\n",
              "    .colab-df-convert:hover {\n",
              "      background-color: #E2EBFA;\n",
              "      box-shadow: 0px 1px 2px rgba(60, 64, 67, 0.3), 0px 1px 3px 1px rgba(60, 64, 67, 0.15);\n",
              "      fill: #174EA6;\n",
              "    }\n",
              "\n",
              "    [theme=dark] .colab-df-convert {\n",
              "      background-color: #3B4455;\n",
              "      fill: #D2E3FC;\n",
              "    }\n",
              "\n",
              "    [theme=dark] .colab-df-convert:hover {\n",
              "      background-color: #434B5C;\n",
              "      box-shadow: 0px 1px 3px 1px rgba(0, 0, 0, 0.15);\n",
              "      filter: drop-shadow(0px 1px 2px rgba(0, 0, 0, 0.3));\n",
              "      fill: #FFFFFF;\n",
              "    }\n",
              "  </style>\n",
              "\n",
              "      <script>\n",
              "        const buttonEl =\n",
              "          document.querySelector('#df-fe37f918-7723-4331-8e6c-c58acbca9f31 button.colab-df-convert');\n",
              "        buttonEl.style.display =\n",
              "          google.colab.kernel.accessAllowed ? 'block' : 'none';\n",
              "\n",
              "        async function convertToInteractive(key) {\n",
              "          const element = document.querySelector('#df-fe37f918-7723-4331-8e6c-c58acbca9f31');\n",
              "          const dataTable =\n",
              "            await google.colab.kernel.invokeFunction('convertToInteractive',\n",
              "                                                     [key], {});\n",
              "          if (!dataTable) return;\n",
              "\n",
              "          const docLinkHtml = 'Like what you see? Visit the ' +\n",
              "            '<a target=\"_blank\" href=https://colab.research.google.com/notebooks/data_table.ipynb>data table notebook</a>'\n",
              "            + ' to learn more about interactive tables.';\n",
              "          element.innerHTML = '';\n",
              "          dataTable['output_type'] = 'display_data';\n",
              "          await google.colab.output.renderOutput(dataTable, element);\n",
              "          const docLink = document.createElement('div');\n",
              "          docLink.innerHTML = docLinkHtml;\n",
              "          element.appendChild(docLink);\n",
              "        }\n",
              "      </script>\n",
              "    </div>\n",
              "  </div>\n",
              "  "
            ]
          },
          "metadata": {},
          "execution_count": 68
        }
      ]
    },
    {
      "cell_type": "markdown",
      "source": [
        "-------"
      ],
      "metadata": {
        "id": "Ro4f5xPYSN0l"
      }
    },
    {
      "cell_type": "markdown",
      "source": [
        "# f2가 1인 f1 데이터에 대해 cumsum으로 누적합 계산"
      ],
      "metadata": {
        "id": "pu2p-Sv5SN4a"
      }
    },
    {
      "cell_type": "code",
      "source": [
        "data2 = data['f1'][data['f2'] == 1].cumsum()"
      ],
      "metadata": {
        "id": "t0zzhYXVNkSd"
      },
      "execution_count": 69,
      "outputs": []
    },
    {
      "cell_type": "code",
      "source": [
        "data2"
      ],
      "metadata": {
        "colab": {
          "base_uri": "https://localhost:8080/"
        },
        "id": "SjFUfkQqNrOJ",
        "outputId": "4fec2447-2896-4dc9-85b3-f353c44f8962"
      },
      "execution_count": 70,
      "outputs": [
        {
          "output_type": "execute_result",
          "data": {
            "text/plain": [
              "1       70.0\n",
              "2      131.0\n",
              "6      191.0\n",
              "7      292.0\n",
              "9      366.0\n",
              "13     416.0\n",
              "14     483.0\n",
              "16       NaN\n",
              "19     534.0\n",
              "20       NaN\n",
              "21     606.0\n",
              "22     681.0\n",
              "25     738.0\n",
              "27     772.0\n",
              "33       NaN\n",
              "35     849.0\n",
              "37       NaN\n",
              "46     924.0\n",
              "49    1002.0\n",
              "51    1084.0\n",
              "53       NaN\n",
              "55       NaN\n",
              "58       NaN\n",
              "62    1170.0\n",
              "65       NaN\n",
              "66    1222.0\n",
              "69    1318.0\n",
              "72       NaN\n",
              "77    1414.0\n",
              "80    1464.0\n",
              "82    1514.0\n",
              "86       NaN\n",
              "88    1580.0\n",
              "91    1658.0\n",
              "93       NaN\n",
              "94    1701.0\n",
              "95    1754.0\n",
              "Name: f1, dtype: float64"
            ]
          },
          "metadata": {},
          "execution_count": 70
        }
      ]
    },
    {
      "cell_type": "markdown",
      "source": [
        "--------"
      ],
      "metadata": {
        "id": "Y65WnPYFSWR_"
      }
    },
    {
      "cell_type": "markdown",
      "source": [
        "# fillna(method='bfill')로 결측치를 뒤에 오는 값으로 결측치 채우기"
      ],
      "metadata": {
        "id": "c6Cl6TjbSWUa"
      }
    },
    {
      "cell_type": "code",
      "source": [
        "data2 = data2.fillna(method='bfill')"
      ],
      "metadata": {
        "id": "WHho28OUNCXp"
      },
      "execution_count": 71,
      "outputs": []
    },
    {
      "cell_type": "code",
      "source": [
        "data2"
      ],
      "metadata": {
        "colab": {
          "base_uri": "https://localhost:8080/"
        },
        "id": "dLAjUFmoRuEL",
        "outputId": "3b09b70a-faac-4456-c88e-bddb5b5238f5"
      },
      "execution_count": 72,
      "outputs": [
        {
          "output_type": "execute_result",
          "data": {
            "text/plain": [
              "1       70.0\n",
              "2      131.0\n",
              "6      191.0\n",
              "7      292.0\n",
              "9      366.0\n",
              "13     416.0\n",
              "14     483.0\n",
              "16     534.0\n",
              "19     534.0\n",
              "20     606.0\n",
              "21     606.0\n",
              "22     681.0\n",
              "25     738.0\n",
              "27     772.0\n",
              "33     849.0\n",
              "35     849.0\n",
              "37     924.0\n",
              "46     924.0\n",
              "49    1002.0\n",
              "51    1084.0\n",
              "53    1170.0\n",
              "55    1170.0\n",
              "58    1170.0\n",
              "62    1170.0\n",
              "65    1222.0\n",
              "66    1222.0\n",
              "69    1318.0\n",
              "72    1414.0\n",
              "77    1414.0\n",
              "80    1464.0\n",
              "82    1514.0\n",
              "86    1580.0\n",
              "88    1580.0\n",
              "91    1658.0\n",
              "93    1701.0\n",
              "94    1701.0\n",
              "95    1754.0\n",
              "Name: f1, dtype: float64"
            ]
          },
          "metadata": {},
          "execution_count": 72
        }
      ]
    },
    {
      "cell_type": "markdown",
      "source": [
        "결측치가 모두 잘 채워진 것을 확인"
      ],
      "metadata": {
        "id": "2WRe8RVzSe6-"
      }
    },
    {
      "cell_type": "markdown",
      "source": [
        "-------------"
      ],
      "metadata": {
        "id": "IDbtBP8qSfH-"
      }
    },
    {
      "cell_type": "markdown",
      "source": [
        "# 해당 데이터의 평균값 출력"
      ],
      "metadata": {
        "id": "NAt5RXVCSfMP"
      }
    },
    {
      "cell_type": "code",
      "source": [
        "print(data2.mean())"
      ],
      "metadata": {
        "colab": {
          "base_uri": "https://localhost:8080/"
        },
        "id": "3oQTwRHONPUV",
        "outputId": "76435fc5-f6c7-4e42-8830-d6a2f634dc08"
      },
      "execution_count": 73,
      "outputs": [
        {
          "output_type": "stream",
          "name": "stdout",
          "text": [
            "980.3783783783783\n"
          ]
        }
      ]
    },
    {
      "cell_type": "code",
      "source": [
        ""
      ],
      "metadata": {
        "id": "JrRaKGApNc2F"
      },
      "execution_count": null,
      "outputs": []
    }
  ]
}