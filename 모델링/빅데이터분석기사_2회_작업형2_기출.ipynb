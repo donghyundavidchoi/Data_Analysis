{
  "nbformat": 4,
  "nbformat_minor": 0,
  "metadata": {
    "colab": {
      "name": "빅데이터분석기사_2회_작업형2_기출.ipynb",
      "provenance": [],
      "collapsed_sections": [],
      "authorship_tag": "ABX9TyNT4NO7auM7XgMw82zmm9KV",
      "include_colab_link": true
    },
    "kernelspec": {
      "name": "python3",
      "display_name": "Python 3"
    },
    "language_info": {
      "name": "python"
    }
  },
  "cells": [
    {
      "cell_type": "markdown",
      "metadata": {
        "id": "view-in-github",
        "colab_type": "text"
      },
      "source": [
        "<a href=\"https://colab.research.google.com/github/donghyundavidchoi/Data_Analysis/blob/main/%EB%AA%A8%EB%8D%B8%EB%A7%81/%EB%B9%85%EB%8D%B0%EC%9D%B4%ED%84%B0%EB%B6%84%EC%84%9D%EA%B8%B0%EC%82%AC_2%ED%9A%8C_%EC%9E%91%EC%97%85%ED%98%952_%EA%B8%B0%EC%B6%9C.ipynb\" target=\"_parent\"><img src=\"https://colab.research.google.com/assets/colab-badge.svg\" alt=\"Open In Colab\"/></a>"
      ]
    },
    {
      "cell_type": "code",
      "execution_count": 1,
      "metadata": {
        "colab": {
          "base_uri": "https://localhost:8080/"
        },
        "id": "7SHYDNoYv-qT",
        "outputId": "a0ed37a4-bbbb-4ac9-e477-c3abdb9db57d"
      },
      "outputs": [
        {
          "output_type": "stream",
          "name": "stdout",
          "text": [
            "Downloading...\n",
            "From: https://drive.google.com/uc?id=1txRVXp-Eh222PzIeTQ-fuAoUYFR9f7q-\n",
            "To: /content/kaggle.json\n",
            "\r  0% 0.00/73.0 [00:00<?, ?B/s]\r100% 73.0/73.0 [00:00<00:00, 89.3kB/s]\n"
          ]
        }
      ],
      "source": [
        "!gdown --fuzzy https://drive.google.com/file/d/1txRVXp-Eh222PzIeTQ-fuAoUYFR9f7q-/view?usp=sharing\n",
        "!mkdir -p ~/.kaggle\n",
        "!cp /content/kaggle.json ~/.kaggle/\n",
        "!chmod 600 ~/.kaggle/kaggle.json"
      ]
    },
    {
      "cell_type": "code",
      "source": [
        "!kaggle datasets download -d prachi13/customer-analytics"
      ],
      "metadata": {
        "colab": {
          "base_uri": "https://localhost:8080/"
        },
        "id": "ovMSoUDMwB2j",
        "outputId": "f2072b02-3666-45b9-a0df-cec40fcf8750"
      },
      "execution_count": 2,
      "outputs": [
        {
          "output_type": "stream",
          "name": "stdout",
          "text": [
            "Downloading customer-analytics.zip to /content\n",
            "\r  0% 0.00/121k [00:00<?, ?B/s]\n",
            "\r100% 121k/121k [00:00<00:00, 16.1MB/s]\n"
          ]
        }
      ]
    },
    {
      "cell_type": "code",
      "source": [
        "!unzip /content/customer-analytics.zip"
      ],
      "metadata": {
        "colab": {
          "base_uri": "https://localhost:8080/"
        },
        "id": "JC19MERAwUiU",
        "outputId": "61f58542-da97-433b-f1b4-ca4fb0d0efe0"
      },
      "execution_count": 3,
      "outputs": [
        {
          "output_type": "stream",
          "name": "stdout",
          "text": [
            "Archive:  /content/customer-analytics.zip\n",
            "  inflating: Train.csv               \n"
          ]
        }
      ]
    },
    {
      "cell_type": "code",
      "source": [
        "import pandas as pd\n",
        "import numpy as np\n",
        "from sklearn.model_selection import train_test_split\n",
        "\n",
        "def exam_data_load(df, target, id_name=\"\", null_name=\"\"):\n",
        "    if id_name == \"\":\n",
        "        df = df.reset_index().rename(columns={\"index\": \"id\"})\n",
        "        id_name = 'id'\n",
        "    else:\n",
        "        id_name = id_name\n",
        "    \n",
        "    if null_name != \"\":\n",
        "        df[df == null_name] = np.nan\n",
        "    \n",
        "    X_train, X_test = train_test_split(df, test_size=0.2, random_state=2022)\n",
        "    \n",
        "    y_train = X_train[[id_name, target]]\n",
        "    X_train = X_train.drop(columns=[target])\n",
        "\n",
        "    \n",
        "    y_test = X_test[[id_name, target]]\n",
        "    X_test = X_test.drop(columns=[target])\n",
        "    return X_train, X_test, y_train, y_test\n",
        "\n",
        "df = pd.read_csv(\"/content/Train.csv\")\n",
        "X_train, X_test, y_train, y_test = exam_data_load(df, target='Reached.on.Time_Y.N', id_name='ID')\n",
        "X_train = X_train.drop(columns='ID')\n",
        "X_test_id = X_test['ID']\n",
        "X_test = X_test.drop(columns='ID')\n",
        "print(X_train.shape, X_test.shape, y_train.shape, y_test.shape)\n",
        "print()\n",
        "print(X_train.head())\n",
        "print()\n",
        "print(X_train.describe())\n",
        "print()\n",
        "print(X_train.isna().sum())\n",
        "print()\n",
        "print(y_train.head())\n",
        "print()\n",
        "from sklearn.preprocessing import LabelEncoder\n",
        "LE = LabelEncoder()\n",
        "\n",
        "X_train['Discount_offered'] = ( X_train['Discount_offered'] - X_train['Discount_offered'].min() ) / ( X_train['Discount_offered'].max() - X_train['Discount_offered'].min() )\n",
        "X_train['Weight_in_gms'] = ( X_train['Weight_in_gms'] - X_train['Weight_in_gms'].min() ) / ( X_train['Weight_in_gms'].max() - X_train['Weight_in_gms'].min() )\n",
        "X_test['Discount_offered'] = ( X_test['Discount_offered'] - X_test['Discount_offered'].min() ) / ( X_test['Discount_offered'].max() - X_test['Discount_offered'].min() )\n",
        "X_test['Weight_in_gms'] = ( X_test['Weight_in_gms'] - X_test['Weight_in_gms'].min() ) / ( X_test['Weight_in_gms'].max() - X_test['Weight_in_gms'].min() )\n",
        "X_train_object_cols = X_train.select_dtypes('object').columns\n",
        "for col in X_train_object_cols:\n",
        "    X_train[col] = LE.fit_transform(X_train[col])\n",
        "    X_test[col] = LE.transform(X_test[col])\n",
        "\n",
        "print(X_train.head())\n",
        "print()\n",
        "print(X_train.describe())\n",
        "print()\n",
        "\n",
        "from sklearn.ensemble import RandomForestClassifier\n",
        "model = RandomForestClassifier(random_state=2022)\n",
        "model.fit(X_train, y_train['Reached.on.Time_Y.N'])\n",
        "print(\"model score: \", model.score(X_train, y_train['Reached.on.Time_Y.N']))\n",
        "print()\n",
        "prediction = model.predict(X_test)\n",
        "output = pd.DataFrame({'ID' : X_test_id, 'Reached.on.Time_Y.N' : prediction})\n",
        "print(output.head())\n",
        "print()\n",
        "print(\"test data model score: \", model.score(X_test, output['Reached.on.Time_Y.N']))\n",
        "output.to_csv('20220624.csv', index=False)"
      ],
      "metadata": {
        "colab": {
          "base_uri": "https://localhost:8080/"
        },
        "id": "vJ8SiYfqwUw1",
        "outputId": "b4ee0df7-61a0-4823-8b5b-f70dacdd6b69"
      },
      "execution_count": 18,
      "outputs": [
        {
          "output_type": "stream",
          "name": "stdout",
          "text": [
            "(8799, 10) (2200, 10) (8799, 2) (2200, 2)\n",
            "\n",
            "      Warehouse_block Mode_of_Shipment  Customer_care_calls  Customer_rating  \\\n",
            "8439                B             Ship                    4                1   \n",
            "10848               D             Ship                    3                2   \n",
            "9477                B             Ship                    4                4   \n",
            "2967                B             Ship                    6                2   \n",
            "6963                B             Road                    5                1   \n",
            "\n",
            "       Cost_of_the_Product  Prior_purchases Product_importance Gender  \\\n",
            "8439                   284                4                low      F   \n",
            "10848                  201                4             medium      M   \n",
            "9477                   181                3             medium      F   \n",
            "2967                   236                4                low      F   \n",
            "6963                   282                4                low      F   \n",
            "\n",
            "       Discount_offered  Weight_in_gms  \n",
            "8439                  4           4795  \n",
            "10848                10           5565  \n",
            "9477                  9           4425  \n",
            "2967                 61           3140  \n",
            "6963                  9           4766  \n",
            "\n",
            "       Customer_care_calls  Customer_rating  Cost_of_the_Product  \\\n",
            "count          8799.000000      8799.000000          8799.000000   \n",
            "mean              4.051369         2.991817           209.800318   \n",
            "std               1.141739         1.411938            48.186779   \n",
            "min               2.000000         1.000000            96.000000   \n",
            "25%               3.000000         2.000000           169.000000   \n",
            "50%               4.000000         3.000000           213.000000   \n",
            "75%               5.000000         4.000000           250.000000   \n",
            "max               7.000000         5.000000           310.000000   \n",
            "\n",
            "       Prior_purchases  Discount_offered  Weight_in_gms  \n",
            "count      8799.000000       8799.000000    8799.000000  \n",
            "mean          3.561882         13.293215    3633.145130  \n",
            "std           1.518472         16.112977    1637.717073  \n",
            "min           2.000000          1.000000    1001.000000  \n",
            "25%           3.000000          4.000000    1837.000000  \n",
            "50%           3.000000          7.000000    4152.000000  \n",
            "75%           4.000000         10.000000    5055.000000  \n",
            "max          10.000000         65.000000    7846.000000  \n",
            "\n",
            "Warehouse_block        0\n",
            "Mode_of_Shipment       0\n",
            "Customer_care_calls    0\n",
            "Customer_rating        0\n",
            "Cost_of_the_Product    0\n",
            "Prior_purchases        0\n",
            "Product_importance     0\n",
            "Gender                 0\n",
            "Discount_offered       0\n",
            "Weight_in_gms          0\n",
            "dtype: int64\n",
            "\n",
            "          ID  Reached.on.Time_Y.N\n",
            "8439    8440                    1\n",
            "10848  10849                    0\n",
            "9477    9478                    1\n",
            "2967    2968                    1\n",
            "6963    6964                    0\n",
            "\n",
            "       Warehouse_block  Mode_of_Shipment  Customer_care_calls  \\\n",
            "8439                 1                 2                    4   \n",
            "10848                3                 2                    3   \n",
            "9477                 1                 2                    4   \n",
            "2967                 1                 2                    6   \n",
            "6963                 1                 1                    5   \n",
            "\n",
            "       Customer_rating  Cost_of_the_Product  Prior_purchases  \\\n",
            "8439                 1                  284                4   \n",
            "10848                2                  201                4   \n",
            "9477                 4                  181                3   \n",
            "2967                 2                  236                4   \n",
            "6963                 1                  282                4   \n",
            "\n",
            "       Product_importance  Gender  Discount_offered  Weight_in_gms  \n",
            "8439                    1       0          0.046875       0.554273  \n",
            "10848                   2       1          0.140625       0.666764  \n",
            "9477                    2       0          0.125000       0.500219  \n",
            "2967                    1       0          0.937500       0.312491  \n",
            "6963                    1       0          0.125000       0.550037  \n",
            "\n",
            "       Warehouse_block  Mode_of_Shipment  Customer_care_calls  \\\n",
            "count      8799.000000       8799.000000          8799.000000   \n",
            "mean          2.327651          1.520059             4.051369   \n",
            "std           1.494188          0.752975             1.141739   \n",
            "min           0.000000          0.000000             2.000000   \n",
            "25%           1.000000          1.000000             3.000000   \n",
            "50%           2.000000          2.000000             4.000000   \n",
            "75%           4.000000          2.000000             5.000000   \n",
            "max           4.000000          2.000000             7.000000   \n",
            "\n",
            "       Customer_rating  Cost_of_the_Product  Prior_purchases  \\\n",
            "count      8799.000000          8799.000000      8799.000000   \n",
            "mean          2.991817           209.800318         3.561882   \n",
            "std           1.411938            48.186779         1.518472   \n",
            "min           1.000000            96.000000         2.000000   \n",
            "25%           2.000000           169.000000         3.000000   \n",
            "50%           3.000000           213.000000         3.000000   \n",
            "75%           4.000000           250.000000         4.000000   \n",
            "max           5.000000           310.000000        10.000000   \n",
            "\n",
            "       Product_importance       Gender  Discount_offered  Weight_in_gms  \n",
            "count         8799.000000  8799.000000       8799.000000    8799.000000  \n",
            "mean             1.349131     0.494261          0.192081       0.384535  \n",
            "std              0.630860     0.499995          0.251765       0.239257  \n",
            "min              0.000000     0.000000          0.000000       0.000000  \n",
            "25%              1.000000     0.000000          0.046875       0.122133  \n",
            "50%              1.000000     0.000000          0.093750       0.460336  \n",
            "75%              2.000000     1.000000          0.140625       0.592257  \n",
            "max              2.000000     1.000000          1.000000       1.000000  \n",
            "\n",
            "model score:  1.0\n",
            "\n",
            "          ID  Reached.on.Time_Y.N\n",
            "8284    8285                    0\n",
            "10191  10192                    0\n",
            "8674    8675                    0\n",
            "5752    5753                    0\n",
            "447      448                    1\n",
            "\n",
            "test data model score:  1.0\n"
          ]
        }
      ]
    },
    {
      "cell_type": "code",
      "source": [
        "answer = pd.read_csv('/content/20220624.csv')\n",
        "print(answer.head())"
      ],
      "metadata": {
        "colab": {
          "base_uri": "https://localhost:8080/"
        },
        "id": "DyouvBQ1weEt",
        "outputId": "974a8a0c-62f2-45a4-8f7c-0c1516e4ef5f"
      },
      "execution_count": 19,
      "outputs": [
        {
          "output_type": "stream",
          "name": "stdout",
          "text": [
            "      ID  Reached.on.Time_Y.N\n",
            "0   8285                    0\n",
            "1  10192                    0\n",
            "2   8675                    0\n",
            "3   5753                    0\n",
            "4    448                    1\n"
          ]
        }
      ]
    },
    {
      "cell_type": "code",
      "source": [
        ""
      ],
      "metadata": {
        "id": "h68AU9_vA5UO"
      },
      "execution_count": null,
      "outputs": []
    }
  ]
}