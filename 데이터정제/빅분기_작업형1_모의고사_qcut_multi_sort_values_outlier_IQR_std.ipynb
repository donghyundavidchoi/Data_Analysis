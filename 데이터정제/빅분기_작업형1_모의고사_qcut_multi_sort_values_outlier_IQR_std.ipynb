{
  "nbformat": 4,
  "nbformat_minor": 0,
  "metadata": {
    "colab": {
      "name": "빅분기_작업형1_모의고사_qcut_multi_sort_values_outlier_IQR_std.ipynb",
      "provenance": [],
      "collapsed_sections": [],
      "authorship_tag": "ABX9TyOQ9LCUZyvkWeRnxkRM86f2",
      "include_colab_link": true
    },
    "kernelspec": {
      "name": "python3",
      "display_name": "Python 3"
    },
    "language_info": {
      "name": "python"
    }
  },
  "cells": [
    {
      "cell_type": "markdown",
      "metadata": {
        "id": "view-in-github",
        "colab_type": "text"
      },
      "source": [
        "<a href=\"https://colab.research.google.com/github/donghyundavidchoi/Data_Analysis/blob/main/%EB%8D%B0%EC%9D%B4%ED%84%B0%EC%A0%95%EC%A0%9C/%EB%B9%85%EB%B6%84%EA%B8%B0_%EC%9E%91%EC%97%85%ED%98%951_%EB%AA%A8%EC%9D%98%EA%B3%A0%EC%82%AC_qcut_multi_sort_values_outlier_IQR_std.ipynb\" target=\"_parent\"><img src=\"https://colab.research.google.com/assets/colab-badge.svg\" alt=\"Open In Colab\"/></a>"
      ]
    },
    {
      "cell_type": "code",
      "execution_count": 1,
      "metadata": {
        "colab": {
          "base_uri": "https://localhost:8080/"
        },
        "id": "y-VgB4ZteLg7",
        "outputId": "6680c9a1-0997-4008-e352-d328156c0f50"
      },
      "outputs": [
        {
          "output_type": "stream",
          "name": "stdout",
          "text": [
            "Downloading...\n",
            "From: https://drive.google.com/uc?id=1txRVXp-Eh222PzIeTQ-fuAoUYFR9f7q-\n",
            "To: /content/kaggle.json\n",
            "\r  0% 0.00/73.0 [00:00<?, ?B/s]\r100% 73.0/73.0 [00:00<00:00, 88.3kB/s]\n"
          ]
        }
      ],
      "source": [
        "!gdown --fuzzy https://drive.google.com/file/d/1txRVXp-Eh222PzIeTQ-fuAoUYFR9f7q-/view?usp=sharing\n",
        "!mkdir -p ~/.kaggle\n",
        "!cp /content/kaggle.json ~/.kaggle/\n",
        "!chmod 600 ~/.kaggle/kaggle.json"
      ]
    },
    {
      "cell_type": "code",
      "source": [
        "!kaggle datasets download -d agileteam/bigdatacertificationkr"
      ],
      "metadata": {
        "colab": {
          "base_uri": "https://localhost:8080/"
        },
        "id": "oZhnh6Dce_5I",
        "outputId": "64fe5819-97d2-42ed-ec11-3b793c404dcb"
      },
      "execution_count": 4,
      "outputs": [
        {
          "metadata": {
            "tags": null
          },
          "name": "stdout",
          "output_type": "stream",
          "text": [
            "Downloading bigdatacertificationkr.zip to /content\n",
            "\r  0% 0.00/15.5k [00:00<?, ?B/s]\n",
            "\r100% 15.5k/15.5k [00:00<00:00, 7.15MB/s]\n"
          ]
        }
      ]
    },
    {
      "cell_type": "code",
      "source": [
        "!unzip /content/bigdatacertificationkr.zip"
      ],
      "metadata": {
        "id": "SGG9GiGke0Bv"
      },
      "execution_count": null,
      "outputs": []
    },
    {
      "cell_type": "code",
      "source": [
        "import pandas as pd\n",
        "import numpy as np"
      ],
      "metadata": {
        "id": "gefVsfLfe1dM"
      },
      "execution_count": 24,
      "outputs": []
    },
    {
      "cell_type": "code",
      "source": [
        "df = pd.read_csv('/content/basic1.csv')"
      ],
      "metadata": {
        "id": "713wjYQte4S2"
      },
      "execution_count": 25,
      "outputs": []
    },
    {
      "cell_type": "code",
      "source": [
        "df"
      ],
      "metadata": {
        "colab": {
          "base_uri": "https://localhost:8080/",
          "height": 424
        },
        "id": "Gx_o5zADfX6C",
        "outputId": "efb69929-e180-4c18-8c4b-1324240c3212"
      },
      "execution_count": 26,
      "outputs": [
        {
          "output_type": "execute_result",
          "data": {
            "text/plain": [
              "       id    age city    f1  f2   f3    f4         f5\n",
              "0    id01    2.0   서울   NaN   0  NaN  ENFJ  91.297791\n",
              "1    id02    9.0   서울  70.0   1  NaN  ENFJ  60.339826\n",
              "2    id03   27.0   서울  61.0   1  NaN  ISTJ  17.252986\n",
              "3    id04   75.0   서울   NaN   2  NaN  INFP  52.667078\n",
              "4    id05   24.0   서울  85.0   2  NaN  ISFJ  29.269869\n",
              "..    ...    ...  ...   ...  ..  ...   ...        ...\n",
              "95   id96   92.0   경기  53.0   1  NaN  ENTJ  52.667078\n",
              "96   id97  100.0   경기   NaN   0  NaN  INFP  67.886373\n",
              "97   id98   39.0   경기  58.0   2  NaN  INFP  98.429899\n",
              "98   id99    1.0   경기  47.0   0  NaN  ESFJ  97.381034\n",
              "99  id100   47.0   경기  53.0   0  vip  ESFP  33.308999\n",
              "\n",
              "[100 rows x 8 columns]"
            ],
            "text/html": [
              "\n",
              "  <div id=\"df-43ebf712-4fd0-402d-abe9-41cf4b8ed0a6\">\n",
              "    <div class=\"colab-df-container\">\n",
              "      <div>\n",
              "<style scoped>\n",
              "    .dataframe tbody tr th:only-of-type {\n",
              "        vertical-align: middle;\n",
              "    }\n",
              "\n",
              "    .dataframe tbody tr th {\n",
              "        vertical-align: top;\n",
              "    }\n",
              "\n",
              "    .dataframe thead th {\n",
              "        text-align: right;\n",
              "    }\n",
              "</style>\n",
              "<table border=\"1\" class=\"dataframe\">\n",
              "  <thead>\n",
              "    <tr style=\"text-align: right;\">\n",
              "      <th></th>\n",
              "      <th>id</th>\n",
              "      <th>age</th>\n",
              "      <th>city</th>\n",
              "      <th>f1</th>\n",
              "      <th>f2</th>\n",
              "      <th>f3</th>\n",
              "      <th>f4</th>\n",
              "      <th>f5</th>\n",
              "    </tr>\n",
              "  </thead>\n",
              "  <tbody>\n",
              "    <tr>\n",
              "      <th>0</th>\n",
              "      <td>id01</td>\n",
              "      <td>2.0</td>\n",
              "      <td>서울</td>\n",
              "      <td>NaN</td>\n",
              "      <td>0</td>\n",
              "      <td>NaN</td>\n",
              "      <td>ENFJ</td>\n",
              "      <td>91.297791</td>\n",
              "    </tr>\n",
              "    <tr>\n",
              "      <th>1</th>\n",
              "      <td>id02</td>\n",
              "      <td>9.0</td>\n",
              "      <td>서울</td>\n",
              "      <td>70.0</td>\n",
              "      <td>1</td>\n",
              "      <td>NaN</td>\n",
              "      <td>ENFJ</td>\n",
              "      <td>60.339826</td>\n",
              "    </tr>\n",
              "    <tr>\n",
              "      <th>2</th>\n",
              "      <td>id03</td>\n",
              "      <td>27.0</td>\n",
              "      <td>서울</td>\n",
              "      <td>61.0</td>\n",
              "      <td>1</td>\n",
              "      <td>NaN</td>\n",
              "      <td>ISTJ</td>\n",
              "      <td>17.252986</td>\n",
              "    </tr>\n",
              "    <tr>\n",
              "      <th>3</th>\n",
              "      <td>id04</td>\n",
              "      <td>75.0</td>\n",
              "      <td>서울</td>\n",
              "      <td>NaN</td>\n",
              "      <td>2</td>\n",
              "      <td>NaN</td>\n",
              "      <td>INFP</td>\n",
              "      <td>52.667078</td>\n",
              "    </tr>\n",
              "    <tr>\n",
              "      <th>4</th>\n",
              "      <td>id05</td>\n",
              "      <td>24.0</td>\n",
              "      <td>서울</td>\n",
              "      <td>85.0</td>\n",
              "      <td>2</td>\n",
              "      <td>NaN</td>\n",
              "      <td>ISFJ</td>\n",
              "      <td>29.269869</td>\n",
              "    </tr>\n",
              "    <tr>\n",
              "      <th>...</th>\n",
              "      <td>...</td>\n",
              "      <td>...</td>\n",
              "      <td>...</td>\n",
              "      <td>...</td>\n",
              "      <td>...</td>\n",
              "      <td>...</td>\n",
              "      <td>...</td>\n",
              "      <td>...</td>\n",
              "    </tr>\n",
              "    <tr>\n",
              "      <th>95</th>\n",
              "      <td>id96</td>\n",
              "      <td>92.0</td>\n",
              "      <td>경기</td>\n",
              "      <td>53.0</td>\n",
              "      <td>1</td>\n",
              "      <td>NaN</td>\n",
              "      <td>ENTJ</td>\n",
              "      <td>52.667078</td>\n",
              "    </tr>\n",
              "    <tr>\n",
              "      <th>96</th>\n",
              "      <td>id97</td>\n",
              "      <td>100.0</td>\n",
              "      <td>경기</td>\n",
              "      <td>NaN</td>\n",
              "      <td>0</td>\n",
              "      <td>NaN</td>\n",
              "      <td>INFP</td>\n",
              "      <td>67.886373</td>\n",
              "    </tr>\n",
              "    <tr>\n",
              "      <th>97</th>\n",
              "      <td>id98</td>\n",
              "      <td>39.0</td>\n",
              "      <td>경기</td>\n",
              "      <td>58.0</td>\n",
              "      <td>2</td>\n",
              "      <td>NaN</td>\n",
              "      <td>INFP</td>\n",
              "      <td>98.429899</td>\n",
              "    </tr>\n",
              "    <tr>\n",
              "      <th>98</th>\n",
              "      <td>id99</td>\n",
              "      <td>1.0</td>\n",
              "      <td>경기</td>\n",
              "      <td>47.0</td>\n",
              "      <td>0</td>\n",
              "      <td>NaN</td>\n",
              "      <td>ESFJ</td>\n",
              "      <td>97.381034</td>\n",
              "    </tr>\n",
              "    <tr>\n",
              "      <th>99</th>\n",
              "      <td>id100</td>\n",
              "      <td>47.0</td>\n",
              "      <td>경기</td>\n",
              "      <td>53.0</td>\n",
              "      <td>0</td>\n",
              "      <td>vip</td>\n",
              "      <td>ESFP</td>\n",
              "      <td>33.308999</td>\n",
              "    </tr>\n",
              "  </tbody>\n",
              "</table>\n",
              "<p>100 rows × 8 columns</p>\n",
              "</div>\n",
              "      <button class=\"colab-df-convert\" onclick=\"convertToInteractive('df-43ebf712-4fd0-402d-abe9-41cf4b8ed0a6')\"\n",
              "              title=\"Convert this dataframe to an interactive table.\"\n",
              "              style=\"display:none;\">\n",
              "        \n",
              "  <svg xmlns=\"http://www.w3.org/2000/svg\" height=\"24px\"viewBox=\"0 0 24 24\"\n",
              "       width=\"24px\">\n",
              "    <path d=\"M0 0h24v24H0V0z\" fill=\"none\"/>\n",
              "    <path d=\"M18.56 5.44l.94 2.06.94-2.06 2.06-.94-2.06-.94-.94-2.06-.94 2.06-2.06.94zm-11 1L8.5 8.5l.94-2.06 2.06-.94-2.06-.94L8.5 2.5l-.94 2.06-2.06.94zm10 10l.94 2.06.94-2.06 2.06-.94-2.06-.94-.94-2.06-.94 2.06-2.06.94z\"/><path d=\"M17.41 7.96l-1.37-1.37c-.4-.4-.92-.59-1.43-.59-.52 0-1.04.2-1.43.59L10.3 9.45l-7.72 7.72c-.78.78-.78 2.05 0 2.83L4 21.41c.39.39.9.59 1.41.59.51 0 1.02-.2 1.41-.59l7.78-7.78 2.81-2.81c.8-.78.8-2.07 0-2.86zM5.41 20L4 18.59l7.72-7.72 1.47 1.35L5.41 20z\"/>\n",
              "  </svg>\n",
              "      </button>\n",
              "      \n",
              "  <style>\n",
              "    .colab-df-container {\n",
              "      display:flex;\n",
              "      flex-wrap:wrap;\n",
              "      gap: 12px;\n",
              "    }\n",
              "\n",
              "    .colab-df-convert {\n",
              "      background-color: #E8F0FE;\n",
              "      border: none;\n",
              "      border-radius: 50%;\n",
              "      cursor: pointer;\n",
              "      display: none;\n",
              "      fill: #1967D2;\n",
              "      height: 32px;\n",
              "      padding: 0 0 0 0;\n",
              "      width: 32px;\n",
              "    }\n",
              "\n",
              "    .colab-df-convert:hover {\n",
              "      background-color: #E2EBFA;\n",
              "      box-shadow: 0px 1px 2px rgba(60, 64, 67, 0.3), 0px 1px 3px 1px rgba(60, 64, 67, 0.15);\n",
              "      fill: #174EA6;\n",
              "    }\n",
              "\n",
              "    [theme=dark] .colab-df-convert {\n",
              "      background-color: #3B4455;\n",
              "      fill: #D2E3FC;\n",
              "    }\n",
              "\n",
              "    [theme=dark] .colab-df-convert:hover {\n",
              "      background-color: #434B5C;\n",
              "      box-shadow: 0px 1px 3px 1px rgba(0, 0, 0, 0.15);\n",
              "      filter: drop-shadow(0px 1px 2px rgba(0, 0, 0, 0.3));\n",
              "      fill: #FFFFFF;\n",
              "    }\n",
              "  </style>\n",
              "\n",
              "      <script>\n",
              "        const buttonEl =\n",
              "          document.querySelector('#df-43ebf712-4fd0-402d-abe9-41cf4b8ed0a6 button.colab-df-convert');\n",
              "        buttonEl.style.display =\n",
              "          google.colab.kernel.accessAllowed ? 'block' : 'none';\n",
              "\n",
              "        async function convertToInteractive(key) {\n",
              "          const element = document.querySelector('#df-43ebf712-4fd0-402d-abe9-41cf4b8ed0a6');\n",
              "          const dataTable =\n",
              "            await google.colab.kernel.invokeFunction('convertToInteractive',\n",
              "                                                     [key], {});\n",
              "          if (!dataTable) return;\n",
              "\n",
              "          const docLinkHtml = 'Like what you see? Visit the ' +\n",
              "            '<a target=\"_blank\" href=https://colab.research.google.com/notebooks/data_table.ipynb>data table notebook</a>'\n",
              "            + ' to learn more about interactive tables.';\n",
              "          element.innerHTML = '';\n",
              "          dataTable['output_type'] = 'display_data';\n",
              "          await google.colab.output.renderOutput(dataTable, element);\n",
              "          const docLink = document.createElement('div');\n",
              "          docLink.innerHTML = docLinkHtml;\n",
              "          element.appendChild(docLink);\n",
              "        }\n",
              "      </script>\n",
              "    </div>\n",
              "  </div>\n",
              "  "
            ]
          },
          "metadata": {},
          "execution_count": 26
        }
      ]
    },
    {
      "cell_type": "markdown",
      "source": [
        "-----------"
      ],
      "metadata": {
        "id": "7jEjK9V1hPv7"
      }
    },
    {
      "cell_type": "markdown",
      "source": [
        "# 1. 첫번째 데이터 부터 순서대로 50:50으로 데이터를 나누고, 앞에서 부터 50%의 데이터(이하, A그룹)는 'f1'컬럼을 A그룹의 중앙값으로 채우고, 뒤에서부터 50% 데이터(이하, B그룹)는 'f1'컬럼을 B그룹의 최대값으로 채운 후, A그룹과 B그룹의 표준편차 합을 구하시오\n",
        "- 단, 소수점 첫째자리까지 구하시오 (둘째자리에서 반올림)"
      ],
      "metadata": {
        "id": "8POXRtQVfQeF"
      }
    },
    {
      "cell_type": "code",
      "source": [
        "df1 = df.copy()"
      ],
      "metadata": {
        "id": "_7XSHnZWfTEY"
      },
      "execution_count": 27,
      "outputs": []
    },
    {
      "cell_type": "markdown",
      "source": [
        "# qcut으로 인덱스 기준 두 그룹으로 나누고 라벨 지정"
      ],
      "metadata": {
        "id": "GJufrWXtnJHS"
      }
    },
    {
      "cell_type": "markdown",
      "source": [
        ""
      ],
      "metadata": {
        "id": "ytXKyjf9nJJp"
      }
    },
    {
      "cell_type": "code",
      "source": [
        "df1['group'] = pd.qcut(df1.index, 2, labels=['A', 'B'])"
      ],
      "metadata": {
        "id": "0qGhPcKCfcvM"
      },
      "execution_count": 28,
      "outputs": []
    },
    {
      "cell_type": "code",
      "source": [
        "df1"
      ],
      "metadata": {
        "colab": {
          "base_uri": "https://localhost:8080/",
          "height": 424
        },
        "id": "w5RX0-haf4Fj",
        "outputId": "5a35a097-8ed3-49e1-8e6f-3cb071c896c9"
      },
      "execution_count": 29,
      "outputs": [
        {
          "output_type": "execute_result",
          "data": {
            "text/plain": [
              "       id    age city    f1  f2   f3    f4         f5 group\n",
              "0    id01    2.0   서울   NaN   0  NaN  ENFJ  91.297791     A\n",
              "1    id02    9.0   서울  70.0   1  NaN  ENFJ  60.339826     A\n",
              "2    id03   27.0   서울  61.0   1  NaN  ISTJ  17.252986     A\n",
              "3    id04   75.0   서울   NaN   2  NaN  INFP  52.667078     A\n",
              "4    id05   24.0   서울  85.0   2  NaN  ISFJ  29.269869     A\n",
              "..    ...    ...  ...   ...  ..  ...   ...        ...   ...\n",
              "95   id96   92.0   경기  53.0   1  NaN  ENTJ  52.667078     B\n",
              "96   id97  100.0   경기   NaN   0  NaN  INFP  67.886373     B\n",
              "97   id98   39.0   경기  58.0   2  NaN  INFP  98.429899     B\n",
              "98   id99    1.0   경기  47.0   0  NaN  ESFJ  97.381034     B\n",
              "99  id100   47.0   경기  53.0   0  vip  ESFP  33.308999     B\n",
              "\n",
              "[100 rows x 9 columns]"
            ],
            "text/html": [
              "\n",
              "  <div id=\"df-38ba1dbc-b0dd-482d-98d9-9267d7e78458\">\n",
              "    <div class=\"colab-df-container\">\n",
              "      <div>\n",
              "<style scoped>\n",
              "    .dataframe tbody tr th:only-of-type {\n",
              "        vertical-align: middle;\n",
              "    }\n",
              "\n",
              "    .dataframe tbody tr th {\n",
              "        vertical-align: top;\n",
              "    }\n",
              "\n",
              "    .dataframe thead th {\n",
              "        text-align: right;\n",
              "    }\n",
              "</style>\n",
              "<table border=\"1\" class=\"dataframe\">\n",
              "  <thead>\n",
              "    <tr style=\"text-align: right;\">\n",
              "      <th></th>\n",
              "      <th>id</th>\n",
              "      <th>age</th>\n",
              "      <th>city</th>\n",
              "      <th>f1</th>\n",
              "      <th>f2</th>\n",
              "      <th>f3</th>\n",
              "      <th>f4</th>\n",
              "      <th>f5</th>\n",
              "      <th>group</th>\n",
              "    </tr>\n",
              "  </thead>\n",
              "  <tbody>\n",
              "    <tr>\n",
              "      <th>0</th>\n",
              "      <td>id01</td>\n",
              "      <td>2.0</td>\n",
              "      <td>서울</td>\n",
              "      <td>NaN</td>\n",
              "      <td>0</td>\n",
              "      <td>NaN</td>\n",
              "      <td>ENFJ</td>\n",
              "      <td>91.297791</td>\n",
              "      <td>A</td>\n",
              "    </tr>\n",
              "    <tr>\n",
              "      <th>1</th>\n",
              "      <td>id02</td>\n",
              "      <td>9.0</td>\n",
              "      <td>서울</td>\n",
              "      <td>70.0</td>\n",
              "      <td>1</td>\n",
              "      <td>NaN</td>\n",
              "      <td>ENFJ</td>\n",
              "      <td>60.339826</td>\n",
              "      <td>A</td>\n",
              "    </tr>\n",
              "    <tr>\n",
              "      <th>2</th>\n",
              "      <td>id03</td>\n",
              "      <td>27.0</td>\n",
              "      <td>서울</td>\n",
              "      <td>61.0</td>\n",
              "      <td>1</td>\n",
              "      <td>NaN</td>\n",
              "      <td>ISTJ</td>\n",
              "      <td>17.252986</td>\n",
              "      <td>A</td>\n",
              "    </tr>\n",
              "    <tr>\n",
              "      <th>3</th>\n",
              "      <td>id04</td>\n",
              "      <td>75.0</td>\n",
              "      <td>서울</td>\n",
              "      <td>NaN</td>\n",
              "      <td>2</td>\n",
              "      <td>NaN</td>\n",
              "      <td>INFP</td>\n",
              "      <td>52.667078</td>\n",
              "      <td>A</td>\n",
              "    </tr>\n",
              "    <tr>\n",
              "      <th>4</th>\n",
              "      <td>id05</td>\n",
              "      <td>24.0</td>\n",
              "      <td>서울</td>\n",
              "      <td>85.0</td>\n",
              "      <td>2</td>\n",
              "      <td>NaN</td>\n",
              "      <td>ISFJ</td>\n",
              "      <td>29.269869</td>\n",
              "      <td>A</td>\n",
              "    </tr>\n",
              "    <tr>\n",
              "      <th>...</th>\n",
              "      <td>...</td>\n",
              "      <td>...</td>\n",
              "      <td>...</td>\n",
              "      <td>...</td>\n",
              "      <td>...</td>\n",
              "      <td>...</td>\n",
              "      <td>...</td>\n",
              "      <td>...</td>\n",
              "      <td>...</td>\n",
              "    </tr>\n",
              "    <tr>\n",
              "      <th>95</th>\n",
              "      <td>id96</td>\n",
              "      <td>92.0</td>\n",
              "      <td>경기</td>\n",
              "      <td>53.0</td>\n",
              "      <td>1</td>\n",
              "      <td>NaN</td>\n",
              "      <td>ENTJ</td>\n",
              "      <td>52.667078</td>\n",
              "      <td>B</td>\n",
              "    </tr>\n",
              "    <tr>\n",
              "      <th>96</th>\n",
              "      <td>id97</td>\n",
              "      <td>100.0</td>\n",
              "      <td>경기</td>\n",
              "      <td>NaN</td>\n",
              "      <td>0</td>\n",
              "      <td>NaN</td>\n",
              "      <td>INFP</td>\n",
              "      <td>67.886373</td>\n",
              "      <td>B</td>\n",
              "    </tr>\n",
              "    <tr>\n",
              "      <th>97</th>\n",
              "      <td>id98</td>\n",
              "      <td>39.0</td>\n",
              "      <td>경기</td>\n",
              "      <td>58.0</td>\n",
              "      <td>2</td>\n",
              "      <td>NaN</td>\n",
              "      <td>INFP</td>\n",
              "      <td>98.429899</td>\n",
              "      <td>B</td>\n",
              "    </tr>\n",
              "    <tr>\n",
              "      <th>98</th>\n",
              "      <td>id99</td>\n",
              "      <td>1.0</td>\n",
              "      <td>경기</td>\n",
              "      <td>47.0</td>\n",
              "      <td>0</td>\n",
              "      <td>NaN</td>\n",
              "      <td>ESFJ</td>\n",
              "      <td>97.381034</td>\n",
              "      <td>B</td>\n",
              "    </tr>\n",
              "    <tr>\n",
              "      <th>99</th>\n",
              "      <td>id100</td>\n",
              "      <td>47.0</td>\n",
              "      <td>경기</td>\n",
              "      <td>53.0</td>\n",
              "      <td>0</td>\n",
              "      <td>vip</td>\n",
              "      <td>ESFP</td>\n",
              "      <td>33.308999</td>\n",
              "      <td>B</td>\n",
              "    </tr>\n",
              "  </tbody>\n",
              "</table>\n",
              "<p>100 rows × 9 columns</p>\n",
              "</div>\n",
              "      <button class=\"colab-df-convert\" onclick=\"convertToInteractive('df-38ba1dbc-b0dd-482d-98d9-9267d7e78458')\"\n",
              "              title=\"Convert this dataframe to an interactive table.\"\n",
              "              style=\"display:none;\">\n",
              "        \n",
              "  <svg xmlns=\"http://www.w3.org/2000/svg\" height=\"24px\"viewBox=\"0 0 24 24\"\n",
              "       width=\"24px\">\n",
              "    <path d=\"M0 0h24v24H0V0z\" fill=\"none\"/>\n",
              "    <path d=\"M18.56 5.44l.94 2.06.94-2.06 2.06-.94-2.06-.94-.94-2.06-.94 2.06-2.06.94zm-11 1L8.5 8.5l.94-2.06 2.06-.94-2.06-.94L8.5 2.5l-.94 2.06-2.06.94zm10 10l.94 2.06.94-2.06 2.06-.94-2.06-.94-.94-2.06-.94 2.06-2.06.94z\"/><path d=\"M17.41 7.96l-1.37-1.37c-.4-.4-.92-.59-1.43-.59-.52 0-1.04.2-1.43.59L10.3 9.45l-7.72 7.72c-.78.78-.78 2.05 0 2.83L4 21.41c.39.39.9.59 1.41.59.51 0 1.02-.2 1.41-.59l7.78-7.78 2.81-2.81c.8-.78.8-2.07 0-2.86zM5.41 20L4 18.59l7.72-7.72 1.47 1.35L5.41 20z\"/>\n",
              "  </svg>\n",
              "      </button>\n",
              "      \n",
              "  <style>\n",
              "    .colab-df-container {\n",
              "      display:flex;\n",
              "      flex-wrap:wrap;\n",
              "      gap: 12px;\n",
              "    }\n",
              "\n",
              "    .colab-df-convert {\n",
              "      background-color: #E8F0FE;\n",
              "      border: none;\n",
              "      border-radius: 50%;\n",
              "      cursor: pointer;\n",
              "      display: none;\n",
              "      fill: #1967D2;\n",
              "      height: 32px;\n",
              "      padding: 0 0 0 0;\n",
              "      width: 32px;\n",
              "    }\n",
              "\n",
              "    .colab-df-convert:hover {\n",
              "      background-color: #E2EBFA;\n",
              "      box-shadow: 0px 1px 2px rgba(60, 64, 67, 0.3), 0px 1px 3px 1px rgba(60, 64, 67, 0.15);\n",
              "      fill: #174EA6;\n",
              "    }\n",
              "\n",
              "    [theme=dark] .colab-df-convert {\n",
              "      background-color: #3B4455;\n",
              "      fill: #D2E3FC;\n",
              "    }\n",
              "\n",
              "    [theme=dark] .colab-df-convert:hover {\n",
              "      background-color: #434B5C;\n",
              "      box-shadow: 0px 1px 3px 1px rgba(0, 0, 0, 0.15);\n",
              "      filter: drop-shadow(0px 1px 2px rgba(0, 0, 0, 0.3));\n",
              "      fill: #FFFFFF;\n",
              "    }\n",
              "  </style>\n",
              "\n",
              "      <script>\n",
              "        const buttonEl =\n",
              "          document.querySelector('#df-38ba1dbc-b0dd-482d-98d9-9267d7e78458 button.colab-df-convert');\n",
              "        buttonEl.style.display =\n",
              "          google.colab.kernel.accessAllowed ? 'block' : 'none';\n",
              "\n",
              "        async function convertToInteractive(key) {\n",
              "          const element = document.querySelector('#df-38ba1dbc-b0dd-482d-98d9-9267d7e78458');\n",
              "          const dataTable =\n",
              "            await google.colab.kernel.invokeFunction('convertToInteractive',\n",
              "                                                     [key], {});\n",
              "          if (!dataTable) return;\n",
              "\n",
              "          const docLinkHtml = 'Like what you see? Visit the ' +\n",
              "            '<a target=\"_blank\" href=https://colab.research.google.com/notebooks/data_table.ipynb>data table notebook</a>'\n",
              "            + ' to learn more about interactive tables.';\n",
              "          element.innerHTML = '';\n",
              "          dataTable['output_type'] = 'display_data';\n",
              "          await google.colab.output.renderOutput(dataTable, element);\n",
              "          const docLink = document.createElement('div');\n",
              "          docLink.innerHTML = docLinkHtml;\n",
              "          element.appendChild(docLink);\n",
              "        }\n",
              "      </script>\n",
              "    </div>\n",
              "  </div>\n",
              "  "
            ]
          },
          "metadata": {},
          "execution_count": 29
        }
      ]
    },
    {
      "cell_type": "markdown",
      "source": [
        "# A라벨의 f1 결측치는 A라벨 f1 중앙값으로 채우고 B라벨의 f1 결측치는 B라벨 f1 최대값으로 채우기"
      ],
      "metadata": {
        "id": "s9RZfCjZnOj7"
      }
    },
    {
      "cell_type": "code",
      "source": [
        "df1['f1'][df1['group'] == 'A'] = df1['f1'][df1['group'] == 'A'].fillna(df1['f1'][df1['group'] == 'A'].median())\n",
        "df1['f1'][df1['group'] == 'B'] = df1['f1'][df1['group'] == 'B'].fillna(df1['f1'][df1['group'] == 'B'].max())"
      ],
      "metadata": {
        "colab": {
          "base_uri": "https://localhost:8080/"
        },
        "id": "g-qYmjmKf-UF",
        "outputId": "6a556ea6-0e6e-461e-da80-28c73222c83e"
      },
      "execution_count": 30,
      "outputs": [
        {
          "output_type": "stream",
          "name": "stderr",
          "text": [
            "/usr/local/lib/python3.7/dist-packages/ipykernel_launcher.py:1: SettingWithCopyWarning: \n",
            "A value is trying to be set on a copy of a slice from a DataFrame\n",
            "\n",
            "See the caveats in the documentation: https://pandas.pydata.org/pandas-docs/stable/user_guide/indexing.html#returning-a-view-versus-a-copy\n",
            "  \"\"\"Entry point for launching an IPython kernel.\n",
            "/usr/local/lib/python3.7/dist-packages/ipykernel_launcher.py:2: SettingWithCopyWarning: \n",
            "A value is trying to be set on a copy of a slice from a DataFrame\n",
            "\n",
            "See the caveats in the documentation: https://pandas.pydata.org/pandas-docs/stable/user_guide/indexing.html#returning-a-view-versus-a-copy\n",
            "  \n"
          ]
        }
      ]
    },
    {
      "cell_type": "markdown",
      "source": [
        "# 결측치가 모두 채워진 것을 확인"
      ],
      "metadata": {
        "id": "PqsLdgktnaMf"
      }
    },
    {
      "cell_type": "code",
      "source": [
        "df1.isna().sum()"
      ],
      "metadata": {
        "colab": {
          "base_uri": "https://localhost:8080/"
        },
        "id": "GN4Z_rGwgtPx",
        "outputId": "7a359b4b-2065-4260-eb61-5e3b27bb1502"
      },
      "execution_count": 31,
      "outputs": [
        {
          "output_type": "execute_result",
          "data": {
            "text/plain": [
              "id        0\n",
              "age       0\n",
              "city      0\n",
              "f1        0\n",
              "f2        0\n",
              "f3       95\n",
              "f4        0\n",
              "f5        0\n",
              "group     0\n",
              "dtype: int64"
            ]
          },
          "metadata": {},
          "execution_count": 31
        }
      ]
    },
    {
      "cell_type": "markdown",
      "source": [
        "# A라벨의 f1 표준편차와 B라벨의 f1 표준편차 더하기"
      ],
      "metadata": {
        "id": "pf9cULG-ncjL"
      }
    },
    {
      "cell_type": "code",
      "source": [
        "print(round(df1['f1'][df1['group'] == 'A'].std() + df1['f1'][df1['group'] == 'B'].std(), 1))"
      ],
      "metadata": {
        "colab": {
          "base_uri": "https://localhost:8080/"
        },
        "id": "QQl74CxIgiLR",
        "outputId": "840c1bdb-2e88-46d2-d048-ec0689353f3e"
      },
      "execution_count": 34,
      "outputs": [
        {
          "output_type": "stream",
          "name": "stdout",
          "text": [
            "42.0\n"
          ]
        }
      ]
    },
    {
      "cell_type": "markdown",
      "source": [
        "---------------"
      ],
      "metadata": {
        "id": "gH-575p3hFze"
      }
    },
    {
      "cell_type": "markdown",
      "source": [
        "# 2. 'f4'컬럼을 기준 내림차순 정렬과 'f5'컬럼기준 오름차순 정렬을 순서대로 다중 조건 정렬하고나서 앞에서부터 10개의 데이터 중 'f5'컬럼의 최소값 찾고, 이 최소값으로 앞에서 부터 10개의 'f5'컬럼 데이터를 변경함. 그리고 'f5'컬럼의 평균값을 계산함\n",
        "- 단 소수점 둘째자리까지 출력(셋째자리에서 반올림)"
      ],
      "metadata": {
        "id": "0X8qJB45hG7v"
      }
    },
    {
      "cell_type": "code",
      "source": [
        "df2 = df.copy()"
      ],
      "metadata": {
        "id": "urQiJGVUgpEr"
      },
      "execution_count": 35,
      "outputs": []
    },
    {
      "cell_type": "markdown",
      "source": [
        "# sort_values를 사용하여 f4 내림차순, f5 오름차순으로 데이터 정렬"
      ],
      "metadata": {
        "id": "fvrQU269nkMO"
      }
    },
    {
      "cell_type": "code",
      "source": [
        "df2 = df2.sort_values(by=['f4', 'f5'], ascending=[False, True])"
      ],
      "metadata": {
        "id": "BdTmPyfghMus"
      },
      "execution_count": 36,
      "outputs": []
    },
    {
      "cell_type": "code",
      "source": [
        "df2"
      ],
      "metadata": {
        "colab": {
          "base_uri": "https://localhost:8080/",
          "height": 424
        },
        "id": "XDnOEjuajW5m",
        "outputId": "b79e133a-e162-47b5-b178-aeb4b08acd82"
      },
      "execution_count": 37,
      "outputs": [
        {
          "output_type": "execute_result",
          "data": {
            "text/plain": [
              "      id   age city    f1  f2   f3    f4         f5\n",
              "42  id43  23.0   대구  60.0   0  NaN  ISTP  29.269869\n",
              "69  id70  -9.0   경기  96.0   1  NaN  ISTP  48.431184\n",
              "16  id17  74.0   서울   NaN   1  NaN  ISTP  67.886373\n",
              "22  id23  34.0   부산  75.0   1  NaN  ISTP  69.730313\n",
              "2   id03  27.0   서울  61.0   1  NaN  ISTJ  17.252986\n",
              "..   ...   ...  ...   ...  ..  ...   ...        ...\n",
              "32  id33  47.0   부산  94.0   0  NaN  ENFJ  17.252986\n",
              "40  id41  81.0   대구  55.0   0  NaN  ENFJ  37.113739\n",
              "1   id02   9.0   서울  70.0   1  NaN  ENFJ  60.339826\n",
              "53  id54  53.0   대구   NaN   1  NaN  ENFJ  69.730313\n",
              "0   id01   2.0   서울   NaN   0  NaN  ENFJ  91.297791\n",
              "\n",
              "[100 rows x 8 columns]"
            ],
            "text/html": [
              "\n",
              "  <div id=\"df-60d52cd9-7799-47f2-bd80-ef04f988620b\">\n",
              "    <div class=\"colab-df-container\">\n",
              "      <div>\n",
              "<style scoped>\n",
              "    .dataframe tbody tr th:only-of-type {\n",
              "        vertical-align: middle;\n",
              "    }\n",
              "\n",
              "    .dataframe tbody tr th {\n",
              "        vertical-align: top;\n",
              "    }\n",
              "\n",
              "    .dataframe thead th {\n",
              "        text-align: right;\n",
              "    }\n",
              "</style>\n",
              "<table border=\"1\" class=\"dataframe\">\n",
              "  <thead>\n",
              "    <tr style=\"text-align: right;\">\n",
              "      <th></th>\n",
              "      <th>id</th>\n",
              "      <th>age</th>\n",
              "      <th>city</th>\n",
              "      <th>f1</th>\n",
              "      <th>f2</th>\n",
              "      <th>f3</th>\n",
              "      <th>f4</th>\n",
              "      <th>f5</th>\n",
              "    </tr>\n",
              "  </thead>\n",
              "  <tbody>\n",
              "    <tr>\n",
              "      <th>42</th>\n",
              "      <td>id43</td>\n",
              "      <td>23.0</td>\n",
              "      <td>대구</td>\n",
              "      <td>60.0</td>\n",
              "      <td>0</td>\n",
              "      <td>NaN</td>\n",
              "      <td>ISTP</td>\n",
              "      <td>29.269869</td>\n",
              "    </tr>\n",
              "    <tr>\n",
              "      <th>69</th>\n",
              "      <td>id70</td>\n",
              "      <td>-9.0</td>\n",
              "      <td>경기</td>\n",
              "      <td>96.0</td>\n",
              "      <td>1</td>\n",
              "      <td>NaN</td>\n",
              "      <td>ISTP</td>\n",
              "      <td>48.431184</td>\n",
              "    </tr>\n",
              "    <tr>\n",
              "      <th>16</th>\n",
              "      <td>id17</td>\n",
              "      <td>74.0</td>\n",
              "      <td>서울</td>\n",
              "      <td>NaN</td>\n",
              "      <td>1</td>\n",
              "      <td>NaN</td>\n",
              "      <td>ISTP</td>\n",
              "      <td>67.886373</td>\n",
              "    </tr>\n",
              "    <tr>\n",
              "      <th>22</th>\n",
              "      <td>id23</td>\n",
              "      <td>34.0</td>\n",
              "      <td>부산</td>\n",
              "      <td>75.0</td>\n",
              "      <td>1</td>\n",
              "      <td>NaN</td>\n",
              "      <td>ISTP</td>\n",
              "      <td>69.730313</td>\n",
              "    </tr>\n",
              "    <tr>\n",
              "      <th>2</th>\n",
              "      <td>id03</td>\n",
              "      <td>27.0</td>\n",
              "      <td>서울</td>\n",
              "      <td>61.0</td>\n",
              "      <td>1</td>\n",
              "      <td>NaN</td>\n",
              "      <td>ISTJ</td>\n",
              "      <td>17.252986</td>\n",
              "    </tr>\n",
              "    <tr>\n",
              "      <th>...</th>\n",
              "      <td>...</td>\n",
              "      <td>...</td>\n",
              "      <td>...</td>\n",
              "      <td>...</td>\n",
              "      <td>...</td>\n",
              "      <td>...</td>\n",
              "      <td>...</td>\n",
              "      <td>...</td>\n",
              "    </tr>\n",
              "    <tr>\n",
              "      <th>32</th>\n",
              "      <td>id33</td>\n",
              "      <td>47.0</td>\n",
              "      <td>부산</td>\n",
              "      <td>94.0</td>\n",
              "      <td>0</td>\n",
              "      <td>NaN</td>\n",
              "      <td>ENFJ</td>\n",
              "      <td>17.252986</td>\n",
              "    </tr>\n",
              "    <tr>\n",
              "      <th>40</th>\n",
              "      <td>id41</td>\n",
              "      <td>81.0</td>\n",
              "      <td>대구</td>\n",
              "      <td>55.0</td>\n",
              "      <td>0</td>\n",
              "      <td>NaN</td>\n",
              "      <td>ENFJ</td>\n",
              "      <td>37.113739</td>\n",
              "    </tr>\n",
              "    <tr>\n",
              "      <th>1</th>\n",
              "      <td>id02</td>\n",
              "      <td>9.0</td>\n",
              "      <td>서울</td>\n",
              "      <td>70.0</td>\n",
              "      <td>1</td>\n",
              "      <td>NaN</td>\n",
              "      <td>ENFJ</td>\n",
              "      <td>60.339826</td>\n",
              "    </tr>\n",
              "    <tr>\n",
              "      <th>53</th>\n",
              "      <td>id54</td>\n",
              "      <td>53.0</td>\n",
              "      <td>대구</td>\n",
              "      <td>NaN</td>\n",
              "      <td>1</td>\n",
              "      <td>NaN</td>\n",
              "      <td>ENFJ</td>\n",
              "      <td>69.730313</td>\n",
              "    </tr>\n",
              "    <tr>\n",
              "      <th>0</th>\n",
              "      <td>id01</td>\n",
              "      <td>2.0</td>\n",
              "      <td>서울</td>\n",
              "      <td>NaN</td>\n",
              "      <td>0</td>\n",
              "      <td>NaN</td>\n",
              "      <td>ENFJ</td>\n",
              "      <td>91.297791</td>\n",
              "    </tr>\n",
              "  </tbody>\n",
              "</table>\n",
              "<p>100 rows × 8 columns</p>\n",
              "</div>\n",
              "      <button class=\"colab-df-convert\" onclick=\"convertToInteractive('df-60d52cd9-7799-47f2-bd80-ef04f988620b')\"\n",
              "              title=\"Convert this dataframe to an interactive table.\"\n",
              "              style=\"display:none;\">\n",
              "        \n",
              "  <svg xmlns=\"http://www.w3.org/2000/svg\" height=\"24px\"viewBox=\"0 0 24 24\"\n",
              "       width=\"24px\">\n",
              "    <path d=\"M0 0h24v24H0V0z\" fill=\"none\"/>\n",
              "    <path d=\"M18.56 5.44l.94 2.06.94-2.06 2.06-.94-2.06-.94-.94-2.06-.94 2.06-2.06.94zm-11 1L8.5 8.5l.94-2.06 2.06-.94-2.06-.94L8.5 2.5l-.94 2.06-2.06.94zm10 10l.94 2.06.94-2.06 2.06-.94-2.06-.94-.94-2.06-.94 2.06-2.06.94z\"/><path d=\"M17.41 7.96l-1.37-1.37c-.4-.4-.92-.59-1.43-.59-.52 0-1.04.2-1.43.59L10.3 9.45l-7.72 7.72c-.78.78-.78 2.05 0 2.83L4 21.41c.39.39.9.59 1.41.59.51 0 1.02-.2 1.41-.59l7.78-7.78 2.81-2.81c.8-.78.8-2.07 0-2.86zM5.41 20L4 18.59l7.72-7.72 1.47 1.35L5.41 20z\"/>\n",
              "  </svg>\n",
              "      </button>\n",
              "      \n",
              "  <style>\n",
              "    .colab-df-container {\n",
              "      display:flex;\n",
              "      flex-wrap:wrap;\n",
              "      gap: 12px;\n",
              "    }\n",
              "\n",
              "    .colab-df-convert {\n",
              "      background-color: #E8F0FE;\n",
              "      border: none;\n",
              "      border-radius: 50%;\n",
              "      cursor: pointer;\n",
              "      display: none;\n",
              "      fill: #1967D2;\n",
              "      height: 32px;\n",
              "      padding: 0 0 0 0;\n",
              "      width: 32px;\n",
              "    }\n",
              "\n",
              "    .colab-df-convert:hover {\n",
              "      background-color: #E2EBFA;\n",
              "      box-shadow: 0px 1px 2px rgba(60, 64, 67, 0.3), 0px 1px 3px 1px rgba(60, 64, 67, 0.15);\n",
              "      fill: #174EA6;\n",
              "    }\n",
              "\n",
              "    [theme=dark] .colab-df-convert {\n",
              "      background-color: #3B4455;\n",
              "      fill: #D2E3FC;\n",
              "    }\n",
              "\n",
              "    [theme=dark] .colab-df-convert:hover {\n",
              "      background-color: #434B5C;\n",
              "      box-shadow: 0px 1px 3px 1px rgba(0, 0, 0, 0.15);\n",
              "      filter: drop-shadow(0px 1px 2px rgba(0, 0, 0, 0.3));\n",
              "      fill: #FFFFFF;\n",
              "    }\n",
              "  </style>\n",
              "\n",
              "      <script>\n",
              "        const buttonEl =\n",
              "          document.querySelector('#df-60d52cd9-7799-47f2-bd80-ef04f988620b button.colab-df-convert');\n",
              "        buttonEl.style.display =\n",
              "          google.colab.kernel.accessAllowed ? 'block' : 'none';\n",
              "\n",
              "        async function convertToInteractive(key) {\n",
              "          const element = document.querySelector('#df-60d52cd9-7799-47f2-bd80-ef04f988620b');\n",
              "          const dataTable =\n",
              "            await google.colab.kernel.invokeFunction('convertToInteractive',\n",
              "                                                     [key], {});\n",
              "          if (!dataTable) return;\n",
              "\n",
              "          const docLinkHtml = 'Like what you see? Visit the ' +\n",
              "            '<a target=\"_blank\" href=https://colab.research.google.com/notebooks/data_table.ipynb>data table notebook</a>'\n",
              "            + ' to learn more about interactive tables.';\n",
              "          element.innerHTML = '';\n",
              "          dataTable['output_type'] = 'display_data';\n",
              "          await google.colab.output.renderOutput(dataTable, element);\n",
              "          const docLink = document.createElement('div');\n",
              "          docLink.innerHTML = docLinkHtml;\n",
              "          element.appendChild(docLink);\n",
              "        }\n",
              "      </script>\n",
              "    </div>\n",
              "  </div>\n",
              "  "
            ]
          },
          "metadata": {},
          "execution_count": 37
        }
      ]
    },
    {
      "cell_type": "markdown",
      "source": [
        "# 정렬된 f5 값의 앞에서 10개의 데이터 중 가장 작은 값으로 앞에서 10개의 f5 데이터 대체"
      ],
      "metadata": {
        "id": "B6xG27YCn0eZ"
      }
    },
    {
      "cell_type": "code",
      "source": [
        "df2['f5'].iloc[:10] = df2['f5'].iloc[:10].min()"
      ],
      "metadata": {
        "colab": {
          "base_uri": "https://localhost:8080/"
        },
        "id": "mJDVGy79jXwh",
        "outputId": "ef770d19-055e-4696-cc0d-c166ae51295f"
      },
      "execution_count": 39,
      "outputs": [
        {
          "output_type": "stream",
          "name": "stderr",
          "text": [
            "/usr/local/lib/python3.7/dist-packages/pandas/core/indexing.py:1732: SettingWithCopyWarning: \n",
            "A value is trying to be set on a copy of a slice from a DataFrame\n",
            "\n",
            "See the caveats in the documentation: https://pandas.pydata.org/pandas-docs/stable/user_guide/indexing.html#returning-a-view-versus-a-copy\n",
            "  self._setitem_single_block(indexer, value, name)\n"
          ]
        }
      ]
    },
    {
      "cell_type": "markdown",
      "source": [
        "# f5값의 평균 구하기"
      ],
      "metadata": {
        "id": "s01DOCv5oAGZ"
      }
    },
    {
      "cell_type": "code",
      "source": [
        "print(round(df2['f5'].mean(), 2))"
      ],
      "metadata": {
        "colab": {
          "base_uri": "https://localhost:8080/"
        },
        "id": "Auv5pvprjqwO",
        "outputId": "391da4a6-31b7-409c-f0ca-75c6ba121981"
      },
      "execution_count": 41,
      "outputs": [
        {
          "output_type": "stream",
          "name": "stdout",
          "text": [
            "53.63\n"
          ]
        }
      ]
    },
    {
      "cell_type": "markdown",
      "source": [
        "----------"
      ],
      "metadata": {
        "id": "gzhuzplBkMko"
      }
    },
    {
      "cell_type": "markdown",
      "source": [
        "# 3. 'age' 컬럼의 IQR방식을 이용한 이상치 수와 표준편차*1.5방식을 이용한 이상치 수 합을 구하시오\n",
        "- IQR방식 : Q1 - 1.5 IQR, Q3 + 1.5 IQR에서 벗어나는 영역을 이상치라고 판단함 (Q1은 데이터의 25%, Q3는 데이터의 75% 지점임)\n",
        "- 표준편차1.5방식: 평균으로부터 '표준편차1.5'를 벗어나는 영역을 이상치라고 판단함"
      ],
      "metadata": {
        "id": "v_DXVcwKkQeW"
      }
    },
    {
      "cell_type": "code",
      "source": [
        "df3 = df.copy()"
      ],
      "metadata": {
        "id": "5XHMK9vIkTX3"
      },
      "execution_count": 42,
      "outputs": []
    },
    {
      "cell_type": "markdown",
      "source": [
        "# quantile을 사용하여 Q3와 Q1을 구하고 IQR 계산"
      ],
      "metadata": {
        "id": "Gd8vio1xoDm5"
      }
    },
    {
      "cell_type": "code",
      "source": [
        "Q3 = df3['age'].quantile(0.75)\n",
        "Q1 = df3['age'].quantile(0.25)\n",
        "IQR = Q3 - Q1"
      ],
      "metadata": {
        "id": "faLQMPTikzoj"
      },
      "execution_count": 45,
      "outputs": []
    },
    {
      "cell_type": "markdown",
      "source": [
        "# IQR 방식으로 판단한 이상치 수 계산"
      ],
      "metadata": {
        "id": "bTXt7A2NoI5y"
      }
    },
    {
      "cell_type": "code",
      "source": [
        "num_IQR_outlier = len(df['age'][(df['age'] > Q3 + 1.5*IQR) | (df['age'] < Q1 - 1.5*IQR)])"
      ],
      "metadata": {
        "id": "Mf2814zqlM1l"
      },
      "execution_count": 47,
      "outputs": []
    },
    {
      "cell_type": "markdown",
      "source": [
        "# 1.5std 방식으로 판단한 이상치 수 계산"
      ],
      "metadata": {
        "id": "SpwGtKz1oO90"
      }
    },
    {
      "cell_type": "code",
      "source": [
        "num_std_outlier = len(df['age'][(df['age'] > df['age'].mean() + 1.5*df['age'].std()) | (df['age'] < df['age'].mean() - 1.5*df['age'].std())])"
      ],
      "metadata": {
        "id": "p6nEJXyPlNid"
      },
      "execution_count": 50,
      "outputs": []
    },
    {
      "cell_type": "markdown",
      "source": [
        "# 두 이상치 수 더하기"
      ],
      "metadata": {
        "id": "35BRq7KLoTFd"
      }
    },
    {
      "cell_type": "code",
      "source": [
        "print(num_IQR_outlier + num_std_outlier)"
      ],
      "metadata": {
        "colab": {
          "base_uri": "https://localhost:8080/"
        },
        "id": "wvIEPugImAjJ",
        "outputId": "2effba01-752a-4675-d4ae-bc730fe885b6"
      },
      "execution_count": 51,
      "outputs": [
        {
          "output_type": "stream",
          "name": "stdout",
          "text": [
            "14\n"
          ]
        }
      ]
    }
  ]
}