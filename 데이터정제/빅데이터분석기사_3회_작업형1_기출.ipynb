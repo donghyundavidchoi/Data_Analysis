{
  "nbformat": 4,
  "nbformat_minor": 0,
  "metadata": {
    "colab": {
      "name": "빅데이터분석기사_3회_작업형1_기출.ipynb",
      "provenance": [],
      "collapsed_sections": [],
      "authorship_tag": "ABX9TyNfjy1r9/vmrLBb+Fug9Fy5",
      "include_colab_link": true
    },
    "kernelspec": {
      "name": "python3",
      "display_name": "Python 3"
    },
    "language_info": {
      "name": "python"
    }
  },
  "cells": [
    {
      "cell_type": "markdown",
      "metadata": {
        "id": "view-in-github",
        "colab_type": "text"
      },
      "source": [
        "<a href=\"https://colab.research.google.com/github/donghyundavidchoi/Data_Analysis/blob/main/%EB%8D%B0%EC%9D%B4%ED%84%B0%EC%A0%95%EC%A0%9C/%EB%B9%85%EB%8D%B0%EC%9D%B4%ED%84%B0%EB%B6%84%EC%84%9D%EA%B8%B0%EC%82%AC_3%ED%9A%8C_%EC%9E%91%EC%97%85%ED%98%951_%EA%B8%B0%EC%B6%9C.ipynb\" target=\"_parent\"><img src=\"https://colab.research.google.com/assets/colab-badge.svg\" alt=\"Open In Colab\"/></a>"
      ]
    },
    {
      "cell_type": "code",
      "execution_count": 2,
      "metadata": {
        "colab": {
          "base_uri": "https://localhost:8080/"
        },
        "id": "YhcNySlbCtbS",
        "outputId": "3b582879-f553-4a94-e78c-a243379f7eb9"
      },
      "outputs": [
        {
          "output_type": "stream",
          "name": "stdout",
          "text": [
            "Downloading...\n",
            "From: https://drive.google.com/uc?id=1txRVXp-Eh222PzIeTQ-fuAoUYFR9f7q-\n",
            "To: /content/kaggle.json\n",
            "\r  0% 0.00/73.0 [00:00<?, ?B/s]\r100% 73.0/73.0 [00:00<00:00, 122kB/s]\n"
          ]
        }
      ],
      "source": [
        "!gdown --fuzzy https://drive.google.com/file/d/1txRVXp-Eh222PzIeTQ-fuAoUYFR9f7q-/view?usp=sharing\n",
        "!mkdir -p ~/.kaggle\n",
        "!cp /content/kaggle.json ~/.kaggle/\n",
        "!chmod 600 ~/.kaggle/kaggle.json"
      ]
    },
    {
      "cell_type": "markdown",
      "source": [
        "# 1. [캘리포니아 집값 데이터] 데이터의 결측값을 제거한 후, 처음부터 순서대로 70%를 추출하여 'housing_median_age'의 Q1 값 구하기"
      ],
      "metadata": {
        "id": "7mNNlS29CvRR"
      }
    },
    {
      "cell_type": "code",
      "source": [
        "!kaggle datasets download -d harrywang/housing"
      ],
      "metadata": {
        "colab": {
          "base_uri": "https://localhost:8080/"
        },
        "id": "h7RYqZUEDHqB",
        "outputId": "7ea2c716-a900-412d-d3ff-f605a04a0abb"
      },
      "execution_count": 3,
      "outputs": [
        {
          "output_type": "stream",
          "name": "stdout",
          "text": [
            "Downloading housing.zip to /content\n",
            "\r  0% 0.00/400k [00:00<?, ?B/s]\n",
            "\r100% 400k/400k [00:00<00:00, 101MB/s]\n"
          ]
        }
      ]
    },
    {
      "cell_type": "code",
      "source": [
        "!unzip /content/housing.zip"
      ],
      "metadata": {
        "colab": {
          "base_uri": "https://localhost:8080/"
        },
        "id": "UB73IX-oDPDG",
        "outputId": "47275e49-2deb-45ff-cd79-dac1c552508d"
      },
      "execution_count": 4,
      "outputs": [
        {
          "output_type": "stream",
          "name": "stdout",
          "text": [
            "Archive:  /content/housing.zip\n",
            "  inflating: anscombe.csv            \n",
            "  inflating: housing.csv             \n"
          ]
        }
      ]
    },
    {
      "cell_type": "code",
      "source": [
        "import pandas as pd\n",
        "import numpy as np\n",
        "\n",
        "df1 = pd.read_csv('/content/housing.csv')\n",
        "\n",
        "print(df1.shape)\n",
        "print()\n",
        "print(df1.head())\n",
        "print()\n",
        "print(df1.isna().sum())\n",
        "print()\n",
        "df1 = df1.dropna()\n",
        "print(len(df1))\n",
        "df1 = df1[:(round(len(df1)*0.7))]\n",
        "print()\n",
        "print(df1.shape)\n",
        "print()\n",
        "Q1 = int(df1['housing_median_age'].quantile(0.25))\n",
        "print(Q1)"
      ],
      "metadata": {
        "colab": {
          "base_uri": "https://localhost:8080/"
        },
        "id": "tlgXzkh0DYK1",
        "outputId": "ed3c26b8-34b6-4759-fe26-dd80c908a936"
      },
      "execution_count": 19,
      "outputs": [
        {
          "output_type": "stream",
          "name": "stdout",
          "text": [
            "(20640, 10)\n",
            "\n",
            "   longitude  latitude  housing_median_age  total_rooms  total_bedrooms  \\\n",
            "0    -122.23     37.88                41.0        880.0           129.0   \n",
            "1    -122.22     37.86                21.0       7099.0          1106.0   \n",
            "2    -122.24     37.85                52.0       1467.0           190.0   \n",
            "3    -122.25     37.85                52.0       1274.0           235.0   \n",
            "4    -122.25     37.85                52.0       1627.0           280.0   \n",
            "\n",
            "   population  households  median_income  median_house_value ocean_proximity  \n",
            "0       322.0       126.0         8.3252            452600.0        NEAR BAY  \n",
            "1      2401.0      1138.0         8.3014            358500.0        NEAR BAY  \n",
            "2       496.0       177.0         7.2574            352100.0        NEAR BAY  \n",
            "3       558.0       219.0         5.6431            341300.0        NEAR BAY  \n",
            "4       565.0       259.0         3.8462            342200.0        NEAR BAY  \n",
            "\n",
            "longitude               0\n",
            "latitude                0\n",
            "housing_median_age      0\n",
            "total_rooms             0\n",
            "total_bedrooms        207\n",
            "population              0\n",
            "households              0\n",
            "median_income           0\n",
            "median_house_value      0\n",
            "ocean_proximity         0\n",
            "dtype: int64\n",
            "\n",
            "20433\n",
            "\n",
            "(14303, 10)\n",
            "\n",
            "19\n"
          ]
        }
      ]
    },
    {
      "cell_type": "markdown",
      "source": [
        "---------"
      ],
      "metadata": {
        "id": "p4oN6nqoDeQE"
      }
    },
    {
      "cell_type": "markdown",
      "source": [
        "# 2. [연도별 나라별 유병률 데이터] 데이터 중 2000년도에 전체 국가 유병률의 평균보다 큰 나라 수를 구하라. \n",
        "\n",
        "# 데이터가 없어서 빅데이터분석기사 실기 준비 데이터 basic2.csv에 대해 변형 문제 수행.\n",
        "# 2022년 데이터 중 평균 Sales가 가장 높은 달 구하기"
      ],
      "metadata": {
        "id": "cS70qDupDeS9"
      }
    },
    {
      "cell_type": "code",
      "source": [
        "!kaggle datasets download -d agileteam/bigdatacertificationkr"
      ],
      "metadata": {
        "colab": {
          "base_uri": "https://localhost:8080/"
        },
        "id": "cq9-x8lGDzFC",
        "outputId": "e7dab169-0753-417d-83f4-e282aeb6ec2a"
      },
      "execution_count": 10,
      "outputs": [
        {
          "output_type": "stream",
          "name": "stdout",
          "text": [
            "Downloading bigdatacertificationkr.zip to /content\n",
            "\r  0% 0.00/15.5k [00:00<?, ?B/s]\n",
            "\r100% 15.5k/15.5k [00:00<00:00, 10.6MB/s]\n"
          ]
        }
      ]
    },
    {
      "cell_type": "code",
      "source": [
        "!unzip /content/bigdatacertificationkr.zip"
      ],
      "metadata": {
        "colab": {
          "base_uri": "https://localhost:8080/"
        },
        "id": "eKbdtA68DzHT",
        "outputId": "9a21e421-2d5f-4c4b-ec56-8a1c43212dd2"
      },
      "execution_count": 11,
      "outputs": [
        {
          "output_type": "stream",
          "name": "stdout",
          "text": [
            "Archive:  /content/bigdatacertificationkr.zip\n",
            "  inflating: basic1.csv              \n",
            "  inflating: basic1_json.json        \n",
            "  inflating: basic1_xml.xml          \n",
            "  inflating: basic2.csv              \n",
            "  inflating: basic3.csv              \n"
          ]
        }
      ]
    },
    {
      "cell_type": "code",
      "source": [
        "import pandas as pd\n",
        "import numpy as np\n",
        "\n",
        "df2 = pd.read_csv('/content/basic2.csv')\n",
        "\n",
        "print(df2.head())\n",
        "print()\n",
        "print(df2.info())\n",
        "print()\n",
        "print('to_datetime 실행')\n",
        "df2['Date'] = pd.to_datetime(df2['Date'])\n",
        "print(df2.info())\n",
        "print()\n",
        "print(\"Year 및 Month 생성\")\n",
        "df2['Year'] = df2['Date'].dt.year\n",
        "df2['Month'] = df2['Date'].dt.month\n",
        "print(df2.head())\n",
        "print()\n",
        "df2_groupby_2022 = df2[df2['Year'] == 2022].groupby('Month').sum()\n",
        "print(df2_groupby_2022)\n",
        "max_month_2022 = df2_groupby_2022['Sales'][df2_groupby_2022['Sales'] == df2_groupby_2022['Sales'].max()].index\n",
        "print()\n",
        "print('2022년 최대 매출 월 :', max_month_2022[0])"
      ],
      "metadata": {
        "colab": {
          "base_uri": "https://localhost:8080/"
        },
        "id": "Qte-5LxrDwud",
        "outputId": "98efee9c-4291-44c7-8c56-f8836a0fdf88"
      },
      "execution_count": 72,
      "outputs": [
        {
          "output_type": "stream",
          "name": "stdout",
          "text": [
            "         Date     Sales      PV      UV  Events\n",
            "0  2022-01-01  22711525  397349  4421.0       1\n",
            "1  2022-01-02     36779    3969  2289.0       0\n",
            "2  2022-01-03  13943875  373890     NaN       1\n",
            "3  2022-01-04   8088593  142054  2157.0       0\n",
            "4  2022-01-05   2395374  190684     NaN       0\n",
            "\n",
            "<class 'pandas.core.frame.DataFrame'>\n",
            "RangeIndex: 730 entries, 0 to 729\n",
            "Data columns (total 5 columns):\n",
            " #   Column  Non-Null Count  Dtype  \n",
            "---  ------  --------------  -----  \n",
            " 0   Date    730 non-null    object \n",
            " 1   Sales   730 non-null    int64  \n",
            " 2   PV      730 non-null    int64  \n",
            " 3   UV      684 non-null    float64\n",
            " 4   Events  730 non-null    int64  \n",
            "dtypes: float64(1), int64(3), object(1)\n",
            "memory usage: 28.6+ KB\n",
            "None\n",
            "\n",
            "to_datetime 실행\n",
            "<class 'pandas.core.frame.DataFrame'>\n",
            "RangeIndex: 730 entries, 0 to 729\n",
            "Data columns (total 5 columns):\n",
            " #   Column  Non-Null Count  Dtype         \n",
            "---  ------  --------------  -----         \n",
            " 0   Date    730 non-null    datetime64[ns]\n",
            " 1   Sales   730 non-null    int64         \n",
            " 2   PV      730 non-null    int64         \n",
            " 3   UV      684 non-null    float64       \n",
            " 4   Events  730 non-null    int64         \n",
            "dtypes: datetime64[ns](1), float64(1), int64(3)\n",
            "memory usage: 28.6 KB\n",
            "None\n",
            "\n",
            "Year 및 Month 생성\n",
            "        Date     Sales      PV      UV  Events  Year  Month\n",
            "0 2022-01-01  22711525  397349  4421.0       1  2022      1\n",
            "1 2022-01-02     36779    3969  2289.0       0  2022      1\n",
            "2 2022-01-03  13943875  373890     NaN       1  2022      1\n",
            "3 2022-01-04   8088593  142054  2157.0       0  2022      1\n",
            "4 2022-01-05   2395374  190684     NaN       0  2022      1\n",
            "\n",
            "           Sales       PV       UV  Events   Year\n",
            "Month                                            \n",
            "1      129342654  3079961  50366.0       5  62682\n",
            "2      180741394  3298119  68908.0       9  56616\n",
            "3      200161616  4726549  86131.0       9  62682\n",
            "4      126811278  3212413  57795.0       6  60660\n",
            "5      141285007  3523070  58316.0       7  62682\n",
            "6      183586082  3582375  70900.0       8  60660\n",
            "7      221417897  4152793  74925.0      10  62682\n",
            "8      123502487  2845228  64624.0       8  62682\n",
            "9      186583144  4172376  79254.0      10  60660\n",
            "10     213484807  4028003  73127.0      10  62682\n",
            "11      93177201  2174862  48903.0       2  60660\n",
            "12     222485234  4560909  70528.0      10  62682\n",
            "\n",
            "2022년 최대 매출 월 : 12\n"
          ]
        }
      ]
    },
    {
      "cell_type": "markdown",
      "source": [
        "--------"
      ],
      "metadata": {
        "id": "RuNpP58EDq9J"
      }
    },
    {
      "cell_type": "markdown",
      "source": [
        "# 3. [타이타닉 데이터] 각 열의 결측치 비율을 확인 한 후, 결측율이 가장 높은 변수 명을 추출해라.  "
      ],
      "metadata": {
        "id": "no5qPZ79Dq_j"
      }
    },
    {
      "cell_type": "code",
      "source": [
        "!kaggle competitions download -c 2019-1st-ml-month-with-kakr"
      ],
      "metadata": {
        "colab": {
          "base_uri": "https://localhost:8080/"
        },
        "id": "jzUICNJADz1v",
        "outputId": "4e60ed59-db27-499c-f79c-b8b83803cdd9"
      },
      "execution_count": 8,
      "outputs": [
        {
          "output_type": "stream",
          "name": "stdout",
          "text": [
            "Downloading 2019-1st-ml-month-with-kakr.zip to /content\n",
            "\r  0% 0.00/34.0k [00:00<?, ?B/s]\n",
            "\r100% 34.0k/34.0k [00:00<00:00, 27.0MB/s]\n"
          ]
        }
      ]
    },
    {
      "cell_type": "code",
      "source": [
        "!unzip /content/2019-1st-ml-month-with-kakr.zip"
      ],
      "metadata": {
        "colab": {
          "base_uri": "https://localhost:8080/"
        },
        "id": "KJ3Pko_HDz4U",
        "outputId": "0819ee79-2e0e-46bb-bbd3-0a28a745541f"
      },
      "execution_count": 9,
      "outputs": [
        {
          "output_type": "stream",
          "name": "stdout",
          "text": [
            "Archive:  /content/2019-1st-ml-month-with-kakr.zip\n",
            "  inflating: sample_submission.csv   \n",
            "  inflating: test.csv                \n",
            "  inflating: train.csv               \n"
          ]
        }
      ]
    },
    {
      "cell_type": "code",
      "source": [
        "import pandas as pd\n",
        "import numpy as np\n",
        "\n",
        "df3 = pd.read_csv('/content/train.csv')\n",
        "\n",
        "df3.isna().sum()\n",
        "print()\n",
        "cols = df3.columns\n",
        "null_ratio = []\n",
        "for col in cols:\n",
        "    print(\"열 :\", col)\n",
        "    print(\"결측률 :\", df3[col].isna().sum()/len(df3))\n",
        "    print()\n",
        "    null_ratio.append(df3[col].isna().sum()/len(df3))\n",
        "\n",
        "null_ratio_col = pd.DataFrame({'column_name' : cols, 'null_ratio' : null_ratio})\n",
        "print(null_ratio_col.head())\n",
        "print()\n",
        "print(\"전체 데이터에서 결측률이 가장 높은 열\")\n",
        "print(null_ratio_col['column_name'][null_ratio_col['null_ratio'] == null_ratio_col['null_ratio'].max()].iloc[0])"
      ],
      "metadata": {
        "colab": {
          "base_uri": "https://localhost:8080/"
        },
        "id": "OX1U_8kPDtQ_",
        "outputId": "291f9b7d-3991-4946-d239-2b84ebf070e2"
      },
      "execution_count": 91,
      "outputs": [
        {
          "output_type": "stream",
          "name": "stdout",
          "text": [
            "\n",
            "열 : PassengerId\n",
            "결측률 : 0.0\n",
            "\n",
            "열 : Survived\n",
            "결측률 : 0.0\n",
            "\n",
            "열 : Pclass\n",
            "결측률 : 0.0\n",
            "\n",
            "열 : Name\n",
            "결측률 : 0.0\n",
            "\n",
            "열 : Sex\n",
            "결측률 : 0.0\n",
            "\n",
            "열 : Age\n",
            "결측률 : 0.19865319865319866\n",
            "\n",
            "열 : SibSp\n",
            "결측률 : 0.0\n",
            "\n",
            "열 : Parch\n",
            "결측률 : 0.0\n",
            "\n",
            "열 : Ticket\n",
            "결측률 : 0.0\n",
            "\n",
            "열 : Fare\n",
            "결측률 : 0.0\n",
            "\n",
            "열 : Cabin\n",
            "결측률 : 0.7710437710437711\n",
            "\n",
            "열 : Embarked\n",
            "결측률 : 0.002244668911335578\n",
            "\n",
            "   column_name  null_ratio\n",
            "0  PassengerId         0.0\n",
            "1     Survived         0.0\n",
            "2       Pclass         0.0\n",
            "3         Name         0.0\n",
            "4          Sex         0.0\n",
            "\n",
            "전체 데이터에서 결측률이 가장 높은 열\n",
            "Cabin\n"
          ]
        }
      ]
    },
    {
      "cell_type": "code",
      "source": [
        ""
      ],
      "metadata": {
        "id": "F_w2dJihQvlW"
      },
      "execution_count": null,
      "outputs": []
    }
  ]
}