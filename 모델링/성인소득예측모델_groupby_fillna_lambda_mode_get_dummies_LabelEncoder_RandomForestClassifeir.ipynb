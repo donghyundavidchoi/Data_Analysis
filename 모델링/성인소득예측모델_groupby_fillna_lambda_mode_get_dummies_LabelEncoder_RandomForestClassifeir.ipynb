{
  "nbformat": 4,
  "nbformat_minor": 0,
  "metadata": {
    "colab": {
      "name": "성인소득예측모델_groupby_fillna_lambda_mode_get_dummies_LabelEncoder_RandomForestClassifeir.ipynb",
      "provenance": [],
      "collapsed_sections": [],
      "authorship_tag": "ABX9TyO+j0ylr4CPZz+M9GV8EC+u",
      "include_colab_link": true
    },
    "kernelspec": {
      "name": "python3",
      "display_name": "Python 3"
    },
    "language_info": {
      "name": "python"
    }
  },
  "cells": [
    {
      "cell_type": "markdown",
      "metadata": {
        "id": "view-in-github",
        "colab_type": "text"
      },
      "source": [
        "<a href=\"https://colab.research.google.com/github/donghyundavidchoi/Data_Analysis/blob/main/%EB%AA%A8%EB%8D%B8%EB%A7%81/%EC%84%B1%EC%9D%B8%EC%86%8C%EB%93%9D%EC%98%88%EC%B8%A1%EB%AA%A8%EB%8D%B8_groupby_fillna_lambda_mode_get_dummies_LabelEncoder_RandomForestClassifeir.ipynb\" target=\"_parent\"><img src=\"https://colab.research.google.com/assets/colab-badge.svg\" alt=\"Open In Colab\"/></a>"
      ]
    },
    {
      "cell_type": "markdown",
      "source": [
        ""
      ],
      "metadata": {
        "id": "Y0rPmrIQZZls"
      }
    },
    {
      "cell_type": "code",
      "execution_count": 1,
      "metadata": {
        "colab": {
          "base_uri": "https://localhost:8080/"
        },
        "id": "XO1fyO5ZZY9E",
        "outputId": "cbf69109-deb6-417b-d8e3-2d2dc8275cf1"
      },
      "outputs": [
        {
          "output_type": "stream",
          "name": "stdout",
          "text": [
            "Downloading...\n",
            "From: https://drive.google.com/uc?id=1txRVXp-Eh222PzIeTQ-fuAoUYFR9f7q-\n",
            "To: /content/kaggle.json\n",
            "\r  0% 0.00/73.0 [00:00<?, ?B/s]\r100% 73.0/73.0 [00:00<00:00, 22.0kB/s]\n"
          ]
        }
      ],
      "source": [
        "!gdown --fuzzy https://drive.google.com/file/d/1txRVXp-Eh222PzIeTQ-fuAoUYFR9f7q-/view?usp=sharing\n",
        "!mkdir -p ~/.kaggle\n",
        "!cp /content/kaggle.json ~/.kaggle/\n",
        "!chmod 600 ~/.kaggle/kaggle.json"
      ]
    },
    {
      "cell_type": "code",
      "source": [
        "!kaggle datasets download -d uciml/adult-census-income"
      ],
      "metadata": {
        "colab": {
          "base_uri": "https://localhost:8080/"
        },
        "id": "7Mvi-a4_Zaxe",
        "outputId": "bf55828a-686f-432d-9a6d-034bd0be28c1"
      },
      "execution_count": 2,
      "outputs": [
        {
          "output_type": "stream",
          "name": "stdout",
          "text": [
            "Downloading adult-census-income.zip to /content\n",
            "\r  0% 0.00/450k [00:00<?, ?B/s]\n",
            "\r100% 450k/450k [00:00<00:00, 106MB/s]\n"
          ]
        }
      ]
    },
    {
      "cell_type": "code",
      "source": [
        "!unzip /content/adult-census-income.zip"
      ],
      "metadata": {
        "colab": {
          "base_uri": "https://localhost:8080/"
        },
        "id": "WN94aXR9ZdXf",
        "outputId": "2c9621de-1288-49e2-e8f5-f5dc121df8e4"
      },
      "execution_count": 3,
      "outputs": [
        {
          "output_type": "stream",
          "name": "stdout",
          "text": [
            "Archive:  /content/adult-census-income.zip\n",
            "  inflating: adult.csv               \n"
          ]
        }
      ]
    },
    {
      "cell_type": "code",
      "source": [
        "import pandas as pd\n",
        "import numpy as np\n",
        "from sklearn.model_selection import train_test_split\n",
        "\n",
        "def exam_data_load(df, target, id_name=\"\", null_name=\"\"):\n",
        "    if id_name == \"\":\n",
        "        df = df.reset_index().rename(columns={\"index\": \"id\"})\n",
        "        id_name = 'id'\n",
        "    else:\n",
        "        id_name = id_name\n",
        "    \n",
        "    if null_name != \"\":\n",
        "        df[df == null_name] = np.nan\n",
        "    \n",
        "    X_train, X_test = train_test_split(df, test_size=0.2, random_state=2021)\n",
        "    \n",
        "    y_train = X_train[[id_name, target]]\n",
        "    X_train = X_train.drop(columns=[target])\n",
        "\n",
        "    \n",
        "    y_test = X_test[[id_name, target]]\n",
        "    X_test = X_test.drop(columns=[target])\n",
        "    return X_train, X_test, y_train, y_test \n",
        "    \n",
        "df = pd.read_csv(\"/content/adult.csv\")\n",
        "X_train, X_test, y_train, y_test = exam_data_load(df, target='income', null_name='?')\n",
        "\n",
        "X_train.shape, X_test.shape, y_train.shape, y_test.shape"
      ],
      "metadata": {
        "colab": {
          "base_uri": "https://localhost:8080/"
        },
        "id": "fyH57HeaZhjg",
        "outputId": "8055065c-687e-450f-c898-bb085faa3cb6"
      },
      "execution_count": 407,
      "outputs": [
        {
          "output_type": "execute_result",
          "data": {
            "text/plain": [
              "((26048, 15), (6513, 15), (26048, 2), (6513, 2))"
            ]
          },
          "metadata": {},
          "execution_count": 407
        }
      ]
    },
    {
      "cell_type": "markdown",
      "source": [
        "-------"
      ],
      "metadata": {
        "id": "xjMOSNKro448"
      }
    },
    {
      "cell_type": "markdown",
      "source": [
        "# EDA"
      ],
      "metadata": {
        "id": "_cRpQX7ho48o"
      }
    },
    {
      "cell_type": "code",
      "source": [
        "X_train"
      ],
      "metadata": {
        "colab": {
          "base_uri": "https://localhost:8080/",
          "height": 574
        },
        "id": "AnTFBAvKZnrJ",
        "outputId": "ffd9fa0c-cbec-47ed-9257-c3c863997b4c"
      },
      "execution_count": 408,
      "outputs": [
        {
          "output_type": "execute_result",
          "data": {
            "text/plain": [
              "          id  age         workclass  fnlwgt     education  education.num  \\\n",
              "21851  21851   36           Private  241998     Bachelors             13   \n",
              "7632    7632   53           Private  103950       Masters             14   \n",
              "27878  27878   19           Private  203061  Some-college             10   \n",
              "14121  14121   20           Private  102607       HS-grad              9   \n",
              "32345  32345   54         State-gov  138852       HS-grad              9   \n",
              "...      ...  ...               ...     ...           ...            ...   \n",
              "2669    2669   45           Private  187370       Masters             14   \n",
              "17536  17536   36           Private  174308          11th              7   \n",
              "6201    6201   47           Private  275361    Assoc-acdm             12   \n",
              "27989  27989   50  Self-emp-not-inc  196504     Doctorate             16   \n",
              "25716  25716   19           Private  410543       HS-grad              9   \n",
              "\n",
              "           marital.status         occupation   relationship   race     sex  \\\n",
              "21851  Married-civ-spouse       Craft-repair        Husband  White    Male   \n",
              "7632             Divorced     Prof-specialty  Not-in-family  White  Female   \n",
              "27878       Never-married       Tech-support  Not-in-family  White  Female   \n",
              "14121       Never-married  Handlers-cleaners      Own-child  White    Male   \n",
              "32345  Married-civ-spouse     Prof-specialty        Husband  White    Male   \n",
              "...                   ...                ...            ...    ...     ...   \n",
              "2669             Divorced    Exec-managerial      Unmarried  White    Male   \n",
              "17536            Divorced   Transport-moving  Not-in-family  White    Male   \n",
              "6201              Widowed      Other-service      Own-child  White  Female   \n",
              "27989  Married-civ-spouse     Prof-specialty        Husband  White    Male   \n",
              "25716       Never-married       Adm-clerical  Not-in-family  White  Female   \n",
              "\n",
              "       capital.gain  capital.loss  hours.per.week native.country  \n",
              "21851             0             0              50  United-States  \n",
              "7632              0             0              40  United-States  \n",
              "27878             0             0              25  United-States  \n",
              "14121             0             0              30  United-States  \n",
              "32345             0             0              40  United-States  \n",
              "...             ...           ...             ...            ...  \n",
              "2669           7430             0              70  United-States  \n",
              "17536             0             0              40  United-States  \n",
              "6201              0             0              35  United-States  \n",
              "27989             0             0              23  United-States  \n",
              "25716             0             0              40  United-States  \n",
              "\n",
              "[26048 rows x 15 columns]"
            ],
            "text/html": [
              "\n",
              "  <div id=\"df-086137ad-0a0e-4741-9dfa-d83cdcf3261d\">\n",
              "    <div class=\"colab-df-container\">\n",
              "      <div>\n",
              "<style scoped>\n",
              "    .dataframe tbody tr th:only-of-type {\n",
              "        vertical-align: middle;\n",
              "    }\n",
              "\n",
              "    .dataframe tbody tr th {\n",
              "        vertical-align: top;\n",
              "    }\n",
              "\n",
              "    .dataframe thead th {\n",
              "        text-align: right;\n",
              "    }\n",
              "</style>\n",
              "<table border=\"1\" class=\"dataframe\">\n",
              "  <thead>\n",
              "    <tr style=\"text-align: right;\">\n",
              "      <th></th>\n",
              "      <th>id</th>\n",
              "      <th>age</th>\n",
              "      <th>workclass</th>\n",
              "      <th>fnlwgt</th>\n",
              "      <th>education</th>\n",
              "      <th>education.num</th>\n",
              "      <th>marital.status</th>\n",
              "      <th>occupation</th>\n",
              "      <th>relationship</th>\n",
              "      <th>race</th>\n",
              "      <th>sex</th>\n",
              "      <th>capital.gain</th>\n",
              "      <th>capital.loss</th>\n",
              "      <th>hours.per.week</th>\n",
              "      <th>native.country</th>\n",
              "    </tr>\n",
              "  </thead>\n",
              "  <tbody>\n",
              "    <tr>\n",
              "      <th>21851</th>\n",
              "      <td>21851</td>\n",
              "      <td>36</td>\n",
              "      <td>Private</td>\n",
              "      <td>241998</td>\n",
              "      <td>Bachelors</td>\n",
              "      <td>13</td>\n",
              "      <td>Married-civ-spouse</td>\n",
              "      <td>Craft-repair</td>\n",
              "      <td>Husband</td>\n",
              "      <td>White</td>\n",
              "      <td>Male</td>\n",
              "      <td>0</td>\n",
              "      <td>0</td>\n",
              "      <td>50</td>\n",
              "      <td>United-States</td>\n",
              "    </tr>\n",
              "    <tr>\n",
              "      <th>7632</th>\n",
              "      <td>7632</td>\n",
              "      <td>53</td>\n",
              "      <td>Private</td>\n",
              "      <td>103950</td>\n",
              "      <td>Masters</td>\n",
              "      <td>14</td>\n",
              "      <td>Divorced</td>\n",
              "      <td>Prof-specialty</td>\n",
              "      <td>Not-in-family</td>\n",
              "      <td>White</td>\n",
              "      <td>Female</td>\n",
              "      <td>0</td>\n",
              "      <td>0</td>\n",
              "      <td>40</td>\n",
              "      <td>United-States</td>\n",
              "    </tr>\n",
              "    <tr>\n",
              "      <th>27878</th>\n",
              "      <td>27878</td>\n",
              "      <td>19</td>\n",
              "      <td>Private</td>\n",
              "      <td>203061</td>\n",
              "      <td>Some-college</td>\n",
              "      <td>10</td>\n",
              "      <td>Never-married</td>\n",
              "      <td>Tech-support</td>\n",
              "      <td>Not-in-family</td>\n",
              "      <td>White</td>\n",
              "      <td>Female</td>\n",
              "      <td>0</td>\n",
              "      <td>0</td>\n",
              "      <td>25</td>\n",
              "      <td>United-States</td>\n",
              "    </tr>\n",
              "    <tr>\n",
              "      <th>14121</th>\n",
              "      <td>14121</td>\n",
              "      <td>20</td>\n",
              "      <td>Private</td>\n",
              "      <td>102607</td>\n",
              "      <td>HS-grad</td>\n",
              "      <td>9</td>\n",
              "      <td>Never-married</td>\n",
              "      <td>Handlers-cleaners</td>\n",
              "      <td>Own-child</td>\n",
              "      <td>White</td>\n",
              "      <td>Male</td>\n",
              "      <td>0</td>\n",
              "      <td>0</td>\n",
              "      <td>30</td>\n",
              "      <td>United-States</td>\n",
              "    </tr>\n",
              "    <tr>\n",
              "      <th>32345</th>\n",
              "      <td>32345</td>\n",
              "      <td>54</td>\n",
              "      <td>State-gov</td>\n",
              "      <td>138852</td>\n",
              "      <td>HS-grad</td>\n",
              "      <td>9</td>\n",
              "      <td>Married-civ-spouse</td>\n",
              "      <td>Prof-specialty</td>\n",
              "      <td>Husband</td>\n",
              "      <td>White</td>\n",
              "      <td>Male</td>\n",
              "      <td>0</td>\n",
              "      <td>0</td>\n",
              "      <td>40</td>\n",
              "      <td>United-States</td>\n",
              "    </tr>\n",
              "    <tr>\n",
              "      <th>...</th>\n",
              "      <td>...</td>\n",
              "      <td>...</td>\n",
              "      <td>...</td>\n",
              "      <td>...</td>\n",
              "      <td>...</td>\n",
              "      <td>...</td>\n",
              "      <td>...</td>\n",
              "      <td>...</td>\n",
              "      <td>...</td>\n",
              "      <td>...</td>\n",
              "      <td>...</td>\n",
              "      <td>...</td>\n",
              "      <td>...</td>\n",
              "      <td>...</td>\n",
              "      <td>...</td>\n",
              "    </tr>\n",
              "    <tr>\n",
              "      <th>2669</th>\n",
              "      <td>2669</td>\n",
              "      <td>45</td>\n",
              "      <td>Private</td>\n",
              "      <td>187370</td>\n",
              "      <td>Masters</td>\n",
              "      <td>14</td>\n",
              "      <td>Divorced</td>\n",
              "      <td>Exec-managerial</td>\n",
              "      <td>Unmarried</td>\n",
              "      <td>White</td>\n",
              "      <td>Male</td>\n",
              "      <td>7430</td>\n",
              "      <td>0</td>\n",
              "      <td>70</td>\n",
              "      <td>United-States</td>\n",
              "    </tr>\n",
              "    <tr>\n",
              "      <th>17536</th>\n",
              "      <td>17536</td>\n",
              "      <td>36</td>\n",
              "      <td>Private</td>\n",
              "      <td>174308</td>\n",
              "      <td>11th</td>\n",
              "      <td>7</td>\n",
              "      <td>Divorced</td>\n",
              "      <td>Transport-moving</td>\n",
              "      <td>Not-in-family</td>\n",
              "      <td>White</td>\n",
              "      <td>Male</td>\n",
              "      <td>0</td>\n",
              "      <td>0</td>\n",
              "      <td>40</td>\n",
              "      <td>United-States</td>\n",
              "    </tr>\n",
              "    <tr>\n",
              "      <th>6201</th>\n",
              "      <td>6201</td>\n",
              "      <td>47</td>\n",
              "      <td>Private</td>\n",
              "      <td>275361</td>\n",
              "      <td>Assoc-acdm</td>\n",
              "      <td>12</td>\n",
              "      <td>Widowed</td>\n",
              "      <td>Other-service</td>\n",
              "      <td>Own-child</td>\n",
              "      <td>White</td>\n",
              "      <td>Female</td>\n",
              "      <td>0</td>\n",
              "      <td>0</td>\n",
              "      <td>35</td>\n",
              "      <td>United-States</td>\n",
              "    </tr>\n",
              "    <tr>\n",
              "      <th>27989</th>\n",
              "      <td>27989</td>\n",
              "      <td>50</td>\n",
              "      <td>Self-emp-not-inc</td>\n",
              "      <td>196504</td>\n",
              "      <td>Doctorate</td>\n",
              "      <td>16</td>\n",
              "      <td>Married-civ-spouse</td>\n",
              "      <td>Prof-specialty</td>\n",
              "      <td>Husband</td>\n",
              "      <td>White</td>\n",
              "      <td>Male</td>\n",
              "      <td>0</td>\n",
              "      <td>0</td>\n",
              "      <td>23</td>\n",
              "      <td>United-States</td>\n",
              "    </tr>\n",
              "    <tr>\n",
              "      <th>25716</th>\n",
              "      <td>25716</td>\n",
              "      <td>19</td>\n",
              "      <td>Private</td>\n",
              "      <td>410543</td>\n",
              "      <td>HS-grad</td>\n",
              "      <td>9</td>\n",
              "      <td>Never-married</td>\n",
              "      <td>Adm-clerical</td>\n",
              "      <td>Not-in-family</td>\n",
              "      <td>White</td>\n",
              "      <td>Female</td>\n",
              "      <td>0</td>\n",
              "      <td>0</td>\n",
              "      <td>40</td>\n",
              "      <td>United-States</td>\n",
              "    </tr>\n",
              "  </tbody>\n",
              "</table>\n",
              "<p>26048 rows × 15 columns</p>\n",
              "</div>\n",
              "      <button class=\"colab-df-convert\" onclick=\"convertToInteractive('df-086137ad-0a0e-4741-9dfa-d83cdcf3261d')\"\n",
              "              title=\"Convert this dataframe to an interactive table.\"\n",
              "              style=\"display:none;\">\n",
              "        \n",
              "  <svg xmlns=\"http://www.w3.org/2000/svg\" height=\"24px\"viewBox=\"0 0 24 24\"\n",
              "       width=\"24px\">\n",
              "    <path d=\"M0 0h24v24H0V0z\" fill=\"none\"/>\n",
              "    <path d=\"M18.56 5.44l.94 2.06.94-2.06 2.06-.94-2.06-.94-.94-2.06-.94 2.06-2.06.94zm-11 1L8.5 8.5l.94-2.06 2.06-.94-2.06-.94L8.5 2.5l-.94 2.06-2.06.94zm10 10l.94 2.06.94-2.06 2.06-.94-2.06-.94-.94-2.06-.94 2.06-2.06.94z\"/><path d=\"M17.41 7.96l-1.37-1.37c-.4-.4-.92-.59-1.43-.59-.52 0-1.04.2-1.43.59L10.3 9.45l-7.72 7.72c-.78.78-.78 2.05 0 2.83L4 21.41c.39.39.9.59 1.41.59.51 0 1.02-.2 1.41-.59l7.78-7.78 2.81-2.81c.8-.78.8-2.07 0-2.86zM5.41 20L4 18.59l7.72-7.72 1.47 1.35L5.41 20z\"/>\n",
              "  </svg>\n",
              "      </button>\n",
              "      \n",
              "  <style>\n",
              "    .colab-df-container {\n",
              "      display:flex;\n",
              "      flex-wrap:wrap;\n",
              "      gap: 12px;\n",
              "    }\n",
              "\n",
              "    .colab-df-convert {\n",
              "      background-color: #E8F0FE;\n",
              "      border: none;\n",
              "      border-radius: 50%;\n",
              "      cursor: pointer;\n",
              "      display: none;\n",
              "      fill: #1967D2;\n",
              "      height: 32px;\n",
              "      padding: 0 0 0 0;\n",
              "      width: 32px;\n",
              "    }\n",
              "\n",
              "    .colab-df-convert:hover {\n",
              "      background-color: #E2EBFA;\n",
              "      box-shadow: 0px 1px 2px rgba(60, 64, 67, 0.3), 0px 1px 3px 1px rgba(60, 64, 67, 0.15);\n",
              "      fill: #174EA6;\n",
              "    }\n",
              "\n",
              "    [theme=dark] .colab-df-convert {\n",
              "      background-color: #3B4455;\n",
              "      fill: #D2E3FC;\n",
              "    }\n",
              "\n",
              "    [theme=dark] .colab-df-convert:hover {\n",
              "      background-color: #434B5C;\n",
              "      box-shadow: 0px 1px 3px 1px rgba(0, 0, 0, 0.15);\n",
              "      filter: drop-shadow(0px 1px 2px rgba(0, 0, 0, 0.3));\n",
              "      fill: #FFFFFF;\n",
              "    }\n",
              "  </style>\n",
              "\n",
              "      <script>\n",
              "        const buttonEl =\n",
              "          document.querySelector('#df-086137ad-0a0e-4741-9dfa-d83cdcf3261d button.colab-df-convert');\n",
              "        buttonEl.style.display =\n",
              "          google.colab.kernel.accessAllowed ? 'block' : 'none';\n",
              "\n",
              "        async function convertToInteractive(key) {\n",
              "          const element = document.querySelector('#df-086137ad-0a0e-4741-9dfa-d83cdcf3261d');\n",
              "          const dataTable =\n",
              "            await google.colab.kernel.invokeFunction('convertToInteractive',\n",
              "                                                     [key], {});\n",
              "          if (!dataTable) return;\n",
              "\n",
              "          const docLinkHtml = 'Like what you see? Visit the ' +\n",
              "            '<a target=\"_blank\" href=https://colab.research.google.com/notebooks/data_table.ipynb>data table notebook</a>'\n",
              "            + ' to learn more about interactive tables.';\n",
              "          element.innerHTML = '';\n",
              "          dataTable['output_type'] = 'display_data';\n",
              "          await google.colab.output.renderOutput(dataTable, element);\n",
              "          const docLink = document.createElement('div');\n",
              "          docLink.innerHTML = docLinkHtml;\n",
              "          element.appendChild(docLink);\n",
              "        }\n",
              "      </script>\n",
              "    </div>\n",
              "  </div>\n",
              "  "
            ]
          },
          "metadata": {},
          "execution_count": 408
        }
      ]
    },
    {
      "cell_type": "markdown",
      "source": [
        "라벨로 되어 있는 데이터가 많은 것을 확인"
      ],
      "metadata": {
        "id": "JdEZYXO1o-IB"
      }
    },
    {
      "cell_type": "code",
      "source": [
        "X_train.info()"
      ],
      "metadata": {
        "colab": {
          "base_uri": "https://localhost:8080/"
        },
        "id": "1Ef8JVdZZ_oy",
        "outputId": "03cfa5f7-a5d7-4a37-a43e-b03c727768ef"
      },
      "execution_count": 409,
      "outputs": [
        {
          "output_type": "stream",
          "name": "stdout",
          "text": [
            "<class 'pandas.core.frame.DataFrame'>\n",
            "Int64Index: 26048 entries, 21851 to 25716\n",
            "Data columns (total 15 columns):\n",
            " #   Column          Non-Null Count  Dtype \n",
            "---  ------          --------------  ----- \n",
            " 0   id              26048 non-null  int64 \n",
            " 1   age             26048 non-null  int64 \n",
            " 2   workclass       24592 non-null  object\n",
            " 3   fnlwgt          26048 non-null  int64 \n",
            " 4   education       26048 non-null  object\n",
            " 5   education.num   26048 non-null  int64 \n",
            " 6   marital.status  26048 non-null  object\n",
            " 7   occupation      24585 non-null  object\n",
            " 8   relationship    26048 non-null  object\n",
            " 9   race            26048 non-null  object\n",
            " 10  sex             26048 non-null  object\n",
            " 11  capital.gain    26048 non-null  int64 \n",
            " 12  capital.loss    26048 non-null  int64 \n",
            " 13  hours.per.week  26048 non-null  int64 \n",
            " 14  native.country  25587 non-null  object\n",
            "dtypes: int64(7), object(8)\n",
            "memory usage: 3.2+ MB\n"
          ]
        }
      ]
    },
    {
      "cell_type": "code",
      "source": [
        "X_train.isna().sum()"
      ],
      "metadata": {
        "colab": {
          "base_uri": "https://localhost:8080/"
        },
        "id": "STmvkGiMZrUS",
        "outputId": "2a05719c-49fd-468f-a763-123461b49c6f"
      },
      "execution_count": 410,
      "outputs": [
        {
          "output_type": "execute_result",
          "data": {
            "text/plain": [
              "id                   0\n",
              "age                  0\n",
              "workclass         1456\n",
              "fnlwgt               0\n",
              "education            0\n",
              "education.num        0\n",
              "marital.status       0\n",
              "occupation        1463\n",
              "relationship         0\n",
              "race                 0\n",
              "sex                  0\n",
              "capital.gain         0\n",
              "capital.loss         0\n",
              "hours.per.week       0\n",
              "native.country     461\n",
              "dtype: int64"
            ]
          },
          "metadata": {},
          "execution_count": 410
        }
      ]
    },
    {
      "cell_type": "markdown",
      "source": [
        "데이터 크기에 비해 결측치가 너무 많은 것을 확인.   \n",
        "결측치 처리에 고민을 많이 해야할 듯 함."
      ],
      "metadata": {
        "id": "j_DUo6t7pDAM"
      }
    },
    {
      "cell_type": "code",
      "source": [
        "X_train.nunique()"
      ],
      "metadata": {
        "colab": {
          "base_uri": "https://localhost:8080/"
        },
        "id": "mBPfS96ddxLG",
        "outputId": "68573e9d-91da-4964-bc6e-9e5e008cbc02"
      },
      "execution_count": 411,
      "outputs": [
        {
          "output_type": "execute_result",
          "data": {
            "text/plain": [
              "id                26048\n",
              "age                  72\n",
              "workclass             8\n",
              "fnlwgt            18383\n",
              "education            16\n",
              "education.num        16\n",
              "marital.status        7\n",
              "occupation           14\n",
              "relationship          6\n",
              "race                  5\n",
              "sex                   2\n",
              "capital.gain        115\n",
              "capital.loss         88\n",
              "hours.per.week       94\n",
              "native.country       41\n",
              "dtype: int64"
            ]
          },
          "metadata": {},
          "execution_count": 411
        }
      ]
    },
    {
      "cell_type": "code",
      "source": [
        "X_train['workclass'].value_counts()"
      ],
      "metadata": {
        "colab": {
          "base_uri": "https://localhost:8080/"
        },
        "id": "yh0zZJxVeCzn",
        "outputId": "19303633-d476-49e8-bb24-0ff867af42a9"
      },
      "execution_count": 412,
      "outputs": [
        {
          "output_type": "execute_result",
          "data": {
            "text/plain": [
              "Private             18160\n",
              "Self-emp-not-inc     2049\n",
              "Local-gov            1648\n",
              "State-gov            1037\n",
              "Self-emp-inc          909\n",
              "Federal-gov           770\n",
              "Without-pay            12\n",
              "Never-worked            7\n",
              "Name: workclass, dtype: int64"
            ]
          },
          "metadata": {},
          "execution_count": 412
        }
      ]
    },
    {
      "cell_type": "code",
      "source": [
        "X_train['occupation'].value_counts()"
      ],
      "metadata": {
        "colab": {
          "base_uri": "https://localhost:8080/"
        },
        "id": "Ee3XIfIFeGy-",
        "outputId": "7badcf93-a604-4fe4-9e98-eb66e1f692f4"
      },
      "execution_count": 413,
      "outputs": [
        {
          "output_type": "execute_result",
          "data": {
            "text/plain": [
              "Exec-managerial      3323\n",
              "Prof-specialty       3306\n",
              "Craft-repair         3296\n",
              "Adm-clerical         3037\n",
              "Sales                2898\n",
              "Other-service        2624\n",
              "Machine-op-inspct    1584\n",
              "Transport-moving     1257\n",
              "Handlers-cleaners    1080\n",
              "Farming-fishing       786\n",
              "Tech-support          746\n",
              "Protective-serv       521\n",
              "Priv-house-serv       119\n",
              "Armed-Forces            8\n",
              "Name: occupation, dtype: int64"
            ]
          },
          "metadata": {},
          "execution_count": 413
        }
      ]
    },
    {
      "cell_type": "code",
      "source": [
        "X_train['race'].value_counts()"
      ],
      "metadata": {
        "colab": {
          "base_uri": "https://localhost:8080/"
        },
        "id": "c-2lVF0Vgq7-",
        "outputId": "5eda0771-0fde-4293-e1b9-29a13717ac24"
      },
      "execution_count": 414,
      "outputs": [
        {
          "output_type": "execute_result",
          "data": {
            "text/plain": [
              "White                 22270\n",
              "Black                  2484\n",
              "Asian-Pac-Islander      832\n",
              "Amer-Indian-Eskimo      247\n",
              "Other                   215\n",
              "Name: race, dtype: int64"
            ]
          },
          "metadata": {},
          "execution_count": 414
        }
      ]
    },
    {
      "cell_type": "code",
      "source": [
        "X_train['native.country'].value_counts()"
      ],
      "metadata": {
        "colab": {
          "base_uri": "https://localhost:8080/"
        },
        "id": "T0VABA5pgxos",
        "outputId": "7a8e7b23-4780-481d-dad5-8c99918539d8"
      },
      "execution_count": 415,
      "outputs": [
        {
          "output_type": "execute_result",
          "data": {
            "text/plain": [
              "United-States                 23381\n",
              "Mexico                          516\n",
              "Philippines                     158\n",
              "Germany                         108\n",
              "Canada                           88\n",
              "Puerto-Rico                      87\n",
              "El-Salvador                      76\n",
              "India                            73\n",
              "Cuba                             73\n",
              "England                          69\n",
              "Italy                            63\n",
              "South                            62\n",
              "Jamaica                          59\n",
              "Vietnam                          57\n",
              "China                            57\n",
              "Guatemala                        54\n",
              "Dominican-Republic               51\n",
              "Japan                            49\n",
              "Poland                           47\n",
              "Columbia                         44\n",
              "Taiwan                           37\n",
              "Haiti                            37\n",
              "Iran                             34\n",
              "Portugal                         32\n",
              "Peru                             29\n",
              "Nicaragua                        27\n",
              "Ecuador                          25\n",
              "Greece                           24\n",
              "France                           23\n",
              "Ireland                          19\n",
              "Cambodia                         18\n",
              "Hong                             17\n",
              "Trinadad&Tobago                  17\n",
              "Thailand                         16\n",
              "Laos                             13\n",
              "Outlying-US(Guam-USVI-etc)       11\n",
              "Yugoslavia                       11\n",
              "Honduras                          9\n",
              "Hungary                           8\n",
              "Scotland                          7\n",
              "Holand-Netherlands                1\n",
              "Name: native.country, dtype: int64"
            ]
          },
          "metadata": {},
          "execution_count": 415
        }
      ]
    },
    {
      "cell_type": "code",
      "source": [
        "X_train[X_train['native.country'].isna()]['race'].value_counts()"
      ],
      "metadata": {
        "colab": {
          "base_uri": "https://localhost:8080/"
        },
        "id": "rgQpcVa8g8B-",
        "outputId": "1608b678-f3dd-429c-8cac-66aa3ac8a867"
      },
      "execution_count": 416,
      "outputs": [
        {
          "output_type": "execute_result",
          "data": {
            "text/plain": [
              "White                 302\n",
              "Black                  73\n",
              "Asian-Pac-Islander     71\n",
              "Other                  15\n",
              "Name: race, dtype: int64"
            ]
          },
          "metadata": {},
          "execution_count": 416
        }
      ]
    },
    {
      "cell_type": "markdown",
      "source": [
        "--------"
      ],
      "metadata": {
        "id": "NJebalZbqKbE"
      }
    },
    {
      "cell_type": "markdown",
      "source": [
        "# 결측치 처리"
      ],
      "metadata": {
        "id": "Fn5oBwV1qKgW"
      }
    },
    {
      "cell_type": "markdown",
      "source": [
        "데이터 간의 특정한 경향성이 파악되지 않는 만큼 임의로 결측치를 처리하는 것은 좋지 않다 생각함.   \n",
        "채워야하는 occupation과 native.country의 경우 교육수준, 인종, 성별에 따라 경향성이 나타날 것이라 생각하여 복잡한 방식으로 groupby를 활용하여 최빈값을 구하기로 결정.   \n",
        "groupby의 조건이 많이 붙는 만큼 그룹화 과정에서 해당하는 최빈값이 없어 오류가 발생.   \n",
        "오류를 방지하기 위해 최빈값이 도출될 때만 연산이 진행되도록 테스트."
      ],
      "metadata": {
        "id": "AFPMs1JLpaW7"
      }
    },
    {
      "cell_type": "code",
      "source": [
        "X_train_groupby_native_country = X_train.groupby(['education.num', 'race', 'sex'])['native.country'].apply(lambda x : x.mode().iloc[0] if x.mode().empty == False else 0)"
      ],
      "metadata": {
        "id": "pbsXl263evPK"
      },
      "execution_count": 417,
      "outputs": []
    },
    {
      "cell_type": "code",
      "source": [
        "X_train_groupby_native_country"
      ],
      "metadata": {
        "colab": {
          "base_uri": "https://localhost:8080/"
        },
        "id": "SvKsCLXnkmb0",
        "outputId": "577758b3-a829-4cef-d3a5-da3be418ab12"
      },
      "execution_count": 418,
      "outputs": [
        {
          "output_type": "execute_result",
          "data": {
            "text/plain": [
              "education.num  race                sex   \n",
              "1              Asian-Pac-Islander  Female         Cambodia\n",
              "                                   Male              China\n",
              "               Black               Female    United-States\n",
              "                                   Male      United-States\n",
              "               Other               Male             Mexico\n",
              "                                                 ...      \n",
              "16             Black               Female    United-States\n",
              "                                   Male      United-States\n",
              "               Other               Male      United-States\n",
              "               White               Female    United-States\n",
              "                                   Male      United-States\n",
              "Name: native.country, Length: 151, dtype: object"
            ]
          },
          "metadata": {},
          "execution_count": 418
        }
      ]
    },
    {
      "cell_type": "code",
      "source": [
        "X_train_groupby_occupation = X_train.groupby(['education.num', 'race', 'sex'])['occupation'].apply(lambda x : x.mode().iloc[0] if x.mode().empty == False else 0)"
      ],
      "metadata": {
        "id": "ZjDZLMz7VtJI"
      },
      "execution_count": 419,
      "outputs": []
    },
    {
      "cell_type": "code",
      "source": [
        "X_train_groupby_occupation"
      ],
      "metadata": {
        "colab": {
          "base_uri": "https://localhost:8080/"
        },
        "id": "0FfLmYgOVtYC",
        "outputId": "21198962-d843-4197-bce5-6dd4decb554e"
      },
      "execution_count": 420,
      "outputs": [
        {
          "output_type": "execute_result",
          "data": {
            "text/plain": [
              "education.num  race                sex   \n",
              "1              Asian-Pac-Islander  Female    Machine-op-inspct\n",
              "                                   Male           Craft-repair\n",
              "               Black               Female         Adm-clerical\n",
              "                                   Male      Machine-op-inspct\n",
              "               Other               Male          Other-service\n",
              "                                                   ...        \n",
              "16             Black               Female       Prof-specialty\n",
              "                                   Male         Prof-specialty\n",
              "               Other               Male           Adm-clerical\n",
              "               White               Female       Prof-specialty\n",
              "                                   Male         Prof-specialty\n",
              "Name: occupation, Length: 151, dtype: object"
            ]
          },
          "metadata": {},
          "execution_count": 420
        }
      ]
    },
    {
      "cell_type": "code",
      "source": [
        "X_train_groupby_occupation.value_counts()"
      ],
      "metadata": {
        "colab": {
          "base_uri": "https://localhost:8080/"
        },
        "id": "wZ9AOTL9d-Zf",
        "outputId": "0d9aa611-a8bd-4dfb-ebef-7d64f3e17714"
      },
      "execution_count": 421,
      "outputs": [
        {
          "output_type": "execute_result",
          "data": {
            "text/plain": [
              "Other-service        31\n",
              "Prof-specialty       30\n",
              "Craft-repair         27\n",
              "Adm-clerical         23\n",
              "Machine-op-inspct    16\n",
              "Exec-managerial       7\n",
              "Transport-moving      4\n",
              "Handlers-cleaners     4\n",
              "Sales                 4\n",
              "Farming-fishing       3\n",
              "Priv-house-serv       1\n",
              "0                     1\n",
              "Name: occupation, dtype: int64"
            ]
          },
          "metadata": {},
          "execution_count": 421
        }
      ]
    },
    {
      "cell_type": "markdown",
      "source": [
        "해당 방식으로 값이 제대로 구해지는 것을 확인하고 fillna()에 도입"
      ],
      "metadata": {
        "id": "-1nvltetqO0D"
      }
    },
    {
      "cell_type": "code",
      "source": [
        "X_train_id = X_train['id']\n",
        "X_train = X_train.drop(columns='id', axis=1)\n",
        "X_train = X_train.drop(columns=['workclass', 'education'], axis=1)\n",
        "X_train['occupation'] = X_train.groupby(['education.num', 'race', 'sex'])['occupation'].apply(lambda x : x.fillna(x.mode().iloc[0]) if x.mode().empty == False else x.fillna('Empty'))\n",
        "X_train['native.country'] = X_train.groupby(['education.num', 'race', 'sex'])['native.country'].apply(lambda x : x.fillna(x.mode().iloc[0]) if x.mode().empty == False else x.fillna('Empty'))"
      ],
      "metadata": {
        "id": "quBi72lNfeWy"
      },
      "execution_count": 422,
      "outputs": []
    },
    {
      "cell_type": "code",
      "source": [
        "X_train.isna().sum()"
      ],
      "metadata": {
        "colab": {
          "base_uri": "https://localhost:8080/"
        },
        "id": "lKpnDA2hlgnF",
        "outputId": "1be17f2e-24e6-43b5-cf8d-cbd2e3154e28"
      },
      "execution_count": 423,
      "outputs": [
        {
          "output_type": "execute_result",
          "data": {
            "text/plain": [
              "age               0\n",
              "fnlwgt            0\n",
              "education.num     0\n",
              "marital.status    0\n",
              "occupation        0\n",
              "relationship      0\n",
              "race              0\n",
              "sex               0\n",
              "capital.gain      0\n",
              "capital.loss      0\n",
              "hours.per.week    0\n",
              "native.country    0\n",
              "dtype: int64"
            ]
          },
          "metadata": {},
          "execution_count": 423
        }
      ]
    },
    {
      "cell_type": "markdown",
      "source": [
        "결측치가 사라진 것을 확인"
      ],
      "metadata": {
        "id": "A344dM-5qU32"
      }
    },
    {
      "cell_type": "markdown",
      "source": [
        "하지만 fillna를 진행하며 최빈값이 검색이 안 될 경우 Empty를 넣도록 했기에 Empty에 해당되는 데이터는 삭제하도록함."
      ],
      "metadata": {
        "id": "xIhxhmCAqVF2"
      }
    },
    {
      "cell_type": "code",
      "source": [
        "drop_index = X_train[(X_train['occupation'] == 'Empty') | (X_train['native.country'] == 'Empty')].index"
      ],
      "metadata": {
        "id": "1czbEgFLEUDL"
      },
      "execution_count": 424,
      "outputs": []
    },
    {
      "cell_type": "code",
      "source": [
        "drop_index"
      ],
      "metadata": {
        "colab": {
          "base_uri": "https://localhost:8080/"
        },
        "id": "KNZAUHt7gMp6",
        "outputId": "b4ea00c0-fb89-4550-c58d-353eab9e1fbf"
      },
      "execution_count": 425,
      "outputs": [
        {
          "output_type": "execute_result",
          "data": {
            "text/plain": [
              "Int64Index([26938], dtype='int64')"
            ]
          },
          "metadata": {},
          "execution_count": 425
        }
      ]
    },
    {
      "cell_type": "code",
      "source": [
        "X_train = X_train.drop(index=drop_index, axis=1)\n",
        "y_train = y_train.drop(index=drop_index, axis=1)\n",
        "print(X_train.shape)\n",
        "print(y_train.shape)"
      ],
      "metadata": {
        "colab": {
          "base_uri": "https://localhost:8080/"
        },
        "id": "V54YUCiRFSc1",
        "outputId": "2b9e2b93-f64a-40c0-b4a9-43183399f675"
      },
      "execution_count": 400,
      "outputs": [
        {
          "output_type": "stream",
          "name": "stdout",
          "text": [
            "(26047, 12)\n",
            "(26047, 2)\n"
          ]
        }
      ]
    },
    {
      "cell_type": "markdown",
      "source": [
        "해당 과정을 X_test와 y_test에 대해서도 진행"
      ],
      "metadata": {
        "id": "F02wBViSqgkE"
      }
    },
    {
      "cell_type": "code",
      "source": [
        "X_test_id = X_test['id']\n",
        "X_test = X_test.drop(columns='id', axis=1)\n",
        "X_test = X_test.drop(columns=['workclass', 'education'], axis=1)\n",
        "X_test['occupation'] = X_test.groupby(['education.num', 'race', 'sex'])['occupation'].apply(lambda x : x.fillna(x.mode().iloc[0]) if x.mode().empty == False else x.fillna('Empty'))\n",
        "X_test['native.country'] = X_test.groupby(['education.num', 'race', 'sex'])['native.country'].apply(lambda x : x.fillna(x.mode().iloc[0]) if x.mode().empty == False else x.fillna('Empty'))\n",
        "drop_index_test = X_test[(X_test['occupation'] == 'Empty') | (X_test['native.country'] == 'Empty')].index\n",
        "X_test = X_test.drop(index=drop_index_test, axis=1)\n",
        "y_test = y_test.drop(index=drop_index_test, axis=1)"
      ],
      "metadata": {
        "id": "YH1dzEiEkfMb"
      },
      "execution_count": 426,
      "outputs": []
    },
    {
      "cell_type": "markdown",
      "source": [
        "-------"
      ],
      "metadata": {
        "id": "hZgD-a2MqqEi"
      }
    },
    {
      "cell_type": "markdown",
      "source": [
        "# 원핫인코딩 및 라벨인코딩\n",
        "두 개의 카테고리로 나뉘는 sex에 대해서 원핫인코딩 진행.   \n",
        "카테고리가 많은 다른 행에 대해서는 라벨인코딩 진행.   "
      ],
      "metadata": {
        "id": "IkefKDciqqLi"
      }
    },
    {
      "cell_type": "code",
      "source": [
        "from sklearn.preprocessing import LabelEncoder\n",
        "LE = LabelEncoder()\n",
        "X_train['sex'] = pd.get_dummies(X_train['sex'], drop_first=True)\n",
        "X_test['sex'] = pd.get_dummies(X_test['sex'], drop_first=True)\n",
        "cols = ['marital.status', 'occupation', 'relationship', 'race', 'native.country']\n",
        "for col in cols:\n",
        "    X_train[col] = LE.fit_transform(X_train[col])\n",
        "    X_test[col] = LE.transform(X_test[col])"
      ],
      "metadata": {
        "id": "kZRqHEG4jk-b"
      },
      "execution_count": 428,
      "outputs": []
    },
    {
      "cell_type": "markdown",
      "source": [
        "------"
      ],
      "metadata": {
        "id": "KmsjNzsuq4An"
      }
    },
    {
      "cell_type": "markdown",
      "source": [
        "# y 정제\n",
        "y의 타겟 값이 str형태이므로 50K 초과를 1로, 50K 이하를 0으로 치환"
      ],
      "metadata": {
        "id": "IUwsHj0Mq4Go"
      }
    },
    {
      "cell_type": "code",
      "source": [
        "y_train"
      ],
      "metadata": {
        "colab": {
          "base_uri": "https://localhost:8080/",
          "height": 424
        },
        "id": "VypfXqAYnOjN",
        "outputId": "077a6e59-90d4-49f3-f0b4-5a168eb680ab"
      },
      "execution_count": 430,
      "outputs": [
        {
          "output_type": "execute_result",
          "data": {
            "text/plain": [
              "          id income\n",
              "21851  21851   >50K\n",
              "7632    7632  <=50K\n",
              "27878  27878  <=50K\n",
              "14121  14121  <=50K\n",
              "32345  32345  <=50K\n",
              "...      ...    ...\n",
              "2669    2669   >50K\n",
              "17536  17536  <=50K\n",
              "6201    6201  <=50K\n",
              "27989  27989  <=50K\n",
              "25716  25716  <=50K\n",
              "\n",
              "[26048 rows x 2 columns]"
            ],
            "text/html": [
              "\n",
              "  <div id=\"df-c45f0510-9d4e-4017-90bf-bce8c37a6513\">\n",
              "    <div class=\"colab-df-container\">\n",
              "      <div>\n",
              "<style scoped>\n",
              "    .dataframe tbody tr th:only-of-type {\n",
              "        vertical-align: middle;\n",
              "    }\n",
              "\n",
              "    .dataframe tbody tr th {\n",
              "        vertical-align: top;\n",
              "    }\n",
              "\n",
              "    .dataframe thead th {\n",
              "        text-align: right;\n",
              "    }\n",
              "</style>\n",
              "<table border=\"1\" class=\"dataframe\">\n",
              "  <thead>\n",
              "    <tr style=\"text-align: right;\">\n",
              "      <th></th>\n",
              "      <th>id</th>\n",
              "      <th>income</th>\n",
              "    </tr>\n",
              "  </thead>\n",
              "  <tbody>\n",
              "    <tr>\n",
              "      <th>21851</th>\n",
              "      <td>21851</td>\n",
              "      <td>&gt;50K</td>\n",
              "    </tr>\n",
              "    <tr>\n",
              "      <th>7632</th>\n",
              "      <td>7632</td>\n",
              "      <td>&lt;=50K</td>\n",
              "    </tr>\n",
              "    <tr>\n",
              "      <th>27878</th>\n",
              "      <td>27878</td>\n",
              "      <td>&lt;=50K</td>\n",
              "    </tr>\n",
              "    <tr>\n",
              "      <th>14121</th>\n",
              "      <td>14121</td>\n",
              "      <td>&lt;=50K</td>\n",
              "    </tr>\n",
              "    <tr>\n",
              "      <th>32345</th>\n",
              "      <td>32345</td>\n",
              "      <td>&lt;=50K</td>\n",
              "    </tr>\n",
              "    <tr>\n",
              "      <th>...</th>\n",
              "      <td>...</td>\n",
              "      <td>...</td>\n",
              "    </tr>\n",
              "    <tr>\n",
              "      <th>2669</th>\n",
              "      <td>2669</td>\n",
              "      <td>&gt;50K</td>\n",
              "    </tr>\n",
              "    <tr>\n",
              "      <th>17536</th>\n",
              "      <td>17536</td>\n",
              "      <td>&lt;=50K</td>\n",
              "    </tr>\n",
              "    <tr>\n",
              "      <th>6201</th>\n",
              "      <td>6201</td>\n",
              "      <td>&lt;=50K</td>\n",
              "    </tr>\n",
              "    <tr>\n",
              "      <th>27989</th>\n",
              "      <td>27989</td>\n",
              "      <td>&lt;=50K</td>\n",
              "    </tr>\n",
              "    <tr>\n",
              "      <th>25716</th>\n",
              "      <td>25716</td>\n",
              "      <td>&lt;=50K</td>\n",
              "    </tr>\n",
              "  </tbody>\n",
              "</table>\n",
              "<p>26048 rows × 2 columns</p>\n",
              "</div>\n",
              "      <button class=\"colab-df-convert\" onclick=\"convertToInteractive('df-c45f0510-9d4e-4017-90bf-bce8c37a6513')\"\n",
              "              title=\"Convert this dataframe to an interactive table.\"\n",
              "              style=\"display:none;\">\n",
              "        \n",
              "  <svg xmlns=\"http://www.w3.org/2000/svg\" height=\"24px\"viewBox=\"0 0 24 24\"\n",
              "       width=\"24px\">\n",
              "    <path d=\"M0 0h24v24H0V0z\" fill=\"none\"/>\n",
              "    <path d=\"M18.56 5.44l.94 2.06.94-2.06 2.06-.94-2.06-.94-.94-2.06-.94 2.06-2.06.94zm-11 1L8.5 8.5l.94-2.06 2.06-.94-2.06-.94L8.5 2.5l-.94 2.06-2.06.94zm10 10l.94 2.06.94-2.06 2.06-.94-2.06-.94-.94-2.06-.94 2.06-2.06.94z\"/><path d=\"M17.41 7.96l-1.37-1.37c-.4-.4-.92-.59-1.43-.59-.52 0-1.04.2-1.43.59L10.3 9.45l-7.72 7.72c-.78.78-.78 2.05 0 2.83L4 21.41c.39.39.9.59 1.41.59.51 0 1.02-.2 1.41-.59l7.78-7.78 2.81-2.81c.8-.78.8-2.07 0-2.86zM5.41 20L4 18.59l7.72-7.72 1.47 1.35L5.41 20z\"/>\n",
              "  </svg>\n",
              "      </button>\n",
              "      \n",
              "  <style>\n",
              "    .colab-df-container {\n",
              "      display:flex;\n",
              "      flex-wrap:wrap;\n",
              "      gap: 12px;\n",
              "    }\n",
              "\n",
              "    .colab-df-convert {\n",
              "      background-color: #E8F0FE;\n",
              "      border: none;\n",
              "      border-radius: 50%;\n",
              "      cursor: pointer;\n",
              "      display: none;\n",
              "      fill: #1967D2;\n",
              "      height: 32px;\n",
              "      padding: 0 0 0 0;\n",
              "      width: 32px;\n",
              "    }\n",
              "\n",
              "    .colab-df-convert:hover {\n",
              "      background-color: #E2EBFA;\n",
              "      box-shadow: 0px 1px 2px rgba(60, 64, 67, 0.3), 0px 1px 3px 1px rgba(60, 64, 67, 0.15);\n",
              "      fill: #174EA6;\n",
              "    }\n",
              "\n",
              "    [theme=dark] .colab-df-convert {\n",
              "      background-color: #3B4455;\n",
              "      fill: #D2E3FC;\n",
              "    }\n",
              "\n",
              "    [theme=dark] .colab-df-convert:hover {\n",
              "      background-color: #434B5C;\n",
              "      box-shadow: 0px 1px 3px 1px rgba(0, 0, 0, 0.15);\n",
              "      filter: drop-shadow(0px 1px 2px rgba(0, 0, 0, 0.3));\n",
              "      fill: #FFFFFF;\n",
              "    }\n",
              "  </style>\n",
              "\n",
              "      <script>\n",
              "        const buttonEl =\n",
              "          document.querySelector('#df-c45f0510-9d4e-4017-90bf-bce8c37a6513 button.colab-df-convert');\n",
              "        buttonEl.style.display =\n",
              "          google.colab.kernel.accessAllowed ? 'block' : 'none';\n",
              "\n",
              "        async function convertToInteractive(key) {\n",
              "          const element = document.querySelector('#df-c45f0510-9d4e-4017-90bf-bce8c37a6513');\n",
              "          const dataTable =\n",
              "            await google.colab.kernel.invokeFunction('convertToInteractive',\n",
              "                                                     [key], {});\n",
              "          if (!dataTable) return;\n",
              "\n",
              "          const docLinkHtml = 'Like what you see? Visit the ' +\n",
              "            '<a target=\"_blank\" href=https://colab.research.google.com/notebooks/data_table.ipynb>data table notebook</a>'\n",
              "            + ' to learn more about interactive tables.';\n",
              "          element.innerHTML = '';\n",
              "          dataTable['output_type'] = 'display_data';\n",
              "          await google.colab.output.renderOutput(dataTable, element);\n",
              "          const docLink = document.createElement('div');\n",
              "          docLink.innerHTML = docLinkHtml;\n",
              "          element.appendChild(docLink);\n",
              "        }\n",
              "      </script>\n",
              "    </div>\n",
              "  </div>\n",
              "  "
            ]
          },
          "metadata": {},
          "execution_count": 430
        }
      ]
    },
    {
      "cell_type": "code",
      "source": [
        "y_train['income'] = y_train['income'].replace({'>50K': 1, '<=50K' : 0})"
      ],
      "metadata": {
        "id": "6Y-hUlgMnZX8"
      },
      "execution_count": 432,
      "outputs": []
    },
    {
      "cell_type": "code",
      "source": [
        "y_test['income'] = y_test['income'].replace({'>50K': 1, '<=50K' : 0})"
      ],
      "metadata": {
        "id": "67QAttHKn7h1"
      },
      "execution_count": 434,
      "outputs": []
    },
    {
      "cell_type": "markdown",
      "source": [
        "------"
      ],
      "metadata": {
        "id": "Z31P_O2WrDAs"
      }
    },
    {
      "cell_type": "markdown",
      "source": [
        "# 모델링 : Random Forest Classifier\n",
        "많은 수의 라벨 인코딩이 진행되었고 결과값은 둘 중 하나이므로 Random Forest Classifer를 활용하기로 결정."
      ],
      "metadata": {
        "id": "VUPkjYCCrDUT"
      }
    },
    {
      "cell_type": "code",
      "source": [
        "from sklearn.ensemble import RandomForestClassifier"
      ],
      "metadata": {
        "id": "s52LLBTLapkI"
      },
      "execution_count": 431,
      "outputs": []
    },
    {
      "cell_type": "code",
      "source": [
        "model = RandomForestClassifier(n_estimators=100, max_depth=5, min_samples_split=4, min_samples_leaf=20, random_state=2022)\n",
        "model.fit(X_train, y_train['income'])\n",
        "print(model.score(X_train, y_train['income']))\n",
        "print(model.score(X_test, y_test['income']))"
      ],
      "metadata": {
        "colab": {
          "base_uri": "https://localhost:8080/"
        },
        "id": "DFaMJLBDdhv_",
        "outputId": "4ce007cb-e9cb-4147-c7ee-ff3b5e7bf553"
      },
      "execution_count": 436,
      "outputs": [
        {
          "output_type": "stream",
          "name": "stdout",
          "text": [
            "0.8510058353808354\n",
            "0.8518290808484476\n"
          ]
        }
      ]
    },
    {
      "cell_type": "code",
      "source": [
        ""
      ],
      "metadata": {
        "id": "nEndKjsToG2L"
      },
      "execution_count": null,
      "outputs": []
    }
  ]
}