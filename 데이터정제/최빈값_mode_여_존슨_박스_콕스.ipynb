{
  "nbformat": 4,
  "nbformat_minor": 0,
  "metadata": {
    "colab": {
      "name": "최빈값_mode_여-존슨_박스-콕스.ipynb",
      "provenance": [],
      "collapsed_sections": [],
      "authorship_tag": "ABX9TyOWbfTnmRkc4kQr98RKzG//",
      "include_colab_link": true
    },
    "kernelspec": {
      "name": "python3",
      "display_name": "Python 3"
    },
    "language_info": {
      "name": "python"
    }
  },
  "cells": [
    {
      "cell_type": "markdown",
      "metadata": {
        "id": "view-in-github",
        "colab_type": "text"
      },
      "source": [
        "<a href=\"https://colab.research.google.com/github/donghyundavidchoi/Data_Analysis/blob/main/%EB%8D%B0%EC%9D%B4%ED%84%B0%EC%A0%95%EC%A0%9C/%EC%B5%9C%EB%B9%88%EA%B0%92_mode_%EC%97%AC_%EC%A1%B4%EC%8A%A8_%EB%B0%95%EC%8A%A4_%EC%BD%95%EC%8A%A4.ipynb\" target=\"_parent\"><img src=\"https://colab.research.google.com/assets/colab-badge.svg\" alt=\"Open In Colab\"/></a>"
      ]
    },
    {
      "cell_type": "markdown",
      "source": [
        "# 데이터에서 20세 이상인 데이터를 추출하고 'f1'컬럼을 결측치를 최빈값으로 채운 후, f1 컬럼의 여-존슨과 박스-콕스 변환 값을 구하고, 두 값의 차이를 절대값으로 구한다음 모두 더해 소수점 둘째 자리까지 출력(반올림)하시오"
      ],
      "metadata": {
        "id": "fxPho7NCRB5P"
      }
    },
    {
      "cell_type": "markdown",
      "source": [
        "--------------"
      ],
      "metadata": {
        "id": "Gwdr7pGDh2N3"
      }
    },
    {
      "cell_type": "markdown",
      "source": [
        "**sklearn.preprocessing.PowerTransformer(method='yeo-johnson', *, standardize=True, copy=True)**  \n",
        "power_transformer를 통해 데이터를 정규분포 / 가우시안분포에 '가깝게' 변환   \n",
        "박스-콕스의 경우 변환하려는 데이터가 양수로만 이루어져 있어야함   \n",
        "여-존슨의 경우 음수나 0을 포함한 데이터도 변환 가능"
      ],
      "metadata": {
        "id": "rLRkjifMh39q"
      }
    },
    {
      "cell_type": "markdown",
      "source": [
        "**박스-콕스**"
      ],
      "metadata": {
        "id": "4qXoXT72e05t"
      }
    },
    {
      "cell_type": "markdown",
      "source": [
        "![image.png](data:image/png;base64,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)"
      ],
      "metadata": {
        "id": "CwTaDVdQevOM"
      }
    },
    {
      "cell_type": "markdown",
      "source": [
        "**여-존슨**"
      ],
      "metadata": {
        "id": "wcMyQw4re9-2"
      }
    },
    {
      "cell_type": "markdown",
      "source": [
        "![image.png](data:image/png;base64,iVBORw0KGgoAAAANSUhEUgAAAfgAAABsCAYAAACGqKCeAAAMbWlDQ1BJQ0MgUHJvZmlsZQAASImVVwdYU8kWnluSkJDQAhGQEnoTRHqREkKLICBVEJWQBBJKjAlBxa4sKrh2EcWKrooouroCYkPsZRFU7LoooqKsoi6KovImJKDrvvK9831z579nzvyn3Jl77wCg2cuVSHJQLQByxXnS2LAg5vjkFCbpKSAATYABS+DM5ckkrJiYSABlsP+7vL8JEEV/3VHB9c/x/yo6fIGMBwCSCnE6X8bLhbgBAHwjTyLNA4Co0FtMy5Mo8DyIdaUwQIjXKHCmEu9W4HQlPjZgEx/LhrgZADUqlyvNBEDjPtQz83mZkEfjM8TOYr5IDIDmCIj9eUIuH2JF7CNyc6cocBnEttBeAjGMB3ilf8eZ+Tf+9CF+LjdzCCvzGhC1YJFMksOd8X+W5n9Lbo580Ic1bFShNDxWkT+s4e3sKREKTIW4S5weFa2oNcS9Ir6y7gCgFKE8PEFpjxrxZGxYP8CA2JnPDY6A2AjiUHFOVKRKn54hCuVADFcLOl2Ux4mHWB/ixQJZSJzKZqt0SqzKF1qTIWWzVPoLXOmAX4Wvh/LsBJaK/61QwFHxYxoFwvgkiCkQW+aLEqMg1oDYSZYdF6GyGV0gZEcN2kjlsYr4LSGOFYjDgpT8WH6GNDRWZV+cKxvMF9sqFHGiVPhgnjA+XFkf7AyPOxA/zAVrFohZCYM8Atn4yMFc+ILgEGXu2HOBOCFOxdMryQuKVc7FKZKcGJU9bi7ICVPozSF2k+XHqebiiXlwcSr58QxJXky8Mk68IIs7JkYZD74CRAI2CAZMIIctHUwBWUDU1FXbBe+UI6GAC6QgEwiAo0ozOCNpYEQMr3GgAPwJkQDIhuYFDYwKQD7UfxnSKq+OIGNgNH9gRjZ4CnEuiAA58F4+MEs85C0RPIEa0T+8c2HjwXhzYFOM/3v9oPabhgU1kSqNfNAjU3PQkhhCDCaGE0OJdrgh7o/74pHwGgibC+6Few/m8c2e8JTQQnhMaCW0Ee5MFi2Q/hDlWNAG+UNVtUj/vha4NeR0x4NwP8gOmXEGbggccTfoh4UHQM/uUMtWxa2oCvMH7r9l8N3TUNmRnckoeRg5kGz740wNew33IRZFrb+vjzLW9KF6s4dGfvTP/q76fNhH/GiJLcYOYeexU9hF7BhWC5jYSawOu4IdV+Ch1fVkYHUNeosdiCcb8oj+4W/wySoqKXOucu50/qwcyxNMz1NsPPYUyQypKFOYx2TBr4OAyRHznEYwXZxdXABQfGuUr693jIFvCMK49E23cBEAfpX9/f1Hv+kiOgA49Bpu/wffdDZZ8DUhBODCWp5cmq/U4YoLAb4lNOFOMwAmwALYwnxcgAfwBYEgBIwB0SAeJINJMHohXOdSMA3MAvNBESgBK8BasAFsAdvBbrAPHAS14Bg4Bc6By6AZtIJ7cPV0gJegG7wHfQiCkBAaQkcMEFPECnFAXBAvxB8JQSKRWCQZSUMyETEiR2YhC5ESZBWyAdmGVCK/IkeQU8hFpAW5gzxCOpG3yCcUQ6moLmqMWqMjUS+UhUag8ehENBOdihaghegytAytQPeiNegp9DLairahL9EeDGDqGAMzwxwxL4yNRWMpWAYmxeZgxVgpVoFVY/XwOV/H2rAu7CNOxOk4E3eEKzgcT8B5+FR8Dr4U34DvxmvwM/h1/BHejX8l0AhGBAeCD4FDGE/IJEwjFBFKCTsJhwln4V7qILwnEokMog3RE+7FZGIWcSZxKXETcT+xgdhCbCf2kEgkA5IDyY8UTeKS8khFpPWkvaSTpGukDlKvmrqaqZqLWqhaippYbYFaqdoetRNq19SeqfWRtchWZB9yNJlPnkFeTt5BridfJXeQ+yjaFBuKHyWekkWZTymjVFPOUu5T3qmrq5ure6uPUxepz1MvUz+gfkH9kfpHqg7VnsqmplLl1GXUXdQG6h3qOxqNZk0LpKXQ8mjLaJW007SHtF4NuoaTBkeDrzFXo1yjRuOaxitNsqaVJktzkmaBZqnmIc2rml1aZC1rLbYWV2uOVrnWEa1bWj3adO1R2tHaudpLtfdoX9R+rkPSsdYJ0eHrFOps1zmt007H6BZ0Np1HX0jfQT9L79Al6trocnSzdEt09+k26Xbr6ei56SXqTdcr1zuu18bAGNYMDiOHsZxxkHGT8WmY8TDWMMGwJcOqh10b9kF/uH6gvkC/WH+/fqv+JwOmQYhBtsFKg1qDB4a4ob3hOMNphpsNzxp2Ddcd7jucN7x4+MHhd41QI3ujWKOZRtuNrhj1GJsYhxlLjNcbnzbuMmGYBJpkmawxOWHSaUo39TcVma4xPWn6gqnHZDFzmGXMM8xuMyOzcDO52TazJrM+cxvzBPMF5vvNH1hQLLwsMizWWDRadFuaWo61nGVZZXnXimzlZSW0Wmd13uqDtY11kvUi61rr5zb6NhybApsqm/u2NNsA26m2FbY37Ih2XnbZdpvsmu1Re3d7oX25/VUH1MHDQeSwyaFlBGGE9wjxiIoRtxypjizHfMcqx0dODKdIpwVOtU6vRlqOTBm5cuT5kV+d3Z1znHc43xulM2rMqAWj6ke9dbF34bmUu9xwpbmGus51rXN94+bgJnDb7Hbbne4+1n2Re6P7Fw9PD6lHtUenp6VnmudGz1teul4xXku9LngTvIO853of8/7o4+GT53PQ57Wvo2+27x7f56NtRgtG7xjd7mfux/Xb5tfmz/RP89/q3xZgFsANqAh4HGgRyA/cGfiMZcfKYu1lvQpyDpIGHQ76wPZhz2Y3BGPBYcHFwU0hOiEJIRtCHoaah2aGVoV2h7mHzQxrCCeER4SvDL/FMebwOJWc7jGeY2aPORNBjYiL2BDxONI+UhpZPxYdO2bs6rH3o6yixFG10SCaE706+kGMTczUmKPjiONixpWPexo7KnZW7Pk4etzkuD1x7+OD4pfH30uwTZAnNCZqJqYmViZ+SApOWpXUNn7k+NnjLycbJouS61JIKYkpO1N6JoRMWDuhI9U9tSj15kSbidMnXpxkOCln0vHJmpO5kw+lEdKS0vakfeZGcyu4Pemc9I3p3Tw2bx3vJT+Qv4bfKfATrBI8y/DLWJXxPNMvc3VmpzBAWCrsErFFG0RvssKztmR9yI7O3pXdn5OUsz9XLTct94hYR5wtPjPFZMr0KS0SB0mRpG2qz9S1U7ulEdKdMkQ2UVaXpwt/6q/IbeU/yR/l++eX5/dOS5x2aLr2dPH0KzPsZyyZ8awgtOCXmfhM3szGWWaz5s96NJs1e9scZE76nMa5FnML53bMC5u3ez5lfvb83xc4L1i14K+FSQvrC40L5xW2/xT2U1WRRpG06NYi30VbFuOLRYublrguWb/kazG/+FKJc0lpyeelvKWXfh71c9nP/csyljUt91i+eQVxhXjFzZUBK3ev0l5VsKp99djVNWuYa4rX/LV28tqLpW6lW9ZR1snXtZVFltWtt1y/Yv3nDcINreVB5fs3Gm1csvHDJv6ma5sDN1dvMd5SsuXTVtHW29vCttVUWFeUbiduz9/+dEfijvO/eP1SudNwZ8nOL7vEu9p2x+4+U+lZWbnHaM/yKrRKXtW5N3Vv877gfXXVjtXb9jP2lxwAB+QHXvya9uvNgxEHGw95Har+zeq3jYfph4trkJoZNd21wtq2uuS6liNjjjTW+9YfPup0dNcxs2Plx/WOLz9BOVF4ov9kwcmeBklD16nMU+2NkxvvnR5/+saZcWeazkacvXAu9Nzp86zzJy/4XTh20efikUtel2ove1yuueJ+5fDv7r8fbvJoqrnqebWu2bu5vmV0y4lrAddOXQ++fu4G58bl1qjWlpsJN2/fSr3Vdpt/+/mdnDtv7ubf7bs37z7hfvEDrQelD40eVvxh98f+No+244+CH115HPf4Xjuv/eUT2ZPPHYVPaU9Ln5k+q3zu8vxYZ2hn84sJLzpeSl72dRX9qf3nxle2r357Hfj6Svf47o430jf9b5e+M3i36y+3vxp7Ynoevs993/ehuNegd/dHr4/nPyV9etY37TPpc9kXuy/1XyO+3u/P7e+XcKXcgV8BDDY0IwOAt7sAoCUDQIfnNsoE5VlwQBDl+XUAgf+ElefFAfEAoBp2it94dgMAB2CzDoTc8wBQ/MLHBwLU1XWoqUSW4eqi5KLCkxCht7//nTEApHoAvkj7+/s29fd/2QGDvQNAw1TlGVQhRHhm2BqoQK36qb3gB1GeT7/L8cceKCJwAz/2/wLqGJEBjMLq9gAAADhlWElmTU0AKgAAAAgAAYdpAAQAAAABAAAAGgAAAAAAAqACAAQAAAABAAAB+KADAAQAAAABAAAAbAAAAADrlDufAAA17UlEQVR4Ae29P3QcSZbeOwWNrQYo6zliFXWOzG2Aa2tYhZEpDQHK1FETgCVnpwmuvd0orK0ZgPKbhV5/CIxcbSPRa2sJjmw1ivuO3CW40nOb7/cDM7qDycyszMKfAsD4zvkQEffeiLjxZWREFchm/+IXCUmBpEBSICmQFEgKJAU+YQUGrH31E17/VSx9jUm6VzFRmiMpkBRICtx2BeZu+wIvYH0dxtiG38G7FzBeGqJagXlcx7BbHZI8SYGkQFIgKZAUOL8CXjgZfAc34DRwjG5Nx0n+mq43xuX6XWcTjAnabRJ4TWIWyaPp2spS7pYZky0pkBRICiQFLk8Bv7kfQS/3p1NO4+F/DKsuAO0ZNO42Y4nFvYILDRbp5X7SIO66hAxIxGc8Ddbp5HrL4P5LSApctgLuM/dwv+FEV7UvV8mn6txsmGoKSwpUK+Cv5b3cs+qQWo+b04tquSbKi+FRjf+muVZqEvZD0n6NP7h6VNR9KRiuSblWk8cQ36jGX+U6wHG/xLmFTQ1eQPdRQlJgWgX8zeNmRWcv0THche43yzps4byKfekZMIZtYb91uAXL3ivMtwKu02e3BZdgQksFFM2NLOsu6LphRzj3agL8AJHV+G+Cy402gE/gIVSvOVgG7UdwWOYs2I5pjwq2q266tj50bS/hpLWNiVmHTXGHQNdZhU0czrlXFZDsSYEJCsTn2KAQa9v95Z4NcWPqk3AV+/JbkjCvNtgg+BSan31neYYsMv8ILsMOvEg8YrAxHMJV+Aruw3mY0FCBPeLc/Io3DXp0sr9lGRYwvoGDMucV29wkK1PO6UuVwV04hq55DlbBeNft+qvgyzGGxs0S8dqOSaTJ2k6I6zRM+ilxsgqOcwrVoemYVWMl+6epwDzLdu+OofUYIxru6bC3BtS7cBJ8dy9zX95j/DEMeVGdiPtEuBbXEGCe2uresRB7GaW5HMAjuArbrIfwUvSwuqb1yOs6x/BZZEvVGgW8oBRRbtfE1bn2cGY1AZv4xjX+q3S5xuE5J+zQP4Nqpn51GON0/WVYxDiGlo61AmeNpmvzRTPn9QYJO+YreG9C7B5+x9yYEJfcSYG2ChzRwb3lXmyLsC8fte3YIN6x1xvExSEhn9hmPYMnsANnBd9x8xtD13WeXLbpX/bMvq2wTzyM6ffJ4UG04sOo3rTqA3wIv6/p8BjfUY3/trrUxotNfYpYwrAPvdSP4QFcgzcFpyTqM+83SHiRmDH8YULsKPeX6TWha3InBWoV8KKYFvt5R8+xi8Q9BuvCEWyKcN56nlqP4VnThZ4ts4LvuDotwwfwBK7DYq6YJuKLiohxbl8t+ueKhtSeSvhYNg/vz2AWG6O6D/ZzeBzZ4mqXhi/QIRzAGI69Bedj4znr787Zv0135zqCD2C8wV2X/87AGjyGwgvei+0i1+q4lwXXlsFfwXhtND/COhbXNwkZAa/hb+AdmJAUaKPAiODDnOGS69IewrtQbEHbXdgU+wRexr78mnHNxXepKToEet5aFvE2N3SLjglttXKNardYiLX9ZcHWpOlFvwbvwx4cwy24AJvAuzo8s6r4Yq7pG3yVUrm9bNNM6PLTp8VxReAgt78q8fuw3VhP4D/Bb2CcwyZtXwJ9NxVh3f1oATvUXVsW2Z5TfwvXItusq+8mJODaujmrQn2eXtgvqgIiu/Md5O2VyJ6qSYEmCrwmaAH24TwMcA9KEdffWyb/nHZf+i12UMFV7H44duw4Zol2Hfp1zty32CAmhKjX7+EaVJvnMMaQhueVvmnwj3T6CpqTl/ZL6Jjx86FZiVeVnhLHL0tsn7qpqdBVOt3NHScVAWF8N3IRmxh24Rh+DkWIc0M9gD7gH2GAG+U4NG5AGa8npNsPlUIZtCqYZ9b0GYT8y5I4zY09ypOyAGyr8Ai+qfAXzfsYfgv/AvqBLyEp0FSBrwl0z4azxH5j6AXzK3gXbsH4PKHZCGFf/ieim+7LB8SaTxm+wHgA/RAQwwvRS7AK73KHZagXY6vsxTjbv4eewW/hIhzDAHP3w7nvb5sxQ/+49P0fQZ/NY3gIM1iFB7nDM6Zq7o/s6YL/WE4FDJhm41dt4DCmm0a8fl988POE1nPor3HuwmcwoEdF2x+DgdKx3PwDmME6LOGcLwn4l7nNMYpQC8e/SDim6J79vJgfrsv1tcFhm+ALjH3IWAcNx1sg7nfwLVyE9+APMCEp0FSBd00DW8TF+7JPv6b78uuKOez/AD6BbfPt5GNayrL+ISYPrS2O8L6Aj+Bn8FsYMMgr3wfDlKXr/Qo63hZcgWV5Y/4JngHCtciyeO0fIF3wH8hx1igT7uOoasuk/qd51zclQzzPbWt5OcpLCy8GkZ39fP/jmMJNkr1v1v50E320AbC52YTjFOFaXhaNE9rz+P3UXYWw7rtVAVPYF+lTln/dUCc4x3UBU/jUqw4ejH24BiehR8Af4H+Favpf4BP4W5iQFGiqQNk7H/edtGfjWOtL0H3517AL/wo+hl/DafENHYewbS5N5xs3DSTueR4bztsXUd8HeT2LbG2qA4Ifwx50veuw6ZqPiRW/el80+5ku+I91air4xz3fWzq5w7JsrPCgfFG+y2OLxW8wvIbx5drPgw7zMhRZqEwov67wD3N7lb+iW6X5czzFHOPgXt5wfReFjIHkrNGZkMAq/gP4bkJc2Bv+tsbDzw9hXvD/Hn4JJ/UnJCEpcKbApL3inp0UE6Qs25de8F/ALThpHPv7YTVGl8ZdaN8BLOIUQ3wOFv1Zbiib+7PcN87LpoWaPISv4EnU6UFeP4xsk6qO5bq+ygO3Ke3/Lm83LZrEj4uDpQu+qMiH/x23D6ctxnkHN9ebms5VD2yOPndh/Kt4h3kA/wTd8GIH9vNyRHlTEDQd35SEW+QZ1lb1bD00hhPGC4foEXGP89gfKG27BwbwO5iQFGiiQKdJUIOYsC89l+J96SX4OdT/97AOWziLF/yvsH0P9ZUhw/iyzJHbfNc8F82hCG1v4WHBoSb2q8ICjs+g71yAfR5AbXV94/h1Gl/A1/ApnKQPIZVwTrX3y18R5iqys5/pR60Cy3gVUw5qI8udob9lGe5gdOxHZc7cpn838i9S1/Yst61R9qGX/D48D4Z0ludBh84ZNMeqdeM6wwY/jbv3vnntf8Zrm5uQrTq6trI41/sKOl4VlnC8gcfQQybGBg3H3ouNqZ4UmKBA2JODQlxG2/1Utx9Dlyb7cjcEtyiXiT1qEV8VuonDtfSiANd1Covno++WsauwCos4jBlGASu5bTuyVVW7OE7gHvS9vyisM5B5DQoDvqJ9VLClZoUCbjpFLBOyossH5k7ed+MD688N/T6Q4c+mj2o+LDdIH7qxPPTNJ3woWKMuxnANngfmUZdL3di9vO/vKUOOL3LbekXHXexj2KnwXxez+0Bd4rU9p70Fy9bmeg6gB0jZ2p5il1WYx6GGb+FCSZC2U2iMsQlJgToFuji34Evo2fECum97cAjdR9p/D7dg2Z7F/IsuNHYMJ+1LQhrD+Y7g/cY96gN9715Cc3TsPej70oUxtLlu565DhvME9uEaDHp5LkyC72dvUtCUftcVr3ObtmtaKhvvl2XGT9z2/5xz/W6eA/gAflMylv4M6q/CQxzrcA2+gm5GbYdQjGAfupFGcFZwLW4u8/tvURLdqB5XOzRct/H2vc74keTK1na3JunP8fnsi2tz3Y/hKqzDtzifwzclQdo24RpcgocwISlQp8A/4fzLKOAu9XfwNfwPkd19q70MbzE23ZcDYpvuS2PH8Dy/tqb7T+hT8wP0i9wypvQ9sYyxSGMlZ2wv1o3ZgOvwJVSzDmyyPs8NeRl4zKDbMF6nH5J+uIzJbuOY/5FFudnlv5tygcv08wG7IcpwD6PjWxaxhWEjMi5QN3Yvslkd5exSuhmnxSYdh9N2btkvrHu5Zb+bEO6aqp6pL+DBTVhEyjEpcAUKeC4eQc+DWcCLv3iehjzmqXwNHwUDZQ/6bm9HthtRVeiEDxX4Nc3/npv+LeXffuhu1FLXY7gLy77FO4gb7DX8ykaOAeV38BVczG0jSi9wN+UJDHD8J7APR3AMrzPUZATn4UN4m+Da9uEpfFyysGfY/BbwvMSXTEmBT00BPwz7npS9K1ehhedyBsO34HjOdRqe2QdwJXdYfwC70Hd8EroEOE4bmMtxmw4pdjoFvNTf5XQjTgu/tY3hQsUAvdxvGbBExbnXYBc+h2OovQg33wguFh3XtP3n5OXLEa/3mqbaOq2wtvmSnh1sx7BqH5R0SaakwK1VwPfhCN6b0Qr7zJvVzO257Rnch10YLt4276/ngHdHG5adHQyRcNEKxBe83+bPgw06f1szgJvJwz/GgMZeTvt3YucNrfty+A320Q3Nvy7tOzh9hj7LMmj3eSYkBZIC77+Q7M5QiEXmnnSZrhLjO2uet+UMZikJKnCRF7zjrcOBlQq4mfoVvttiXmEh8jbiCYtarFmY616q8SdXUiApkBRIClyRAhd9wV9R2mmapEBSICmQFEgK/KzA3M/VVEsKJAWSAkmBpEBS4LYokC74j5+kf8Ei4MdQSWVSICmQFEgKJAVukgLpgv/4aXUiU9InEiNVkwJJgaRAUuDmKJAusJvzrFKmSYGkQFIgKZAUaKxAuuAbS3XtA/2b2hmcv/aZni/BEd39LxMSkgJJgYtRoMcwsgni33A2iU8xSYFrpcB5/hZ9xkoO4QlchlcFL/cxbPqSXlVe55mn6j89C//d+VXqe551pL5JgVkq4HtS9a6ELwUHxJzCZxMS3cHv2WY5PyF2Fm4/fLjWAbxNZ2FRS9fpv69x29dZXPeFtP3HbfyLdrLtP3Tj5trP+1a9VLgvHBkjPr3wUa9+wHtMuQY9RDJYBZ/LKVyoCkj2pEBS4OzfXwhnmZd5DC/AN9Bzw4vCuDGchCEBxu5OCrxivxee6zEvc/R8sJwFFpl0B3qeXTSK6xwzgXMlNFTgPN/gnWIV+gJc1QX/iLnG8DrgyZRJdOiXweO8VD/bVQjx21UByZ4USAr8oosGpzmtx9ij4XvmuyQ24cpZrf7HAm77ncDQt77H5Xt7TGFO69FUXq7aNiLbVVbNZQxH0PwuAmrvhxifVcAdKj7jdBYGRSaU/xm/G0P+ZkJsmbuP0b7LZc5LsHkp7l7CuG2H7NDhCM617ViIH9BWv6xgLzZ9cd3sbvqEpEBSoJ0Cvqu+Z763bXFAB/v65eI64BlJlK3FNZ7AadZ4EetyXu8B8zjM6xRT4yk9XWfxzBth8yz8aJ3nPYwZ89bhf0cr+j9R/TpUiw+wR1KfQ1+4Tw37LHgeDj61haf1JgUuQAEvimkRzptpvgBNO2dVP8/EL+CfSgLG2LrQc3IWUGP/76AP4F/Dr+Eh9NI377b4bd7Bb+wx/oFG6Vl4ngt+kUG78Sw1deOMvwn4/86ZZN2DGzD2CPqQLVdhGe5hHMIsL9VuB/4At2DASl5xvDIsYRzBTTgPY5hL6B/bp62/o6O8KpwykRu7f1UTpnmSAjdMgS3ylc/hIhRd6NlyF4otaLsHm8Lx3sKHsNO00yXFOf9n0POgiHFuCGsv+qvaCzh24Ah2YYx5Gl/Ghob1cNH/JfGP4Qlcg031My48M6qleFC0TnvBK9gTOI4G7FL/PdRXxBjDCHbhp4J3hYXu0lafPbicl19T7sAYqzT+FzyFm7ALX8LX0F9FrcAAH/jb0CiUS7Sdz/F/B9dhQIfKCxjbgm/a0jGvEup7Av/sKidNcyUFbogCvo9yLecCZUDw2Y7rwT+p9N07gPNwfVJw5Hcu75w2tE8d+jXO0HexJqboUqd96PrstwtjjGjswDB27GtS/3uCHkPvgAH0DFuHkxDmezUp8CL8CtAtGegJNh/+fInPxWQl9utmUnjXIM25LexjX8cJeESlaNO3mNv1iw48hcc2ItjXS76IIwxZ0Zi3HWMe3of234IBYY3DYLiA0twzOHfOsQb0N9+swTi+fG+gcyckBZICHyuwjcn3yfcqRkZD+7Tv62ref5+yKQ4IPKpghr1IY/dgHcJZlpUEhbUPS3xVJvus584xpQzoUDmFR8FwznKB/nvQMfuwDgOcVedi5Tp/WTdihW8NuwmNYREjDH5r9OE/hzEOaXwJTdT6p4IOC/0qX2xx3ce5/a8oX0Af+GdQfYvoYXCsd7nDekBs19aF+9Bx1qD44/vi7Gc/rx9Fti3qa7ALJ2GuJsBcyvw/1vSZ1vWWjvPTdk79kgJJgakU8J3zTPP9ewjvwH+Ek2DsZcFzR4bzMZ5He1P8cwKfQ78Y3YXPYMASFc/no2CYslSvL+FjuAd78A2sg1oL1yIbrXOaC36FwU2qDF4o+nyQilTEEYY1eFh03KK24ovwAGx/fmb52ZY3fyoWqRnnS/IafgaLOMIQxtRXVdc3hlvQMX8DHfPvYcCDvHIYDJT7MIvaVVVz3a1wuk7/rKkMzzGOyhznsMUanGOY1DUp8Mkq0PYdmkcpz42/y/kXlGvwd/C64rRFYk/y2Md5uRf17ef148jWptojeA2uwB3oB4Y3sAnCnL9qEnyemFM6L9QMsIrPTeNiihhgOCkar1l7mXzMX5pvW4T+lsJvs2G8zpnlwx/BZ5zYgNqGsA9fwDHswSIyDEewbFxj3UCOFX8KNVZbBi8SjpvBsI5pxx7QsWl+wzzWuROSAkmBjxUI74jvVYyMhu9Zm/fVc/8l3IPCb7mOoa0JfE+drw3tUwf95nBUErSb+wYlvjqTY45zxnEZDedShza4R/BzOIYb0PHbwj7OLYv9h7l9k/IDtP0G78I+g28+GOXDxguab+FD6KeUGGMaXRiSpXrroD7CByEsX8O7Ngpwowv9Id5v3I9gFy7D/wZtBz/Vn6DOzlfmM2jJHyA7+/n+Rz+vf5+X85Rb0PIJPIU3Ae6hLlSDhKRAUqBcAd+Ti8ACg/jbOcf7Mh/Q3wq+govQyz7+LSHNj5B9ZJlsOCFkbULYn/D/GTS3+Cw0L2GObeA4d+GzqJM2x3OupmekmvwW9uAe9HKP86PZGPb7I/xNTY+DGl8jV5+oSQmuEXMMX8Iy2N8FX1d4qZqjtN4WfTrYdxB1fJTbViOb1fDAn0b2jPom7BRI8yNsY3EuY8uwhbGYy05uC2uzPQ/HsA+nhTlkcG7aAfJ+6mbOGaxaF64znzFHNhKSAkmBUgWGWItngIG+N3VnhzEBC1Q8z8fQegzPLsfZjY01dd/pNqwZ6ieX56U59H6yvJ9jTPsgslndh2/gko0KLGJ3vGHk7+e2Z5GtqtrFkeX0nHW9F4ENBjGv+4XBjmnLc0MBnaAKOzhGUPGMU6gYLlR7PzZes7oP1RzlQsvc7Psi72tpO2CXyil8BO/BVehG0x4jnj/kMSbA8ZbiQOpuHmN6BXtoatfvmB34JG9rsy1WoM9J2zycFo6XwbkpB1in3xA+h+ZyArdy9iiLcJ5TWNSvGJfaSYFPUYEui96Ch9D36Tn0HfNd8j3z/dL+NdyCVfBMOIa+a8Xzxz4L0HEcb1YwB3N8Djs5/eBRlrO5ygNYBcdwvEPo2APoWW0/65MwT0CTuEnjlPnNK4POYZ4bsDKvX+Jsg5Oa4D18n8GVPOY15Tr8Mm9bdPN6lpfXsejkSZn/aYsEQ7//SZ8/Rf20+wDUYR+uQn9tY4yX/SEM8KH5lyhewXgDLtIewD78c/gDFKGvvrJno20ZOrexGRR/hO/Oau9zGlHfg23Wm3e/0EKt/l+4Da3PQRFyfd96/1NN3G/Z+2b6mRRIChQU8P35O/h9ZPdd8t36G2j9n+WltrL3zAvOc2EAX8Ii3mB4CldgH2bwqmEO5rcDrZuvZ+gyLOas7QE0vgrq0IeO9wKOoePZ7whOgvMfTgqa0t+n3zM4zklx9j9Fu7D5HLgLY4xoHMP5yLhJ/SRqW1VUF3+dkZHcO9jkQV70OnxRxhWDqq3aDQv+PdqyCOO3oGXAOhXX9igY8tJx+zlzU+uiQ48MzrXuOV2HbbqNofMmJAWSArNV4Lq8h03yWEKqvRq5nuAbRP4edc/Nuj5R+PWptv0Gb+YZVKAxDPAS6UMvigA/+TyEfZhBsQj3z2rX80eHtB7kqc3qYbqRyvA2N4YyxAyp+C/fbcETGLBD5TF0TV/DefgVPIJ/gAH9vJJRjqDlNDDvJ/DHaTq37OOHiC+gl7zzJiQFkgKzVeC6vIdN8lhBKs/BMqxj/D3Uf5gHfE3pubuVtycVnrWbk4IK/ue0xwXbuZselG2xRwcv7hgKdhobqI9hH2YwwH6j0LiGpQ9XvIYKftXw4v0n+AIuwQ70GVnXZ17fwBg/0PBXNluxkbp9X0E3aw+6We3vs4pxTCODO/AJPA8c6yrwJZOcwqIWVzF3miMpkBS4uQoskvoDWHV2eK7ILTiflyuUy/AENoXnbxs616Vim9G9BFZLZtnEFieQ0e7CNlgneL9NhyuO9WF4Ib6DZRpcVTrmsQHV6vucB7lNXxWMifP2ee3BI6hvHd4G3GcRp3DhNiwmrSEpkBS4UgVWmK07YcYhfs/NDD6FN/6s2WMRT+AW9ILrwYB1Ktr8BBPg5TGClk1gXAabxsdjOu+gJaeZZ8gcrtNvw9cFHRKRTeCad+E0a28y/nWJ2SGRxeuSTMojKZAUSApcVwW8PLxAv4Br0AvCv+G9BI+h2IP678A3MCBcJKfBUFO2iY2H6dJw/rbw19L7LTqtE+uvbL6Fj1v0S6FJgaRAUiApkBS4tgp4ufVhB3pZH8MAbWP4Clq/jXD9fnP3VzEJSYGkQFIgKZAUuHUKPGJFxYuul9uu06+tL1p4v+m/hAsXPXAaLymQFEgKJAWSArNSYC6a+EFej3+1vZrb4m/1UZcrqZpjW7ZJbI1gfzvxHfSPJhKSAkmBpEBSIClw4xX4Zb4CL7hF+Br+kNssPs/r8aWvKYPaduBlwpx2p5jgOX1GDfudEteHGfSSX4Z+o0/4NBVwz63BJ5e0fMc/rhh7hH2nxl/RLZmTAkmBpEC9AhnuoyhknvoJfAX9ABBji4YH1W2C3979I4r06/rb9FTbrcU9fwwtA9znfmA8hF/C2EezNbbocQodt4gehmN43jmK46Z2UiAp8IkrMGT9XnAD6EHjRWd7mm/QdLuRGJG1a967kdmnpM+rwBYDrEWDdKmPoBeu9PL1oj8v9hlAlsH3UCYkBZICSYELVWCD0Y6gh88O9LLzL98FLFJ5AVeC4ZaV4Vu86753TdY2Io/1mlzW8PmsEuoV2Mft863CPI5xwelF615YzO0reXuQt6ctfJ6O65xlOC0zXkPbKjntTZmXGtZ9eVCjOv+U086s23m0uuykO0wgm6BpXJOx6mK6dc7ka6eAB9eTQpcj2mMYHqiH0Qj24Rt4W3HMwjx8r8PhMiSP/Rqh1/GZb8LPCiz+XP2gdofWGN7/wPpzo081+7l5VnMs9Z/P7X1K94bleeB4p9DnV4ZjjIMyx4xsixXzdrDvwe0Kf53ZfvGXhzh2ncZRbIjqHerL0OdofdZYIYFDOIILsArmugen0apqzCZ2dVqqCNTuFzb3m/t6A9ZhiDODlpcJdRzD+ZaTqPEAXpe90TL9VuH3iO7Duj3304A+XBkE9cWzbRngRl6EO3A/GG9hucuaXPsRdMPMCm7UUzhfkYAP1g9abuZPHWqxAg9hBqvgfj6BZZpuYffZ12ELZ90zqetb9I0wmG8ZMoxbZY4rtLn3l+AO9H2Yg2W4g3EM47OiLC62OfYxLHu/etidzwOsiE0M9juCPgf3/xDOGqskYM5VzzPkN41Woe80pc/PvKT1GOoc9Atx4zigor6L3fEuU3fHbjv+Nn3GMINhb2xSv23wWb2EI+izGMMtWIkOHgV5kkdsUPrg1/N2sRhjWC0ab1HbjRJeCrWZFTImNpcqjHB8W+W8Yfa1KfP1+fis3L/HeT2jrMIcjtdwoyRgC9uwxB5MXSq+FyvBcM5yn/7m3isZxzzqcinpcqEm5za3DI6hdbWrgvEZ7FQFFOzq/6xgC809Kt+GRlT6AULNAuapZNDctuEs4bpfw6rnGedmriewqVZx37b1Hh1OYVleXg7aF6DYhCtntfofjmm/y1qD+YxhyIvqRDwlYhRFuTeOoXnquy1Qk/ChLKzpHhWfce06lwjYhxkcQjuVYQWjgwnrtxG+gG4MqS6zwDKTOr8vUxl8PvoHZc4bZuuQ7xGcmzJv+wu1UJMM1mEd5wkM/ULsFhVZhnmMGezDGGs0sgns4y9ihGEN+i5twiK2MIyKxhm01SiD6lr3fDx4jFmGTXBA0P2SwHvYHKf43pnHEfSbyyIM6FExXprDLOEBax61By3+tlqdd03OV6aNepqv2rbFAR3sW/YM245VjN/GsFE01rTNfwzdG10YMKBijl6I06wxjHPZpc9mHcb7umpOdXFNxee5j+1C1jlioB1oMk/gbUR4URXSTTIL7DHpK1i1MUOOVf5Z5DztnK7hCM5NO0Deb0DpM8vydlVxD4dxy4WAIW1ZhhFG97yw7FuZEiP6SbELT85qH/7QvvWhaSatDrNmUL3qno9xR3APTkKPgKq9vY3vFDpeEeYgjQkwznjty8E4o/JensfJhPnN+QjuTYi7bHfGBOpmPm2xQQf7ftu244T4BfxVe6Oqq/mbi4w/XMX2We+Nstxd6xC+zsv5sqCC7Zh22TPbzu0ffeCaKwwwqblPwCJcgzvwNkIRZ40HJJBBH2YZ9H8Pq/xlfdrYlgjeguslnXrYuiX285guax1lOY0xvoVqGMNPwPOxIa+PKN0T+uzzJZwWIzo6zhoUI9iFizDG53HjBtR9fmr0K9iZkO8q/j1Y9sztn1X4HmH/Fv4OBjjGaWjMuDxh/j/BLvzooMUWYM4ZbKJV6DNtuUVH+TXsQuH+G8DPbIA+tK29KV4Q6Dv072GnaacGcZvE7EI1agpj/wN0b3wTdYrHiOtRSGVVLbZyFnWx3YfT4h4dR/AQvoZd+DU8hXVQ56pzIazvYd0AyfdegWUKBZOD96Yr/emDdO7tiln1j6EvwmVgiUEz6NrNYwMGOLcb8SAYLqB0zAzOnXOskK9j1SHMd1QICuuOzU9ohL0Ql3FM07pjHcP5Qgdto4JtTLtfsM2iGbRy7ZOejxewcb2aRB3vFbxXEqPP/tslvipTF4d9TuECnDU2SMB8nk1IpIlWE4aY6FbPHag25jSAogvVeAyD3ra7sA32CLa/a2mKDoFzFfwX2H0X/lnBb59p0KeT+Y1hmzHmic/gKjSffRgjrLvNmPa/B0dwDDdg2/7qVrWe7dxnmTBBgWX8CikHE2Ivwx3mr5p7Ls9teBmTM2YG3eTOrwZbMCDk9jQYLqDsMEYGXdd5EPI9mjCI8xkjrccY03DtMYwpMvY3rXcJLI5tX21+uAiwfRoaMy5ddwbdB5OeT9gbllW4j2O/wun4zjOs8JeZRxjts1HmnIHNDxnmczJh7iZaTRiisVs9zWlQ6JHldnWfBl6AjnvQonNG7FEF3fPHJb49bNMgo5P5tfkA4jzqFfbTmLoM6FAJeQbbpNJnPYKuu20udPkJvjuux3GKMGd920XHL4uG1D4TKsigaNOgzUvjHGXzuJnqUOfXV+cvjvtjbuhRZtBN7Ass4he4f2Z5H5NXz74ldGmsBENNWadLlS/kVjNsK5daZ/Crkl5DbK5jFPnKnk3kblwdV0Sq9cvIt0t9K2o3qVZpV9X3ojWtmqdoX8Pwx6Ixb/fz8nWFv2j2OT2GT+E3RWdJ2/dBNsU0Gu3kg3cpPcz/kLdvWzHPgr7IF/UbyjvwH/N2XdHHWfYM7P+3cAkWMc37t8YgD+AGbPsMPqOP++k+vAufwQDz0/99MNSUy/j+CrrebXgIp1kL3c6g5gGOGY9VpulZbLrgg2Q/l7FYcf3niPqaL3nZRq3q9QbHSokzfoCxOzzoKn+X4L24Q4P6c2JG8ARuQdfti/saxpePtrcFW0a7CRYJ2q0I/By7L3gZQm5lvjJblS5xbNVzda79nKdxhyuqD5hHLR63mG+F2M0W8YZ+CY9b9pkUPkn3sKe+rhgo9B9X+GPzIo3n0APcsgmyJkFRjOOOovak6h4BPru/hP8FPoRVl0tYa5eYy0bVXg/zhlxCe1I5T0AGX8H/Cv8CugebfMgi7IOLybb4HfQibZuLfYtYwuCza7M34jGe5I3HeTmKnP28nkW2sqr70/PsW7gGL2JdGeOIP3tfpJ/TKrBMRx+I9MCdBr5UTVkcP8xvWYY5jOa2XebMbU3nDnHFofz06hzxhbyQ2w6KwS3aYb64dD0ZtIztoY65EQZEmXPWINp1GescRXiAbRWNV9R2Xudvi6BV07Lp+I6XQbXy+dRhGadxlmV4hHGvzJHb7lDa/2lNjC71eQPXbeToUbo/6+Ba2rBurKJvD8MpNAfnsG6OVTlN0oquF4YhI6nroDDiUW6f9Fzjbq7nGGa5MZwTL/P2pEJtivxX2MbQPIq+0MbVCItEjeFSFN2jPh+1m1Sdd5wzjj+goZZVzzWOvUdjG6rXOmzSh7BKmJNzyyKGGLR/9O60ebjFQT+FdpmYTdYdHkSTsjjeuGgotJvk1GTeOKYwxS/6uWE/cvjyiKP3xdlLs0N9lLebFPGccT30jW2hHnwXVfqiuJbXFQOeYt+q8F222Xmdvy2CVk3LtuM3iVfXOviN1gOyCmHd81UB2PXtw2X4HAZsUVkMjYqyqTYhrmKYj8x7WFzbAHqp2991musqLMMkrcr6TGurmss828AL6ru8w0pe/j3la6j293JbXfECZ1bg/6B9Cg8L9ixvP6dsAvXeh2r+Mupg/17UblJVs7vwKArW9gD+CZrvJPxAwFdwAHvQnIZQHafFUd6xUzGA6/8A6YL/QI6zxr+OTFVCRiEXXj3JR+zXjPwKnxvwsvBZycAPc1uWlzuUW3AF9uFNwjuSfQ0tEy5GgbAfT0qG81BbhC9KfMHks/iH0Cgp57EdwgNofRDxV9TH8Kqxx4RfwHXoAR6gXfzmffHRz/B+lWn1UfA5Dep6Xvj8voM9uApPYcCzvLIWDDWlffsRN6i/hv4moF/BNeyTEPbGLoHx3nC+z+FxNMAOdffRYmQrVt1PwtwCHlDxuR3BNpq+If4ruASFcw/hHRst4Jx/zON7hX592uZ6UrCnZokCK9gUU/66xH8VpoxJRjUTuZGzGv95XQMGcP2b+UBrefuUspPbnlD6kmibz23TFI6XwblpOtPHF6cPfw/N+QSuQNdQlpfzGDeECeUK9DCr30Oonur1JezDcFBR/QDuSfdC5wPr+8Y6hf5J2CPgqCJoH7t5VLFs3oqhLsRsruayUTHaOPd3S/x1WpWET2Vy7/fhITRP3w+f3QIcwBOo/XHepiiF47yEPlv7F9HD4DiO1xZquNy2U0n8MTZzKOMYewcGhJj9YCgpjX8ND3Nfl1IN7LsKzwPHds+M4Qj2YFP47Fzri6jDI+qVef0yCkzV9wr832sgxPfk8J+gm8GHV8QRht/COfhj0XkBbTe2/3iEczyEbirhvCGfHeoj6ItyCmeFFSZWp/8Dt/O63wg+g+blixljMW8cx8ZU/0CBPq0uVNe/gT7zfwEHUFtRU20P4D4M+4PqT1ihNvypVV05wuW3XscrjuPh5ntRhjHGYnxZ3EXa3F9P4TcVgz7BvgkH8HkU49oewCqtotBzVbv09vD/Oxh08zk4rzmF5/qvqPu+ZLBMQ3V/C9dh8bljOrvYfe/6cBEewya4R1AXHjYJnhBjfmGNxdBXGOJ1qYn6m2sVjH8IhzCDp7ADRXb2c/ofju2eeQ7VdARP4BYcwzq8wTmA9h1D+/WgZ/ULmNBAgX9LzLucv24Qfxkhbn5zsCyDL52bzs160ZhnwDVoGeBGNJ+NYMhLc+jnzE2tiw49MjjXuud0HYZ0G0PnTbgYBXoM4/4YlAznHvaQbaK3+/otXIa3AWVrrtPqJq+5bK1169nDOavn7J48qEluDZ/PKcB96f4254uGug3gYsuB7ScTWipwHS54U96Dw5rct/Ed1vinde3T0c38NB/Ai/4Efp+3Q9GnMs4bo7yctmi7uaedZ46OY7g+7QCp30cKeMjswuwjz3vDJkXYSxUhH5jd1+792wrf6ey2Lq7huu7NWAOfwUZFrivYPf+yyG/8KexFtlS9oQpclwvezTSGVZvKT5X6B/AiccBgx3AeOoe/+rFtPYZ+7TuwC28CNknSnBMuTgF/de+vDpdKhuxgewU90JvCfXYKy8ZrOsZ1jQtaXfQ7e13XW5VXhmNWGiwyd90Z4G9FveD7UGxC9+N9Gwk3X4HrcsGr5DI8qpHUTedmna+Jaevq0mEfOm4Gqz7p4rpRUKsxvI0Xx6wehBd4BtcrEuhhP6jw1Zl9Vhm8yH1dN99V+CZpdRU5XIc5fP+m2RMXlfsKAy1OGGwbv+ffKziCCzDhlihwnS54JfXwXLNSATfrVoXvvGYPpduCHRYy6cW+LWu9qnWsMtFazWT65TQY0Gltmo7XtM/KLVvPeWSeP0/nK+rr2Xebzr8rku36T/NrUvRXNNJv0AlJgaRAUiApkBS4cQrM3biMLz/h+FNbXL/8mdMMSYGkQFIgKZAUuCAF0gV/QUKmYZICSYGkQFIgKXCdFEgX/HV6GimXpEBSICmQFEgKXJAC6YKvF9I/h09ICiQFkgJJgaTAjVMgXfAfP7L4Uv+U/wzev3G+/7E8yVJQQI2WCrbUTArcJAU85z7ls+4mPauU6zkViP8zueVzjnWe7l06fw1/Dw/hVb6AXlhjuAAT3itQ9Z/23ME9hv632wlJgeumQJeEZBnc0yOYwVdwA9ZhiHME1+uCZujzjPTM+hS+uLrWwBlKfvOmfkrKfouX/3GG6XeZewhPoblc5aYdM98qTHj/r7DtIEQGfaHK4AfBY+iBmZAUuC4K9EjEf2VQWo/hRfgS7sFF6BlzAuvg/j6Axm7WBc7A94g5XecYhrX4Xt42+Nz24TE8gq/gBkxoqMCAODeI7MNZY0gC5jJ3RYn44rp5bgP651jEDn3jAyOj3akYz2ejZtsV/mROCsxCgR6ThrNsqZBAOFe8MObhPnxSiClrhjHHZc4Z2bzcM+hahGv1fXTt+m4LfE7hQ1lY030qt22dYW2XUi7ngina4FJmaDdoeBGv4oLvkNopXG+X4rWNzshsWt08JNTD/u6FDNquwgYOPxDUxVT1TfakwGUp4D6WRRxhcF+33a/Gv8r7ernMGuYzhofQCzBgmYrru+7vpPkP4CKcBM8Y19QrBB7QPoGOlTBBgbAxFFLhZ40hCZjL3BUk4qdd57pzBXNdxRQZk5xXN/uriWPVvUBqZpwaJiQFrrsCGQm6X+v2dNUaNvK+u1UBV2gP76dr2Y7mje33I/t1qaq7Op7APRh/OKFZiiOsZc/MdWv/aJ2KkHBzFbhH6ptwC67CBVgG7fq34BIUT+ELGH9yfED7NfxHeBkwjyfQXIrQ1y0az9nunLN/m+6nBP8D7LfplGKTApeoQJ+xB/BL2IXCi0TbZzZAH9rW3hSeG+I3sHNWm92PH5l6Fx7Ab6I0tAe0WVvos0FlDZb1XQxBU5Sec5vwGHbhMnwMT2Ed1PlXFQFe7sLz+wPMfdBKjZukwDbJ/gGOYQbddC/hEoyxTuMHqP01fA7f5OxRPoEBn1MZh8YFl27sQ/gWmrcvUAxz34sN56x36B82/jmHatTduXxp/02j6BSUFLhcBdz/Q/gC7sAeFF24BUPbetymORGeH3+EXbgKm6JDYFs2GdszbAWOo+DFvO5547nTBvsE34WOu1vouEfbs8p1tMEdgofQvguwD7+CJ7AJwnyvS4KDz3ETJiiwjN/DWvbhrOGmMJe5KBG/fWvrRTarxvryhQd9L2/vUQasUrHvFrT/PBQdeAq3bVwCzGEJmpvz78AA89D2LBguoHQ9GYx1m2ZY+5tb1qDzMI917oSkwHVQIOzJQSGZjLb7etr3I5wje4Vx65pjnM7Zhvt1A9b4Rvk8GzUxZa51jNu54xXlOK9bdOBreGyjIe4RN4SO5bnt+TcN7tMpnEPmEcPx9YW8f/LN/VRLlTIFikKWxZTZ7NeGZWMEWzEH237yO4InISgvDynn4ZO83c3b47xtcZrX+5T2D23Nn/mjBm3WVMz7c8b106sHg3DDBwzyShYMlCvwRdSuq5blFeLLfMXcQmxdGcaZFKN/mvHrxk2+pMB1U8D3U/hr+qaXVo9Y75w2DOcF3RrD3B7Db+E3jXu9D7Tf7+A9+GfwCAaY/7+E3wdDTWn/EfwOvoaL0HHfwGnwWd6pU9I52N4Vfb8sGlL7AwWCcB8YJzSG+PsTYmK3Dzy8LLE91MNDC+UAR3jYIaZY9jGYe9hM8TrCOPEFW+xf1c6qHBX2F9h3cp8bXHwB38IRDPCQENnZz59/HP1crax18exVeH1B/xbG6w+hz6mMQiOVSYFbqkDZ3j/vUkcM4Bn0LfR99hL+Bk5COHsmxZ3H7znju72Rl23H6ucd1vNylJcW/bye5WVVYQ4v4d/Ae/BHeF4c5QN4piWcQ4Fl+roR5WDKcXyp2rBumiFOc5nLg8zJdpa346JPQ5+Xt/OLA3gCu3AePoencAHGMN6+27GxUDemDQvdz/52vnPsRQ7HM58458jdqFqWk3pl0LLMj7kR7G/OR9Bx6qB2xtonISlwHRQYkoR7clBIxv2sfdKeLnQ7+1B8jNGz5BF0DM+YpnC+Nmw6rnHmdALXbeToUWpvA/PzPDqF1gP2qbje4tkZ/HG5TGMPHkHr8Tg0W8P+zi2LCOfOsOhI3+CLinzYnvahlD2ED0eevvW6pmu4WMbEhBw+p+6D34PCl9E/C3pjo4C3tEO/guusWecriy/aFnNDFjm0+W1AWxj/SV7fpWyC0K8qdpK/ql9be5gnlG37p/ikwEUrUHWGhT2qP9Qnze0Z8hD24Cn8A3wN/Q3cPfgDrEOG0/na4ITgtQYd5onZh38Nn0fxO9TlYWSbVDVHvyl/C4M22vrwT/AUTsJ3BMge3ILfwCGMc6PZCs5tXuYS8ooH8GxPmKDAHfyKJx9NiL0K9xaTmEu4vJ3zKLf5oGM8pRHnbR/bC3FQTd1xsxr/eV1DBjCf5WigtdwWtN6ivQgz2IfTQm0yGOs2zVhBQ7VxzCro24OvqgKSPSkwAwWGzOk7NyjMneV2920TuLe92O4Xgp/RdnzPnklwrmk4adx5Al7CTdiHg4h+kXHOAPPch/apQh+Ha9qOArq5zfVOg3t02oNjuA7jnGg2grmbV68Q7cU+htOMWRjq9jcVaQwVchfOCm7APnwBzWUFLkLhAz6FI3gHmvOfQzfzHoxxTOMEHkYcUV+DRbh5fVEuC/cZ2LWs5xO4HnPW5jrEE9iF2iynRYeOGZybcoAl+vXhQ2guJ7APB7AHi3A+tf626EjtpMAMFJhnzj58Dt2/X0L3tHb3sO+5dvd3H9bBfW3saknQvdzneLPCiInNr4yn2H03A0JM3XtqvP328k5qFvR6lNumLTzntqGaDuECbApjzWs36hDO1M3IlqoTFNjA70Y4gfHmmNDtQt1LjJYVuBPN4MN2A76CPvQMFjffPLZDOIZHMMtpvOvTF8P+2t2ElwW1dX7n3s/rriHW+QntY3geOF4G56YcZId+QbNQOp71dViEmqmd60tICsxagUUSyAp0T8fnStjXlh1Yhh5G9/V6mTO3jSiN6cNZwPyr+KyQ0JB2lscXXB801WkMvdg9i6RrvKizcYGxtvNxzWkeNoF5hXxG1MfwKUxooUCH2DGctLFbDHlpoeYqy7CHMcsdxZg17K5vkPstjBnDy7qk+oztRg65LFM3hyGMMaaxDruw6cYn9AM4RwbnPrBeXsN8T6EvbkJS4DYp4Ls0CVf1npXlYX5VLIvvYdwvc+S2RUpjhON6Br2BGbxoOP46dM428KIfQPsnTKHAI/p4+ZxAH/BNxBFJ71Qk3sNevOAN3YaHVi4YW4znfMNo3Iz6KYwvRTe6cWo+gufBynk6t+jrS5bBeG0tuqfQpEBS4AoVWGeuzYr5+tg9fzIY4HutbRAMqbwdCmywDB+sv6bxwrlp8EPKKXRjdvLkLXvwOTzObXHhOsdwOTZeQH2PMcZwEZrDM2hufhKNEebfwWjsTcCvSdK1xB9UbkLeKcekwKemgOfLMbQswzpG3+W13LlK6R3gXZBwCxXwzzd84Df1kh+Q+wF8DQ9hBsdwCKsupPv46l4C3K2xRA/HDDnsUa+av/XgM+xwh7lPoDonJAWSAtdbgSekt1iT4jw+zybPKs98z07ProRbrEC48HZu8Bo75B7YZBlu6lGTwJYxbXJoOfRMwt0TazOZOU2aFEgKXJYCt+2cuiyd0rhJgaRAUiApkBRICiQFkgJJgaRAUiApkBRICiQFkgJJgaRAUiApkBRICnyswP8PYU8KWQMChcEAAAAASUVORK5CYII=)"
      ],
      "metadata": {
        "id": "JEq8gRDke-bP"
      }
    },
    {
      "cell_type": "markdown",
      "source": [
        "---------"
      ],
      "metadata": {
        "id": "zMJIWZgVj0ZG"
      }
    },
    {
      "cell_type": "code",
      "execution_count": 68,
      "metadata": {
        "colab": {
          "base_uri": "https://localhost:8080/"
        },
        "id": "d_oLmRRkQdkf",
        "outputId": "7038a372-b9c9-4515-d07b-a2e9086ae086"
      },
      "outputs": [
        {
          "output_type": "stream",
          "name": "stdout",
          "text": [
            "Downloading...\n",
            "From: https://drive.google.com/uc?id=1txRVXp-Eh222PzIeTQ-fuAoUYFR9f7q-\n",
            "To: /content/kaggle.json\n",
            "\r  0% 0.00/73.0 [00:00<?, ?B/s]\r100% 73.0/73.0 [00:00<00:00, 100kB/s]\n"
          ]
        }
      ],
      "source": [
        "!gdown --fuzzy https://drive.google.com/file/d/1txRVXp-Eh222PzIeTQ-fuAoUYFR9f7q-/view?usp=sharing\n",
        "!mkdir -p ~/.kaggle\n",
        "!cp /content/kaggle.json ~/.kaggle/\n",
        "!chmod 600 ~/.kaggle/kaggle.json"
      ]
    },
    {
      "cell_type": "code",
      "source": [
        "!kaggle datasets download -d agileteam/bigdatacertificationkr"
      ],
      "metadata": {
        "colab": {
          "base_uri": "https://localhost:8080/"
        },
        "id": "K3QzXtrWRGZv",
        "outputId": "04256165-0290-499a-fce5-1964cad05b2a"
      },
      "execution_count": 69,
      "outputs": [
        {
          "output_type": "stream",
          "name": "stdout",
          "text": [
            "bigdatacertificationkr.zip: Skipping, found more recently modified local copy (use --force to force download)\n"
          ]
        }
      ]
    },
    {
      "cell_type": "code",
      "source": [
        "!unzip /content/bigdatacertificationkr.zip"
      ],
      "metadata": {
        "colab": {
          "base_uri": "https://localhost:8080/"
        },
        "id": "cSjyaLyjRH6h",
        "outputId": "c61d565c-9245-4b1e-9f72-a1b06de82ed3"
      },
      "execution_count": 70,
      "outputs": [
        {
          "output_type": "stream",
          "name": "stdout",
          "text": [
            "Archive:  /content/bigdatacertificationkr.zip\n",
            "replace basic1.csv? [y]es, [n]o, [A]ll, [N]one, [r]ename: A\n",
            "  inflating: basic1.csv              \n",
            "  inflating: basic1_json.json        \n",
            "  inflating: basic1_xml.xml          \n",
            "  inflating: basic2.csv              \n",
            "  inflating: basic3.csv              \n"
          ]
        }
      ]
    },
    {
      "cell_type": "code",
      "source": [
        "import pandas as pd\n",
        "import numpy as np\n",
        "from sklearn.preprocessing import power_transform"
      ],
      "metadata": {
        "id": "bKa6UTaORJtj"
      },
      "execution_count": 71,
      "outputs": []
    },
    {
      "cell_type": "code",
      "source": [
        "data = pd.read_csv('/content/basic1.csv')"
      ],
      "metadata": {
        "id": "PJPuz7NsRMSd"
      },
      "execution_count": 72,
      "outputs": []
    },
    {
      "cell_type": "code",
      "source": [
        "data"
      ],
      "metadata": {
        "colab": {
          "base_uri": "https://localhost:8080/",
          "height": 424
        },
        "id": "ewlNnk2_Untc",
        "outputId": "94db7f59-6fc6-49b3-ee77-3aef0ebad2b6"
      },
      "execution_count": 73,
      "outputs": [
        {
          "output_type": "execute_result",
          "data": {
            "text/plain": [
              "       id    age city    f1  f2   f3    f4         f5\n",
              "0    id01    2.0   서울   NaN   0  NaN  ENFJ  91.297791\n",
              "1    id02    9.0   서울  70.0   1  NaN  ENFJ  60.339826\n",
              "2    id03   27.0   서울  61.0   1  NaN  ISTJ  17.252986\n",
              "3    id04   75.0   서울   NaN   2  NaN  INFP  52.667078\n",
              "4    id05   24.0   서울  85.0   2  NaN  ISFJ  29.269869\n",
              "..    ...    ...  ...   ...  ..  ...   ...        ...\n",
              "95   id96   92.0   경기  53.0   1  NaN  ENTJ  52.667078\n",
              "96   id97  100.0   경기   NaN   0  NaN  INFP  67.886373\n",
              "97   id98   39.0   경기  58.0   2  NaN  INFP  98.429899\n",
              "98   id99    1.0   경기  47.0   0  NaN  ESFJ  97.381034\n",
              "99  id100   47.0   경기  53.0   0  vip  ESFP  33.308999\n",
              "\n",
              "[100 rows x 8 columns]"
            ],
            "text/html": [
              "\n",
              "  <div id=\"df-bc21b6bd-2b8b-4163-b31d-56303e2a249f\">\n",
              "    <div class=\"colab-df-container\">\n",
              "      <div>\n",
              "<style scoped>\n",
              "    .dataframe tbody tr th:only-of-type {\n",
              "        vertical-align: middle;\n",
              "    }\n",
              "\n",
              "    .dataframe tbody tr th {\n",
              "        vertical-align: top;\n",
              "    }\n",
              "\n",
              "    .dataframe thead th {\n",
              "        text-align: right;\n",
              "    }\n",
              "</style>\n",
              "<table border=\"1\" class=\"dataframe\">\n",
              "  <thead>\n",
              "    <tr style=\"text-align: right;\">\n",
              "      <th></th>\n",
              "      <th>id</th>\n",
              "      <th>age</th>\n",
              "      <th>city</th>\n",
              "      <th>f1</th>\n",
              "      <th>f2</th>\n",
              "      <th>f3</th>\n",
              "      <th>f4</th>\n",
              "      <th>f5</th>\n",
              "    </tr>\n",
              "  </thead>\n",
              "  <tbody>\n",
              "    <tr>\n",
              "      <th>0</th>\n",
              "      <td>id01</td>\n",
              "      <td>2.0</td>\n",
              "      <td>서울</td>\n",
              "      <td>NaN</td>\n",
              "      <td>0</td>\n",
              "      <td>NaN</td>\n",
              "      <td>ENFJ</td>\n",
              "      <td>91.297791</td>\n",
              "    </tr>\n",
              "    <tr>\n",
              "      <th>1</th>\n",
              "      <td>id02</td>\n",
              "      <td>9.0</td>\n",
              "      <td>서울</td>\n",
              "      <td>70.0</td>\n",
              "      <td>1</td>\n",
              "      <td>NaN</td>\n",
              "      <td>ENFJ</td>\n",
              "      <td>60.339826</td>\n",
              "    </tr>\n",
              "    <tr>\n",
              "      <th>2</th>\n",
              "      <td>id03</td>\n",
              "      <td>27.0</td>\n",
              "      <td>서울</td>\n",
              "      <td>61.0</td>\n",
              "      <td>1</td>\n",
              "      <td>NaN</td>\n",
              "      <td>ISTJ</td>\n",
              "      <td>17.252986</td>\n",
              "    </tr>\n",
              "    <tr>\n",
              "      <th>3</th>\n",
              "      <td>id04</td>\n",
              "      <td>75.0</td>\n",
              "      <td>서울</td>\n",
              "      <td>NaN</td>\n",
              "      <td>2</td>\n",
              "      <td>NaN</td>\n",
              "      <td>INFP</td>\n",
              "      <td>52.667078</td>\n",
              "    </tr>\n",
              "    <tr>\n",
              "      <th>4</th>\n",
              "      <td>id05</td>\n",
              "      <td>24.0</td>\n",
              "      <td>서울</td>\n",
              "      <td>85.0</td>\n",
              "      <td>2</td>\n",
              "      <td>NaN</td>\n",
              "      <td>ISFJ</td>\n",
              "      <td>29.269869</td>\n",
              "    </tr>\n",
              "    <tr>\n",
              "      <th>...</th>\n",
              "      <td>...</td>\n",
              "      <td>...</td>\n",
              "      <td>...</td>\n",
              "      <td>...</td>\n",
              "      <td>...</td>\n",
              "      <td>...</td>\n",
              "      <td>...</td>\n",
              "      <td>...</td>\n",
              "    </tr>\n",
              "    <tr>\n",
              "      <th>95</th>\n",
              "      <td>id96</td>\n",
              "      <td>92.0</td>\n",
              "      <td>경기</td>\n",
              "      <td>53.0</td>\n",
              "      <td>1</td>\n",
              "      <td>NaN</td>\n",
              "      <td>ENTJ</td>\n",
              "      <td>52.667078</td>\n",
              "    </tr>\n",
              "    <tr>\n",
              "      <th>96</th>\n",
              "      <td>id97</td>\n",
              "      <td>100.0</td>\n",
              "      <td>경기</td>\n",
              "      <td>NaN</td>\n",
              "      <td>0</td>\n",
              "      <td>NaN</td>\n",
              "      <td>INFP</td>\n",
              "      <td>67.886373</td>\n",
              "    </tr>\n",
              "    <tr>\n",
              "      <th>97</th>\n",
              "      <td>id98</td>\n",
              "      <td>39.0</td>\n",
              "      <td>경기</td>\n",
              "      <td>58.0</td>\n",
              "      <td>2</td>\n",
              "      <td>NaN</td>\n",
              "      <td>INFP</td>\n",
              "      <td>98.429899</td>\n",
              "    </tr>\n",
              "    <tr>\n",
              "      <th>98</th>\n",
              "      <td>id99</td>\n",
              "      <td>1.0</td>\n",
              "      <td>경기</td>\n",
              "      <td>47.0</td>\n",
              "      <td>0</td>\n",
              "      <td>NaN</td>\n",
              "      <td>ESFJ</td>\n",
              "      <td>97.381034</td>\n",
              "    </tr>\n",
              "    <tr>\n",
              "      <th>99</th>\n",
              "      <td>id100</td>\n",
              "      <td>47.0</td>\n",
              "      <td>경기</td>\n",
              "      <td>53.0</td>\n",
              "      <td>0</td>\n",
              "      <td>vip</td>\n",
              "      <td>ESFP</td>\n",
              "      <td>33.308999</td>\n",
              "    </tr>\n",
              "  </tbody>\n",
              "</table>\n",
              "<p>100 rows × 8 columns</p>\n",
              "</div>\n",
              "      <button class=\"colab-df-convert\" onclick=\"convertToInteractive('df-bc21b6bd-2b8b-4163-b31d-56303e2a249f')\"\n",
              "              title=\"Convert this dataframe to an interactive table.\"\n",
              "              style=\"display:none;\">\n",
              "        \n",
              "  <svg xmlns=\"http://www.w3.org/2000/svg\" height=\"24px\"viewBox=\"0 0 24 24\"\n",
              "       width=\"24px\">\n",
              "    <path d=\"M0 0h24v24H0V0z\" fill=\"none\"/>\n",
              "    <path d=\"M18.56 5.44l.94 2.06.94-2.06 2.06-.94-2.06-.94-.94-2.06-.94 2.06-2.06.94zm-11 1L8.5 8.5l.94-2.06 2.06-.94-2.06-.94L8.5 2.5l-.94 2.06-2.06.94zm10 10l.94 2.06.94-2.06 2.06-.94-2.06-.94-.94-2.06-.94 2.06-2.06.94z\"/><path d=\"M17.41 7.96l-1.37-1.37c-.4-.4-.92-.59-1.43-.59-.52 0-1.04.2-1.43.59L10.3 9.45l-7.72 7.72c-.78.78-.78 2.05 0 2.83L4 21.41c.39.39.9.59 1.41.59.51 0 1.02-.2 1.41-.59l7.78-7.78 2.81-2.81c.8-.78.8-2.07 0-2.86zM5.41 20L4 18.59l7.72-7.72 1.47 1.35L5.41 20z\"/>\n",
              "  </svg>\n",
              "      </button>\n",
              "      \n",
              "  <style>\n",
              "    .colab-df-container {\n",
              "      display:flex;\n",
              "      flex-wrap:wrap;\n",
              "      gap: 12px;\n",
              "    }\n",
              "\n",
              "    .colab-df-convert {\n",
              "      background-color: #E8F0FE;\n",
              "      border: none;\n",
              "      border-radius: 50%;\n",
              "      cursor: pointer;\n",
              "      display: none;\n",
              "      fill: #1967D2;\n",
              "      height: 32px;\n",
              "      padding: 0 0 0 0;\n",
              "      width: 32px;\n",
              "    }\n",
              "\n",
              "    .colab-df-convert:hover {\n",
              "      background-color: #E2EBFA;\n",
              "      box-shadow: 0px 1px 2px rgba(60, 64, 67, 0.3), 0px 1px 3px 1px rgba(60, 64, 67, 0.15);\n",
              "      fill: #174EA6;\n",
              "    }\n",
              "\n",
              "    [theme=dark] .colab-df-convert {\n",
              "      background-color: #3B4455;\n",
              "      fill: #D2E3FC;\n",
              "    }\n",
              "\n",
              "    [theme=dark] .colab-df-convert:hover {\n",
              "      background-color: #434B5C;\n",
              "      box-shadow: 0px 1px 3px 1px rgba(0, 0, 0, 0.15);\n",
              "      filter: drop-shadow(0px 1px 2px rgba(0, 0, 0, 0.3));\n",
              "      fill: #FFFFFF;\n",
              "    }\n",
              "  </style>\n",
              "\n",
              "      <script>\n",
              "        const buttonEl =\n",
              "          document.querySelector('#df-bc21b6bd-2b8b-4163-b31d-56303e2a249f button.colab-df-convert');\n",
              "        buttonEl.style.display =\n",
              "          google.colab.kernel.accessAllowed ? 'block' : 'none';\n",
              "\n",
              "        async function convertToInteractive(key) {\n",
              "          const element = document.querySelector('#df-bc21b6bd-2b8b-4163-b31d-56303e2a249f');\n",
              "          const dataTable =\n",
              "            await google.colab.kernel.invokeFunction('convertToInteractive',\n",
              "                                                     [key], {});\n",
              "          if (!dataTable) return;\n",
              "\n",
              "          const docLinkHtml = 'Like what you see? Visit the ' +\n",
              "            '<a target=\"_blank\" href=https://colab.research.google.com/notebooks/data_table.ipynb>data table notebook</a>'\n",
              "            + ' to learn more about interactive tables.';\n",
              "          element.innerHTML = '';\n",
              "          dataTable['output_type'] = 'display_data';\n",
              "          await google.colab.output.renderOutput(dataTable, element);\n",
              "          const docLink = document.createElement('div');\n",
              "          docLink.innerHTML = docLinkHtml;\n",
              "          element.appendChild(docLink);\n",
              "        }\n",
              "      </script>\n",
              "    </div>\n",
              "  </div>\n",
              "  "
            ]
          },
          "metadata": {},
          "execution_count": 73
        }
      ]
    },
    {
      "cell_type": "markdown",
      "source": [
        "--------"
      ],
      "metadata": {
        "id": "oOaHXJLBcY_F"
      }
    },
    {
      "cell_type": "markdown",
      "source": [
        "# age가 20 이상인 데이터 추출"
      ],
      "metadata": {
        "id": "YBW5ZPTBcZBd"
      }
    },
    {
      "cell_type": "code",
      "source": [
        "data = data[data['age'] >= 20]"
      ],
      "metadata": {
        "id": "Nn5pwtuUUd2K"
      },
      "execution_count": 74,
      "outputs": []
    },
    {
      "cell_type": "code",
      "source": [
        "data"
      ],
      "metadata": {
        "colab": {
          "base_uri": "https://localhost:8080/",
          "height": 424
        },
        "id": "w5swWTZYUoss",
        "outputId": "9a7efcaa-ef4a-4112-9a84-c3a66b76d5bb"
      },
      "execution_count": 75,
      "outputs": [
        {
          "output_type": "execute_result",
          "data": {
            "text/plain": [
              "       id    age city    f1  f2   f3    f4         f5\n",
              "2    id03   27.0   서울  61.0   1  NaN  ISTJ  17.252986\n",
              "3    id04   75.0   서울   NaN   2  NaN  INFP  52.667078\n",
              "4    id05   24.0   서울  85.0   2  NaN  ISFJ  29.269869\n",
              "5    id06   22.0   서울  57.0   0  vip  INTP  20.129444\n",
              "6    id07   36.3   서울  60.0   1  NaN  ISFJ   9.796378\n",
              "..    ...    ...  ...   ...  ..  ...   ...        ...\n",
              "94   id95   77.0   경기  43.0   1  NaN  INTJ  91.297791\n",
              "95   id96   92.0   경기  53.0   1  NaN  ENTJ  52.667078\n",
              "96   id97  100.0   경기   NaN   0  NaN  INFP  67.886373\n",
              "97   id98   39.0   경기  58.0   2  NaN  INFP  98.429899\n",
              "99  id100   47.0   경기  53.0   0  vip  ESFP  33.308999\n",
              "\n",
              "[83 rows x 8 columns]"
            ],
            "text/html": [
              "\n",
              "  <div id=\"df-33bdc88c-5b06-42b4-989d-a45a7cc9d716\">\n",
              "    <div class=\"colab-df-container\">\n",
              "      <div>\n",
              "<style scoped>\n",
              "    .dataframe tbody tr th:only-of-type {\n",
              "        vertical-align: middle;\n",
              "    }\n",
              "\n",
              "    .dataframe tbody tr th {\n",
              "        vertical-align: top;\n",
              "    }\n",
              "\n",
              "    .dataframe thead th {\n",
              "        text-align: right;\n",
              "    }\n",
              "</style>\n",
              "<table border=\"1\" class=\"dataframe\">\n",
              "  <thead>\n",
              "    <tr style=\"text-align: right;\">\n",
              "      <th></th>\n",
              "      <th>id</th>\n",
              "      <th>age</th>\n",
              "      <th>city</th>\n",
              "      <th>f1</th>\n",
              "      <th>f2</th>\n",
              "      <th>f3</th>\n",
              "      <th>f4</th>\n",
              "      <th>f5</th>\n",
              "    </tr>\n",
              "  </thead>\n",
              "  <tbody>\n",
              "    <tr>\n",
              "      <th>2</th>\n",
              "      <td>id03</td>\n",
              "      <td>27.0</td>\n",
              "      <td>서울</td>\n",
              "      <td>61.0</td>\n",
              "      <td>1</td>\n",
              "      <td>NaN</td>\n",
              "      <td>ISTJ</td>\n",
              "      <td>17.252986</td>\n",
              "    </tr>\n",
              "    <tr>\n",
              "      <th>3</th>\n",
              "      <td>id04</td>\n",
              "      <td>75.0</td>\n",
              "      <td>서울</td>\n",
              "      <td>NaN</td>\n",
              "      <td>2</td>\n",
              "      <td>NaN</td>\n",
              "      <td>INFP</td>\n",
              "      <td>52.667078</td>\n",
              "    </tr>\n",
              "    <tr>\n",
              "      <th>4</th>\n",
              "      <td>id05</td>\n",
              "      <td>24.0</td>\n",
              "      <td>서울</td>\n",
              "      <td>85.0</td>\n",
              "      <td>2</td>\n",
              "      <td>NaN</td>\n",
              "      <td>ISFJ</td>\n",
              "      <td>29.269869</td>\n",
              "    </tr>\n",
              "    <tr>\n",
              "      <th>5</th>\n",
              "      <td>id06</td>\n",
              "      <td>22.0</td>\n",
              "      <td>서울</td>\n",
              "      <td>57.0</td>\n",
              "      <td>0</td>\n",
              "      <td>vip</td>\n",
              "      <td>INTP</td>\n",
              "      <td>20.129444</td>\n",
              "    </tr>\n",
              "    <tr>\n",
              "      <th>6</th>\n",
              "      <td>id07</td>\n",
              "      <td>36.3</td>\n",
              "      <td>서울</td>\n",
              "      <td>60.0</td>\n",
              "      <td>1</td>\n",
              "      <td>NaN</td>\n",
              "      <td>ISFJ</td>\n",
              "      <td>9.796378</td>\n",
              "    </tr>\n",
              "    <tr>\n",
              "      <th>...</th>\n",
              "      <td>...</td>\n",
              "      <td>...</td>\n",
              "      <td>...</td>\n",
              "      <td>...</td>\n",
              "      <td>...</td>\n",
              "      <td>...</td>\n",
              "      <td>...</td>\n",
              "      <td>...</td>\n",
              "    </tr>\n",
              "    <tr>\n",
              "      <th>94</th>\n",
              "      <td>id95</td>\n",
              "      <td>77.0</td>\n",
              "      <td>경기</td>\n",
              "      <td>43.0</td>\n",
              "      <td>1</td>\n",
              "      <td>NaN</td>\n",
              "      <td>INTJ</td>\n",
              "      <td>91.297791</td>\n",
              "    </tr>\n",
              "    <tr>\n",
              "      <th>95</th>\n",
              "      <td>id96</td>\n",
              "      <td>92.0</td>\n",
              "      <td>경기</td>\n",
              "      <td>53.0</td>\n",
              "      <td>1</td>\n",
              "      <td>NaN</td>\n",
              "      <td>ENTJ</td>\n",
              "      <td>52.667078</td>\n",
              "    </tr>\n",
              "    <tr>\n",
              "      <th>96</th>\n",
              "      <td>id97</td>\n",
              "      <td>100.0</td>\n",
              "      <td>경기</td>\n",
              "      <td>NaN</td>\n",
              "      <td>0</td>\n",
              "      <td>NaN</td>\n",
              "      <td>INFP</td>\n",
              "      <td>67.886373</td>\n",
              "    </tr>\n",
              "    <tr>\n",
              "      <th>97</th>\n",
              "      <td>id98</td>\n",
              "      <td>39.0</td>\n",
              "      <td>경기</td>\n",
              "      <td>58.0</td>\n",
              "      <td>2</td>\n",
              "      <td>NaN</td>\n",
              "      <td>INFP</td>\n",
              "      <td>98.429899</td>\n",
              "    </tr>\n",
              "    <tr>\n",
              "      <th>99</th>\n",
              "      <td>id100</td>\n",
              "      <td>47.0</td>\n",
              "      <td>경기</td>\n",
              "      <td>53.0</td>\n",
              "      <td>0</td>\n",
              "      <td>vip</td>\n",
              "      <td>ESFP</td>\n",
              "      <td>33.308999</td>\n",
              "    </tr>\n",
              "  </tbody>\n",
              "</table>\n",
              "<p>83 rows × 8 columns</p>\n",
              "</div>\n",
              "      <button class=\"colab-df-convert\" onclick=\"convertToInteractive('df-33bdc88c-5b06-42b4-989d-a45a7cc9d716')\"\n",
              "              title=\"Convert this dataframe to an interactive table.\"\n",
              "              style=\"display:none;\">\n",
              "        \n",
              "  <svg xmlns=\"http://www.w3.org/2000/svg\" height=\"24px\"viewBox=\"0 0 24 24\"\n",
              "       width=\"24px\">\n",
              "    <path d=\"M0 0h24v24H0V0z\" fill=\"none\"/>\n",
              "    <path d=\"M18.56 5.44l.94 2.06.94-2.06 2.06-.94-2.06-.94-.94-2.06-.94 2.06-2.06.94zm-11 1L8.5 8.5l.94-2.06 2.06-.94-2.06-.94L8.5 2.5l-.94 2.06-2.06.94zm10 10l.94 2.06.94-2.06 2.06-.94-2.06-.94-.94-2.06-.94 2.06-2.06.94z\"/><path d=\"M17.41 7.96l-1.37-1.37c-.4-.4-.92-.59-1.43-.59-.52 0-1.04.2-1.43.59L10.3 9.45l-7.72 7.72c-.78.78-.78 2.05 0 2.83L4 21.41c.39.39.9.59 1.41.59.51 0 1.02-.2 1.41-.59l7.78-7.78 2.81-2.81c.8-.78.8-2.07 0-2.86zM5.41 20L4 18.59l7.72-7.72 1.47 1.35L5.41 20z\"/>\n",
              "  </svg>\n",
              "      </button>\n",
              "      \n",
              "  <style>\n",
              "    .colab-df-container {\n",
              "      display:flex;\n",
              "      flex-wrap:wrap;\n",
              "      gap: 12px;\n",
              "    }\n",
              "\n",
              "    .colab-df-convert {\n",
              "      background-color: #E8F0FE;\n",
              "      border: none;\n",
              "      border-radius: 50%;\n",
              "      cursor: pointer;\n",
              "      display: none;\n",
              "      fill: #1967D2;\n",
              "      height: 32px;\n",
              "      padding: 0 0 0 0;\n",
              "      width: 32px;\n",
              "    }\n",
              "\n",
              "    .colab-df-convert:hover {\n",
              "      background-color: #E2EBFA;\n",
              "      box-shadow: 0px 1px 2px rgba(60, 64, 67, 0.3), 0px 1px 3px 1px rgba(60, 64, 67, 0.15);\n",
              "      fill: #174EA6;\n",
              "    }\n",
              "\n",
              "    [theme=dark] .colab-df-convert {\n",
              "      background-color: #3B4455;\n",
              "      fill: #D2E3FC;\n",
              "    }\n",
              "\n",
              "    [theme=dark] .colab-df-convert:hover {\n",
              "      background-color: #434B5C;\n",
              "      box-shadow: 0px 1px 3px 1px rgba(0, 0, 0, 0.15);\n",
              "      filter: drop-shadow(0px 1px 2px rgba(0, 0, 0, 0.3));\n",
              "      fill: #FFFFFF;\n",
              "    }\n",
              "  </style>\n",
              "\n",
              "      <script>\n",
              "        const buttonEl =\n",
              "          document.querySelector('#df-33bdc88c-5b06-42b4-989d-a45a7cc9d716 button.colab-df-convert');\n",
              "        buttonEl.style.display =\n",
              "          google.colab.kernel.accessAllowed ? 'block' : 'none';\n",
              "\n",
              "        async function convertToInteractive(key) {\n",
              "          const element = document.querySelector('#df-33bdc88c-5b06-42b4-989d-a45a7cc9d716');\n",
              "          const dataTable =\n",
              "            await google.colab.kernel.invokeFunction('convertToInteractive',\n",
              "                                                     [key], {});\n",
              "          if (!dataTable) return;\n",
              "\n",
              "          const docLinkHtml = 'Like what you see? Visit the ' +\n",
              "            '<a target=\"_blank\" href=https://colab.research.google.com/notebooks/data_table.ipynb>data table notebook</a>'\n",
              "            + ' to learn more about interactive tables.';\n",
              "          element.innerHTML = '';\n",
              "          dataTable['output_type'] = 'display_data';\n",
              "          await google.colab.output.renderOutput(dataTable, element);\n",
              "          const docLink = document.createElement('div');\n",
              "          docLink.innerHTML = docLinkHtml;\n",
              "          element.appendChild(docLink);\n",
              "        }\n",
              "      </script>\n",
              "    </div>\n",
              "  </div>\n",
              "  "
            ]
          },
          "metadata": {},
          "execution_count": 75
        }
      ]
    },
    {
      "cell_type": "markdown",
      "source": [
        "--------"
      ],
      "metadata": {
        "id": "swf1nELkceb2"
      }
    },
    {
      "cell_type": "markdown",
      "source": [
        "# 결측치 확인"
      ],
      "metadata": {
        "id": "_Ks9XqjHcee0"
      }
    },
    {
      "cell_type": "code",
      "source": [
        "data.isna().sum()"
      ],
      "metadata": {
        "colab": {
          "base_uri": "https://localhost:8080/"
        },
        "id": "MDIWJV4vTmd1",
        "outputId": "32258369-efbf-4ce1-fb4e-e1a3d6fc6f7c"
      },
      "execution_count": 76,
      "outputs": [
        {
          "output_type": "execute_result",
          "data": {
            "text/plain": [
              "id       0\n",
              "age      0\n",
              "city     0\n",
              "f1      26\n",
              "f2       0\n",
              "f3      78\n",
              "f4       0\n",
              "f5       0\n",
              "dtype: int64"
            ]
          },
          "metadata": {},
          "execution_count": 76
        }
      ]
    },
    {
      "cell_type": "markdown",
      "source": [
        "--------"
      ],
      "metadata": {
        "id": "688LDcbCchtA"
      }
    },
    {
      "cell_type": "markdown",
      "source": [
        "# f1의 결측치를 최빈값으로 채우기"
      ],
      "metadata": {
        "id": "81_SM22fciC3"
      }
    },
    {
      "cell_type": "code",
      "source": [
        "data['f1'].mode()"
      ],
      "metadata": {
        "colab": {
          "base_uri": "https://localhost:8080/"
        },
        "id": "0ryCVAqNT94a",
        "outputId": "17879127-f6ee-4c8f-cd2f-0cc17947613e"
      },
      "execution_count": 77,
      "outputs": [
        {
          "output_type": "execute_result",
          "data": {
            "text/plain": [
              "0    50.0\n",
              "dtype: float64"
            ]
          },
          "metadata": {},
          "execution_count": 77
        }
      ]
    },
    {
      "cell_type": "code",
      "source": [
        "data['f1'] = data['f1'].fillna(data['f1'].mode()[0])"
      ],
      "metadata": {
        "colab": {
          "base_uri": "https://localhost:8080/"
        },
        "id": "dLsRIuOSROHz",
        "outputId": "761b8966-d3d1-441c-cde4-26dd90e52dab"
      },
      "execution_count": 78,
      "outputs": [
        {
          "output_type": "stream",
          "name": "stderr",
          "text": [
            "/usr/local/lib/python3.7/dist-packages/ipykernel_launcher.py:1: SettingWithCopyWarning: \n",
            "A value is trying to be set on a copy of a slice from a DataFrame.\n",
            "Try using .loc[row_indexer,col_indexer] = value instead\n",
            "\n",
            "See the caveats in the documentation: https://pandas.pydata.org/pandas-docs/stable/user_guide/indexing.html#returning-a-view-versus-a-copy\n",
            "  \"\"\"Entry point for launching an IPython kernel.\n"
          ]
        }
      ]
    },
    {
      "cell_type": "code",
      "source": [
        "data.isna().sum()"
      ],
      "metadata": {
        "colab": {
          "base_uri": "https://localhost:8080/"
        },
        "id": "LYtAgA4CTkqm",
        "outputId": "1fa8c867-2837-4033-9a5e-94179d56b6c9"
      },
      "execution_count": 79,
      "outputs": [
        {
          "output_type": "execute_result",
          "data": {
            "text/plain": [
              "id       0\n",
              "age      0\n",
              "city     0\n",
              "f1       0\n",
              "f2       0\n",
              "f3      78\n",
              "f4       0\n",
              "f5       0\n",
              "dtype: int64"
            ]
          },
          "metadata": {},
          "execution_count": 79
        }
      ]
    },
    {
      "cell_type": "markdown",
      "source": [
        "f1의 결측치가 모두 채워진 것을 확인"
      ],
      "metadata": {
        "id": "L2XNJ2IXcrdj"
      }
    },
    {
      "cell_type": "code",
      "source": [
        "data"
      ],
      "metadata": {
        "colab": {
          "base_uri": "https://localhost:8080/",
          "height": 424
        },
        "id": "aFIFjutDTuSH",
        "outputId": "057e8a16-ca48-4bb5-fc6d-a321eafe4f27"
      },
      "execution_count": 80,
      "outputs": [
        {
          "output_type": "execute_result",
          "data": {
            "text/plain": [
              "       id    age city    f1  f2   f3    f4         f5\n",
              "2    id03   27.0   서울  61.0   1  NaN  ISTJ  17.252986\n",
              "3    id04   75.0   서울  50.0   2  NaN  INFP  52.667078\n",
              "4    id05   24.0   서울  85.0   2  NaN  ISFJ  29.269869\n",
              "5    id06   22.0   서울  57.0   0  vip  INTP  20.129444\n",
              "6    id07   36.3   서울  60.0   1  NaN  ISFJ   9.796378\n",
              "..    ...    ...  ...   ...  ..  ...   ...        ...\n",
              "94   id95   77.0   경기  43.0   1  NaN  INTJ  91.297791\n",
              "95   id96   92.0   경기  53.0   1  NaN  ENTJ  52.667078\n",
              "96   id97  100.0   경기  50.0   0  NaN  INFP  67.886373\n",
              "97   id98   39.0   경기  58.0   2  NaN  INFP  98.429899\n",
              "99  id100   47.0   경기  53.0   0  vip  ESFP  33.308999\n",
              "\n",
              "[83 rows x 8 columns]"
            ],
            "text/html": [
              "\n",
              "  <div id=\"df-10609e97-8e5c-462e-b9cd-3c4befed719f\">\n",
              "    <div class=\"colab-df-container\">\n",
              "      <div>\n",
              "<style scoped>\n",
              "    .dataframe tbody tr th:only-of-type {\n",
              "        vertical-align: middle;\n",
              "    }\n",
              "\n",
              "    .dataframe tbody tr th {\n",
              "        vertical-align: top;\n",
              "    }\n",
              "\n",
              "    .dataframe thead th {\n",
              "        text-align: right;\n",
              "    }\n",
              "</style>\n",
              "<table border=\"1\" class=\"dataframe\">\n",
              "  <thead>\n",
              "    <tr style=\"text-align: right;\">\n",
              "      <th></th>\n",
              "      <th>id</th>\n",
              "      <th>age</th>\n",
              "      <th>city</th>\n",
              "      <th>f1</th>\n",
              "      <th>f2</th>\n",
              "      <th>f3</th>\n",
              "      <th>f4</th>\n",
              "      <th>f5</th>\n",
              "    </tr>\n",
              "  </thead>\n",
              "  <tbody>\n",
              "    <tr>\n",
              "      <th>2</th>\n",
              "      <td>id03</td>\n",
              "      <td>27.0</td>\n",
              "      <td>서울</td>\n",
              "      <td>61.0</td>\n",
              "      <td>1</td>\n",
              "      <td>NaN</td>\n",
              "      <td>ISTJ</td>\n",
              "      <td>17.252986</td>\n",
              "    </tr>\n",
              "    <tr>\n",
              "      <th>3</th>\n",
              "      <td>id04</td>\n",
              "      <td>75.0</td>\n",
              "      <td>서울</td>\n",
              "      <td>50.0</td>\n",
              "      <td>2</td>\n",
              "      <td>NaN</td>\n",
              "      <td>INFP</td>\n",
              "      <td>52.667078</td>\n",
              "    </tr>\n",
              "    <tr>\n",
              "      <th>4</th>\n",
              "      <td>id05</td>\n",
              "      <td>24.0</td>\n",
              "      <td>서울</td>\n",
              "      <td>85.0</td>\n",
              "      <td>2</td>\n",
              "      <td>NaN</td>\n",
              "      <td>ISFJ</td>\n",
              "      <td>29.269869</td>\n",
              "    </tr>\n",
              "    <tr>\n",
              "      <th>5</th>\n",
              "      <td>id06</td>\n",
              "      <td>22.0</td>\n",
              "      <td>서울</td>\n",
              "      <td>57.0</td>\n",
              "      <td>0</td>\n",
              "      <td>vip</td>\n",
              "      <td>INTP</td>\n",
              "      <td>20.129444</td>\n",
              "    </tr>\n",
              "    <tr>\n",
              "      <th>6</th>\n",
              "      <td>id07</td>\n",
              "      <td>36.3</td>\n",
              "      <td>서울</td>\n",
              "      <td>60.0</td>\n",
              "      <td>1</td>\n",
              "      <td>NaN</td>\n",
              "      <td>ISFJ</td>\n",
              "      <td>9.796378</td>\n",
              "    </tr>\n",
              "    <tr>\n",
              "      <th>...</th>\n",
              "      <td>...</td>\n",
              "      <td>...</td>\n",
              "      <td>...</td>\n",
              "      <td>...</td>\n",
              "      <td>...</td>\n",
              "      <td>...</td>\n",
              "      <td>...</td>\n",
              "      <td>...</td>\n",
              "    </tr>\n",
              "    <tr>\n",
              "      <th>94</th>\n",
              "      <td>id95</td>\n",
              "      <td>77.0</td>\n",
              "      <td>경기</td>\n",
              "      <td>43.0</td>\n",
              "      <td>1</td>\n",
              "      <td>NaN</td>\n",
              "      <td>INTJ</td>\n",
              "      <td>91.297791</td>\n",
              "    </tr>\n",
              "    <tr>\n",
              "      <th>95</th>\n",
              "      <td>id96</td>\n",
              "      <td>92.0</td>\n",
              "      <td>경기</td>\n",
              "      <td>53.0</td>\n",
              "      <td>1</td>\n",
              "      <td>NaN</td>\n",
              "      <td>ENTJ</td>\n",
              "      <td>52.667078</td>\n",
              "    </tr>\n",
              "    <tr>\n",
              "      <th>96</th>\n",
              "      <td>id97</td>\n",
              "      <td>100.0</td>\n",
              "      <td>경기</td>\n",
              "      <td>50.0</td>\n",
              "      <td>0</td>\n",
              "      <td>NaN</td>\n",
              "      <td>INFP</td>\n",
              "      <td>67.886373</td>\n",
              "    </tr>\n",
              "    <tr>\n",
              "      <th>97</th>\n",
              "      <td>id98</td>\n",
              "      <td>39.0</td>\n",
              "      <td>경기</td>\n",
              "      <td>58.0</td>\n",
              "      <td>2</td>\n",
              "      <td>NaN</td>\n",
              "      <td>INFP</td>\n",
              "      <td>98.429899</td>\n",
              "    </tr>\n",
              "    <tr>\n",
              "      <th>99</th>\n",
              "      <td>id100</td>\n",
              "      <td>47.0</td>\n",
              "      <td>경기</td>\n",
              "      <td>53.0</td>\n",
              "      <td>0</td>\n",
              "      <td>vip</td>\n",
              "      <td>ESFP</td>\n",
              "      <td>33.308999</td>\n",
              "    </tr>\n",
              "  </tbody>\n",
              "</table>\n",
              "<p>83 rows × 8 columns</p>\n",
              "</div>\n",
              "      <button class=\"colab-df-convert\" onclick=\"convertToInteractive('df-10609e97-8e5c-462e-b9cd-3c4befed719f')\"\n",
              "              title=\"Convert this dataframe to an interactive table.\"\n",
              "              style=\"display:none;\">\n",
              "        \n",
              "  <svg xmlns=\"http://www.w3.org/2000/svg\" height=\"24px\"viewBox=\"0 0 24 24\"\n",
              "       width=\"24px\">\n",
              "    <path d=\"M0 0h24v24H0V0z\" fill=\"none\"/>\n",
              "    <path d=\"M18.56 5.44l.94 2.06.94-2.06 2.06-.94-2.06-.94-.94-2.06-.94 2.06-2.06.94zm-11 1L8.5 8.5l.94-2.06 2.06-.94-2.06-.94L8.5 2.5l-.94 2.06-2.06.94zm10 10l.94 2.06.94-2.06 2.06-.94-2.06-.94-.94-2.06-.94 2.06-2.06.94z\"/><path d=\"M17.41 7.96l-1.37-1.37c-.4-.4-.92-.59-1.43-.59-.52 0-1.04.2-1.43.59L10.3 9.45l-7.72 7.72c-.78.78-.78 2.05 0 2.83L4 21.41c.39.39.9.59 1.41.59.51 0 1.02-.2 1.41-.59l7.78-7.78 2.81-2.81c.8-.78.8-2.07 0-2.86zM5.41 20L4 18.59l7.72-7.72 1.47 1.35L5.41 20z\"/>\n",
              "  </svg>\n",
              "      </button>\n",
              "      \n",
              "  <style>\n",
              "    .colab-df-container {\n",
              "      display:flex;\n",
              "      flex-wrap:wrap;\n",
              "      gap: 12px;\n",
              "    }\n",
              "\n",
              "    .colab-df-convert {\n",
              "      background-color: #E8F0FE;\n",
              "      border: none;\n",
              "      border-radius: 50%;\n",
              "      cursor: pointer;\n",
              "      display: none;\n",
              "      fill: #1967D2;\n",
              "      height: 32px;\n",
              "      padding: 0 0 0 0;\n",
              "      width: 32px;\n",
              "    }\n",
              "\n",
              "    .colab-df-convert:hover {\n",
              "      background-color: #E2EBFA;\n",
              "      box-shadow: 0px 1px 2px rgba(60, 64, 67, 0.3), 0px 1px 3px 1px rgba(60, 64, 67, 0.15);\n",
              "      fill: #174EA6;\n",
              "    }\n",
              "\n",
              "    [theme=dark] .colab-df-convert {\n",
              "      background-color: #3B4455;\n",
              "      fill: #D2E3FC;\n",
              "    }\n",
              "\n",
              "    [theme=dark] .colab-df-convert:hover {\n",
              "      background-color: #434B5C;\n",
              "      box-shadow: 0px 1px 3px 1px rgba(0, 0, 0, 0.15);\n",
              "      filter: drop-shadow(0px 1px 2px rgba(0, 0, 0, 0.3));\n",
              "      fill: #FFFFFF;\n",
              "    }\n",
              "  </style>\n",
              "\n",
              "      <script>\n",
              "        const buttonEl =\n",
              "          document.querySelector('#df-10609e97-8e5c-462e-b9cd-3c4befed719f button.colab-df-convert');\n",
              "        buttonEl.style.display =\n",
              "          google.colab.kernel.accessAllowed ? 'block' : 'none';\n",
              "\n",
              "        async function convertToInteractive(key) {\n",
              "          const element = document.querySelector('#df-10609e97-8e5c-462e-b9cd-3c4befed719f');\n",
              "          const dataTable =\n",
              "            await google.colab.kernel.invokeFunction('convertToInteractive',\n",
              "                                                     [key], {});\n",
              "          if (!dataTable) return;\n",
              "\n",
              "          const docLinkHtml = 'Like what you see? Visit the ' +\n",
              "            '<a target=\"_blank\" href=https://colab.research.google.com/notebooks/data_table.ipynb>data table notebook</a>'\n",
              "            + ' to learn more about interactive tables.';\n",
              "          element.innerHTML = '';\n",
              "          dataTable['output_type'] = 'display_data';\n",
              "          await google.colab.output.renderOutput(dataTable, element);\n",
              "          const docLink = document.createElement('div');\n",
              "          docLink.innerHTML = docLinkHtml;\n",
              "          element.appendChild(docLink);\n",
              "        }\n",
              "      </script>\n",
              "    </div>\n",
              "  </div>\n",
              "  "
            ]
          },
          "metadata": {},
          "execution_count": 80
        }
      ]
    },
    {
      "cell_type": "markdown",
      "source": [
        "-----------"
      ],
      "metadata": {
        "id": "iXiECwQucrjJ"
      }
    },
    {
      "cell_type": "markdown",
      "source": [
        "# f1 데이터의 여-존슨 변환\n",
        "sklearn.preprocessing.PowerTransformer(method='yeo-johnson', *, standardize=True, copy=True)"
      ],
      "metadata": {
        "id": "y-2sT9RRc2vr"
      }
    },
    {
      "cell_type": "code",
      "source": [
        "data['yj'] = power_transform(data[['f1']], standardize=False)"
      ],
      "metadata": {
        "colab": {
          "base_uri": "https://localhost:8080/"
        },
        "id": "-xsF1AB9VFxF",
        "outputId": "0e7bbae1-a946-4f88-fe94-ca5a54b3786b"
      },
      "execution_count": 81,
      "outputs": [
        {
          "output_type": "stream",
          "name": "stderr",
          "text": [
            "/usr/local/lib/python3.7/dist-packages/ipykernel_launcher.py:1: SettingWithCopyWarning: \n",
            "A value is trying to be set on a copy of a slice from a DataFrame.\n",
            "Try using .loc[row_indexer,col_indexer] = value instead\n",
            "\n",
            "See the caveats in the documentation: https://pandas.pydata.org/pandas-docs/stable/user_guide/indexing.html#returning-a-view-versus-a-copy\n",
            "  \"\"\"Entry point for launching an IPython kernel.\n"
          ]
        }
      ]
    },
    {
      "cell_type": "code",
      "source": [
        "data['yj'].hist()"
      ],
      "metadata": {
        "colab": {
          "base_uri": "https://localhost:8080/",
          "height": 283
        },
        "id": "iFd_wfa_gdFd",
        "outputId": "c2e80b4b-69f3-4462-c66b-102126982514"
      },
      "execution_count": 82,
      "outputs": [
        {
          "output_type": "execute_result",
          "data": {
            "text/plain": [
              "<matplotlib.axes._subplots.AxesSubplot at 0x7f934aa759d0>"
            ]
          },
          "metadata": {},
          "execution_count": 82
        },
        {
          "output_type": "display_data",
          "data": {
            "text/plain": [
              "<Figure size 432x288 with 1 Axes>"
            ],
            "image/png": "[encoded data removed]"
          },
          "metadata": {
            "needs_background": "light"
          }
        }
      ]
    },
    {
      "cell_type": "markdown",
      "source": [
        "# f1 데이터의 박스-칵스 변환\n",
        "sklearn.preprocessing.PowerTransformer(method='yeo-johnson', *, standardize=True, copy=True)"
      ],
      "metadata": {
        "id": "Kpkblb9rdI54"
      }
    },
    {
      "cell_type": "code",
      "source": [
        "data['bc'] = power_transform(data[['f1']], standardize=False, method='box-cox')"
      ],
      "metadata": {
        "colab": {
          "base_uri": "https://localhost:8080/"
        },
        "id": "d1zw_iu-YzRC",
        "outputId": "487ee095-d668-474c-91a1-46cd1c3ddcdd"
      },
      "execution_count": 83,
      "outputs": [
        {
          "output_type": "stream",
          "name": "stderr",
          "text": [
            "/usr/local/lib/python3.7/dist-packages/ipykernel_launcher.py:1: SettingWithCopyWarning: \n",
            "A value is trying to be set on a copy of a slice from a DataFrame.\n",
            "Try using .loc[row_indexer,col_indexer] = value instead\n",
            "\n",
            "See the caveats in the documentation: https://pandas.pydata.org/pandas-docs/stable/user_guide/indexing.html#returning-a-view-versus-a-copy\n",
            "  \"\"\"Entry point for launching an IPython kernel.\n"
          ]
        }
      ]
    },
    {
      "cell_type": "code",
      "source": [
        "data['bc'].hist()"
      ],
      "metadata": {
        "colab": {
          "base_uri": "https://localhost:8080/",
          "height": 283
        },
        "id": "TTSERhuLhKxR",
        "outputId": "d54336ed-7307-4ad7-d2d4-51770c27b760"
      },
      "execution_count": 84,
      "outputs": [
        {
          "output_type": "execute_result",
          "data": {
            "text/plain": [
              "<matplotlib.axes._subplots.AxesSubplot at 0x7f934a829410>"
            ]
          },
          "metadata": {},
          "execution_count": 84
        },
        {
          "output_type": "display_data",
          "data": {
            "text/plain": [
              "<Figure size 432x288 with 1 Axes>"
            ],
            "image/png": "[encoded data removed]"
          },
          "metadata": {
            "needs_background": "light"
          }
        }
      ]
    },
    {
      "cell_type": "code",
      "source": [
        "data"
      ],
      "metadata": {
        "colab": {
          "base_uri": "https://localhost:8080/",
          "height": 424
        },
        "id": "ZVgdpqIeY9SH",
        "outputId": "b0eb523e-fd31-4e2b-fcdc-60978b2b9b53"
      },
      "execution_count": 85,
      "outputs": [
        {
          "output_type": "execute_result",
          "data": {
            "text/plain": [
              "       id    age city    f1  f2   f3    f4         f5         yj         bc\n",
              "2    id03   27.0   서울  61.0   1  NaN  ISTJ  17.252986  20.583423  21.067090\n",
              "3    id04   75.0   서울  50.0   2  NaN  INFP  52.667078  17.968081  18.305263\n",
              "4    id05   24.0   서울  85.0   2  NaN  ISFJ  29.269869  25.773745  26.557680\n",
              "5    id06   22.0   서울  57.0   0  vip  INTP  20.129444  19.653167  20.084373\n",
              "6    id07   36.3   서울  60.0   1  NaN  ISFJ   9.796378  20.352915  20.823545\n",
              "..    ...    ...  ...   ...  ..  ...   ...        ...        ...        ...\n",
              "94   id95   77.0   경기  43.0   1  NaN  INTJ  91.297791  16.198225  16.437954\n",
              "95   id96   92.0   경기  53.0   1  NaN  ENTJ  52.667078  18.699749  19.077601\n",
              "96   id97  100.0   경기  50.0   0  NaN  INFP  67.886373  17.968081  18.305263\n",
              "97   id98   39.0   경기  58.0   2  NaN  INFP  98.429899  19.887818  20.332219\n",
              "99  id100   47.0   경기  53.0   0  vip  ESFP  33.308999  18.699749  19.077601\n",
              "\n",
              "[83 rows x 10 columns]"
            ],
            "text/html": [
              "\n",
              "  <div id=\"df-fe3f8310-39a5-430a-912c-b302db133b0c\">\n",
              "    <div class=\"colab-df-container\">\n",
              "      <div>\n",
              "<style scoped>\n",
              "    .dataframe tbody tr th:only-of-type {\n",
              "        vertical-align: middle;\n",
              "    }\n",
              "\n",
              "    .dataframe tbody tr th {\n",
              "        vertical-align: top;\n",
              "    }\n",
              "\n",
              "    .dataframe thead th {\n",
              "        text-align: right;\n",
              "    }\n",
              "</style>\n",
              "<table border=\"1\" class=\"dataframe\">\n",
              "  <thead>\n",
              "    <tr style=\"text-align: right;\">\n",
              "      <th></th>\n",
              "      <th>id</th>\n",
              "      <th>age</th>\n",
              "      <th>city</th>\n",
              "      <th>f1</th>\n",
              "      <th>f2</th>\n",
              "      <th>f3</th>\n",
              "      <th>f4</th>\n",
              "      <th>f5</th>\n",
              "      <th>yj</th>\n",
              "      <th>bc</th>\n",
              "    </tr>\n",
              "  </thead>\n",
              "  <tbody>\n",
              "    <tr>\n",
              "      <th>2</th>\n",
              "      <td>id03</td>\n",
              "      <td>27.0</td>\n",
              "      <td>서울</td>\n",
              "      <td>61.0</td>\n",
              "      <td>1</td>\n",
              "      <td>NaN</td>\n",
              "      <td>ISTJ</td>\n",
              "      <td>17.252986</td>\n",
              "      <td>20.583423</td>\n",
              "      <td>21.067090</td>\n",
              "    </tr>\n",
              "    <tr>\n",
              "      <th>3</th>\n",
              "      <td>id04</td>\n",
              "      <td>75.0</td>\n",
              "      <td>서울</td>\n",
              "      <td>50.0</td>\n",
              "      <td>2</td>\n",
              "      <td>NaN</td>\n",
              "      <td>INFP</td>\n",
              "      <td>52.667078</td>\n",
              "      <td>17.968081</td>\n",
              "      <td>18.305263</td>\n",
              "    </tr>\n",
              "    <tr>\n",
              "      <th>4</th>\n",
              "      <td>id05</td>\n",
              "      <td>24.0</td>\n",
              "      <td>서울</td>\n",
              "      <td>85.0</td>\n",
              "      <td>2</td>\n",
              "      <td>NaN</td>\n",
              "      <td>ISFJ</td>\n",
              "      <td>29.269869</td>\n",
              "      <td>25.773745</td>\n",
              "      <td>26.557680</td>\n",
              "    </tr>\n",
              "    <tr>\n",
              "      <th>5</th>\n",
              "      <td>id06</td>\n",
              "      <td>22.0</td>\n",
              "      <td>서울</td>\n",
              "      <td>57.0</td>\n",
              "      <td>0</td>\n",
              "      <td>vip</td>\n",
              "      <td>INTP</td>\n",
              "      <td>20.129444</td>\n",
              "      <td>19.653167</td>\n",
              "      <td>20.084373</td>\n",
              "    </tr>\n",
              "    <tr>\n",
              "      <th>6</th>\n",
              "      <td>id07</td>\n",
              "      <td>36.3</td>\n",
              "      <td>서울</td>\n",
              "      <td>60.0</td>\n",
              "      <td>1</td>\n",
              "      <td>NaN</td>\n",
              "      <td>ISFJ</td>\n",
              "      <td>9.796378</td>\n",
              "      <td>20.352915</td>\n",
              "      <td>20.823545</td>\n",
              "    </tr>\n",
              "    <tr>\n",
              "      <th>...</th>\n",
              "      <td>...</td>\n",
              "      <td>...</td>\n",
              "      <td>...</td>\n",
              "      <td>...</td>\n",
              "      <td>...</td>\n",
              "      <td>...</td>\n",
              "      <td>...</td>\n",
              "      <td>...</td>\n",
              "      <td>...</td>\n",
              "      <td>...</td>\n",
              "    </tr>\n",
              "    <tr>\n",
              "      <th>94</th>\n",
              "      <td>id95</td>\n",
              "      <td>77.0</td>\n",
              "      <td>경기</td>\n",
              "      <td>43.0</td>\n",
              "      <td>1</td>\n",
              "      <td>NaN</td>\n",
              "      <td>INTJ</td>\n",
              "      <td>91.297791</td>\n",
              "      <td>16.198225</td>\n",
              "      <td>16.437954</td>\n",
              "    </tr>\n",
              "    <tr>\n",
              "      <th>95</th>\n",
              "      <td>id96</td>\n",
              "      <td>92.0</td>\n",
              "      <td>경기</td>\n",
              "      <td>53.0</td>\n",
              "      <td>1</td>\n",
              "      <td>NaN</td>\n",
              "      <td>ENTJ</td>\n",
              "      <td>52.667078</td>\n",
              "      <td>18.699749</td>\n",
              "      <td>19.077601</td>\n",
              "    </tr>\n",
              "    <tr>\n",
              "      <th>96</th>\n",
              "      <td>id97</td>\n",
              "      <td>100.0</td>\n",
              "      <td>경기</td>\n",
              "      <td>50.0</td>\n",
              "      <td>0</td>\n",
              "      <td>NaN</td>\n",
              "      <td>INFP</td>\n",
              "      <td>67.886373</td>\n",
              "      <td>17.968081</td>\n",
              "      <td>18.305263</td>\n",
              "    </tr>\n",
              "    <tr>\n",
              "      <th>97</th>\n",
              "      <td>id98</td>\n",
              "      <td>39.0</td>\n",
              "      <td>경기</td>\n",
              "      <td>58.0</td>\n",
              "      <td>2</td>\n",
              "      <td>NaN</td>\n",
              "      <td>INFP</td>\n",
              "      <td>98.429899</td>\n",
              "      <td>19.887818</td>\n",
              "      <td>20.332219</td>\n",
              "    </tr>\n",
              "    <tr>\n",
              "      <th>99</th>\n",
              "      <td>id100</td>\n",
              "      <td>47.0</td>\n",
              "      <td>경기</td>\n",
              "      <td>53.0</td>\n",
              "      <td>0</td>\n",
              "      <td>vip</td>\n",
              "      <td>ESFP</td>\n",
              "      <td>33.308999</td>\n",
              "      <td>18.699749</td>\n",
              "      <td>19.077601</td>\n",
              "    </tr>\n",
              "  </tbody>\n",
              "</table>\n",
              "<p>83 rows × 10 columns</p>\n",
              "</div>\n",
              "      <button class=\"colab-df-convert\" onclick=\"convertToInteractive('df-fe3f8310-39a5-430a-912c-b302db133b0c')\"\n",
              "              title=\"Convert this dataframe to an interactive table.\"\n",
              "              style=\"display:none;\">\n",
              "        \n",
              "  <svg xmlns=\"http://www.w3.org/2000/svg\" height=\"24px\"viewBox=\"0 0 24 24\"\n",
              "       width=\"24px\">\n",
              "    <path d=\"M0 0h24v24H0V0z\" fill=\"none\"/>\n",
              "    <path d=\"M18.56 5.44l.94 2.06.94-2.06 2.06-.94-2.06-.94-.94-2.06-.94 2.06-2.06.94zm-11 1L8.5 8.5l.94-2.06 2.06-.94-2.06-.94L8.5 2.5l-.94 2.06-2.06.94zm10 10l.94 2.06.94-2.06 2.06-.94-2.06-.94-.94-2.06-.94 2.06-2.06.94z\"/><path d=\"M17.41 7.96l-1.37-1.37c-.4-.4-.92-.59-1.43-.59-.52 0-1.04.2-1.43.59L10.3 9.45l-7.72 7.72c-.78.78-.78 2.05 0 2.83L4 21.41c.39.39.9.59 1.41.59.51 0 1.02-.2 1.41-.59l7.78-7.78 2.81-2.81c.8-.78.8-2.07 0-2.86zM5.41 20L4 18.59l7.72-7.72 1.47 1.35L5.41 20z\"/>\n",
              "  </svg>\n",
              "      </button>\n",
              "      \n",
              "  <style>\n",
              "    .colab-df-container {\n",
              "      display:flex;\n",
              "      flex-wrap:wrap;\n",
              "      gap: 12px;\n",
              "    }\n",
              "\n",
              "    .colab-df-convert {\n",
              "      background-color: #E8F0FE;\n",
              "      border: none;\n",
              "      border-radius: 50%;\n",
              "      cursor: pointer;\n",
              "      display: none;\n",
              "      fill: #1967D2;\n",
              "      height: 32px;\n",
              "      padding: 0 0 0 0;\n",
              "      width: 32px;\n",
              "    }\n",
              "\n",
              "    .colab-df-convert:hover {\n",
              "      background-color: #E2EBFA;\n",
              "      box-shadow: 0px 1px 2px rgba(60, 64, 67, 0.3), 0px 1px 3px 1px rgba(60, 64, 67, 0.15);\n",
              "      fill: #174EA6;\n",
              "    }\n",
              "\n",
              "    [theme=dark] .colab-df-convert {\n",
              "      background-color: #3B4455;\n",
              "      fill: #D2E3FC;\n",
              "    }\n",
              "\n",
              "    [theme=dark] .colab-df-convert:hover {\n",
              "      background-color: #434B5C;\n",
              "      box-shadow: 0px 1px 3px 1px rgba(0, 0, 0, 0.15);\n",
              "      filter: drop-shadow(0px 1px 2px rgba(0, 0, 0, 0.3));\n",
              "      fill: #FFFFFF;\n",
              "    }\n",
              "  </style>\n",
              "\n",
              "      <script>\n",
              "        const buttonEl =\n",
              "          document.querySelector('#df-fe3f8310-39a5-430a-912c-b302db133b0c button.colab-df-convert');\n",
              "        buttonEl.style.display =\n",
              "          google.colab.kernel.accessAllowed ? 'block' : 'none';\n",
              "\n",
              "        async function convertToInteractive(key) {\n",
              "          const element = document.querySelector('#df-fe3f8310-39a5-430a-912c-b302db133b0c');\n",
              "          const dataTable =\n",
              "            await google.colab.kernel.invokeFunction('convertToInteractive',\n",
              "                                                     [key], {});\n",
              "          if (!dataTable) return;\n",
              "\n",
              "          const docLinkHtml = 'Like what you see? Visit the ' +\n",
              "            '<a target=\"_blank\" href=https://colab.research.google.com/notebooks/data_table.ipynb>data table notebook</a>'\n",
              "            + ' to learn more about interactive tables.';\n",
              "          element.innerHTML = '';\n",
              "          dataTable['output_type'] = 'display_data';\n",
              "          await google.colab.output.renderOutput(dataTable, element);\n",
              "          const docLink = document.createElement('div');\n",
              "          docLink.innerHTML = docLinkHtml;\n",
              "          element.appendChild(docLink);\n",
              "        }\n",
              "      </script>\n",
              "    </div>\n",
              "  </div>\n",
              "  "
            ]
          },
          "metadata": {},
          "execution_count": 85
        }
      ]
    },
    {
      "cell_type": "markdown",
      "source": [
        "여-존슨 변환과 박스-칵스 변환이 제대로 이루어졌음을 확인"
      ],
      "metadata": {
        "id": "5__J4uPZdQ8r"
      }
    },
    {
      "cell_type": "markdown",
      "source": [
        "-----------"
      ],
      "metadata": {
        "id": "0Kw-Ix1WdR2A"
      }
    },
    {
      "cell_type": "markdown",
      "source": [
        "# 여-존슨 값과 박스-칵스 값의 차이를 모두 더하고 소수점 둘째자리로 반올림"
      ],
      "metadata": {
        "id": "dPErQeDrdRDe"
      }
    },
    {
      "cell_type": "code",
      "source": [
        "print(abs(data['yj'] - data['bc']).sum().round(2))"
      ],
      "metadata": {
        "colab": {
          "base_uri": "https://localhost:8080/"
        },
        "id": "cRjeulZFZKij",
        "outputId": "7c0b8a20-0328-4dfa-a35a-a0a5855f1a6c"
      },
      "execution_count": 86,
      "outputs": [
        {
          "output_type": "stream",
          "name": "stdout",
          "text": [
            "39.17\n"
          ]
        }
      ]
    }
  ]
}